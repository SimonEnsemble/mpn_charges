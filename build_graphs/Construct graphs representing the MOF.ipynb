{
 "cells": [
  {
   "cell_type": "markdown",
   "metadata": {},
   "source": [
    "# Converting each MOF to a graph\n",
    "* reads in each MOF from DDEC charge-assigned dataset\n",
    "* infers bonds using distance-based criterion\n",
    "* writes to file: \n",
    "    * list of crystal names: `list_of_crystals.txt`\n",
    "    * node features: `graphs/xtalname_node_features.npy`\n",
    "    * edge list and features: `graphs/xtalname.edge_info`. the edges are 0-based indexed.\n",
    "    * node labels (charges) `graphs/xtalname_node_labels.npy`"
   ]
  },
  {
   "cell_type": "code",
   "execution_count": 43,
   "metadata": {},
   "outputs": [
    {
     "data": {
      "text/plain": [
       "Base.CoreLogging.SimpleLogger(IJulia.IJuliaStdio{Base.PipeEndpoint}(IOContext(Base.PipeEndpoint(Base.Libc.WindowsRawSocket(0x0000000000000394) open, 0 bytes waiting))), Debug, Dict{Any,Int64}((Ptr{Nothing} @0x000000003d3eee74, :getindex) => 0))"
      ]
     },
     "execution_count": 43,
     "metadata": {},
     "output_type": "execute_result"
    }
   ],
   "source": [
    "using PorousMaterials # use major_refactor branch.\n",
    "using DataFrames\n",
    "using PyPlot\n",
    "using NPZ\n",
    "using CSV\n",
    "using LightGraphs\n",
    "using LinearAlgebra\n",
    "using Logging\n",
    "using Printf\n",
    "using DelimitedFiles\n",
    "using ProgressMeter\n",
    "using PyCall\n",
    "push!(LOAD_PATH, pwd()) # to see Bonds.jl\n",
    "using Bonds\n",
    "using Statistics\n",
    "\n",
    "# global_logger(Logging.SimpleLogger(stdout, Logging.Info)) # to print @debug put Logging.Debug\n",
    "global_logger(Logging.SimpleLogger(stdout, Logging.Debug)) # to print @debug put Logging.Debug"
   ]
  },
  {
   "cell_type": "markdown",
   "metadata": {},
   "source": [
    "### get list of MOFs\n",
    "MOF `.cif` files with DDEC-assigned charges are found in `xtals/`. These were downloaded from [here](https://github.com/gregchung/gregchung.github.io/blob/master/CoRE-MOFs/core-mof-1.0-ddec.tar). The paper corresponding to these structures is [here](https://pubs.acs.org/doi/abs/10.1021/acs.chemmater.5b03836)."
   ]
  },
  {
   "cell_type": "code",
   "execution_count": 44,
   "metadata": {},
   "outputs": [
    {
     "data": {
      "text/plain": [
       "\"C:\\\\Users\\\\Arni\\\\Documents\\\\GitHub\\\\mpn_charges\\\\build_graphs\\\\xtals\""
      ]
     },
     "execution_count": 44,
     "metadata": {},
     "output_type": "execute_result"
    }
   ],
   "source": [
    "@eval PorousMaterials PATH_TO_CRYSTALS = joinpath(pwd(), \"xtals\")"
   ]
  },
  {
   "cell_type": "code",
   "execution_count": 45,
   "metadata": {},
   "outputs": [
    {
     "data": {
      "text/plain": [
       "2932-element Array{String,1}:\n",
       " \"ABAVIJ_clean\"\n",
       " \"ABAVOP_clean\"\n",
       " \"ABEXIQ_clean\"\n",
       " \"ABEXOW_clean\"\n",
       " \"ABEXUC_clean\"\n",
       " \"ABEYAJ_clean\"\n",
       " \"ABEYIR\"\n",
       " \"ABIYIV\"\n",
       " \"ABUWOJ_clean\"\n",
       " \"ACAKUM\"\n",
       " \"ACALIB_clean\"\n",
       " \"ACODED\"\n",
       " \"ACOLIP_clean\"\n",
       " ⋮\n",
       " \"ZILBAZ_clean\"\n",
       " \"ZILBED_clean\"\n",
       " \"ZIMJOW_clean\"\n",
       " \"ZISYAD_clean\"\n",
       " \"ZNGLUD01_clean\"\n",
       " \"ZNGLUD_clean\"\n",
       " \"ZURQOS_clean\"\n",
       " \"Zn-DOBDC\"\n",
       " \"ZnBDC\"\n",
       " \"ZnBDCdabco\"\n",
       " \"ZnHBDC\"\n",
       " \"ZnMOF-74\""
      ]
     },
     "execution_count": 45,
     "metadata": {},
     "output_type": "execute_result"
    }
   ],
   "source": [
    "xtalnames = map(x -> replace(x, \".cif\" => \"\"), readdir(\"xtals\"))"
   ]
  },
  {
   "cell_type": "markdown",
   "metadata": {},
   "source": [
    "### Lets remove duplicate structures from the data set."
   ]
  },
  {
   "cell_type": "markdown",
   "metadata": {},
   "source": [
    "`duplicates.csv` is a table from Nazarian et al. (DOI: 10.1021/acs.chemmater.5b03836)"
   ]
  },
  {
   "cell_type": "code",
   "execution_count": 46,
   "metadata": {},
   "outputs": [
    {
     "data": {
      "text/plain": [
       "4297-element WeakRefStrings.StringArray{String,1}:\n",
       " \"Cu-BTC\"\n",
       " \"EDUSIF_clean\"\n",
       " \"CIWRAC_clean\"\n",
       " \"GIKMOD01_clean\"\n",
       " \"FIQYOU_clean\"\n",
       " \"ITIWIS_charged\"\n",
       " \"ATIBAG_clean\"\n",
       " \"OKITIM01_charged\"\n",
       " \"FARFIO_clean\"\n",
       " \"IDIWOH\"\n",
       " \"FIJDIM01_clean\"\n",
       " \"MECWEX_manual\"\n",
       " \"BAHGUN01_clean\"\n",
       " ⋮\n",
       " \"FALQIU_clean\"\n",
       " \"WAMRIN02_clean\"\n",
       " \"OVEJIJ_clean\"\n",
       " \"UNABIV_charged\"\n",
       " \"ZIF-97\"\n",
       " \"WAWGOQ_clean\"\n",
       " \"IZEPAF_clean\"\n",
       " \"ZIF-93\"\n",
       " \"SAPJEA_charged\"\n",
       " \"DEYNIG_clean\"\n",
       " \"GAHWIX_clean\"\n",
       " \"WENSIS_clean\""
      ]
     },
     "execution_count": 46,
     "metadata": {},
     "output_type": "execute_result"
    }
   ],
   "source": [
    "all_structures = CSV.read(\"duplicates.csv\")\n",
    "unique_structures = all_structures[:,1]"
   ]
  },
  {
   "cell_type": "code",
   "execution_count": 69,
   "metadata": {},
   "outputs": [
    {
     "data": {
      "text/plain": [
       "2285"
      ]
     },
     "execution_count": 69,
     "metadata": {},
     "output_type": "execute_result"
    }
   ],
   "source": [
    "set_of_unique_xtals = Set(unique_structures)\n",
    "set_of_ddec_xtals = Set(xtalnames)\n",
    "set_of_unique_ddec_xtals = intersect(set_of_unique_xtals, set_of_ddec_xtals)\n",
    "length(set_of_unique_ddec_xtals)"
   ]
  },
  {
   "cell_type": "code",
   "execution_count": 48,
   "metadata": {},
   "outputs": [
    {
     "name": "stdout",
     "output_type": "stream",
     "text": [
      "┌ Warning: Cu-BTC is not in the DDEC set but...\n",
      "└ @ Main In[48]:6\n",
      "\tDOTSOV02_clean is in the set\n",
      "\tDOTSOV03_clean is in the set\n",
      "\tDOTSOV04_clean is in the set\n",
      "\tDOTSOV05_clean is in the set\n",
      "\tDOTSOV06_clean is in the set\n",
      "\tDOTSOV07_clean is in the set\n",
      "\tDOTSOV08_clean is in the set\n",
      "\tDOTSOV09_clean is in the set\n",
      "\tDOTSOV10_clean is in the set\n",
      "\tDOTSOV11_clean is in the set\n",
      "\tDOTSOV12_clean is in the set\n",
      "\tDOTSOV13_clean is in the set\n",
      "\tDOTSOV14_clean is in the set\n",
      "\tDOTSOV15_clean is in the set\n",
      "\tDOTSOV16_clean is in the set\n",
      "\tDOTSOV18_clean is in the set\n",
      "\tDOTSOV19_clean is in the set\n",
      "\tDOTSOV20_clean is in the set\n",
      "\tDOTSOV21_clean is in the set\n",
      "\tDOTSOV22_clean is in the set\n",
      "\tDOTSOV23_clean is in the set\n",
      "\tDOTSOV24_clean is in the set\n",
      "\tDOTSOV25_clean is in the set\n",
      "\tDOTSOV26_clean is in the set\n",
      "\tDOTSOV27_clean is in the set\n",
      "\tDOTSOV28_clean is in the set\n",
      "\tDOTSOV29_clean is in the set\n",
      "\tDOTSOV30_clean is in the set\n",
      "\tDOTSOV31_clean is in the set\n",
      "\tDOTSOV32_clean is in the set\n",
      "\tDOTSOV33_clean is in the set\n",
      "\tDOTSOV34_clean is in the set\n",
      "\tDOTSOV35_clean is in the set\n",
      "\tDOTSOV37_clean is in the set\n",
      "\tDOTSOV38_clean is in the set\n",
      "\tDOTSOV40_clean is in the set\n",
      "\tDOTSOV41_clean is in the set\n",
      "\tDOTSOV42_clean is in the set\n",
      "\tFIQCEN_clean is in the set\n",
      "\tXAMDUM01_clean is in the set\n",
      "\tXAMDUM03_clean is in the set\n",
      "\tXAMDUM04_clean is in the set\n",
      "\tXAMDUM05_clean is in the set\n",
      "\tXAMDUM06_clean is in the set\n",
      "\tXAMDUM07_clean is in the set\n",
      "\tXAMDUM_clean is in the set\n",
      "┌ Warning: IDIWOH is not in the DDEC set but...\n",
      "└ @ Main In[48]:6\n",
      "\tIDIWOH01_clean is in the set\n",
      "\tIDIWOH_clean is in the set\n",
      "\tIXODUV_clean is in the set\n",
      "\tIXOFAD_clean is in the set\n",
      "\tIXOFEH_clean is in the set\n",
      "\tIXOFIL_clean is in the set\n",
      "\tIXOFOR_clean is in the set\n",
      "\tIXOFUX01_clean is in the set\n",
      "\tIXOFUX_clean is in the set\n",
      "\tMIL-47 is in the set\n",
      "\tPEPLEC_clean is in the set\n",
      "\tPEPLIG_clean is in the set\n",
      "\tPEPLOM_clean is in the set\n",
      "┌ Warning: FIJDIM01_clean is not in the DDEC set but...\n",
      "└ @ Main In[48]:6\n",
      "\tFIJDIM02_clean is in the set\n",
      "\tFIJDIM03_clean is in the set\n",
      "\tFIJDIM04_clean is in the set\n",
      "\tFIJDIM06_clean is in the set\n",
      "\tFIJDIM07_clean is in the set\n",
      "\tFIJDIM09_clean is in the set\n",
      "\tFIJDIM11_clean is in the set\n",
      "\tFIJDIM12_clean is in the set\n",
      "\tFIJDIM_clean is in the set\n",
      "\tMAHTAR01_clean is in the set\n",
      "\tMAHTAR_clean is in the set\n",
      "┌ Warning: MECWEX_manual is not in the DDEC set but...\n",
      "└ @ Main In[48]:6\n",
      "\tOFERUN04 is in the set\n",
      "┌ Warning: GATHAL_clean is not in the DDEC set but...\n",
      "└ @ Main In[48]:6\n",
      "\tHAZGOF01_clean is in the set\n",
      "┌ Warning: FIJDOS_clean is not in the DDEC set but...\n",
      "└ @ Main In[48]:6\n",
      "\tZn-DOBDC is in the set\n",
      "\tZnMOF-74 is in the set\n",
      "┌ Warning: WAJHUM is not in the DDEC set but...\n",
      "└ @ Main In[48]:6\n",
      "\tWAJJAU is in the set\n",
      "┌ Warning: DIDBAV_clean is not in the DDEC set but...\n",
      "└ @ Main In[48]:6\n",
      "\tDIDBEZ_clean is in the set\n",
      "┌ Warning: LECQEQ_clean is not in the DDEC set but...\n",
      "└ @ Main In[48]:6\n",
      "\tNi-DOBDC is in the set\n",
      "┌ Warning: IBASOV_clean is not in the DDEC set but...\n",
      "└ @ Main In[48]:6\n",
      "\tWUTBIW_clean is in the set\n",
      "┌ Warning: IBASUB_clean is not in the DDEC set but...\n",
      "└ @ Main In[48]:6\n",
      "\tJEBCOJ_clean is in the set\n",
      "\tOFESIC_clean is in the set\n",
      "┌ Warning: OTARUX is not in the DDEC set but...\n",
      "└ @ Main In[48]:6\n",
      "\tOTARUX01 is in the set\n",
      "┌ Warning: BERGAI01 is not in the DDEC set but...\n",
      "└ @ Main In[48]:6\n",
      "\tBERGAI_clean is in the set\n",
      "\tPEQHUQ_clean is in the set\n",
      "┌ Warning: NANZOS_clean is not in the DDEC set but...\n",
      "└ @ Main In[48]:6\n",
      "\tWEMCOI_clean is in the set\n",
      "┌ Warning: JOHFIW_manual is not in the DDEC set but...\n",
      "└ @ Main In[48]:6\n",
      "\tLAVSUY_clean is in the set\n",
      "┌ Warning: PEFSEA_clean is not in the DDEC set but...\n",
      "└ @ Main In[48]:6\n",
      "\tPEFTAX_clean is in the set\n",
      "┌ Warning: CETHEQ_clean is not in the DDEC set but...\n",
      "└ @ Main In[48]:6\n",
      "\tPEWGEF_clean is in the set\n",
      "┌ Warning: MASZOX_clean is not in the DDEC set but...\n",
      "└ @ Main In[48]:6\n",
      "\tMASZUD_clean is in the set\n",
      "┌ Warning: NHBZZN10_clean is not in the DDEC set but...\n",
      "└ @ Main In[48]:6\n",
      "\tRUPZIM_clean is in the set\n",
      "┌ Warning: ILUFOL_clean is not in the DDEC set but...\n",
      "└ @ Main In[48]:6\n",
      "\tTAKYOV_clean is in the set\n",
      "┌ Warning: FALVUL01_clean is not in the DDEC set but...\n",
      "└ @ Main In[48]:6\n",
      "\tFALVUL_clean is in the set\n",
      "┌ Warning: EYOPOY is not in the DDEC set but...\n",
      "└ @ Main In[48]:6\n",
      "\tOHAKEO_clean is in the set\n",
      "┌ Warning: MUDLIH_manual is not in the DDEC set but...\n",
      "└ @ Main In[48]:6\n",
      "\tWIFGOJ_clean is in the set\n",
      "┌ Warning: BUVWOF02 is not in the DDEC set but...\n",
      "└ @ Main In[48]:6\n",
      "\tBUVXOG_clean is in the set\n",
      "┌ Warning: XAFNOH01_clean is not in the DDEC set but...\n",
      "└ @ Main In[48]:6\n",
      "\tXAFNOH_clean is in the set\n",
      "┌ Warning: BUVYIB01 is not in the DDEC set but...\n",
      "└ @ Main In[48]:6\n",
      "\tBUVYIB_clean is in the set\n",
      "┌ Warning: INIRAY01_clean is not in the DDEC set but...\n",
      "└ @ Main In[48]:6\n",
      "\tINIRAY_clean is in the set\n",
      "┌ Warning: IPICUG_charged is not in the DDEC set but...\n",
      "└ @ Main In[48]:6\n",
      "\tIPIDAN is in the set\n",
      "┌ Warning: MIFGEP01_clean is not in the DDEC set but...\n",
      "└ @ Main In[48]:6\n",
      "\tMIFGEP_clean is in the set\n",
      "┌ Warning: XEDLUN01_clean is not in the DDEC set but...\n",
      "└ @ Main In[48]:6\n",
      "\tXEDLUN_clean is in the set\n",
      "┌ Warning: AVELUJ_clean is not in the DDEC set but...\n",
      "└ @ Main In[48]:6\n",
      "\tAVEMAQ_clean is in the set\n",
      "┌ Warning: TIQGEG01_clean is not in the DDEC set but...\n",
      "└ @ Main In[48]:6\n",
      "\tTIQGEG_clean is in the set\n",
      "┌ Warning: FANWIC is not in the DDEC set but...\n",
      "└ @ Main In[48]:6\n",
      "\tFANWOI is in the set\n",
      "┌ Warning: SUGVUM_clean is not in the DDEC set but...\n",
      "└ @ Main In[48]:6\n",
      "\tSUGWEX03 is in the set\n",
      "┌ Warning: CENJIQ_clean is not in the DDEC set but...\n",
      "└ @ Main In[48]:6\n",
      "\tCENKAJ_clean is in the set\n",
      "┌ Warning: EMITUQ01_clean is not in the DDEC set but...\n",
      "└ @ Main In[48]:6\n",
      "\tEMITUQ_clean is in the set\n",
      "┌ Warning: ICIZAV_clean is not in the DDEC set but...\n",
      "└ @ Main In[48]:6\n",
      "\tKILJEV_clean is in the set\n",
      "┌ Warning: BEDHOJ is not in the DDEC set but...\n",
      "└ @ Main In[48]:6\n",
      "\tPARMIG_clean is in the set\n",
      "┌ Warning: ESIPUR02_clean is not in the DDEC set but...\n",
      "└ @ Main In[48]:6\n",
      "\tESIPUR_clean is in the set\n",
      "┌ Warning: IBATEM_clean is not in the DDEC set but...\n",
      "└ @ Main In[48]:6\n",
      "\tOFESAU_clean is in the set\n"
     ]
    }
   ],
   "source": [
    "for (i, unique_xtal) in enumerate(unique_structures)\n",
    "    if ! in(unique_xtal, set_of_ddec_xtals)\n",
    "        other_xtals = all_structures[i, 2:end]\n",
    "        if length(intersect(set_of_ddec_xtals, Set(other_xtals))) > 0\n",
    "            have_i_added_another_crystal = false\n",
    "            @warn @sprintf(\"%s is not in the DDEC set but...\\n\", unique_xtal)\n",
    "            for (j, duplicate_xtal) in enumerate(other_xtals)\n",
    "                if ismissing(duplicate_xtal)\n",
    "                    break\n",
    "                end\n",
    "                if duplicate_xtal in xtalnames\n",
    "                    if ! have_i_added_another_crystal\n",
    "                        push!(set_of_unique_ddec_xtals, duplicate_xtal)\n",
    "                        have_i_added_another_crystal = true\n",
    "                    end\n",
    "                    @printf(\"\\t%s is in the set\\n\", duplicate_xtal)\n",
    "                end\n",
    "            end\n",
    "        end\n",
    "    end\n",
    "end"
   ]
  },
  {
   "cell_type": "code",
   "execution_count": 49,
   "metadata": {},
   "outputs": [
    {
     "data": {
      "text/plain": [
       "2325-element Array{String,1}:\n",
       " \"SEHSUU_clean\"\n",
       " \"CECVOW_clean\"\n",
       " \"WEMFAX_clean\"\n",
       " \"MAQZOV_clean\"\n",
       " \"GIQXIO_clean\"\n",
       " \"LUSHIR_clean\"\n",
       " \"ALIXUP_clean\"\n",
       " \"LUSJAL_clean\"\n",
       " \"MAFZOK_clean\"\n",
       " \"MAKSUO_clean\"\n",
       " \"QOKCID_clean\"\n",
       " \"WAMRIN01_clean\"\n",
       " \"POKXIX_clean\"\n",
       " ⋮\n",
       " \"LAGNOY_clean\"\n",
       " \"ESEQUO_clean\"\n",
       " \"ISUXAW_clean\"\n",
       " \"KASRAZ_clean\"\n",
       " \"WEMFOL_clean\"\n",
       " \"BIVXEK_clean\"\n",
       " \"RIVDEF_clean\"\n",
       " \"KABXES_clean\"\n",
       " \"AVEMOE_clean\"\n",
       " \"AVUDAX_clean\"\n",
       " \"CUYQIX_clean\"\n",
       " \"GIYTIS_clean\""
      ]
     },
     "execution_count": 49,
     "metadata": {},
     "output_type": "execute_result"
    }
   ],
   "source": [
    "xtalnames = collect(set_of_unique_ddec_xtals)"
   ]
  },
  {
   "cell_type": "markdown",
   "metadata": {},
   "source": [
    "### find unique atomic species"
   ]
  },
  {
   "cell_type": "code",
   "execution_count": 50,
   "metadata": {},
   "outputs": [
    {
     "name": "stdout",
     "output_type": "stream",
     "text": [
      "# unique atomic species: 74\n"
     ]
    }
   ],
   "source": [
    "unique_atomic_species = Set{Symbol}()\n",
    "\n",
    "for xtalname in xtalnames\n",
    "    crystal = Crystal(xtalname * \".cif\")\n",
    "    for a in unique(crystal.atoms.species)\n",
    "        push!(unique_atomic_species, a)\n",
    "    end\n",
    "end\n",
    "unique_atomic_species\n",
    "\n",
    "println(\"# unique atomic species: \", length(unique_atomic_species))"
   ]
  },
  {
   "cell_type": "markdown",
   "metadata": {},
   "source": [
    "### analyze occurance of atomic species in MOFs\n",
    "i.e., how many MOFs contain atom $i$? this is important to ensure we can adequately learn charges on rare MOF atoms."
   ]
  },
  {
   "cell_type": "code",
   "execution_count": 51,
   "metadata": {},
   "outputs": [
    {
     "data": {
      "text/plain": [
       "Dict{Symbol,Int64} with 74 entries:\n",
       "  :Cl => 70\n",
       "  :Al => 19\n",
       "  :Be => 2\n",
       "  :Re => 5\n",
       "  :Cr => 16\n",
       "  :Na => 36\n",
       "  :Sb => 2\n",
       "  :Ni => 111\n",
       "  :S  => 179\n",
       "  :Ru => 10\n",
       "  :Tm => 17\n",
       "  :W  => 14\n",
       "  :Nd => 78\n",
       "  :O  => 2050\n",
       "  :Th => 4\n",
       "  :F  => 69\n",
       "  :Co => 237\n",
       "  :Gd => 64\n",
       "  :Rh => 2\n",
       "  :Pu => 1\n",
       "  :Ca => 39\n",
       "  :N  => 1472\n",
       "  :Yb => 25\n",
       "  :As => 2\n",
       "  :Se => 1\n",
       "  ⋮   => ⋮"
      ]
     },
     "execution_count": 51,
     "metadata": {},
     "output_type": "execute_result"
    }
   ],
   "source": [
    "species_occurance = Dict{Symbol, Int}(a => 0 for a in unique_atomic_species)\n",
    "for xtalname in xtalnames\n",
    "    crystal = Crystal(xtalname * \".cif\")\n",
    "    for a in unique(crystal.atoms.species)\n",
    "        species_occurance[a] += 1\n",
    "    end\n",
    "end\n",
    "species_occurance"
   ]
  },
  {
   "cell_type": "markdown",
   "metadata": {},
   "source": [
    "put in a `DataFrame` for sorting and plotting"
   ]
  },
  {
   "cell_type": "code",
   "execution_count": 52,
   "metadata": {},
   "outputs": [
    {
     "data": {
      "text/html": [
       "<table class=\"data-frame\"><thead><tr><th></th><th>atom</th><th>nb_mofs</th></tr><tr><th></th><th>Symbol</th><th>Int64</th></tr></thead><tbody><p>6 rows × 2 columns</p><tr><th>1</th><td>Pu</td><td>1</td></tr><tr><th>2</th><td>Se</td><td>1</td></tr><tr><th>3</th><td>Hf</td><td>1</td></tr><tr><th>4</th><td>Ir</td><td>1</td></tr><tr><th>5</th><td>Be</td><td>2</td></tr><tr><th>6</th><td>Sb</td><td>2</td></tr></tbody></table>"
      ],
      "text/latex": [
       "\\begin{tabular}{r|cc}\n",
       "\t& atom & nb\\_mofs\\\\\n",
       "\t\\hline\n",
       "\t& Symbol & Int64\\\\\n",
       "\t\\hline\n",
       "\t1 & Pu & 1 \\\\\n",
       "\t2 & Se & 1 \\\\\n",
       "\t3 & Hf & 1 \\\\\n",
       "\t4 & Ir & 1 \\\\\n",
       "\t5 & Be & 2 \\\\\n",
       "\t6 & Sb & 2 \\\\\n",
       "\\end{tabular}\n"
      ],
      "text/plain": [
       "6×2 DataFrame\n",
       "│ Row │ atom   │ nb_mofs │\n",
       "│     │ \u001b[90mSymbol\u001b[39m │ \u001b[90mInt64\u001b[39m   │\n",
       "├─────┼────────┼─────────┤\n",
       "│ 1   │ Pu     │ 1       │\n",
       "│ 2   │ Se     │ 1       │\n",
       "│ 3   │ Hf     │ 1       │\n",
       "│ 4   │ Ir     │ 1       │\n",
       "│ 5   │ Be     │ 2       │\n",
       "│ 6   │ Sb     │ 2       │"
      ]
     },
     "execution_count": 52,
     "metadata": {},
     "output_type": "execute_result"
    }
   ],
   "source": [
    "df_species_occurance = DataFrame(atom=collect(keys(species_occurance)), \n",
    "                                 nb_mofs=collect(values(species_occurance))\n",
    "                                 )\n",
    "sort!(df_species_occurance, :nb_mofs)\n",
    "first(df_species_occurance, 6)"
   ]
  },
  {
   "cell_type": "code",
   "execution_count": 53,
   "metadata": {},
   "outputs": [
    {
     "data": {
      "image/png": "[encoded data removed]",
      "text/plain": [
       "Figure(PyObject <Figure size 400x1400 with 1 Axes>)"
      ]
     },
     "metadata": {},
     "output_type": "display_data"
    },
    {
     "data": {
      "text/plain": [
       "PyObject Text(0.5, 1, 'atom occurances in MOFs')"
      ]
     },
     "execution_count": 53,
     "metadata": {},
     "output_type": "execute_result"
    }
   ],
   "source": [
    "figure(figsize=(4, 14))\n",
    "barh(1:nrow(df_species_occurance), df_species_occurance[:, :nb_mofs])\n",
    "yticks(1:nrow(df_species_occurance), df_species_occurance[:, :atom])\n",
    "xlabel(\"# MOFs with this atom\")\n",
    "ylabel(\"atom\")\n",
    "xscale(\"log\")\n",
    "title(\"atom occurances in MOFs\")"
   ]
  },
  {
   "cell_type": "markdown",
   "metadata": {},
   "source": [
    "### atom <--> integer mapping for one-hot encoding\n",
    "\n",
    "sort my occurance"
   ]
  },
  {
   "cell_type": "code",
   "execution_count": 54,
   "metadata": {},
   "outputs": [
    {
     "name": "stderr",
     "output_type": "stream",
     "text": [
      "WARNING: redefining constant ATOMS\n"
     ]
    },
    {
     "data": {
      "text/plain": [
       "74-element Array{Symbol,1}:\n",
       " :C\n",
       " :H\n",
       " :O\n",
       " :N\n",
       " :Zn\n",
       " :Cu\n",
       " :Cd\n",
       " :Co\n",
       " :S\n",
       " :P\n",
       " :Mn\n",
       " :Ni\n",
       " :Nd\n",
       " ⋮\n",
       " :Np\n",
       " :Be\n",
       " :Sb\n",
       " :Rh\n",
       " :As\n",
       " :Cs\n",
       " :Ge\n",
       " :Pd\n",
       " :Pu\n",
       " :Se\n",
       " :Hf\n",
       " :Ir"
      ]
     },
     "execution_count": 54,
     "metadata": {},
     "output_type": "execute_result"
    }
   ],
   "source": [
    "sort!(df_species_occurance, :nb_mofs, rev=true)\n",
    "const ATOMS = deepcopy(df_species_occurance[:, :atom])\n",
    "ATOMS"
   ]
  },
  {
   "cell_type": "code",
   "execution_count": 55,
   "metadata": {},
   "outputs": [
    {
     "name": "stderr",
     "output_type": "stream",
     "text": [
      "WARNING: redefining constant ATOM_TO_INT\n"
     ]
    },
    {
     "data": {
      "text/plain": [
       "Dict{Symbol,Int64} with 74 entries:\n",
       "  :Cl => 15\n",
       "  :Al => 39\n",
       "  :Re => 54\n",
       "  :Be => 64\n",
       "  :Cr => 44\n",
       "  :Na => 26\n",
       "  :Sb => 65\n",
       "  :Ni => 12\n",
       "  :S  => 9\n",
       "  :Ru => 48\n",
       "  :Tm => 41\n",
       "  :W  => 45\n",
       "  :Nd => 13\n",
       "  :O  => 3\n",
       "  :Th => 55\n",
       "  :F  => 16\n",
       "  :Co => 8\n",
       "  :Gd => 18\n",
       "  :Rh => 66\n",
       "  :Pu => 71\n",
       "  :Ca => 25\n",
       "  :N  => 4\n",
       "  :Yb => 33\n",
       "  :As => 67\n",
       "  :Se => 72\n",
       "  ⋮   => ⋮"
      ]
     },
     "execution_count": 55,
     "metadata": {},
     "output_type": "execute_result"
    }
   ],
   "source": [
    "const ATOM_TO_INT = Dict{Symbol, Int}(a => i for (i, a) in enumerate(ATOMS))\n",
    "ATOM_TO_INT"
   ]
  },
  {
   "cell_type": "code",
   "execution_count": 56,
   "metadata": {},
   "outputs": [
    {
     "data": {
      "text/plain": [
       "\"atom_to_int.csv\""
      ]
     },
     "execution_count": 56,
     "metadata": {},
     "output_type": "execute_result"
    }
   ],
   "source": [
    "CSV.write(\"atom_to_int.csv\", ATOM_TO_INT)"
   ]
  },
  {
   "cell_type": "markdown",
   "metadata": {},
   "source": [
    "### write graph structure, edge features, node features, and node labels to file for each MOF"
   ]
  },
  {
   "cell_type": "code",
   "execution_count": 57,
   "metadata": {},
   "outputs": [
    {
     "data": {
      "text/plain": [
       "86-element Array{Symbol,1}:\n",
       " :Li\n",
       " :Na\n",
       " :K\n",
       " :Rb\n",
       " :Cs\n",
       " :Fr\n",
       " :Be\n",
       " :Mg\n",
       " :Ca\n",
       " :Sr\n",
       " :Ba\n",
       " :Ra\n",
       " :Sc\n",
       " ⋮\n",
       " :U\n",
       " :Np\n",
       " :Pu\n",
       " :Am\n",
       " :Cm\n",
       " :Bk\n",
       " :Cf\n",
       " :Es\n",
       " :Fm\n",
       " :Md\n",
       " :No\n",
       " :Lr"
      ]
     },
     "execution_count": 57,
     "metadata": {},
     "output_type": "execute_result"
    }
   ],
   "source": [
    "isdir(\"graphs\") ? nothing : mkdir(\"graphs\")\n",
    "metals = [:Li, :Na, :K, :Rb, :Cs, :Fr, #Alkali metals\n",
    "          :Be, :Mg, :Ca, :Sr, :Ba, :Ra, #Alkaline earth metals\n",
    "          :Sc, :Ti, :V, :Cr, :Mn, :Fe, :Co, :Ni, :Cu, :Zn,\n",
    "          :Y, :Zr, :Nb, :Mo, :Tc, :Ru, :Rh, :Pd, :Ag, :Cd,\n",
    "          :Hf, :Ta, :W, :Re, :Os, :Ir, :Pt, :Au, :Hg,\n",
    "          :Rf, :Db, :Sg, :Bh, :Hs, :Cn, #Transition metals\n",
    "          :Al, :Ga, :In, :Sn, :Tl, :Pb, :Bi, :Po, :Fl, #Post-transition metals\n",
    "          :La, :Ce, :Pr, :Nd, :Pm, :Sm, :Eu, :Gd, :Tb, :Dy, :Ho, :Er, :Tm, :Yb, :Lu, #Lanthanoids\n",
    "          :Ac, :Th, :Pa, :U, :Np, :Pu, :Am, :Cm, :Bk, :Cf, :Es, :Fm, :Md, :No, :Lr] #Actinoids"
   ]
  },
  {
   "cell_type": "code",
   "execution_count": 58,
   "metadata": {},
   "outputs": [],
   "source": [
    "charge_list = Dict(atom => Float64[] for atom in keys(ATOM_TO_INT))\n",
    "\n",
    "for (i_xtal, xtalname) in enumerate(xtalnames)\n",
    "    xtal = Crystal(xtalname * \".cif\", include_zero_charges=true)\n",
    "    for (j, atom) in enumerate(xtal.atoms.species)\n",
    "        append!(charge_list[atom], xtal.charges.q[j])\n",
    "    end\n",
    "end"
   ]
  },
  {
   "cell_type": "code",
   "execution_count": 59,
   "metadata": {},
   "outputs": [
    {
     "data": {
      "text/plain": [
       "\"stdev.csv\""
      ]
     },
     "execution_count": 59,
     "metadata": {},
     "output_type": "execute_result"
    }
   ],
   "source": [
    "atoms = []\n",
    "σ = []\n",
    "for x in keys(charge_list)\n",
    "    push!(atoms, x)\n",
    "    push!(σ, std(charge_list[x]))\n",
    "end\n",
    "stdev_df = DataFrame(Dict(:element => atoms, :stdev => σ))\n",
    "CSV.write(\"stdev.csv\", stdev_df)"
   ]
  },
  {
   "cell_type": "code",
   "execution_count": 60,
   "metadata": {},
   "outputs": [
    {
     "data": {
      "image/png": "[encoded data removed]",
      "text/plain": [
       "Figure(PyObject <Figure size 640x480 with 1 Axes>)"
      ]
     },
     "metadata": {},
     "output_type": "display_data"
    },
    {
     "name": "stderr",
     "output_type": "stream",
     "text": [
      "sys:1: UserWarning: Matplotlib is currently using agg, which is a non-GUI backend, so cannot show the figure.\n"
     ]
    }
   ],
   "source": [
    "fig, ax = plt.subplots()\n",
    "ax.hist(charge_list[:Cl], bins=100, ec=\"k\")\n",
    "plt.show()"
   ]
  },
  {
   "cell_type": "code",
   "execution_count": 61,
   "metadata": {},
   "outputs": [],
   "source": [
    "INT_TO_ATOM = Dict(value => key for (key, value) in ATOM_TO_INT)\n",
    "mean_charges = zeros(length(charge_list))\n",
    "for i = 1:74\n",
    "    mean_charges[i] = mean(charge_list[INT_TO_ATOM[i]])\n",
    "end"
   ]
  },
  {
   "cell_type": "code",
   "execution_count": 62,
   "metadata": {},
   "outputs": [
    {
     "data": {
      "text/plain": [
       ":Ir"
      ]
     },
     "execution_count": 62,
     "metadata": {},
     "output_type": "execute_result"
    }
   ],
   "source": [
    "INT_TO_ATOM[74]"
   ]
  },
  {
   "cell_type": "code",
   "execution_count": 63,
   "metadata": {},
   "outputs": [
    {
     "data": {
      "text/html": [
       "<table class=\"data-frame\"><thead><tr><th></th><th>mean_charge</th><th>atom</th></tr><tr><th></th><th>Float64</th><th>Symbol</th></tr></thead><tbody><p>74 rows × 2 columns</p><tr><th>1</th><td>0.0909217</td><td>C</td></tr><tr><th>2</th><td>0.117561</td><td>H</td></tr><tr><th>3</th><td>-0.63384</td><td>O</td></tr><tr><th>4</th><td>-0.303676</td><td>N</td></tr><tr><th>5</th><td>0.940772</td><td>Zn</td></tr><tr><th>6</th><td>0.665301</td><td>Cu</td></tr><tr><th>7</th><td>0.956287</td><td>Cd</td></tr><tr><th>8</th><td>0.933813</td><td>Co</td></tr><tr><th>9</th><td>0.329906</td><td>S</td></tr><tr><th>10</th><td>1.57374</td><td>P</td></tr><tr><th>11</th><td>1.06172</td><td>Mn</td></tr><tr><th>12</th><td>0.735713</td><td>Ni</td></tr><tr><th>13</th><td>2.26303</td><td>Nd</td></tr><tr><th>14</th><td>2.15513</td><td>La</td></tr><tr><th>15</th><td>-0.353508</td><td>Cl</td></tr><tr><th>16</th><td>-0.258297</td><td>F</td></tr><tr><th>17</th><td>0.324671</td><td>Ag</td></tr><tr><th>18</th><td>2.1528</td><td>Gd</td></tr><tr><th>19</th><td>1.46509</td><td>Er</td></tr><tr><th>20</th><td>2.26428</td><td>Dy</td></tr><tr><th>21</th><td>2.20644</td><td>Ce</td></tr><tr><th>22</th><td>0.935494</td><td>Fe</td></tr><tr><th>23</th><td>2.27041</td><td>Sm</td></tr><tr><th>24</th><td>2.14156</td><td>Pr</td></tr><tr><th>25</th><td>1.57085</td><td>Ca</td></tr><tr><th>26</th><td>0.927301</td><td>Na</td></tr><tr><th>27</th><td>1.55628</td><td>Mg</td></tr><tr><th>28</th><td>1.64307</td><td>Ba</td></tr><tr><th>29</th><td>0.974415</td><td>Mo</td></tr><tr><th>30</th><td>2.03879</td><td>U</td></tr><tr><th>&vellip;</th><td>&vellip;</td><td>&vellip;</td></tr></tbody></table>"
      ],
      "text/latex": [
       "\\begin{tabular}{r|cc}\n",
       "\t& mean\\_charge & atom\\\\\n",
       "\t\\hline\n",
       "\t& Float64 & Symbol\\\\\n",
       "\t\\hline\n",
       "\t1 & 0.0909217 & C \\\\\n",
       "\t2 & 0.117561 & H \\\\\n",
       "\t3 & -0.63384 & O \\\\\n",
       "\t4 & -0.303676 & N \\\\\n",
       "\t5 & 0.940772 & Zn \\\\\n",
       "\t6 & 0.665301 & Cu \\\\\n",
       "\t7 & 0.956287 & Cd \\\\\n",
       "\t8 & 0.933813 & Co \\\\\n",
       "\t9 & 0.329906 & S \\\\\n",
       "\t10 & 1.57374 & P \\\\\n",
       "\t11 & 1.06172 & Mn \\\\\n",
       "\t12 & 0.735713 & Ni \\\\\n",
       "\t13 & 2.26303 & Nd \\\\\n",
       "\t14 & 2.15513 & La \\\\\n",
       "\t15 & -0.353508 & Cl \\\\\n",
       "\t16 & -0.258297 & F \\\\\n",
       "\t17 & 0.324671 & Ag \\\\\n",
       "\t18 & 2.1528 & Gd \\\\\n",
       "\t19 & 1.46509 & Er \\\\\n",
       "\t20 & 2.26428 & Dy \\\\\n",
       "\t21 & 2.20644 & Ce \\\\\n",
       "\t22 & 0.935494 & Fe \\\\\n",
       "\t23 & 2.27041 & Sm \\\\\n",
       "\t24 & 2.14156 & Pr \\\\\n",
       "\t25 & 1.57085 & Ca \\\\\n",
       "\t26 & 0.927301 & Na \\\\\n",
       "\t27 & 1.55628 & Mg \\\\\n",
       "\t28 & 1.64307 & Ba \\\\\n",
       "\t29 & 0.974415 & Mo \\\\\n",
       "\t30 & 2.03879 & U \\\\\n",
       "\t$\\dots$ & $\\dots$ & $\\dots$ \\\\\n",
       "\\end{tabular}\n"
      ],
      "text/plain": [
       "74×2 DataFrame\n",
       "│ Row │ mean_charge │ atom   │\n",
       "│     │ \u001b[90mFloat64\u001b[39m     │ \u001b[90mSymbol\u001b[39m │\n",
       "├─────┼─────────────┼────────┤\n",
       "│ 1   │ 0.0909217   │ C      │\n",
       "│ 2   │ 0.117561    │ H      │\n",
       "│ 3   │ -0.63384    │ O      │\n",
       "│ 4   │ -0.303676   │ N      │\n",
       "│ 5   │ 0.940772    │ Zn     │\n",
       "│ 6   │ 0.665301    │ Cu     │\n",
       "│ 7   │ 0.956287    │ Cd     │\n",
       "│ 8   │ 0.933813    │ Co     │\n",
       "│ 9   │ 0.329906    │ S      │\n",
       "│ 10  │ 1.57374     │ P      │\n",
       "⋮\n",
       "│ 64  │ 1.21909     │ Be     │\n",
       "│ 65  │ 1.98877     │ Sb     │\n",
       "│ 66  │ 0.67423     │ Rh     │\n",
       "│ 67  │ 1.10899     │ As     │\n",
       "│ 68  │ 0.915482    │ Cs     │\n",
       "│ 69  │ 1.75896     │ Ge     │\n",
       "│ 70  │ 0.457322    │ Pd     │\n",
       "│ 71  │ 2.61042     │ Pu     │\n",
       "│ 72  │ 0.0321566   │ Se     │\n",
       "│ 73  │ 2.48523     │ Hf     │\n",
       "│ 74  │ -0.070281   │ Ir     │"
      ]
     },
     "execution_count": 63,
     "metadata": {},
     "output_type": "execute_result"
    }
   ],
   "source": [
    "mean_charge_df = DataFrame(:mean_charge => mean_charges, :atom => [INT_TO_ATOM[i] for i = 1:74])"
   ]
  },
  {
   "cell_type": "code",
   "execution_count": 64,
   "metadata": {},
   "outputs": [],
   "source": [
    "mean_charge_dict = Dict()\n",
    "for row in 1:size(mean_charge_df)[1]\n",
    "    mean_charge_dict[Symbol(mean_charge_df[!, :atom][row])] = mean_charge_df[!, :mean_charge][row]\n",
    "end"
   ]
  },
  {
   "cell_type": "code",
   "execution_count": 65,
   "metadata": {},
   "outputs": [
    {
     "data": {
      "text/plain": [
       "\"mean_charges.csv\""
      ]
     },
     "execution_count": 65,
     "metadata": {},
     "output_type": "execute_result"
    }
   ],
   "source": [
    "CSV.write(\"mean_charges.csv\", mean_charge_df)"
   ]
  },
  {
   "cell_type": "code",
   "execution_count": 66,
   "metadata": {},
   "outputs": [
    {
     "name": "stderr",
     "output_type": "stream",
     "text": [
      "\u001b[32mProgress: 100%|█████████████████████████████████████████| Time: 0:00:57\u001b[39m\n"
     ]
    }
   ],
   "source": [
    "AD = []\n",
    "\n",
    "@showprogress for (i_xtal, xtalname) in enumerate(xtalnames)\n",
    "    crystal = Crystal(xtalname * \".cif\", include_zero_charges=true)\n",
    "    @assert ! all(crystal.charges.q .== 0)\n",
    "    new_charge_list = [0 for atom in crystal.atoms.species]\n",
    "    net_charge = sum(new_charge_list)\n",
    "    new_charge_list = new_charge_list .- net_charge/length(new_charge_list)\n",
    "    for i in 1:length(new_charge_list)\n",
    "        push!(AD, abs(new_charge_list[i] - crystal.charges.q[i]))\n",
    "    end\n",
    "end\n"
   ]
  },
  {
   "cell_type": "code",
   "execution_count": 67,
   "metadata": {},
   "outputs": [
    {
     "data": {
      "text/plain": [
       "0.15366594540255954"
      ]
     },
     "execution_count": 67,
     "metadata": {},
     "output_type": "execute_result"
    }
   ],
   "source": [
    "sum(AD)/length(AD)"
   ]
  },
  {
   "cell_type": "code",
   "execution_count": null,
   "metadata": {},
   "outputs": [],
   "source": [
    "@info \"making edge list zero-based indexed for Python\"\n",
    "\n",
    "keep_xtal = [true for i = 1:length(xtalnames)]\n",
    "metal_coordination = Dict(xtal => [] for xtal in metals)\n",
    "KEEP_TRACK_OF_COORDINATION = true\n",
    "\n",
    "@showprogress for (i_xtal, xtalname) in enumerate(xtalnames)\n",
    "    crystal = Crystal(xtalname * \".cif\", include_zero_charges=true)\n",
    "    @assert ! all(crystal.charges.q .== 0)\n",
    "    try\n",
    "        bonds!(crystal, true)\n",
    "    catch e\n",
    "        if isa(e, PyCall.PyError)\n",
    "            remove_bonds!(crystal) # some of the bonds were probz formed\n",
    "            println(\"Voronoi problems with \" * crystal.name)\n",
    "            infer_bonds!(crystal, true) # infer bonds with old distance-based version\n",
    "        else\n",
    "            error(\"bond! error for \" * crystal.name)\n",
    "        end\n",
    "    end\n",
    "    @assert nv(crystal.bonds) == crystal.atoms.n\n",
    "    \n",
    "    if ! PorousMaterials.bond_sanity_check(crystal)\n",
    "        keep_xtal[i_xtal] = false\n",
    "        @warn \"throwing out \" crystal.name\n",
    "        continue\n",
    "    end\n",
    "    \n",
    "    ###\n",
    "    #    node features\n",
    "    #    one-hot encoding. each row is an atom.\n",
    "    ###\n",
    "    x_ν = zeros(Int, crystal.atoms.n, length(ATOMS))\n",
    "    for (i, atom) in enumerate(crystal.atoms.species)\n",
    "        x_ν[i, ATOM_TO_INT[atom]] = 1\n",
    "    end\n",
    "    @assert sum(x_ν) == crystal.atoms.n\n",
    "    npzwrite(joinpath(\"graphs\", xtalname * \"_node_features.npy\"), x_ν)\n",
    "\n",
    "    ###\n",
    "    #    node labels (the charges)\n",
    "    ###\n",
    "    y_ν = deepcopy(crystal.charges.q)\n",
    "    npzwrite(joinpath(\"graphs\", xtalname * \"_node_labels.npy\"), y_ν)\n",
    "    @assert length(y_ν) == size(x_ν)[1]\n",
    "\n",
    "    ###\n",
    "    #   edges\n",
    "    #   (a list and their feature = distance btwn atoms)\n",
    "    ###\n",
    "    edge_file = open(joinpath(\"graphs\", xtalname * \".edge_info\"), \"w\")\n",
    "    @printf(edge_file, \"src,dst,r\\n\")\n",
    "    for ed in edges(crystal.bonds)\n",
    "        i = src(ed) # source\n",
    "        j = dst(ed) # destination\n",
    "        r = distance(crystal.atoms, crystal.box, i, j, true)\n",
    "        @printf(edge_file, \"%d,%d,%f\\n\", i - 1, j - 1, r)\n",
    "    end\n",
    "    close(edge_file)\n",
    "            \n",
    "    if KEEP_TRACK_OF_COORDINATION\n",
    "        for (i, a) in enumerate(crystal.atoms.species)\n",
    "            if a in metals\n",
    "                push!(metal_coordination[a], length(neighbors(crystal.bonds, i)))\n",
    "            end\n",
    "        end\n",
    "    end\n",
    "end\n",
    "\n",
    "writedlm(open(\"list_of_crystals.txt\", \"w\"), xtalnames[keep_xtal])"
   ]
  },
  {
   "cell_type": "code",
   "execution_count": null,
   "metadata": {},
   "outputs": [],
   "source": [
    "mean_coordination_df = DataFrame(:coordination => mean_charges, :atom => [INT_TO_ATOM[i] for i = 1:74])"
   ]
  },
  {
   "cell_type": "code",
   "execution_count": null,
   "metadata": {},
   "outputs": [],
   "source": [
    "if KEEP_TRACK_OF_COORDINATION\n",
    "    for metal in metals\n",
    "        if length(metal_coordination[metal]) == 0\n",
    "            continue\n",
    "        end\n",
    "        fig, ax = plt.subplots(figsize=(6,6))\n",
    "        ax.hist(metal_coordination[metal], bins=collect(0:11), align=\"left\", fc=\"#911eb4\", ec=\"k\")\n",
    "        ax.set_xlabel(\"Coordination number\")\n",
    "        ax.set_ylabel(\"Count\")\n",
    "        ax.set_title(String(metal))\n",
    "        plt.tight_layout()\n",
    "        plt.show()\n",
    "    end\n",
    "end"
   ]
  },
  {
   "cell_type": "code",
   "execution_count": null,
   "metadata": {},
   "outputs": [],
   "source": [
    "@info \"making edge list zero-based indexed for Python\"\n",
    "\n",
    "nb_graphs = [0 for i = 1:length(xtalnames)]\n",
    "\n",
    "@showprogress for (i_xtal, xtalname) in enumerate(xtalnames)\n",
    "    crystal = Crystal(xtalname * \".cif\", include_zero_charges=true)\n",
    "    @assert ! all(crystal.charges.q .== 0)\n",
    "    crystal = replicate(crystal, (2,2,2))\n",
    "    try\n",
    "        bonds!(crystal, true)\n",
    "    catch e\n",
    "        if isa(e, PyCall.PyError)\n",
    "            remove_bonds!(crystal) # some of the bonds were probz formed\n",
    "            println(\"Voronoi problems with \" * crystal.name)\n",
    "            infer_bonds!(crystal, true) # infer bonds with old distance-based version\n",
    "        else\n",
    "            error(\"bond! error for \" * crystal.name)\n",
    "        end\n",
    "    end\n",
    "    @assert nv(crystal.bonds) == crystal.atoms.n\n",
    "    \n",
    "    if ! PorousMaterials.bond_sanity_check(crystal)\n",
    "        keep_xtal[i_xtal] = false\n",
    "        @warn \"throwing out \" crystal.name\n",
    "        continue\n",
    "    end\n",
    "            \n",
    "    nb_graphs[i_xtal] = length(connected_components(crystal.bonds))\n",
    "end"
   ]
  },
  {
   "cell_type": "code",
   "execution_count": null,
   "metadata": {},
   "outputs": [],
   "source": [
    "sorted_list_of_components = sortperm(nb_graphs, rev=true)\n",
    "for idx in sorted_list_of_components\n",
    "    @printf(\"%s\\t%d\\n\", xtalnames[idx], nb_graphs[idx])\n",
    "end\n",
    "#xtalnames[sorted_list_of_components]"
   ]
  },
  {
   "cell_type": "code",
   "execution_count": null,
   "metadata": {},
   "outputs": [],
   "source": [
    "println(\"threw out \", sum(.! keep_xtal), )"
   ]
  },
  {
   "cell_type": "code",
   "execution_count": null,
   "metadata": {},
   "outputs": [],
   "source": [
    "f = open(\"list_of_crystals.txt\", \"w\")\n",
    "writedlm(f, xtalnames[keep_xtal])\n",
    "close(f)"
   ]
  },
  {
   "cell_type": "markdown",
   "metadata": {},
   "source": [
    "# viz an example structure"
   ]
  },
  {
   "cell_type": "code",
   "execution_count": null,
   "metadata": {},
   "outputs": [],
   "source": [
    "xtal = \"ALUKIC_clean.cif\"\n",
    "xtal = Crystal(xtal)\n",
    "write_vtk(xtal, center_at_origin=true)\n",
    "\n",
    "xtal = replicate(xtal, (1, 1, 1))\n",
    "\n",
    "try\n",
    "    bonds!(xtal, true)\n",
    "catch e\n",
    "    if isa(e, PyCall.PyError)\n",
    "        remove_bonds!(xtal) # some of the bonds were probz formed\n",
    "        println(\"Voronoi problems with \" * xtal.name)\n",
    "        infer_bonds!(xtal, true) # infer bonds with old distance-based version\n",
    "    else\n",
    "        error(\"bond! error for \" * xtal.name)\n",
    "    end\n",
    "end\n",
    "\n",
    "if ! is_connected(xtal.bonds)\n",
    "    println(\"not connected\")\n",
    "end\n",
    "\n",
    "write_xyz(vv_xtal, center_at_origin=true)\n",
    "write_bond_information(vv_xtal, center_at_origin=true)"
   ]
  },
  {
   "cell_type": "code",
   "execution_count": null,
   "metadata": {},
   "outputs": [],
   "source": [
    "duplicate_structures = CSV.read(\"duplicates.csv\")\n",
    "unique_structures = duplicate_structures[:,1]"
   ]
  },
  {
   "cell_type": "code",
   "execution_count": null,
   "metadata": {},
   "outputs": [],
   "source": [
    "set_of_unique_xtals = Set(unique_structures)"
   ]
  },
  {
   "cell_type": "code",
   "execution_count": null,
   "metadata": {},
   "outputs": [],
   "source": [
    "set_of_ddec_xtals = Set(xtalnames)"
   ]
  },
  {
   "cell_type": "code",
   "execution_count": null,
   "metadata": {},
   "outputs": [],
   "source": [
    "@show length(set_of_ddec_xtals)\n",
    "non_duplicate_xtalnames = intersect(set_of_unique_xtals, set_of_ddec_xtals)\n",
    "@show length(non_duplicate_xtalnames)"
   ]
  },
  {
   "cell_type": "code",
   "execution_count": null,
   "metadata": {},
   "outputs": [],
   "source": [
    "for (i, unique_xtal) in enumerate(unique_structures)\n",
    "    if ! in(unique_xtal, set_of_ddec_xtals)\n",
    "        other_xtals = duplicate_structures[i, 2:end]\n",
    "        if length(intersect(set_of_ddec_xtals, Set(other_xtals))) > 0\n",
    "            @warn @sprintf(\"%s is not in the DDEC set but...\\n\", unique_xtal)\n",
    "            for (j, duplicate_xtal) in enumerate(other_xtals)\n",
    "                if ismissing(duplicate_xtal)\n",
    "                    break\n",
    "                end\n",
    "                if duplicate_xtal in xtalnames\n",
    "                    if j == 1\n",
    "                        push!(set_of_unique_xtals, duplicate_xtal)\n",
    "                    end\n",
    "                    @printf(\"\\t%s is in the set\\n\", duplicate_xtal)\n",
    "                end\n",
    "            end\n",
    "        end\n",
    "    end\n",
    "end"
   ]
  },
  {
   "cell_type": "code",
   "execution_count": null,
   "metadata": {},
   "outputs": [],
   "source": [
    "non_duplicate_xtalnames = intersect(set_of_unique_xtals, set_of_ddec_xtals)\n",
    "@show length(non_duplicate_xtalnames)"
   ]
  },
  {
   "cell_type": "code",
   "execution_count": null,
   "metadata": {},
   "outputs": [],
   "source": [
    "non_duplicate_xtalnames"
   ]
  },
  {
   "cell_type": "code",
   "execution_count": null,
   "metadata": {},
   "outputs": [],
   "source": [
    "isdir(\"non_duplicate_graphs3\") ? nothing : mkdir(\"non_duplicate_graphs3\")"
   ]
  },
  {
   "cell_type": "code",
   "execution_count": null,
   "metadata": {},
   "outputs": [],
   "source": [
    "@info \"making edge list zero-based indexed for Python\"\n",
    "\n",
    "keep_xtal = [true for i = 1:length(non_duplicate_xtalnames)]\n",
    "old_system = [true for i = 1:length(non_duplicate_xtalnames)]\n",
    "non_duplicate_xtalnames = collect(non_duplicate_xtalnames)\n",
    "\n",
    "@showprogress for (i_xtal, xtalname) in enumerate(non_duplicate_xtalnames)\n",
    "    crystal = Crystal(xtalname * \".cif\", include_zero_charges=true)\n",
    "    @assert ! all(crystal.charges.q .== 0)\n",
    "    try\n",
    "        bonds!(crystal, true)\n",
    "    catch e\n",
    "        if isa(e, PyCall.PyError)\n",
    "            remove_bonds!(crystal) # some of the bonds were probz formed\n",
    "            println(\"Voronoi problems with \" * crystal.name)\n",
    "            infer_bonds!(crystal, true) # infer bonds with old distance-based version\n",
    "            old_system[i_xtal] = false\n",
    "        else\n",
    "            error(\"bond! error for \" * crystal.name)\n",
    "        end\n",
    "    end\n",
    "    @assert nv(crystal.bonds) == crystal.atoms.n\n",
    "    \n",
    "    if ! PorousMaterials.bond_sanity_check(crystal)\n",
    "        keep_xtal[i_xtal] = false\n",
    "        @warn \"throwing out \" crystal.name\n",
    "        continue\n",
    "    end\n",
    "    \n",
    "    ###\n",
    "    #    node features\n",
    "    #    one-hot encoding. each row is an atom.\n",
    "    ###\n",
    "    x_ν = zeros(Int, crystal.atoms.n, length(ATOMS))\n",
    "    for (i, atom) in enumerate(crystal.atoms.species)\n",
    "        x_ν[i, ATOM_TO_INT[atom]] = 1\n",
    "    end\n",
    "    @assert sum(x_ν) == crystal.atoms.n\n",
    "    npzwrite(joinpath(\"non_duplicate_graphs3\", xtalname * \"_node_features.npy\"), x_ν)\n",
    "\n",
    "    ###\n",
    "    #    node labels (the charges)\n",
    "    ###\n",
    "    y_ν = deepcopy(crystal.charges.q)\n",
    "    npzwrite(joinpath(\"non_duplicate_graphs3\", xtalname * \"_node_labels.npy\"), y_ν)\n",
    "    @assert length(y_ν) == size(x_ν)[1]\n",
    "\n",
    "    ###\n",
    "    #   edges\n",
    "    #   (a list and their feature = distance btwn atoms)\n",
    "    ###\n",
    "    edge_file = open(joinpath(\"non_duplicate_graphs3\", xtalname * \".edge_info\"), \"w\")\n",
    "    @printf(edge_file, \"src,dst,r\\n\")\n",
    "    for ed in edges(crystal.bonds)\n",
    "        i = src(ed) # source\n",
    "        j = dst(ed) # destination\n",
    "        r = distance(crystal.atoms, crystal.box, i, j, true)\n",
    "        @printf(edge_file, \"%d,%d,%f\\n\", i - 1, j - 1, r)\n",
    "    end\n",
    "    close(edge_file)\n",
    "end\n",
    "\n",
    "writedlm(open(\"non_duplicate_list_of_crystals3.txt\", \"w\"), non_duplicate_xtalnames[keep_xtal])"
   ]
  },
  {
   "cell_type": "code",
   "execution_count": null,
   "metadata": {},
   "outputs": [],
   "source": []
  },
  {
   "cell_type": "code",
   "execution_count": null,
   "metadata": {},
   "outputs": [],
   "source": [
    "sum(keep_xtal .== 0)"
   ]
  },
  {
   "cell_type": "code",
   "execution_count": null,
   "metadata": {},
   "outputs": [],
   "source": [
    "@info \"making edge list zero-based indexed for Python\"\n",
    "\n",
    "nb_graphs = [0 for i = 1:length(non_duplicate_xtalnames)]\n",
    "keep_xtal = [true for i = 1:length(non_duplicate_xtalnames)]\n",
    "\n",
    "@showprogress for (i_xtal, xtalname) in enumerate(non_duplicate_xtalnames)\n",
    "    crystal = Crystal(xtalname * \".cif\", include_zero_charges=true)\n",
    "    @assert ! all(crystal.charges.q .== 0)\n",
    "    crystal = replicate(crystal, (2,2,2))\n",
    "    try\n",
    "        bonds!(crystal, true)\n",
    "    catch e\n",
    "        if isa(e, PyCall.PyError)\n",
    "            remove_bonds!(crystal) # some of the bonds were probz formed\n",
    "            println(\"Voronoi problems with \" * crystal.name)\n",
    "            infer_bonds!(crystal, true) # infer bonds with old distance-based version\n",
    "        else\n",
    "            error(\"bond! error for \" * crystal.name)\n",
    "        end\n",
    "    end\n",
    "    @assert nv(crystal.bonds) == crystal.atoms.n\n",
    "    \n",
    "    if ! PorousMaterials.bond_sanity_check(crystal)\n",
    "        keep_xtal[i_xtal] = false\n",
    "        @warn \"throwing out \" crystal.name\n",
    "        continue\n",
    "    end\n",
    "            \n",
    "    nb_graphs[i_xtal] = length(connected_components(crystal.bonds))\n",
    "end"
   ]
  },
  {
   "cell_type": "code",
   "execution_count": null,
   "metadata": {},
   "outputs": [],
   "source": [
    "sorted_list_of_components = sortperm(nb_graphs, rev=true)\n",
    "for idx in sorted_list_of_components\n",
    "    @printf(\"%s\\t%d\\n\", non_duplicate_xtalnames[idx], nb_graphs[idx])\n",
    "end\n",
    "#xtalnames[sorted_list_of_components]\n",
    "duplicate_df2 = DataFrame(:xtal => non_duplicate_xtalnames[sorted_list_of_components], :nb_graph => nb_graphs[sorted_list_of_components])\n",
    "CSV.write(\"new_xtal_list.csv\", duplicate_df2)"
   ]
  },
  {
   "cell_type": "code",
   "execution_count": null,
   "metadata": {},
   "outputs": [],
   "source": [
    "sum(keep_xtal)"
   ]
  },
  {
   "cell_type": "markdown",
   "metadata": {},
   "source": [
    "# Deployment Set (CoRE-2019-ASR)"
   ]
  },
  {
   "cell_type": "code",
   "execution_count": null,
   "metadata": {},
   "outputs": [],
   "source": [
    "@eval PorousMaterials PATH_TO_CRYSTALS = joinpath(pwd(), \"structure_10143\")"
   ]
  },
  {
   "cell_type": "code",
   "execution_count": null,
   "metadata": {},
   "outputs": [],
   "source": [
    "xtalnames = map(x -> replace(x, \".cif\" => \"\"), readdir(\"structure_10143\"))"
   ]
  },
  {
   "cell_type": "code",
   "execution_count": null,
   "metadata": {},
   "outputs": [],
   "source": [
    "isdir(\"deployment_graphs\") ? nothing : mkdir(\"deployment_graphs\")"
   ]
  },
  {
   "cell_type": "markdown",
   "metadata": {},
   "source": [
    "### find unique atomic species"
   ]
  },
  {
   "cell_type": "code",
   "execution_count": null,
   "metadata": {},
   "outputs": [],
   "source": [
    "unique_atomic_species = Set{Symbol}()\n",
    "\n",
    "for xtalname in xtalnames\n",
    "    crystal = Crystal(xtalname * \".cif\", check_overlap=false)\n",
    "    strip_numbers_from_atom_labels!(crystal)\n",
    "    for a in unique(crystal.atoms.species)\n",
    "        push!(unique_atomic_species, a)\n",
    "    end\n",
    "end\n",
    "unique_atomic_species\n",
    "\n",
    "println(\"# unique atomic species: \", length(unique_atomic_species))"
   ]
  },
  {
   "cell_type": "markdown",
   "metadata": {},
   "source": [
    "### analyze occurance of atomic species in MOFs\n",
    "i.e., how many MOFs contain atom $i$? this is important to ensure we can adequately learn charges on rare MOF atoms."
   ]
  },
  {
   "cell_type": "code",
   "execution_count": null,
   "metadata": {},
   "outputs": [],
   "source": [
    "species_occurance = Dict{Symbol, Int}(a => 0 for a in unique_atomic_species)\n",
    "for xtalname in xtalnames\n",
    "    crystal = Crystal(xtalname * \".cif\", check_overlap=false)\n",
    "    strip_numbers_from_atom_labels!(crystal)\n",
    "    for a in unique(crystal.atoms.species)\n",
    "        species_occurance[a] += 1\n",
    "    end\n",
    "end\n",
    "species_occurance"
   ]
  },
  {
   "cell_type": "code",
   "execution_count": null,
   "metadata": {},
   "outputs": [],
   "source": [
    "@info \"making edge list zero-based indexed for Python\"\n",
    "\n",
    "keep_xtal = [true for i = 1:length(xtalnames)]\n",
    "\n",
    "@showprogress for (i_xtal, xtalname) in enumerate(xtalnames)\n",
    "    crystal = Crystal(xtalname * \".cif\", include_zero_charges=true, check_overlap=false)\n",
    "    strip_numbers_from_atom_labels!(crystal)\n",
    "    if ! all([atom_species in keys(ATOM_TO_INT) for atom_species in crystal.atoms.species])\n",
    "        keep_xtal[i_xtal] = false\n",
    "        continue\n",
    "    end\n",
    "    \n",
    "    \n",
    "    try\n",
    "        bonds!(crystal, true)\n",
    "    catch e\n",
    "        if isa(e, PyCall.PyError)\n",
    "            remove_bonds!(crystal) # some of the bonds were probz formed\n",
    "            println(\"Voronoi problems with \" * crystal.name)\n",
    "            infer_bonds!(crystal, true) # infer bonds with old distance-based version\n",
    "        else\n",
    "            error(\"bond! error for \" * crystal.name)\n",
    "        end\n",
    "    end\n",
    "    if nv(crystal.bonds) != crystal.atoms.n\n",
    "        keep_xtal[i_xtal] = false\n",
    "        @warn \"throwing out \" crystal.name\n",
    "        continue\n",
    "    end\n",
    "    \n",
    "    if ! PorousMaterials.bond_sanity_check(crystal)\n",
    "        keep_xtal[i_xtal] = false\n",
    "        @warn \"throwing out \" crystal.name\n",
    "        continue\n",
    "    end\n",
    "    \n",
    "    ###\n",
    "    #    node features\n",
    "    #    one-hot encoding. each row is an atom.\n",
    "    ###\n",
    "    x_ν = zeros(Int, crystal.atoms.n, length(ATOMS))\n",
    "    for (i, atom) in enumerate(crystal.atoms.species)\n",
    "        x_ν[i, ATOM_TO_INT[atom]] = 1\n",
    "    end\n",
    "    @assert sum(x_ν) == crystal.atoms.n\n",
    "    npzwrite(joinpath(\"deployment_graphs\", xtalname * \"_node_features.npy\"), x_ν)\n",
    "\n",
    "    ###\n",
    "    #   edges\n",
    "    #   (a list and their feature = distance btwn atoms)\n",
    "    ###\n",
    "    edge_file = open(joinpath(\"deployment_graphs\", xtalname * \".edge_info\"), \"w\")\n",
    "    @printf(edge_file, \"src,dst,r\\n\")\n",
    "    for ed in edges(crystal.bonds)\n",
    "        i = src(ed) # source\n",
    "        j = dst(ed) # destination\n",
    "        r = distance(crystal.atoms, crystal.box, i, j, true)\n",
    "        @printf(edge_file, \"%d,%d,%f\\n\", i - 1, j - 1, r)\n",
    "    end\n",
    "    close(edge_file)\n",
    "end\n",
    "\n",
    "writedlm(open(\"list_of_deployment_crystals.txt\", \"w\"), xtalnames[keep_xtal])"
   ]
  },
  {
   "cell_type": "code",
   "execution_count": null,
   "metadata": {},
   "outputs": [],
   "source": [
    "sum(keep_xtal)/length(keep_xtal)"
   ]
  },
  {
   "cell_type": "markdown",
   "metadata": {},
   "source": [
    "# Deployment Set (CoRE-2019-FSR)"
   ]
  },
  {
   "cell_type": "code",
   "execution_count": null,
   "metadata": {},
   "outputs": [],
   "source": [
    "@eval PorousMaterials PATH_TO_CRYSTALS = joinpath(pwd(), \"structure_6008\")"
   ]
  },
  {
   "cell_type": "code",
   "execution_count": null,
   "metadata": {},
   "outputs": [],
   "source": [
    "xtalnames = map(x -> replace(x, \".cif\" => \"\"), readdir(\"structure_6008\"))"
   ]
  },
  {
   "cell_type": "code",
   "execution_count": null,
   "metadata": {},
   "outputs": [],
   "source": [
    "isdir(\"deployment_graphs_FSR\") ? nothing : mkdir(\"deployment_graphs_FSR\")"
   ]
  },
  {
   "cell_type": "markdown",
   "metadata": {},
   "source": [
    "### find unique atomic species"
   ]
  },
  {
   "cell_type": "code",
   "execution_count": null,
   "metadata": {},
   "outputs": [],
   "source": [
    "unique_atomic_species = Set{Symbol}()\n",
    "\n",
    "for xtalname in xtalnames\n",
    "    crystal = Crystal(xtalname * \".cif\", check_overlap=false)\n",
    "    strip_numbers_from_atom_labels!(crystal)\n",
    "    for a in unique(crystal.atoms.species)\n",
    "        push!(unique_atomic_species, a)\n",
    "    end\n",
    "end\n",
    "unique_atomic_species\n",
    "\n",
    "println(\"# unique atomic species: \", length(unique_atomic_species))"
   ]
  },
  {
   "cell_type": "markdown",
   "metadata": {},
   "source": [
    "### analyze occurance of atomic species in MOFs\n",
    "i.e., how many MOFs contain atom $i$? this is important to ensure we can adequately learn charges on rare MOF atoms."
   ]
  },
  {
   "cell_type": "code",
   "execution_count": null,
   "metadata": {},
   "outputs": [],
   "source": [
    "species_occurance = Dict{Symbol, Int}(a => 0 for a in unique_atomic_species)\n",
    "for xtalname in xtalnames\n",
    "    crystal = Crystal(xtalname * \".cif\", check_overlap=false)\n",
    "    strip_numbers_from_atom_labels!(crystal)\n",
    "    for a in unique(crystal.atoms.species)\n",
    "        species_occurance[a] += 1\n",
    "    end\n",
    "end\n",
    "species_occurance"
   ]
  },
  {
   "cell_type": "code",
   "execution_count": null,
   "metadata": {},
   "outputs": [],
   "source": [
    "@info \"making edge list zero-based indexed for Python\"\n",
    "\n",
    "keep_xtal = [true for i = 1:length(xtalnames)]\n",
    "unknown_atoms = [true for i = 1:length(xtalnames)]\n",
    "failed_bonds = [true for i = 1:length(xtalnames)]\n",
    "\n",
    "@showprogress for (i_xtal, xtalname) in enumerate(xtalnames)\n",
    "    crystal = Crystal(xtalname * \".cif\", include_zero_charges=true, check_overlap=false)\n",
    "    strip_numbers_from_atom_labels!(crystal)\n",
    "    if ! all([atom_species in keys(ATOM_TO_INT) for atom_species in crystal.atoms.species])\n",
    "        keep_xtal[i_xtal] = false\n",
    "        unknown_atoms[i_xtal] = false\n",
    "        continue\n",
    "    end\n",
    "    unique_atoms = unique(crystal.atoms.species)\n",
    "    if any([unique_atom in [:Hf, :Se, :Ir, :Pu, :Cs] for unique_atom in unique_atoms])\n",
    "        keep_xtal[i_xtal] = false\n",
    "        unknown_atoms[i_xtal] = false\n",
    "        continue\n",
    "    end\n",
    "    try\n",
    "        bonds!(crystal, true)\n",
    "    catch e\n",
    "        if isa(e, PyCall.PyError)\n",
    "            remove_bonds!(crystal) # some of the bonds were probz formed\n",
    "            println(\"Voronoi problems with \" * crystal.name)\n",
    "            infer_bonds!(crystal, true) # infer bonds with old distance-based version\n",
    "        else\n",
    "            failed_bonds[i_xtal] = false\n",
    "            keep_xtal[i_xtal] = false\n",
    "            error(\"bond! error for \" * crystal.name)\n",
    "        end\n",
    "    end\n",
    "    if nv(crystal.bonds) != crystal.atoms.n\n",
    "        keep_xtal[i_xtal] = false\n",
    "        failed_bonds[i_xtal] = false\n",
    "        @warn \"throwing out \" crystal.name\n",
    "        continue\n",
    "    end\n",
    "    \n",
    "    if ! PorousMaterials.bond_sanity_check(crystal)\n",
    "        keep_xtal[i_xtal] = false\n",
    "        failed_bonds[i_xtal] = false\n",
    "        @warn \"throwing out \" crystal.name\n",
    "        continue\n",
    "    end\n",
    "    \n",
    "    ###\n",
    "    #    node features\n",
    "    #    one-hot encoding. each row is an atom.\n",
    "    ###\n",
    "    x_ν = zeros(Int, crystal.atoms.n, length(ATOMS))\n",
    "    for (i, atom) in enumerate(crystal.atoms.species)\n",
    "        x_ν[i, ATOM_TO_INT[atom]] = 1\n",
    "    end\n",
    "    @assert sum(x_ν) == crystal.atoms.n\n",
    "    npzwrite(joinpath(\"deployment_graphs_FSR\", xtalname * \"_node_features.npy\"), x_ν)\n",
    "\n",
    "    ###\n",
    "    #   edges\n",
    "    #   (a list and their feature = distance btwn atoms)\n",
    "    ###\n",
    "    edge_file = open(joinpath(\"deployment_graphs_FSR\", xtalname * \".edge_info\"), \"w\")\n",
    "    @printf(edge_file, \"src,dst,r\\n\")\n",
    "    for ed in edges(crystal.bonds)\n",
    "        i = src(ed) # source\n",
    "        j = dst(ed) # destination\n",
    "        r = distance(crystal.atoms, crystal.box, i, j, true)\n",
    "        @printf(edge_file, \"%d,%d,%f\\n\", i - 1, j - 1, r)\n",
    "    end\n",
    "    close(edge_file)\n",
    "end\n",
    "\n",
    "writedlm(open(\"list_of_FSR_deployment_crystals.txt\", \"w\"), xtalnames[keep_xtal])"
   ]
  },
  {
   "cell_type": "code",
   "execution_count": null,
   "metadata": {},
   "outputs": [],
   "source": [
    "sum(keep_xtal)/length(keep_xtal)"
   ]
  },
  {
   "cell_type": "code",
   "execution_count": null,
   "metadata": {},
   "outputs": [],
   "source": [
    "@show sum(unknown_atoms)/length(unknown_atoms)\n",
    "@show sum(failed_bonds)/length(failed_bonds)"
   ]
  },
  {
   "cell_type": "code",
   "execution_count": null,
   "metadata": {},
   "outputs": [],
   "source": []
  }
 ],
 "metadata": {
  "@webio": {
   "lastCommId": "9139a748b9784bc2ae13da7bf4f176a8",
   "lastKernelId": "006811bc-6b96-4273-ab0a-277da36697ea"
  },
  "kernelspec": {
   "display_name": "Julia 1.4.0",
   "language": "julia",
   "name": "julia-1.4"
  },
  "language_info": {
   "file_extension": ".jl",
   "mimetype": "application/julia",
   "name": "julia",
   "version": "1.4.0"
  }
 },
 "nbformat": 4,
 "nbformat_minor": 4
}
