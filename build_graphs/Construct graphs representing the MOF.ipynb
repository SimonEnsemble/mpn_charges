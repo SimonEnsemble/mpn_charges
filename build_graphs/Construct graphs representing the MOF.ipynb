{
 "cells": [
  {
   "cell_type": "markdown",
   "metadata": {},
   "source": [
    "# Converting each MOF to a graph\n",
    "* reads in each MOF from DDEC charge-assigned dataset\n",
    "* infers bonds using distance-based criterion\n",
    "* writes to file: \n",
    "    * node features: `graphs/xtalname_node_features.npy`\n",
    "    * edge list and features: `graphs/xtalname.edge_info`. the edges are 0-based indexed.\n",
    "    * node labels (charges) `graphs/xtalname_node_labels.npy`"
   ]
  },
  {
   "cell_type": "code",
   "execution_count": 156,
   "metadata": {},
   "outputs": [
    {
     "data": {
      "text/plain": [
       "Base.CoreLogging.SimpleLogger(IJulia.IJuliaStdio{Base.PipeEndpoint}(IOContext(Base.PipeEndpoint(RawFD(0x00000029) open, 0 bytes waiting))), Info, Dict{Any,Int64}())"
      ]
     },
     "execution_count": 156,
     "metadata": {},
     "output_type": "execute_result"
    }
   ],
   "source": [
    "using PorousMaterials # use master branch. ]add PorousMaterials#master\n",
    "using DataFrames\n",
    "using PyPlot\n",
    "using NPZ\n",
    "using LightGraphs\n",
    "using LinearAlgebra\n",
    "using Logging\n",
    "using Printf\n",
    "\n",
    "global_logger(Logging.SimpleLogger(stdout, Logging.Info)) # to print @debug put Logging.Debug"
   ]
  },
  {
   "cell_type": "markdown",
   "metadata": {},
   "source": [
    "### get list of MOFs\n",
    "MOF `.cif` files with DDEC-assigned charges are found in `xtals/`. These were downloaded from [here](https://github.com/gregchung/gregchung.github.io/blob/master/CoRE-MOFs/core-mof-1.0-ddec.tar). The paper corresponding to these structures is [here](https://pubs.acs.org/doi/abs/10.1021/acs.chemmater.5b03836)."
   ]
  },
  {
   "cell_type": "code",
   "execution_count": 89,
   "metadata": {},
   "outputs": [
    {
     "data": {
      "text/plain": [
       "\"/home/cokes/mpn_charges/build_graphs/xtals\""
      ]
     },
     "execution_count": 89,
     "metadata": {},
     "output_type": "execute_result"
    }
   ],
   "source": [
    "@eval PorousMaterials PATH_TO_CRYSTALS = joinpath(pwd(), \"xtals\")"
   ]
  },
  {
   "cell_type": "code",
   "execution_count": 90,
   "metadata": {},
   "outputs": [
    {
     "data": {
      "text/plain": [
       "2932-element Array{String,1}:\n",
       " \"ABAVIJ_clean\"  \n",
       " \"ABAVOP_clean\"  \n",
       " \"ABEXIQ_clean\"  \n",
       " \"ABEXOW_clean\"  \n",
       " \"ABEXUC_clean\"  \n",
       " \"ABEYAJ_clean\"  \n",
       " \"ABEYIR\"        \n",
       " \"ABIYIV\"        \n",
       " \"ABUWOJ_clean\"  \n",
       " \"ACAKUM\"        \n",
       " \"ACALIB_clean\"  \n",
       " \"ACODED\"        \n",
       " \"ACOLIP_clean\"  \n",
       " ⋮               \n",
       " \"ZILBAZ_clean\"  \n",
       " \"ZILBED_clean\"  \n",
       " \"ZIMJOW_clean\"  \n",
       " \"ZISYAD_clean\"  \n",
       " \"ZNGLUD01_clean\"\n",
       " \"ZNGLUD_clean\"  \n",
       " \"ZURQOS_clean\"  \n",
       " \"Zn-DOBDC\"      \n",
       " \"ZnBDC\"         \n",
       " \"ZnBDCdabco\"    \n",
       " \"ZnHBDC\"        \n",
       " \"ZnMOF-74\"      "
      ]
     },
     "execution_count": 90,
     "metadata": {},
     "output_type": "execute_result"
    }
   ],
   "source": [
    "xtalnames = map(x -> replace(x, \".cif\" => \"\"), readdir(\"xtals\"))"
   ]
  },
  {
   "cell_type": "markdown",
   "metadata": {},
   "source": [
    "### find unique atomic species"
   ]
  },
  {
   "cell_type": "code",
   "execution_count": 91,
   "metadata": {},
   "outputs": [
    {
     "name": "stdout",
     "output_type": "stream",
     "text": [
      "# unique atomic species: 74\n"
     ]
    }
   ],
   "source": [
    "unique_atomic_species = Set{Symbol}()\n",
    "\n",
    "for xtalname in xtalnames\n",
    "    framework = Framework(xtalname * \".cif\")\n",
    "    for a in unique(framework.atoms.species)\n",
    "        push!(unique_atomic_species, a)\n",
    "    end\n",
    "end\n",
    "unique_atomic_species\n",
    "\n",
    "println(\"# unique atomic species: \", length(unique_atomic_species))"
   ]
  },
  {
   "cell_type": "markdown",
   "metadata": {},
   "source": [
    "### analyze occurance of atomic species in MOFs\n",
    "i.e., how many MOFs contain atom $i$? this is important to ensure we can adequately learn charges on rare MOF atoms."
   ]
  },
  {
   "cell_type": "code",
   "execution_count": 52,
   "metadata": {},
   "outputs": [
    {
     "data": {
      "text/plain": [
       "Dict{Symbol,Int64} with 74 entries:\n",
       "  :Cl => 116\n",
       "  :Al => 33\n",
       "  :Re => 8\n",
       "  :Be => 2\n",
       "  :Cr => 20\n",
       "  :Na => 39\n",
       "  :Sb => 2\n",
       "  :Ni => 121\n",
       "  :S  => 221\n",
       "  :Ru => 10\n",
       "  :Tm => 19\n",
       "  :W  => 16\n",
       "  :Nd => 91\n",
       "  :O  => 2591\n",
       "  :Th => 4\n",
       "  :F  => 83\n",
       "  :Co => 285\n",
       "  :Gd => 75\n",
       "  :Rh => 2\n",
       "  :Pu => 1\n",
       "  :Ca => 44\n",
       "  :N  => 1765\n",
       "  :Yb => 27\n",
       "  :As => 2\n",
       "  :Se => 2\n",
       "  ⋮   => ⋮"
      ]
     },
     "execution_count": 52,
     "metadata": {},
     "output_type": "execute_result"
    }
   ],
   "source": [
    "species_occurance = Dict{Symbol, Int}(a => 0 for a in unique_atomic_species)\n",
    "for xtalname in xtalnames\n",
    "    framework = Framework(xtalname * \".cif\")\n",
    "    for a in unique(framework.atoms.species)\n",
    "        species_occurance[a] += 1\n",
    "    end\n",
    "end\n",
    "species_occurance"
   ]
  },
  {
   "cell_type": "markdown",
   "metadata": {},
   "source": [
    "put in a `DataFrame` for sorting and plotting"
   ]
  },
  {
   "cell_type": "code",
   "execution_count": 83,
   "metadata": {},
   "outputs": [
    {
     "data": {
      "text/html": [
       "<table class=\"data-frame\"><thead><tr><th></th><th>atom</th><th>nb_mofs</th></tr><tr><th></th><th>Symbol</th><th>Int64</th></tr></thead><tbody><p>6 rows × 2 columns</p><tr><th>1</th><td>Pu</td><td>1</td></tr><tr><th>2</th><td>Ir</td><td>1</td></tr><tr><th>3</th><td>Be</td><td>2</td></tr><tr><th>4</th><td>Sb</td><td>2</td></tr><tr><th>5</th><td>Rh</td><td>2</td></tr><tr><th>6</th><td>As</td><td>2</td></tr></tbody></table>"
      ],
      "text/latex": [
       "\\begin{tabular}{r|cc}\n",
       "\t& atom & nb\\_mofs\\\\\n",
       "\t\\hline\n",
       "\t& Symbol & Int64\\\\\n",
       "\t\\hline\n",
       "\t1 & Pu & 1 \\\\\n",
       "\t2 & Ir & 1 \\\\\n",
       "\t3 & Be & 2 \\\\\n",
       "\t4 & Sb & 2 \\\\\n",
       "\t5 & Rh & 2 \\\\\n",
       "\t6 & As & 2 \\\\\n",
       "\\end{tabular}\n"
      ],
      "text/plain": [
       "6×2 DataFrame\n",
       "│ Row │ atom   │ nb_mofs │\n",
       "│     │ \u001b[90mSymbol\u001b[39m │ \u001b[90mInt64\u001b[39m   │\n",
       "├─────┼────────┼─────────┤\n",
       "│ 1   │ Pu     │ 1       │\n",
       "│ 2   │ Ir     │ 1       │\n",
       "│ 3   │ Be     │ 2       │\n",
       "│ 4   │ Sb     │ 2       │\n",
       "│ 5   │ Rh     │ 2       │\n",
       "│ 6   │ As     │ 2       │"
      ]
     },
     "execution_count": 83,
     "metadata": {},
     "output_type": "execute_result"
    }
   ],
   "source": [
    "df_species_occurance = DataFrame(atom=collect(keys(species_occurance)), \n",
    "                                 nb_mofs=collect(values(species_occurance))\n",
    "                                 )\n",
    "sort!(df_species_occurance, :nb_mofs)\n",
    "first(df_species_occurance, 6)"
   ]
  },
  {
   "cell_type": "code",
   "execution_count": 84,
   "metadata": {
    "scrolled": false
   },
   "outputs": [
    {
     "data": {
      "image/png": "[encoded data removed]",
      "text/plain": [
       "Figure(PyObject <Figure size 400x1400 with 1 Axes>)"
      ]
     },
     "metadata": {},
     "output_type": "display_data"
    },
    {
     "data": {
      "text/plain": [
       "PyObject Text(0.5, 1, 'atom occurances in MOFs')"
      ]
     },
     "execution_count": 84,
     "metadata": {},
     "output_type": "execute_result"
    }
   ],
   "source": [
    "figure(figsize=(4, 14))\n",
    "barh(1:nrow(df_species_occurance), df_species_occurance[:, :nb_mofs])\n",
    "yticks(1:nrow(df_species_occurance), df_species_occurance[:, :atom])\n",
    "xlabel(\"# MOFs with this atom\")\n",
    "ylabel(\"atom\")\n",
    "xscale(\"log\")\n",
    "title(\"atom occurances in MOFs\")"
   ]
  },
  {
   "cell_type": "markdown",
   "metadata": {},
   "source": [
    "### atom <--> integer mapping for one-hot encoding\n",
    "\n",
    "sort my occurance"
   ]
  },
  {
   "cell_type": "code",
   "execution_count": 85,
   "metadata": {},
   "outputs": [
    {
     "data": {
      "text/plain": [
       "74-element Array{Symbol,1}:\n",
       " :C \n",
       " :H \n",
       " :O \n",
       " :N \n",
       " :Zn\n",
       " :Cu\n",
       " :Cd\n",
       " :Co\n",
       " :S \n",
       " :Mn\n",
       " :P \n",
       " :Ni\n",
       " :Cl\n",
       " ⋮  \n",
       " :Sn\n",
       " :Np\n",
       " :Be\n",
       " :Sb\n",
       " :Rh\n",
       " :As\n",
       " :Se\n",
       " :Hf\n",
       " :Ge\n",
       " :Pd\n",
       " :Pu\n",
       " :Ir"
      ]
     },
     "execution_count": 85,
     "metadata": {},
     "output_type": "execute_result"
    }
   ],
   "source": [
    "sort!(df_species_occurance, :nb_mofs, rev=true)\n",
    "const ATOMS = deepcopy(df_species_occurance[:, :atom])\n",
    "ATOMS"
   ]
  },
  {
   "cell_type": "code",
   "execution_count": 92,
   "metadata": {},
   "outputs": [
    {
     "data": {
      "text/plain": [
       "Dict{Symbol,Int64} with 74 entries:\n",
       "  :Cl => 13\n",
       "  :Al => 30\n",
       "  :Re => 51\n",
       "  :Be => 65\n",
       "  :Cr => 41\n",
       "  :Na => 27\n",
       "  :Sb => 66\n",
       "  :Ni => 12\n",
       "  :S  => 9\n",
       "  :Ru => 48\n",
       "  :Tm => 43\n",
       "  :W  => 45\n",
       "  :Nd => 14\n",
       "  :O  => 3\n",
       "  :Th => 57\n",
       "  :F  => 17\n",
       "  :Co => 8\n",
       "  :Gd => 19\n",
       "  :Rh => 67\n",
       "  :Pu => 73\n",
       "  :Ca => 26\n",
       "  :N  => 4\n",
       "  :Yb => 36\n",
       "  :As => 68\n",
       "  :Se => 69\n",
       "  ⋮   => ⋮"
      ]
     },
     "execution_count": 92,
     "metadata": {},
     "output_type": "execute_result"
    }
   ],
   "source": [
    "const ATOM_TO_INT = Dict{Symbol, Int}(a => i for (i, a) in enumerate(ATOMS))\n",
    "ATOM_TO_INT"
   ]
  },
  {
   "cell_type": "markdown",
   "metadata": {},
   "source": [
    "### write graph structure, edge features, node features, and node labels to file for each MOF"
   ]
  },
  {
   "cell_type": "code",
   "execution_count": 124,
   "metadata": {},
   "outputs": [],
   "source": [
    "isdir(\"graphs\") ? nothing : mkdir(\"graphs\")"
   ]
  },
  {
   "cell_type": "code",
   "execution_count": null,
   "metadata": {
    "scrolled": true
   },
   "outputs": [],
   "source": [
    "@info \"making edge list zero-based indexed for Python\"\n",
    "\n",
    "for xtalname in xtalnames\n",
    "    framework = Framework(xtalname * \".cif\")\n",
    "    @assert ! all(framework.charges.q .== 0)\n",
    "    infer_bonds!(framework, true)\n",
    "    framework.bonds\n",
    "    @assert nv(framework.bonds) == framework.atoms.n_atoms\n",
    "\n",
    "    ###\n",
    "    #    node features\n",
    "    #    one-hot encoding. each row is an atom.\n",
    "    ###\n",
    "    x_ν = zeros(Int, framework.atoms.n_atoms, length(ATOMS))\n",
    "    for (i, atom) in enumerate(framework.atoms.species)\n",
    "        x_ν[i, ATOM_TO_INT[atom]] = 1\n",
    "    end\n",
    "    @assert sum(x_ν) == framework.atoms.n_atoms\n",
    "    npzwrite(joinpath(\"graphs\", xtalname * \"_node_features.npy\"), x_ν)\n",
    "\n",
    "    ###\n",
    "    #    node labels (the charges)\n",
    "    ###\n",
    "    y_ν = deepcopy(framework.charges.q)\n",
    "    npzwrite(joinpath(\"graphs\", xtalname * \"_node_labels.npy\"), x_ν)\n",
    "\n",
    "    ###\n",
    "    #   edges\n",
    "    #   (a list and their feature = distance btwn atoms)\n",
    "    ###\n",
    "    edge_file = open(joinpath(\"graphs\", xtalname * \".edge_info\"), \"w\")\n",
    "    @printf(edge_file, \"src,dst,r\\n\")\n",
    "    for ed in edges(framework.bonds)\n",
    "        i = src(ed) # source\n",
    "        j = dst(ed) # destination\n",
    "        dxf = framework.atoms.xf[:, i] - framework.atoms.xf[:, j]\n",
    "        nearest_image!(dxf)\n",
    "        r = norm(framework.box.f_to_c * dxf)\n",
    "        @debug \"$i $j $cartesian_dist_between_atoms\"\n",
    "        @printf(edge_file, \"%d,%d,%f\\n\", i - 1, j - 1, r)\n",
    "    end\n",
    "    close(edge_file)\n",
    "end"
   ]
  },
  {
   "cell_type": "code",
   "execution_count": null,
   "metadata": {},
   "outputs": [],
   "source": []
  }
 ],
 "metadata": {
  "kernelspec": {
   "display_name": "Julia 1.3.0",
   "language": "julia",
   "name": "julia-1.3"
  },
  "language_info": {
   "file_extension": ".jl",
   "mimetype": "application/julia",
   "name": "julia",
   "version": "1.3.0"
  }
 },
 "nbformat": 4,
 "nbformat_minor": 2
}
