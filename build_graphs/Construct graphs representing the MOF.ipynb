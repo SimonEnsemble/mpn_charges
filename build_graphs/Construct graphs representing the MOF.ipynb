{
 "cells": [
  {
   "cell_type": "markdown",
   "metadata": {},
   "source": [
    "# Converting each MOF to a graph\n",
    "* reads in each MOF from DDEC charge-assigned dataset\n",
    "* infers bonds using distance-based criterion\n",
    "* writes to file: \n",
    "    * list of crystal names: `list_of_crystals.txt`\n",
    "    * node features: `graphs/xtalname_node_features.npy`\n",
    "    * edge list and features: `graphs/xtalname.edge_info`. the edges are 0-based indexed.\n",
    "    * node labels (charges) `graphs/xtalname_node_labels.npy`"
   ]
  },
  {
   "cell_type": "code",
   "execution_count": 18,
   "metadata": {},
   "outputs": [
    {
     "data": {
      "text/plain": [
       "Base.CoreLogging.SimpleLogger(IJulia.IJuliaStdio{Base.PipeEndpoint}(IOContext(Base.PipeEndpoint(Base.Libc.WindowsRawSocket(0x0000000000000394) open, 0 bytes waiting))), Debug, Dict{Any,Int64}())"
      ]
     },
     "execution_count": 18,
     "metadata": {},
     "output_type": "execute_result"
    }
   ],
   "source": [
    "using PorousMaterials # use major_refactor branch.\n",
    "using DataFrames\n",
    "using PyPlot\n",
    "using NPZ\n",
    "using CSV\n",
    "using LightGraphs\n",
    "using LinearAlgebra\n",
    "using Logging\n",
    "using Printf\n",
    "using DelimitedFiles\n",
    "using ProgressMeter\n",
    "using PyCall\n",
    "push!(LOAD_PATH, pwd()) # to see Bonds.jl\n",
    "using Bonds\n",
    "\n",
    "# global_logger(Logging.SimpleLogger(stdout, Logging.Info)) # to print @debug put Logging.Debug\n",
    "global_logger(Logging.SimpleLogger(stdout, Logging.Debug)) # to print @debug put Logging.Debug"
   ]
  },
  {
   "cell_type": "markdown",
   "metadata": {},
   "source": [
    "### get list of MOFs\n",
    "MOF `.cif` files with DDEC-assigned charges are found in `xtals/`. These were downloaded from [here](https://github.com/gregchung/gregchung.github.io/blob/master/CoRE-MOFs/core-mof-1.0-ddec.tar). The paper corresponding to these structures is [here](https://pubs.acs.org/doi/abs/10.1021/acs.chemmater.5b03836)."
   ]
  },
  {
   "cell_type": "code",
   "execution_count": 2,
   "metadata": {},
   "outputs": [
    {
     "data": {
      "text/plain": [
       "\"C:\\\\Users\\\\Arni\\\\Documents\\\\GitHub\\\\mpn_charges\\\\build_graphs\\\\xtals\""
      ]
     },
     "execution_count": 2,
     "metadata": {},
     "output_type": "execute_result"
    }
   ],
   "source": [
    "@eval PorousMaterials PATH_TO_CRYSTALS = joinpath(pwd(), \"xtals\")"
   ]
  },
  {
   "cell_type": "code",
   "execution_count": 3,
   "metadata": {},
   "outputs": [
    {
     "data": {
      "text/plain": [
       "2932-element Array{String,1}:\n",
       " \"ABAVIJ_clean\"  \n",
       " \"ABAVOP_clean\"  \n",
       " \"ABEXIQ_clean\"  \n",
       " \"ABEXOW_clean\"  \n",
       " \"ABEXUC_clean\"  \n",
       " \"ABEYAJ_clean\"  \n",
       " \"ABEYIR\"        \n",
       " \"ABIYIV\"        \n",
       " \"ABUWOJ_clean\"  \n",
       " \"ACAKUM\"        \n",
       " \"ACALIB_clean\"  \n",
       " \"ACODED\"        \n",
       " \"ACOLIP_clean\"  \n",
       " ⋮               \n",
       " \"ZILBAZ_clean\"  \n",
       " \"ZILBED_clean\"  \n",
       " \"ZIMJOW_clean\"  \n",
       " \"ZISYAD_clean\"  \n",
       " \"Zn-DOBDC\"      \n",
       " \"ZnBDC\"         \n",
       " \"ZnBDCdabco\"    \n",
       " \"ZNGLUD01_clean\"\n",
       " \"ZNGLUD_clean\"  \n",
       " \"ZnHBDC\"        \n",
       " \"ZnMOF-74\"      \n",
       " \"ZURQOS_clean\"  "
      ]
     },
     "execution_count": 3,
     "metadata": {},
     "output_type": "execute_result"
    }
   ],
   "source": [
    "xtalnames = map(x -> replace(x, \".cif\" => \"\"), readdir(\"xtals\"))"
   ]
  },
  {
   "cell_type": "markdown",
   "metadata": {},
   "source": [
    "### find unique atomic species"
   ]
  },
  {
   "cell_type": "code",
   "execution_count": 4,
   "metadata": {},
   "outputs": [
    {
     "name": "stdout",
     "output_type": "stream",
     "text": [
      "# unique atomic species: 74\n"
     ]
    }
   ],
   "source": [
    "unique_atomic_species = Set{Symbol}()\n",
    "\n",
    "for xtalname in xtalnames\n",
    "    crystal = Crystal(xtalname * \".cif\")\n",
    "    for a in unique(crystal.atoms.species)\n",
    "        push!(unique_atomic_species, a)\n",
    "    end\n",
    "end\n",
    "unique_atomic_species\n",
    "\n",
    "println(\"# unique atomic species: \", length(unique_atomic_species))"
   ]
  },
  {
   "cell_type": "markdown",
   "metadata": {},
   "source": [
    "### analyze occurance of atomic species in MOFs\n",
    "i.e., how many MOFs contain atom $i$? this is important to ensure we can adequately learn charges on rare MOF atoms."
   ]
  },
  {
   "cell_type": "code",
   "execution_count": 5,
   "metadata": {},
   "outputs": [
    {
     "data": {
      "text/plain": [
       "Dict{Symbol,Int64} with 74 entries:\n",
       "  :Cl => 116\n",
       "  :Al => 33\n",
       "  :Re => 8\n",
       "  :Be => 2\n",
       "  :Cr => 20\n",
       "  :Na => 39\n",
       "  :Sb => 2\n",
       "  :Ni => 121\n",
       "  :S  => 221\n",
       "  :Ru => 10\n",
       "  :Tm => 19\n",
       "  :W  => 16\n",
       "  :Nd => 91\n",
       "  :O  => 2591\n",
       "  :Th => 4\n",
       "  :F  => 83\n",
       "  :Co => 285\n",
       "  :Gd => 75\n",
       "  :Rh => 2\n",
       "  :Pu => 1\n",
       "  :Ca => 44\n",
       "  :N  => 1765\n",
       "  :Yb => 27\n",
       "  :As => 2\n",
       "  :Se => 2\n",
       "  ⋮   => ⋮"
      ]
     },
     "execution_count": 5,
     "metadata": {},
     "output_type": "execute_result"
    }
   ],
   "source": [
    "species_occurance = Dict{Symbol, Int}(a => 0 for a in unique_atomic_species)\n",
    "for xtalname in xtalnames\n",
    "    crystal = Crystal(xtalname * \".cif\")\n",
    "    for a in unique(crystal.atoms.species)\n",
    "        species_occurance[a] += 1\n",
    "    end\n",
    "end\n",
    "species_occurance"
   ]
  },
  {
   "cell_type": "markdown",
   "metadata": {},
   "source": [
    "put in a `DataFrame` for sorting and plotting"
   ]
  },
  {
   "cell_type": "code",
   "execution_count": 6,
   "metadata": {},
   "outputs": [
    {
     "data": {
      "text/html": [
       "<table class=\"data-frame\"><thead><tr><th></th><th>atom</th><th>nb_mofs</th></tr><tr><th></th><th>Symbol</th><th>Int64</th></tr></thead><tbody><p>6 rows × 2 columns</p><tr><th>1</th><td>Pu</td><td>1</td></tr><tr><th>2</th><td>Ir</td><td>1</td></tr><tr><th>3</th><td>Be</td><td>2</td></tr><tr><th>4</th><td>Sb</td><td>2</td></tr><tr><th>5</th><td>Rh</td><td>2</td></tr><tr><th>6</th><td>As</td><td>2</td></tr></tbody></table>"
      ],
      "text/latex": [
       "\\begin{tabular}{r|cc}\n",
       "\t& atom & nb\\_mofs\\\\\n",
       "\t\\hline\n",
       "\t& Symbol & Int64\\\\\n",
       "\t\\hline\n",
       "\t1 & Pu & 1 \\\\\n",
       "\t2 & Ir & 1 \\\\\n",
       "\t3 & Be & 2 \\\\\n",
       "\t4 & Sb & 2 \\\\\n",
       "\t5 & Rh & 2 \\\\\n",
       "\t6 & As & 2 \\\\\n",
       "\\end{tabular}\n"
      ],
      "text/plain": [
       "6×2 DataFrame\n",
       "│ Row │ atom   │ nb_mofs │\n",
       "│     │ \u001b[90mSymbol\u001b[39m │ \u001b[90mInt64\u001b[39m   │\n",
       "├─────┼────────┼─────────┤\n",
       "│ 1   │ Pu     │ 1       │\n",
       "│ 2   │ Ir     │ 1       │\n",
       "│ 3   │ Be     │ 2       │\n",
       "│ 4   │ Sb     │ 2       │\n",
       "│ 5   │ Rh     │ 2       │\n",
       "│ 6   │ As     │ 2       │"
      ]
     },
     "execution_count": 6,
     "metadata": {},
     "output_type": "execute_result"
    }
   ],
   "source": [
    "df_species_occurance = DataFrame(atom=collect(keys(species_occurance)), \n",
    "                                 nb_mofs=collect(values(species_occurance))\n",
    "                                 )\n",
    "sort!(df_species_occurance, :nb_mofs)\n",
    "first(df_species_occurance, 6)"
   ]
  },
  {
   "cell_type": "code",
   "execution_count": 7,
   "metadata": {},
   "outputs": [
    {
     "data": {
      "image/png": "[encoded data removed]",
      "text/plain": [
       "Figure(PyObject <Figure size 400x1400 with 1 Axes>)"
      ]
     },
     "metadata": {},
     "output_type": "display_data"
    },
    {
     "data": {
      "text/plain": [
       "PyObject Text(0.5, 1, 'atom occurances in MOFs')"
      ]
     },
     "execution_count": 7,
     "metadata": {},
     "output_type": "execute_result"
    }
   ],
   "source": [
    "figure(figsize=(4, 14))\n",
    "barh(1:nrow(df_species_occurance), df_species_occurance[:, :nb_mofs])\n",
    "yticks(1:nrow(df_species_occurance), df_species_occurance[:, :atom])\n",
    "xlabel(\"# MOFs with this atom\")\n",
    "ylabel(\"atom\")\n",
    "xscale(\"log\")\n",
    "title(\"atom occurances in MOFs\")"
   ]
  },
  {
   "cell_type": "markdown",
   "metadata": {},
   "source": [
    "### atom <--> integer mapping for one-hot encoding\n",
    "\n",
    "sort my occurance"
   ]
  },
  {
   "cell_type": "code",
   "execution_count": 8,
   "metadata": {},
   "outputs": [
    {
     "data": {
      "text/plain": [
       "74-element Array{Symbol,1}:\n",
       " :C \n",
       " :H \n",
       " :O \n",
       " :N \n",
       " :Zn\n",
       " :Cu\n",
       " :Cd\n",
       " :Co\n",
       " :S \n",
       " :Mn\n",
       " :P \n",
       " :Ni\n",
       " :Cl\n",
       " ⋮  \n",
       " :Sn\n",
       " :Np\n",
       " :Be\n",
       " :Sb\n",
       " :Rh\n",
       " :As\n",
       " :Se\n",
       " :Hf\n",
       " :Ge\n",
       " :Pd\n",
       " :Pu\n",
       " :Ir"
      ]
     },
     "execution_count": 8,
     "metadata": {},
     "output_type": "execute_result"
    }
   ],
   "source": [
    "sort!(df_species_occurance, :nb_mofs, rev=true)\n",
    "const ATOMS = deepcopy(df_species_occurance[:, :atom])\n",
    "ATOMS"
   ]
  },
  {
   "cell_type": "code",
   "execution_count": 9,
   "metadata": {},
   "outputs": [
    {
     "data": {
      "text/plain": [
       "Dict{Symbol,Int64} with 74 entries:\n",
       "  :Cl => 13\n",
       "  :Al => 30\n",
       "  :Re => 51\n",
       "  :Be => 65\n",
       "  :Cr => 41\n",
       "  :Na => 27\n",
       "  :Sb => 66\n",
       "  :Ni => 12\n",
       "  :S  => 9\n",
       "  :Ru => 48\n",
       "  :Tm => 43\n",
       "  :W  => 45\n",
       "  :Nd => 14\n",
       "  :O  => 3\n",
       "  :Th => 57\n",
       "  :F  => 17\n",
       "  :Co => 8\n",
       "  :Gd => 19\n",
       "  :Rh => 67\n",
       "  :Pu => 73\n",
       "  :Ca => 26\n",
       "  :N  => 4\n",
       "  :Yb => 36\n",
       "  :As => 68\n",
       "  :Se => 69\n",
       "  ⋮   => ⋮"
      ]
     },
     "execution_count": 9,
     "metadata": {},
     "output_type": "execute_result"
    }
   ],
   "source": [
    "const ATOM_TO_INT = Dict{Symbol, Int}(a => i for (i, a) in enumerate(ATOMS))\n",
    "ATOM_TO_INT"
   ]
  },
  {
   "cell_type": "markdown",
   "metadata": {},
   "source": [
    "### write graph structure, edge features, node features, and node labels to file for each MOF"
   ]
  },
  {
   "cell_type": "code",
   "execution_count": 10,
   "metadata": {},
   "outputs": [],
   "source": [
    "isdir(\"graphs\") ? nothing : mkdir(\"graphs\")"
   ]
  },
  {
   "cell_type": "code",
   "execution_count": 11,
   "metadata": {
    "collapsed": true,
    "jupyter": {
     "outputs_hidden": true
    }
   },
   "outputs": [
    {
     "name": "stdout",
     "output_type": "stream",
     "text": [
      "┌ Info: making edge list zero-based indexed for Python\n",
      "└ @ Main In[11]:1\n"
     ]
    },
    {
     "name": "stderr",
     "output_type": "stream",
     "text": [
      "\u001b[32mProgress:   1%|█                                        |  ETA: 0:53:10\u001b[39m"
     ]
    },
    {
     "name": "stdout",
     "output_type": "stream",
     "text": [
      "┌ Warning: atom 197 = Cl in ADOBAX.cif is not bonded to any other atom.\n",
      "└ @ PorousMaterials C:\\Users\\Arni\\.julia\\packages\\PorousMaterials\\RoZT3\\src\\bonds.jl:158\n",
      "┌ Warning: atom 198 = Cl in ADOBAX.cif is not bonded to any other atom.\n",
      "└ @ PorousMaterials C:\\Users\\Arni\\.julia\\packages\\PorousMaterials\\RoZT3\\src\\bonds.jl:158\n"
     ]
    },
    {
     "name": "stderr",
     "output_type": "stream",
     "text": [
      "\u001b[32mProgress:   1%|█                                        |  ETA: 0:54:55\u001b[39m"
     ]
    },
    {
     "name": "stdout",
     "output_type": "stream",
     "text": [
      "┌ Warning: throwing out \n",
      "│   crystal.name = ADOBAX.cif\n",
      "└ @ Main In[11]:23\n"
     ]
    },
    {
     "name": "stderr",
     "output_type": "stream",
     "text": [
      "\u001b[32mProgress:   1%|█                                        |  ETA: 0:56:45\u001b[39m"
     ]
    },
    {
     "name": "stdout",
     "output_type": "stream",
     "text": [
      "┌ Warning: atom 197 = Cl in ADOBOL_clean.cif is not bonded to any other atom.\n",
      "└ @ PorousMaterials C:\\Users\\Arni\\.julia\\packages\\PorousMaterials\\RoZT3\\src\\bonds.jl:158\n",
      "┌ Warning: atom 198 = Cl in ADOBOL_clean.cif is not bonded to any other atom.\n",
      "└ @ PorousMaterials C:\\Users\\Arni\\.julia\\packages\\PorousMaterials\\RoZT3\\src\\bonds.jl:158\n",
      "┌ Warning: throwing out \n",
      "│   crystal.name = ADOBOL_clean.cif\n",
      "└ @ Main In[11]:23\n"
     ]
    },
    {
     "name": "stderr",
     "output_type": "stream",
     "text": [
      "\u001b[32mProgress:   3%|██                                       |  ETA: 0:43:30\u001b[39m"
     ]
    },
    {
     "name": "stdout",
     "output_type": "stream",
     "text": [
      "┌ Warning: hydrogen atom 10 in ASALIP_clean.cif is bonded to more than one atom!\n",
      "└ @ PorousMaterials C:\\Users\\Arni\\.julia\\packages\\PorousMaterials\\RoZT3\\src\\bonds.jl:163\n",
      "┌ Warning: hydrogen atom 19 in ASALIP_clean.cif is bonded to more than one atom!\n",
      "└ @ PorousMaterials C:\\Users\\Arni\\.julia\\packages\\PorousMaterials\\RoZT3\\src\\bonds.jl:163\n",
      "┌ Warning: hydrogen atom 28 in ASALIP_clean.cif is bonded to more than one atom!\n",
      "└ @ PorousMaterials C:\\Users\\Arni\\.julia\\packages\\PorousMaterials\\RoZT3\\src\\bonds.jl:163\n",
      "┌ Warning: hydrogen atom 37 in ASALIP_clean.cif is bonded to more than one atom!\n",
      "└ @ PorousMaterials C:\\Users\\Arni\\.julia\\packages\\PorousMaterials\\RoZT3\\src\\bonds.jl:163\n",
      "┌ Warning: throwing out \n",
      "│   crystal.name = ASALIP_clean.cif\n",
      "└ @ Main In[11]:23\n"
     ]
    },
    {
     "name": "stderr",
     "output_type": "stream",
     "text": [
      "\u001b[32mProgress:   6%|███                                      |  ETA: 0:50:16\u001b[39m"
     ]
    },
    {
     "name": "stdout",
     "output_type": "stream",
     "text": [
      "┌ Warning: hydrogen atom 10 in BEXTUV_clean.cif is bonded to more than one atom!\n",
      "└ @ PorousMaterials C:\\Users\\Arni\\.julia\\packages\\PorousMaterials\\RoZT3\\src\\bonds.jl:163\n",
      "┌ Warning: hydrogen atom 11 in BEXTUV_clean.cif is bonded to more than one atom!\n",
      "└ @ PorousMaterials C:\\Users\\Arni\\.julia\\packages\\PorousMaterials\\RoZT3\\src\\bonds.jl:163\n",
      "┌ Warning: hydrogen atom 17 in BEXTUV_clean.cif is bonded to more than one atom!\n",
      "└ @ PorousMaterials C:\\Users\\Arni\\.julia\\packages\\PorousMaterials\\RoZT3\\src\\bonds.jl:163\n",
      "┌ Warning: hydrogen atom 18 in BEXTUV_clean.cif is bonded to more than one atom!\n",
      "└ @ PorousMaterials C:\\Users\\Arni\\.julia\\packages\\PorousMaterials\\RoZT3\\src\\bonds.jl:163\n",
      "┌ Warning: hydrogen atom 24 in BEXTUV_clean.cif is bonded to more than one atom!\n",
      "└ @ PorousMaterials C:\\Users\\Arni\\.julia\\packages\\PorousMaterials\\RoZT3\\src\\bonds.jl:163\n",
      "┌ Warning: hydrogen atom 25 in BEXTUV_clean.cif is bonded to more than one atom!\n",
      "└ @ PorousMaterials C:\\Users\\Arni\\.julia\\packages\\PorousMaterials\\RoZT3\\src\\bonds.jl:163\n",
      "┌ Warning: hydrogen atom 31 in BEXTUV_clean.cif is bonded to more than one atom!\n",
      "└ @ PorousMaterials C:\\Users\\Arni\\.julia\\packages\\PorousMaterials\\RoZT3\\src\\bonds.jl:163\n",
      "┌ Warning: hydrogen atom 32 in BEXTUV_clean.cif is bonded to more than one atom!\n",
      "└ @ PorousMaterials C:\\Users\\Arni\\.julia\\packages\\PorousMaterials\\RoZT3\\src\\bonds.jl:163\n",
      "┌ Warning: carbon atom 41 in BEXTUV_clean.cif is bonded to more than four!\n",
      "└ @ PorousMaterials C:\\Users\\Arni\\.julia\\packages\\PorousMaterials\\RoZT3\\src\\bonds.jl:168\n",
      "┌ Warning: carbon atom 50 in BEXTUV_clean.cif is bonded to more than four!\n",
      "└ @ PorousMaterials C:\\Users\\Arni\\.julia\\packages\\PorousMaterials\\RoZT3\\src\\bonds.jl:168\n",
      "┌ Warning: carbon atom 59 in BEXTUV_clean.cif is bonded to more than four!\n",
      "└ @ PorousMaterials C:\\Users\\Arni\\.julia\\packages\\PorousMaterials\\RoZT3\\src\\bonds.jl:168\n",
      "┌ Warning: carbon atom 68 in BEXTUV_clean.cif is bonded to more than four!\n",
      "└ @ PorousMaterials C:\\Users\\Arni\\.julia\\packages\\PorousMaterials\\RoZT3\\src\\bonds.jl:168\n",
      "┌ Warning: throwing out \n",
      "│   crystal.name = BEXTUV_clean.cif\n",
      "└ @ Main In[11]:23\n"
     ]
    },
    {
     "name": "stderr",
     "output_type": "stream",
     "text": [
      "\u001b[32mProgress:   6%|███                                      |  ETA: 0:50:57\u001b[39m"
     ]
    },
    {
     "name": "stdout",
     "output_type": "stream",
     "text": [
      "┌ Warning: atom 7 = Zn in BICDAU_clean.cif is not bonded to any other atom.\n",
      "└ @ PorousMaterials C:\\Users\\Arni\\.julia\\packages\\PorousMaterials\\RoZT3\\src\\bonds.jl:158\n",
      "┌ Warning: atom 9 = Zn in BICDAU_clean.cif is not bonded to any other atom.\n",
      "└ @ PorousMaterials C:\\Users\\Arni\\.julia\\packages\\PorousMaterials\\RoZT3\\src\\bonds.jl:158\n",
      "┌ Warning: throwing out \n",
      "│   crystal.name = BICDAU_clean.cif\n",
      "└ @ Main In[11]:23\n"
     ]
    },
    {
     "name": "stderr",
     "output_type": "stream",
     "text": [
      "\u001b[32mProgress:   7%|███                                      |  ETA: 0:50:24\u001b[39m"
     ]
    },
    {
     "name": "stdout",
     "output_type": "stream",
     "text": [
      "┌ Warning: hydrogen atom 10 in BONWIL_clean.cif is bonded to more than one atom!\n",
      "└ @ PorousMaterials C:\\Users\\Arni\\.julia\\packages\\PorousMaterials\\RoZT3\\src\\bonds.jl:163\n",
      "┌ Warning: hydrogen atom 24 in BONWIL_clean.cif is bonded to more than one atom!\n",
      "└ @ PorousMaterials C:\\Users\\Arni\\.julia\\packages\\PorousMaterials\\RoZT3\\src\\bonds.jl:163\n",
      "┌ Warning: hydrogen atom 38 in BONWIL_clean.cif is bonded to more than one atom!\n",
      "└ @ PorousMaterials C:\\Users\\Arni\\.julia\\packages\\PorousMaterials\\RoZT3\\src\\bonds.jl:163\n",
      "┌ Warning: hydrogen atom 52 in BONWIL_clean.cif is bonded to more than one atom!\n",
      "└ @ PorousMaterials C:\\Users\\Arni\\.julia\\packages\\PorousMaterials\\RoZT3\\src\\bonds.jl:163\n",
      "┌ Warning: throwing out \n",
      "│   crystal.name = BONWIL_clean.cif\n",
      "└ @ Main In[11]:23\n"
     ]
    },
    {
     "name": "stderr",
     "output_type": "stream",
     "text": [
      "\u001b[32mProgress:   7%|███                                      |  ETA: 0:50:47\u001b[39m"
     ]
    },
    {
     "name": "stdout",
     "output_type": "stream",
     "text": [
      "┌ Warning: hydrogen atom 31 in BORBEQ_clean.cif is bonded to more than one atom!\n",
      "└ @ PorousMaterials C:\\Users\\Arni\\.julia\\packages\\PorousMaterials\\RoZT3\\src\\bonds.jl:163\n",
      "┌ Warning: hydrogen atom 64 in BORBEQ_clean.cif is bonded to more than one atom!\n",
      "└ @ PorousMaterials C:\\Users\\Arni\\.julia\\packages\\PorousMaterials\\RoZT3\\src\\bonds.jl:163\n",
      "┌ Warning: hydrogen atom 97 in BORBEQ_clean.cif is bonded to more than one atom!\n",
      "└ @ PorousMaterials C:\\Users\\Arni\\.julia\\packages\\PorousMaterials\\RoZT3\\src\\bonds.jl:163\n",
      "┌ Warning: hydrogen atom 130 in BORBEQ_clean.cif is bonded to more than one atom!\n",
      "└ @ PorousMaterials C:\\Users\\Arni\\.julia\\packages\\PorousMaterials\\RoZT3\\src\\bonds.jl:163\n",
      "┌ Warning: throwing out \n",
      "│   crystal.name = BORBEQ_clean.cif\n",
      "└ @ Main In[11]:23\n"
     ]
    },
    {
     "name": "stderr",
     "output_type": "stream",
     "text": [
      "\u001b[32mProgress:   8%|████                                     |  ETA: 0:48:18\u001b[39m"
     ]
    },
    {
     "name": "stdout",
     "output_type": "stream",
     "text": [
      "┌ Warning: atom 17 = Cu in CAYBAH01.cif is not bonded to any other atom.\n",
      "└ @ PorousMaterials C:\\Users\\Arni\\.julia\\packages\\PorousMaterials\\RoZT3\\src\\bonds.jl:158\n",
      "┌ Warning: atom 18 = Cu in CAYBAH01.cif is not bonded to any other atom.\n",
      "└ @ PorousMaterials C:\\Users\\Arni\\.julia\\packages\\PorousMaterials\\RoZT3\\src\\bonds.jl:158\n",
      "┌ Warning: atom 19 = Cu in CAYBAH01.cif is not bonded to any other atom.\n",
      "└ @ PorousMaterials C:\\Users\\Arni\\.julia\\packages\\PorousMaterials\\RoZT3\\src\\bonds.jl:158\n",
      "┌ Warning: atom 20 = Cu in CAYBAH01.cif is not bonded to any other atom.\n",
      "└ @ PorousMaterials C:\\Users\\Arni\\.julia\\packages\\PorousMaterials\\RoZT3\\src\\bonds.jl:158\n",
      "┌ Warning: atom 21 = Cu in CAYBAH01.cif is not bonded to any other atom.\n",
      "└ @ PorousMaterials C:\\Users\\Arni\\.julia\\packages\\PorousMaterials\\RoZT3\\src\\bonds.jl:158\n",
      "┌ Warning: atom 22 = Cu in CAYBAH01.cif is not bonded to any other atom.\n",
      "└ @ PorousMaterials C:\\Users\\Arni\\.julia\\packages\\PorousMaterials\\RoZT3\\src\\bonds.jl:158\n",
      "┌ Warning: atom 23 = Cu in CAYBAH01.cif is not bonded to any other atom.\n",
      "└ @ PorousMaterials C:\\Users\\Arni\\.julia\\packages\\PorousMaterials\\RoZT3\\src\\bonds.jl:158\n",
      "┌ Warning: atom 24 = Cu in CAYBAH01.cif is not bonded to any other atom.\n",
      "└ @ PorousMaterials C:\\Users\\Arni\\.julia\\packages\\PorousMaterials\\RoZT3\\src\\bonds.jl:158\n",
      "┌ Warning: throwing out \n",
      "│   crystal.name = CAYBAH01.cif\n",
      "└ @ Main In[11]:23\n"
     ]
    },
    {
     "name": "stderr",
     "output_type": "stream",
     "text": [
      "\u001b[32mProgress:  11%|█████                                    |  ETA: 0:43:55\u001b[39m"
     ]
    },
    {
     "name": "stdout",
     "output_type": "stream",
     "text": [
      "Voronoi problems with COF-5.cif"
     ]
    },
    {
     "name": "stderr",
     "output_type": "stream",
     "text": [
      "\u001b[32mProgress:  11%|█████                                    |  ETA: 0:43:47\u001b[39m"
     ]
    },
    {
     "name": "stdout",
     "output_type": "stream",
     "text": [
      "\n"
     ]
    },
    {
     "name": "stderr",
     "output_type": "stream",
     "text": [
      "\u001b[32mProgress:  17%|████████                                 |  ETA: 0:41:18\u001b[39m"
     ]
    },
    {
     "name": "stdout",
     "output_type": "stream",
     "text": [
      "Voronoi problems with DUXZIG01_clean.cif\n",
      "┌ Warning: atom 1 = Zn in DUXZIG01_clean.cif is not bonded to any other atom.\n",
      "└ @ PorousMaterials C:\\Users\\Arni\\.julia\\packages\\PorousMaterials\\RoZT3\\src\\bonds.jl:158\n",
      "┌ Warning: atom 2 = Zn in DUXZIG01_clean.cif is not bonded to any other atom.\n",
      "└ @ PorousMaterials C:\\Users\\Arni\\.julia\\packages\\PorousMaterials\\RoZT3\\src\\bonds.jl:158\n",
      "┌ Warning: throwing out \n",
      "│   crystal.name = DUXZIG01_clean.cif\n",
      "└ @ Main In[11]:23\n"
     ]
    },
    {
     "name": "stderr",
     "output_type": "stream",
     "text": [
      "\u001b[32mProgress:  22%|██████████                               |  ETA: 0:37:30\u001b[39m"
     ]
    },
    {
     "name": "stdout",
     "output_type": "stream",
     "text": [
      "┌ Warning: hydrogen atom 14 in FAZZEM_clean.cif is bonded to more than one atom!\n",
      "└ @ PorousMaterials C:\\Users\\Arni\\.julia\\packages\\PorousMaterials\\RoZT3\\src\\bonds.jl:163\n",
      "┌ Warning: hydrogen atom 16 in FAZZEM_clean.cif is bonded to more than one atom!\n",
      "└ @ PorousMaterials C:\\Users\\Arni\\.julia\\packages\\PorousMaterials\\RoZT3\\src\\bonds.jl:163\n",
      "┌ Warning: hydrogen atom 24 in FAZZEM_clean.cif is bonded to more than one atom!\n",
      "└ @ PorousMaterials C:\\Users\\Arni\\.julia\\packages\\PorousMaterials\\RoZT3\\src\\bonds.jl:163\n",
      "┌ Warning: hydrogen atom 26 in FAZZEM_clean.cif is bonded to more than one atom!\n",
      "└ @ PorousMaterials C:\\Users\\Arni\\.julia\\packages\\PorousMaterials\\RoZT3\\src\\bonds.jl:163\n",
      "┌ Warning: throwing out \n",
      "│   crystal.name = FAZZEM_clean.cif\n",
      "└ @ Main In[11]:23\n"
     ]
    },
    {
     "name": "stderr",
     "output_type": "stream",
     "text": [
      "\u001b[32mProgress:  24%|██████████                               |  ETA: 0:36:44\u001b[39m"
     ]
    },
    {
     "name": "stdout",
     "output_type": "stream",
     "text": [
      "┌ Warning: hydrogen atom 9 in FIMXUW_clean.cif is bonded to more than one atom!\n",
      "└ @ PorousMaterials C:\\Users\\Arni\\.julia\\packages\\PorousMaterials\\RoZT3\\src\\bonds.jl:163\n",
      "┌ Warning: hydrogen atom 10 in FIMXUW_clean.cif is bonded to more than one atom!\n",
      "└ @ PorousMaterials C:\\Users\\Arni\\.julia\\packages\\PorousMaterials\\RoZT3\\src\\bonds.jl:163\n",
      "┌ Warning: hydrogen atom 16 in FIMXUW_clean.cif is bonded to more than one atom!\n",
      "└ @ PorousMaterials C:\\Users\\Arni\\.julia\\packages\\PorousMaterials\\RoZT3\\src\\bonds.jl:163\n",
      "┌ Warning: hydrogen atom 17 in FIMXUW_clean.cif is bonded to more than one atom!\n",
      "└ @ PorousMaterials C:\\Users\\Arni\\.julia\\packages\\PorousMaterials\\RoZT3\\src\\bonds.jl:163\n",
      "┌ Warning: hydrogen atom 23 in FIMXUW_clean.cif is bonded to more than one atom!\n",
      "└ @ PorousMaterials C:\\Users\\Arni\\.julia\\packages\\PorousMaterials\\RoZT3\\src\\bonds.jl:163\n",
      "┌ Warning: hydrogen atom 24 in FIMXUW_clean.cif is bonded to more than one atom!\n",
      "└ @ PorousMaterials C:\\Users\\Arni\\.julia\\packages\\PorousMaterials\\RoZT3\\src\\bonds.jl:163\n",
      "┌ Warning: hydrogen atom 30 in FIMXUW_clean.cif is bonded to more than one atom!\n",
      "└ @ PorousMaterials C:\\Users\\Arni\\.julia\\packages\\PorousMaterials\\RoZT3\\src\\bonds.jl:163\n",
      "┌ Warning: hydrogen atom 31 in FIMXUW_clean.cif is bonded to more than one atom!\n",
      "└ @ PorousMaterials C:\\Users\\Arni\\.julia\\packages\\PorousMaterials\\RoZT3\\src\\bonds.jl:163\n",
      "┌ Warning: throwing out \n",
      "│   crystal.name = FIMXUW_clean.cif\n",
      "└ @ Main In[11]:23\n"
     ]
    },
    {
     "name": "stderr",
     "output_type": "stream",
     "text": [
      "\u001b[32mProgress:  25%|███████████                              |  ETA: 0:36:22\u001b[39m"
     ]
    },
    {
     "name": "stdout",
     "output_type": "stream",
     "text": [
      "Voronoi problems with FUNBOG_clean.cif\n",
      "┌ Warning: atom 1 = Zn in FUNBOG_clean.cif is not bonded to any other atom.\n",
      "└ @ PorousMaterials C:\\Users\\Arni\\.julia\\packages\\PorousMaterials\\RoZT3\\src\\bonds.jl:158\n",
      "┌ Warning: atom 2 = Zn in FUNBOG_clean.cif is not bonded to any other atom.\n",
      "└ @ PorousMaterials C:\\Users\\Arni\\.julia\\packages\\PorousMaterials\\RoZT3\\src\\bonds.jl:158\n",
      "┌ Warning: atom 71 = Br in FUNBOG_clean.cif is not bonded to any other atom.\n",
      "└ @ PorousMaterials C:\\Users\\Arni\\.julia\\packages\\PorousMaterials\\RoZT3\\src\\bonds.jl:158\n",
      "┌ Warning: atom 72 = Br in FUNBOG_clean.cif is not bonded to any other atom.\n",
      "└ @ PorousMaterials C:\\Users\\Arni\\.julia\\packages\\PorousMaterials\\RoZT3\\src\\bonds.jl:158\n",
      "┌ Warning: throwing out \n",
      "│   crystal.name = FUNBOG_clean.cif\n",
      "└ @ Main In[11]:23\n"
     ]
    },
    {
     "name": "stderr",
     "output_type": "stream",
     "text": [
      "\u001b[32mProgress:  25%|███████████                              |  ETA: 0:36:19\u001b[39m"
     ]
    },
    {
     "name": "stdout",
     "output_type": "stream",
     "text": [
      "Voronoi problems with FUNCEX_clean.cif\n",
      "┌ Warning: atom 1 = Zn in FUNCEX_clean.cif is not bonded to any other atom.\n",
      "└ @ PorousMaterials C:\\Users\\Arni\\.julia\\packages\\PorousMaterials\\RoZT3\\src\\bonds.jl:158\n",
      "┌ Warning: atom 2 = Zn in FUNCEX_clean.cif is not bonded to any other atom.\n",
      "└ @ PorousMaterials C:\\Users\\Arni\\.julia\\packages\\PorousMaterials\\RoZT3\\src\\bonds.jl:158\n",
      "┌ Warning: atom 73 = Br in FUNCEX_clean.cif is not bonded to any other atom.\n",
      "└ @ PorousMaterials C:\\Users\\Arni\\.julia\\packages\\PorousMaterials\\RoZT3\\src\\bonds.jl:158\n",
      "┌ Warning: atom 74 = Br in FUNCEX_clean.cif is not bonded to any other atom.\n",
      "└ @ PorousMaterials C:\\Users\\Arni\\.julia\\packages\\PorousMaterials\\RoZT3\\src\\bonds.jl:158\n",
      "┌ Warning: throwing out \n",
      "│   crystal.name = FUNCEX_clean.cif\n",
      "└ @ Main In[11]:23\n",
      "┌ Warning: atom 127 = Cl in FUSWIA_clean.cif is not bonded to any other atom.\n",
      "└ @ PorousMaterials C:\\Users\\Arni\\.julia\\packages\\PorousMaterials\\RoZT3\\src\\bonds.jl:158\n"
     ]
    },
    {
     "name": "stderr",
     "output_type": "stream",
     "text": [
      "\u001b[32mProgress:  25%|███████████                              |  ETA: 0:36:18\u001b[39m"
     ]
    },
    {
     "name": "stdout",
     "output_type": "stream",
     "text": [
      "┌ Warning: atom 128 = Cl in FUSWIA_clean.cif is not bonded to any other atom.\n",
      "└ @ PorousMaterials C:\\Users\\Arni\\.julia\\packages\\PorousMaterials\\RoZT3\\src\\bonds.jl:158\n",
      "┌ Warning: atom 129 = Cl in FUSWIA_clean.cif is not bonded to any other atom.\n",
      "└ @ PorousMaterials C:\\Users\\Arni\\.julia\\packages\\PorousMaterials\\RoZT3\\src\\bonds.jl:158\n",
      "┌ Warning: atom 130 = Cl in FUSWIA_clean.cif is not bonded to any other atom.\n",
      "└ @ PorousMaterials C:\\Users\\Arni\\.julia\\packages\\PorousMaterials\\RoZT3\\src\\bonds.jl:158\n",
      "┌ Warning: throwing out \n",
      "│   crystal.name = FUSWIA_clean.cif\n",
      "└ @ Main In[11]:23\n"
     ]
    },
    {
     "name": "stderr",
     "output_type": "stream",
     "text": [
      "\u001b[32mProgress:  28%|████████████                             |  ETA: 0:35:51\u001b[39m"
     ]
    },
    {
     "name": "stdout",
     "output_type": "stream",
     "text": [
      "┌ Warning: atom 131 = O in GESFAN_clean.cif is not bonded to any other atom.\n",
      "└ @ PorousMaterials C:\\Users\\Arni\\.julia\\packages\\PorousMaterials\\RoZT3\\src\\bonds.jl:158\n",
      "┌ Warning: atom 132 = O in GESFAN_clean.cif is not bonded to any other atom.\n",
      "└ @ PorousMaterials C:\\Users\\Arni\\.julia\\packages\\PorousMaterials\\RoZT3\\src\\bonds.jl:158\n",
      "┌ Warning: throwing out \n",
      "│   crystal.name = GESFAN_clean.cif\n",
      "└ @ Main In[11]:23\n"
     ]
    },
    {
     "name": "stderr",
     "output_type": "stream",
     "text": [
      "\u001b[32mProgress:  28%|████████████                             |  ETA: 0:35:42\u001b[39m"
     ]
    },
    {
     "name": "stdout",
     "output_type": "stream",
     "text": [
      "┌ Warning: atom 1 = Zn in GIDKOU_clean.cif is not bonded to any other atom.\n",
      "└ @ PorousMaterials C:\\Users\\Arni\\.julia\\packages\\PorousMaterials\\RoZT3\\src\\bonds.jl:158\n",
      "┌ Warning: atom 2 = Zn in GIDKOU_clean.cif is not bonded to any other atom.\n",
      "└ @ PorousMaterials C:\\Users\\Arni\\.julia\\packages\\PorousMaterials\\RoZT3\\src\\bonds.jl:158\n",
      "┌ Warning: atom 3 = Zn in GIDKOU_clean.cif is not bonded to any other atom.\n",
      "└ @ PorousMaterials C:\\Users\\Arni\\.julia\\packages\\PorousMaterials\\RoZT3\\src\\bonds.jl:158\n",
      "┌ Warning: atom 4 = Zn in GIDKOU_clean.cif is not bonded to any other atom.\n",
      "└ @ PorousMaterials C:\\Users\\Arni\\.julia\\packages\\PorousMaterials\\RoZT3\\src\\bonds.jl:158\n",
      "┌ Warning: atom 5 = Zn in GIDKOU_clean.cif is not bonded to any other atom.\n",
      "└ @ PorousMaterials C:\\Users\\Arni\\.julia\\packages\\PorousMaterials\\RoZT3\\src\\bonds.jl:158\n",
      "┌ Warning: atom 6 = Zn in GIDKOU_clean.cif is not bonded to any other atom.\n",
      "└ @ PorousMaterials C:\\Users\\Arni\\.julia\\packages\\PorousMaterials\\RoZT3\\src\\bonds.jl:158\n",
      "┌ Warning: atom 7 = Zn in GIDKOU_clean.cif is not bonded to any other atom.\n",
      "└ @ PorousMaterials C:\\Users\\Arni\\.julia\\packages\\PorousMaterials\\RoZT3\\src\\bonds.jl:158\n",
      "┌ Warning: atom 8 = Zn in GIDKOU_clean.cif is not bonded to any other atom.\n",
      "└ @ PorousMaterials C:\\Users\\Arni\\.julia\\packages\\PorousMaterials\\RoZT3\\src\\bonds.jl:158\n",
      "┌ Warning: atom 9 = Zn in GIDKOU_clean.cif is not bonded to any other atom.\n",
      "└ @ PorousMaterials C:\\Users\\Arni\\.julia\\packages\\PorousMaterials\\RoZT3\\src\\bonds.jl:158\n",
      "┌ Warning: atom 10 = Zn in GIDKOU_clean.cif is not bonded to any other atom.\n",
      "└ @ PorousMaterials C:\\Users\\Arni\\.julia\\packages\\PorousMaterials\\RoZT3\\src\\bonds.jl:158\n",
      "┌ Warning: atom 11 = Zn in GIDKOU_clean.cif is not bonded to any other atom.\n",
      "└ @ PorousMaterials C:\\Users\\Arni\\.julia\\packages\\PorousMaterials\\RoZT3\\src\\bonds.jl:158\n",
      "┌ Warning: atom 12 = Zn in GIDKOU_clean.cif is not bonded to any other atom.\n",
      "└ @ PorousMaterials C:\\Users\\Arni\\.julia\\packages\\PorousMaterials\\RoZT3\\src\\bonds.jl:158\n",
      "┌ Warning: atom 13 = Zn in GIDKOU_clean.cif is not bonded to any other atom.\n",
      "└ @ PorousMaterials C:\\Users\\Arni\\.julia\\packages\\PorousMaterials\\RoZT3\\src\\bonds.jl:158\n",
      "┌ Warning: atom 14 = Zn in GIDKOU_clean.cif is not bonded to any other atom.\n",
      "└ @ PorousMaterials C:\\Users\\Arni\\.julia\\packages\\PorousMaterials\\RoZT3\\src\\bonds.jl:158\n",
      "┌ Warning: atom 15 = Zn in GIDKOU_clean.cif is not bonded to any other atom.\n",
      "└ @ PorousMaterials C:\\Users\\Arni\\.julia\\packages\\PorousMaterials\\RoZT3\\src\\bonds.jl:158\n",
      "┌ Warning: atom 16 = Zn in GIDKOU_clean.cif is not bonded to any other atom.\n",
      "└ @ PorousMaterials C:\\Users\\Arni\\.julia\\packages\\PorousMaterials\\RoZT3\\src\\bonds.jl:158\n",
      "┌ Warning: atom 17 = Zn in GIDKOU_clean.cif is not bonded to any other atom.\n",
      "└ @ PorousMaterials C:\\Users\\Arni\\.julia\\packages\\PorousMaterials\\RoZT3\\src\\bonds.jl:158\n",
      "┌ Warning: atom 18 = Zn in GIDKOU_clean.cif is not bonded to any other atom.\n",
      "└ @ PorousMaterials C:\\Users\\Arni\\.julia\\packages\\PorousMaterials\\RoZT3\\src\\bonds.jl:158\n",
      "┌ Warning: atom 19 = Zn in GIDKOU_clean.cif is not bonded to any other atom.\n",
      "└ @ PorousMaterials C:\\Users\\Arni\\.julia\\packages\\PorousMaterials\\RoZT3\\src\\bonds.jl:158\n",
      "┌ Warning: atom 20 = Zn in GIDKOU_clean.cif is not bonded to any other atom.\n",
      "└ @ PorousMaterials C:\\Users\\Arni\\.julia\\packages\\PorousMaterials\\RoZT3\\src\\bonds.jl:158\n",
      "┌ Warning: throwing out \n",
      "│   crystal.name = GIDKOU_clean.cif\n",
      "└ @ Main In[11]:23\n"
     ]
    },
    {
     "name": "stderr",
     "output_type": "stream",
     "text": [
      "\u001b[32mProgress:  31%|█████████████                            |  ETA: 0:33:29\u001b[39m"
     ]
    },
    {
     "name": "stdout",
     "output_type": "stream",
     "text": [
      "Voronoi problems with HAFTOZ_clean.cif\n",
      "┌ Warning: atom 1 = Ni in HAFTOZ_clean.cif is not bonded to any other atom.\n",
      "└ @ PorousMaterials C:\\Users\\Arni\\.julia\\packages\\PorousMaterials\\RoZT3\\src\\bonds.jl:158\n",
      "┌ Warning: atom 2 = Ni in HAFTOZ_clean.cif is not bonded to any other atom.\n",
      "└ @ PorousMaterials C:\\Users\\Arni\\.julia\\packages\\PorousMaterials\\RoZT3\\src\\bonds.jl:158\n",
      "┌ Warning: atom 3 = Ni in HAFTOZ_clean.cif is not bonded to any other atom.\n",
      "└ @ PorousMaterials C:\\Users\\Arni\\.julia\\packages\\PorousMaterials\\RoZT3\\src\\bonds.jl:158\n",
      "┌ Warning: atom 4 = Ni in HAFTOZ_clean.cif is not bonded to any other atom.\n",
      "└ @ PorousMaterials C:\\Users\\Arni\\.julia\\packages\\PorousMaterials\\RoZT3\\src\\bonds.jl:158\n",
      "┌ Warning: atom 5 = Ni in HAFTOZ_clean.cif is not bonded to any other atom.\n",
      "└ @ PorousMaterials C:\\Users\\Arni\\.julia\\packages\\PorousMaterials\\RoZT3\\src\\bonds.jl:158\n",
      "┌ Warning: atom 6 = Ni in HAFTOZ_clean.cif is not bonded to any other atom.\n",
      "└ @ PorousMaterials C:\\Users\\Arni\\.julia\\packages\\PorousMaterials\\RoZT3\\src\\bonds.jl:158\n",
      "┌ Warning: atom 7 = Ni in HAFTOZ_clean.cif is not bonded to any other atom.\n",
      "└ @ PorousMaterials C:\\Users\\Arni\\.julia\\packages\\PorousMaterials\\RoZT3\\src\\bonds.jl:158\n",
      "┌ Warning: atom 8 = Ni in HAFTOZ_clean.cif is not bonded to any other atom.\n",
      "└ @ PorousMaterials C:\\Users\\Arni\\.julia\\packages\\PorousMaterials\\RoZT3\\src\\bonds.jl:158\n",
      "┌ Warning: throwing out \n",
      "│   crystal.name = HAFTOZ_clean.cif\n",
      "└ @ Main In[11]:23\n"
     ]
    },
    {
     "name": "stderr",
     "output_type": "stream",
     "text": [
      "\u001b[32mProgress:  33%|██████████████                           |  ETA: 0:32:39\u001b[39m"
     ]
    },
    {
     "name": "stdout",
     "output_type": "stream",
     "text": [
      "┌ Warning: hydrogen atom 17 in HEZSAG_clean.cif is bonded to more than one atom!\n",
      "└ @ PorousMaterials C:\\Users\\Arni\\.julia\\packages\\PorousMaterials\\RoZT3\\src\\bonds.jl:163\n",
      "┌ Warning: hydrogen atom 18 in HEZSAG_clean.cif is bonded to more than one atom!\n",
      "└ @ PorousMaterials C:\\Users\\Arni\\.julia\\packages\\PorousMaterials\\RoZT3\\src\\bonds.jl:163\n",
      "┌ Warning: hydrogen atom 20 in HEZSAG_clean.cif is bonded to more than one atom!\n",
      "└ @ PorousMaterials C:\\Users\\Arni\\.julia\\packages\\PorousMaterials\\RoZT3\\src\\bonds.jl:163\n",
      "┌ Warning: hydrogen atom 29 in HEZSAG_clean.cif is bonded to more than one atom!\n",
      "└ @ PorousMaterials C:\\Users\\Arni\\.julia\\packages\\PorousMaterials\\RoZT3\\src\\bonds.jl:163\n",
      "┌ Warning: hydrogen atom 30 in HEZSAG_clean.cif is bonded to more than one atom!\n",
      "└ @ PorousMaterials C:\\Users\\Arni\\.julia\\packages\\PorousMaterials\\RoZT3\\src\\bonds.jl:163\n",
      "┌ Warning: hydrogen atom 32 in HEZSAG_clean.cif is bonded to more than one atom!\n",
      "└ @ PorousMaterials C:\\Users\\Arni\\.julia\\packages\\PorousMaterials\\RoZT3\\src\\bonds.jl:163\n",
      "┌ Warning: hydrogen atom 41 in HEZSAG_clean.cif is bonded to more than one atom!\n",
      "└ @ PorousMaterials C:\\Users\\Arni\\.julia\\packages\\PorousMaterials\\RoZT3\\src\\bonds.jl:163\n",
      "┌ Warning: hydrogen atom 42 in HEZSAG_clean.cif is bonded to more than one atom!\n",
      "└ @ PorousMaterials C:\\Users\\Arni\\.julia\\packages\\PorousMaterials\\RoZT3\\src\\bonds.jl:163\n",
      "┌ Warning: hydrogen atom 44 in HEZSAG_clean.cif is bonded to more than one atom!\n",
      "└ @ PorousMaterials C:\\Users\\Arni\\.julia\\packages\\PorousMaterials\\RoZT3\\src\\bonds.jl:163\n",
      "┌ Warning: hydrogen atom 53 in HEZSAG_clean.cif is bonded to more than one atom!\n",
      "└ @ PorousMaterials C:\\Users\\Arni\\.julia\\packages\\PorousMaterials\\RoZT3\\src\\bonds.jl:163\n",
      "┌ Warning: hydrogen atom 54 in HEZSAG_clean.cif is bonded to more than one atom!\n",
      "└ @ PorousMaterials C:\\Users\\Arni\\.julia\\packages\\PorousMaterials\\RoZT3\\src\\bonds.jl:163\n",
      "┌ Warning: hydrogen atom 56 in HEZSAG_clean.cif is bonded to more than one atom!\n",
      "└ @ PorousMaterials C:\\Users\\Arni\\.julia\\packages\\PorousMaterials\\RoZT3\\src\\bonds.jl:163\n",
      "┌ Warning: throwing out \n",
      "│   crystal.name = HEZSAG_clean.cif\n",
      "└ @ Main In[11]:23\n"
     ]
    },
    {
     "name": "stderr",
     "output_type": "stream",
     "text": [
      "\u001b[32mProgress:  33%|██████████████                           |  ETA: 0:32:21\u001b[39m"
     ]
    },
    {
     "name": "stdout",
     "output_type": "stream",
     "text": [
      "┌ Warning: atom 7 = Zn in HIGRIA_clean.cif is not bonded to any other atom.\n",
      "└ @ PorousMaterials C:\\Users\\Arni\\.julia\\packages\\PorousMaterials\\RoZT3\\src\\bonds.jl:158\n",
      "┌ Warning: atom 8 = Zn in HIGRIA_clean.cif is not bonded to any other atom.\n",
      "└ @ PorousMaterials C:\\Users\\Arni\\.julia\\packages\\PorousMaterials\\RoZT3\\src\\bonds.jl:158\n",
      "┌ Warning: throwing out \n",
      "│   crystal.name = HIGRIA_clean.cif\n",
      "└ @ Main In[11]:23\n"
     ]
    },
    {
     "name": "stderr",
     "output_type": "stream",
     "text": [
      "\u001b[32mProgress:  33%|██████████████                           |  ETA: 0:32:19\u001b[39m"
     ]
    },
    {
     "name": "stdout",
     "output_type": "stream",
     "text": [
      "┌ Warning: carbon atom 89 in HITXUE.cif is bonded to more than four!\n",
      "└ @ PorousMaterials C:\\Users\\Arni\\.julia\\packages\\PorousMaterials\\RoZT3\\src\\bonds.jl:168\n",
      "┌ Warning: carbon atom 90 in HITXUE.cif is bonded to more than four!\n",
      "└ @ PorousMaterials C:\\Users\\Arni\\.julia\\packages\\PorousMaterials\\RoZT3\\src\\bonds.jl:168\n",
      "┌ Warning: carbon atom 91 in HITXUE.cif is bonded to more than four!\n",
      "└ @ PorousMaterials C:\\Users\\Arni\\.julia\\packages\\PorousMaterials\\RoZT3\\src\\bonds.jl:168\n",
      "┌ Warning: carbon atom 92 in HITXUE.cif is bonded to more than four!\n",
      "└ @ PorousMaterials C:\\Users\\Arni\\.julia\\packages\\PorousMaterials\\RoZT3\\src\\bonds.jl:168\n",
      "┌ Warning: carbon atom 93 in HITXUE.cif is bonded to more than four!\n",
      "└ @ PorousMaterials C:\\Users\\Arni\\.julia\\packages\\PorousMaterials\\RoZT3\\src\\bonds.jl:168\n",
      "┌ Warning: carbon atom 94 in HITXUE.cif is bonded to more than four!\n",
      "└ @ PorousMaterials C:\\Users\\Arni\\.julia\\packages\\PorousMaterials\\RoZT3\\src\\bonds.jl:168\n",
      "┌ Warning: carbon atom 95 in HITXUE.cif is bonded to more than four!\n",
      "└ @ PorousMaterials C:\\Users\\Arni\\.julia\\packages\\PorousMaterials\\RoZT3\\src\\bonds.jl:168\n",
      "┌ Warning: carbon atom 96 in HITXUE.cif is bonded to more than four!\n",
      "└ @ PorousMaterials C:\\Users\\Arni\\.julia\\packages\\PorousMaterials\\RoZT3\\src\\bonds.jl:168\n",
      "┌ Warning: throwing out \n",
      "│   crystal.name = HITXUE.cif\n",
      "└ @ Main In[11]:23\n"
     ]
    },
    {
     "name": "stderr",
     "output_type": "stream",
     "text": [
      "\u001b[32mProgress:  35%|███████████████                          |  ETA: 0:31:33\u001b[39m"
     ]
    },
    {
     "name": "stdout",
     "output_type": "stream",
     "text": [
      "┌ Warning: atom 7 = Zn in IBOTAU_clean.cif is not bonded to any other atom.\n",
      "└ @ PorousMaterials C:\\Users\\Arni\\.julia\\packages\\PorousMaterials\\RoZT3\\src\\bonds.jl:158\n",
      "┌ Warning: throwing out \n",
      "│   crystal.name = IBOTAU_clean.cif\n",
      "└ @ Main In[11]:23\n"
     ]
    },
    {
     "name": "stderr",
     "output_type": "stream",
     "text": [
      "\u001b[32mProgress:  35%|███████████████                          |  ETA: 0:31:19\u001b[39m"
     ]
    },
    {
     "name": "stdout",
     "output_type": "stream",
     "text": [
      "┌ Warning: atom 43 = Cl in ICORAV_clean.cif is not bonded to any other atom.\n",
      "└ @ PorousMaterials C:\\Users\\Arni\\.julia\\packages\\PorousMaterials\\RoZT3\\src\\bonds.jl:158\n",
      "┌ Warning: atom 44 = Cl in ICORAV_clean.cif is not bonded to any other atom.\n",
      "└ @ PorousMaterials C:\\Users\\Arni\\.julia\\packages\\PorousMaterials\\RoZT3\\src\\bonds.jl:158\n",
      "┌ Warning: throwing out \n",
      "│   crystal.name = ICORAV_clean.cif\n",
      "└ @ Main In[11]:23\n"
     ]
    },
    {
     "name": "stderr",
     "output_type": "stream",
     "text": [
      "\u001b[32mProgress:  36%|███████████████                          |  ETA: 0:30:56\u001b[39m"
     ]
    },
    {
     "name": "stdout",
     "output_type": "stream",
     "text": [
      "┌ Warning: atom 193 = Cl in IGAHAB_clean.cif is not bonded to any other atom.\n",
      "└ @ PorousMaterials C:\\Users\\Arni\\.julia\\packages\\PorousMaterials\\RoZT3\\src\\bonds.jl:158\n",
      "┌ Warning: atom 194 = Cl in IGAHAB_clean.cif is not bonded to any other atom.\n",
      "└ @ PorousMaterials C:\\Users\\Arni\\.julia\\packages\\PorousMaterials\\RoZT3\\src\\bonds.jl:158\n",
      "┌ Warning: throwing out \n",
      "│   crystal.name = IGAHAB_clean.cif\n",
      "└ @ Main In[11]:23\n"
     ]
    },
    {
     "name": "stderr",
     "output_type": "stream",
     "text": [
      "\u001b[32mProgress:  36%|███████████████                          |  ETA: 0:30:47\u001b[39m"
     ]
    },
    {
     "name": "stdout",
     "output_type": "stream",
     "text": [
      "┌ Warning: atom 9 = Zn in IGOCOX_clean.cif is not bonded to any other atom.\n",
      "└ @ PorousMaterials C:\\Users\\Arni\\.julia\\packages\\PorousMaterials\\RoZT3\\src\\bonds.jl:158\n",
      "┌ Warning: atom 10 = Zn in IGOCOX_clean.cif is not bonded to any other atom.\n",
      "└ @ PorousMaterials C:\\Users\\Arni\\.julia\\packages\\PorousMaterials\\RoZT3\\src\\bonds.jl:158\n",
      "┌ Warning: throwing out \n",
      "│   crystal.name = IGOCOX_clean.cif\n",
      "└ @ Main In[11]:23\n"
     ]
    },
    {
     "name": "stderr",
     "output_type": "stream",
     "text": [
      "\u001b[32mProgress:  38%|████████████████                         |  ETA: 0:29:43\u001b[39m"
     ]
    },
    {
     "name": "stdout",
     "output_type": "stream",
     "text": [
      "┌ Warning: atom 1 = Bi in IRISAD01_clean.cif is not bonded to any other atom.\n",
      "└ @ PorousMaterials C:\\Users\\Arni\\.julia\\packages\\PorousMaterials\\RoZT3\\src\\bonds.jl:158\n",
      "┌ Warning: atom 2 = Bi in IRISAD01_clean.cif is not bonded to any other atom.\n",
      "└ @ PorousMaterials C:\\Users\\Arni\\.julia\\packages\\PorousMaterials\\RoZT3\\src\\bonds.jl:158\n",
      "┌ Warning: throwing out \n",
      "│   crystal.name = IRISAD01_clean.cif\n",
      "└ @ Main In[11]:23\n"
     ]
    },
    {
     "name": "stderr",
     "output_type": "stream",
     "text": [
      "\u001b[32mProgress:  38%|████████████████                         |  ETA: 0:29:36\u001b[39m"
     ]
    },
    {
     "name": "stdout",
     "output_type": "stream",
     "text": [
      "┌ Warning: hydrogen atom 8 in ISEQIH_clean.cif is bonded to more than one atom!\n",
      "└ @ PorousMaterials C:\\Users\\Arni\\.julia\\packages\\PorousMaterials\\RoZT3\\src\\bonds.jl:163\n",
      "┌ Warning: hydrogen atom 18 in ISEQIH_clean.cif is bonded to more than one atom!\n",
      "└ @ PorousMaterials C:\\Users\\Arni\\.julia\\packages\\PorousMaterials\\RoZT3\\src\\bonds.jl:163\n",
      "┌ Warning: throwing out \n",
      "│   crystal.name = ISEQIH_clean.cif\n",
      "└ @ Main In[11]:23\n"
     ]
    },
    {
     "name": "stderr",
     "output_type": "stream",
     "text": [
      "\u001b[32mProgress:  39%|████████████████                         |  ETA: 0:29:31\u001b[39m"
     ]
    },
    {
     "name": "stdout",
     "output_type": "stream",
     "text": [
      "┌ Warning: atom 9 = Cu in IVEGEV_clean.cif is not bonded to any other atom.\n",
      "└ @ PorousMaterials C:\\Users\\Arni\\.julia\\packages\\PorousMaterials\\RoZT3\\src\\bonds.jl:158\n",
      "┌ Warning: atom 10 = Cu in IVEGEV_clean.cif is not bonded to any other atom.\n",
      "└ @ PorousMaterials C:\\Users\\Arni\\.julia\\packages\\PorousMaterials\\RoZT3\\src\\bonds.jl:158\n",
      "┌ Warning: throwing out \n",
      "│   crystal.name = IVEGEV_clean.cif\n",
      "└ @ Main In[11]:23\n"
     ]
    },
    {
     "name": "stderr",
     "output_type": "stream",
     "text": [
      "\u001b[32mProgress:  39%|█████████████████                        |  ETA: 0:29:06\u001b[39m"
     ]
    },
    {
     "name": "stdout",
     "output_type": "stream",
     "text": [
      "Voronoi problems with IYIHUU_clean.cif\n",
      "┌ Warning: atom 1 = Zn in IYIHUU_clean.cif is not bonded to any other atom.\n",
      "└ @ PorousMaterials C:\\Users\\Arni\\.julia\\packages\\PorousMaterials\\RoZT3\\src\\bonds.jl:158\n",
      "┌ Warning: atom 2 = Zn in IYIHUU_clean.cif is not bonded to any other atom.\n",
      "└ @ PorousMaterials C:\\Users\\Arni\\.julia\\packages\\PorousMaterials\\RoZT3\\src\\bonds.jl:158\n",
      "┌ Warning: hydrogen atom 27 in IYIHUU_clean.cif is bonded to more than one atom!\n",
      "└ @ PorousMaterials C:\\Users\\Arni\\.julia\\packages\\PorousMaterials\\RoZT3\\src\\bonds.jl:163\n",
      "┌ Warning: hydrogen atom 28 in IYIHUU_clean.cif is bonded to more than one atom!\n",
      "└ @ PorousMaterials C:\\Users\\Arni\\.julia\\packages\\PorousMaterials\\RoZT3\\src\\bonds.jl:163\n",
      "┌ Warning: atom 79 = Br in IYIHUU_clean.cif is not bonded to any other atom.\n",
      "└ @ PorousMaterials C:\\Users\\Arni\\.julia\\packages\\PorousMaterials\\RoZT3\\src\\bonds.jl:158\n",
      "┌ Warning: atom 80 = Br in IYIHUU_clean.cif is not bonded to any other atom.\n",
      "└ @ PorousMaterials C:\\Users\\Arni\\.julia\\packages\\PorousMaterials\\RoZT3\\src\\bonds.jl:158\n",
      "┌ Warning: throwing out \n",
      "│   crystal.name = IYIHUU_clean.cif\n",
      "└ @ Main In[11]:23\n"
     ]
    },
    {
     "name": "stderr",
     "output_type": "stream",
     "text": [
      "\u001b[32mProgress:  40%|█████████████████                        |  ETA: 0:28:40\u001b[39m"
     ]
    },
    {
     "name": "stdout",
     "output_type": "stream",
     "text": [
      "┌ Warning: atom 23 = H in JEMQEY_clean.cif is not bonded to any other atom.\n",
      "└ @ PorousMaterials C:\\Users\\Arni\\.julia\\packages\\PorousMaterials\\RoZT3\\src\\bonds.jl:158\n",
      "┌ Warning: atom 44 = H in JEMQEY_clean.cif is not bonded to any other atom.\n",
      "└ @ PorousMaterials C:\\Users\\Arni\\.julia\\packages\\PorousMaterials\\RoZT3\\src\\bonds.jl:158\n",
      "┌ Warning: throwing out \n",
      "│   crystal.name = JEMQEY_clean.cif\n",
      "└ @ Main In[11]:23\n"
     ]
    },
    {
     "name": "stderr",
     "output_type": "stream",
     "text": [
      "\u001b[32mProgress:  42%|██████████████████                       |  ETA: 0:27:51\u001b[39m"
     ]
    },
    {
     "name": "stdout",
     "output_type": "stream",
     "text": [
      "Voronoi problems with KECRAL10_clean.cif\n",
      "┌ Warning: atom 1 = Cd in KECRAL10_clean.cif is not bonded to any other atom.\n",
      "└ @ PorousMaterials C:\\Users\\Arni\\.julia\\packages\\PorousMaterials\\RoZT3\\src\\bonds.jl:158\n",
      "┌ Warning: atom 2 = Cd in KECRAL10_clean.cif is not bonded to any other atom.\n",
      "└ @ PorousMaterials C:\\Users\\Arni\\.julia\\packages\\PorousMaterials\\RoZT3\\src\\bonds.jl:158\n",
      "┌ Warning: atom 3 = Cd in KECRAL10_clean.cif is not bonded to any other atom.\n",
      "└ @ PorousMaterials C:\\Users\\Arni\\.julia\\packages\\PorousMaterials\\RoZT3\\src\\bonds.jl:158\n",
      "┌ Warning: throwing out \n",
      "│   crystal.name = KECRAL10_clean.cif\n",
      "└ @ Main In[11]:23\n"
     ]
    },
    {
     "name": "stderr",
     "output_type": "stream",
     "text": [
      "\u001b[32mProgress:  44%|███████████████████                      |  ETA: 0:27:13\u001b[39m"
     ]
    },
    {
     "name": "stdout",
     "output_type": "stream",
     "text": [
      "┌ Warning: carbon atom 102 in KOJZAL_clean.cif is bonded to more than four!\n",
      "└ @ PorousMaterials C:\\Users\\Arni\\.julia\\packages\\PorousMaterials\\RoZT3\\src\\bonds.jl:168\n",
      "┌ Warning: carbon atom 106 in KOJZAL_clean.cif is bonded to more than four!\n",
      "└ @ PorousMaterials C:\\Users\\Arni\\.julia\\packages\\PorousMaterials\\RoZT3\\src\\bonds.jl:168\n",
      "┌ Warning: carbon atom 138 in KOJZAL_clean.cif is bonded to more than four!\n",
      "└ @ PorousMaterials C:\\Users\\Arni\\.julia\\packages\\PorousMaterials\\RoZT3\\src\\bonds.jl:168\n",
      "┌ Warning: carbon atom 142 in KOJZAL_clean.cif is bonded to more than four!\n",
      "└ @ PorousMaterials C:\\Users\\Arni\\.julia\\packages\\PorousMaterials\\RoZT3\\src\\bonds.jl:168\n",
      "┌ Warning: throwing out \n",
      "│   crystal.name = KOJZAL_clean.cif\n",
      "└ @ Main In[11]:23\n"
     ]
    },
    {
     "name": "stderr",
     "output_type": "stream",
     "text": [
      "\u001b[32mProgress:  47%|████████████████████                     |  ETA: 0:25:32\u001b[39m"
     ]
    },
    {
     "name": "stdout",
     "output_type": "stream",
     "text": [
      "┌ Warning: hydrogen atom 7 in LETRIN_clean.cif is bonded to more than one atom!\n",
      "└ @ PorousMaterials C:\\Users\\Arni\\.julia\\packages\\PorousMaterials\\RoZT3\\src\\bonds.jl:163\n",
      "┌ Warning: hydrogen atom 11 in LETRIN_clean.cif is bonded to more than one atom!\n",
      "└ @ PorousMaterials C:\\Users\\Arni\\.julia\\packages\\PorousMaterials\\RoZT3\\src\\bonds.jl:163\n",
      "┌ Warning: hydrogen atom 15 in LETRIN_clean.cif is bonded to more than one atom!\n",
      "└ @ PorousMaterials C:\\Users\\Arni\\.julia\\packages\\PorousMaterials\\RoZT3\\src\\bonds.jl:163\n",
      "┌ Warning: hydrogen atom 19 in LETRIN_clean.cif is bonded to more than one atom!\n",
      "└ @ PorousMaterials C:\\Users\\Arni\\.julia\\packages\\PorousMaterials\\RoZT3\\src\\bonds.jl:163\n",
      "┌ Warning: throwing out \n",
      "│   crystal.name = LETRIN_clean.cif\n",
      "└ @ Main In[11]:23\n"
     ]
    },
    {
     "name": "stderr",
     "output_type": "stream",
     "text": [
      "\u001b[32mProgress:  47%|████████████████████                     |  ETA: 0:25:31\u001b[39m"
     ]
    },
    {
     "name": "stdout",
     "output_type": "stream",
     "text": [
      "┌ Warning: hydrogen atom 7 in LETROT_clean.cif is bonded to more than one atom!\n",
      "└ @ PorousMaterials C:\\Users\\Arni\\.julia\\packages\\PorousMaterials\\RoZT3\\src\\bonds.jl:163\n",
      "┌ Warning: hydrogen atom 11 in LETROT_clean.cif is bonded to more than one atom!\n",
      "└ @ PorousMaterials C:\\Users\\Arni\\.julia\\packages\\PorousMaterials\\RoZT3\\src\\bonds.jl:163\n",
      "┌ Warning: hydrogen atom 15 in LETROT_clean.cif is bonded to more than one atom!\n",
      "└ @ PorousMaterials C:\\Users\\Arni\\.julia\\packages\\PorousMaterials\\RoZT3\\src\\bonds.jl:163\n",
      "┌ Warning: hydrogen atom 19 in LETROT_clean.cif is bonded to more than one atom!\n",
      "└ @ PorousMaterials C:\\Users\\Arni\\.julia\\packages\\PorousMaterials\\RoZT3\\src\\bonds.jl:163\n",
      "┌ Warning: throwing out \n",
      "│   crystal.name = LETROT_clean.cif\n",
      "└ @ Main In[11]:23\n"
     ]
    },
    {
     "name": "stderr",
     "output_type": "stream",
     "text": [
      "\u001b[32mProgress:  48%|████████████████████                     |  ETA: 0:25:10\u001b[39m"
     ]
    },
    {
     "name": "stdout",
     "output_type": "stream",
     "text": [
      "┌ Warning: carbon atom 23 in LIQGEY_clean.cif is bonded to more than four!\n",
      "└ @ PorousMaterials C:\\Users\\Arni\\.julia\\packages\\PorousMaterials\\RoZT3\\src\\bonds.jl:168\n",
      "┌ Warning: carbon atom 26 in LIQGEY_clean.cif is bonded to more than four!\n",
      "└ @ PorousMaterials C:\\Users\\Arni\\.julia\\packages\\PorousMaterials\\RoZT3\\src\\bonds.jl:168\n",
      "┌ Warning: carbon atom 27 in LIQGEY_clean.cif is bonded to more than four!\n",
      "└ @ PorousMaterials C:\\Users\\Arni\\.julia\\packages\\PorousMaterials\\RoZT3\\src\\bonds.jl:168\n",
      "┌ Warning: carbon atom 30 in LIQGEY_clean.cif is bonded to more than four!\n",
      "└ @ PorousMaterials C:\\Users\\Arni\\.julia\\packages\\PorousMaterials\\RoZT3\\src\\bonds.jl:168\n",
      "┌ Warning: throwing out \n",
      "│   crystal.name = LIQGEY_clean.cif\n",
      "└ @ Main In[11]:23\n"
     ]
    },
    {
     "name": "stderr",
     "output_type": "stream",
     "text": [
      "\u001b[32mProgress:  51%|█████████████████████                    |  ETA: 0:23:33\u001b[39m"
     ]
    },
    {
     "name": "stdout",
     "output_type": "stream",
     "text": [
      "┌ Warning: atom 2 = Ag in MAYPIM_clean.cif is not bonded to any other atom.\n",
      "└ @ PorousMaterials C:\\Users\\Arni\\.julia\\packages\\PorousMaterials\\RoZT3\\src\\bonds.jl:158\n",
      "┌ Warning: atom 4 = Ag in MAYPIM_clean.cif is not bonded to any other atom.\n",
      "└ @ PorousMaterials C:\\Users\\Arni\\.julia\\packages\\PorousMaterials\\RoZT3\\src\\bonds.jl:158\n",
      "┌ Warning: atom 6 = Ag in MAYPIM_clean.cif is not bonded to any other atom.\n",
      "└ @ PorousMaterials C:\\Users\\Arni\\.julia\\packages\\PorousMaterials\\RoZT3\\src\\bonds.jl:158\n",
      "┌ Warning: atom 8 = Ag in MAYPIM_clean.cif is not bonded to any other atom.\n",
      "└ @ PorousMaterials C:\\Users\\Arni\\.julia\\packages\\PorousMaterials\\RoZT3\\src\\bonds.jl:158\n",
      "┌ Warning: throwing out \n",
      "│   crystal.name = MAYPIM_clean.cif\n",
      "└ @ Main In[11]:23\n"
     ]
    },
    {
     "name": "stderr",
     "output_type": "stream",
     "text": [
      "\u001b[32mProgress:  54%|███████████████████████                  |  ETA: 0:21:57\u001b[39m"
     ]
    },
    {
     "name": "stdout",
     "output_type": "stream",
     "text": [
      "┌ Warning: atom 17 = Pb in MOF-70.cif is not bonded to any other atom.\n",
      "└ @ PorousMaterials C:\\Users\\Arni\\.julia\\packages\\PorousMaterials\\RoZT3\\src\\bonds.jl:158\n",
      "┌ Warning: atom 18 = Pb in MOF-70.cif is not bonded to any other atom.\n",
      "└ @ PorousMaterials C:\\Users\\Arni\\.julia\\packages\\PorousMaterials\\RoZT3\\src\\bonds.jl:158\n",
      "┌ Warning: atom 19 = Pb in MOF-70.cif is not bonded to any other atom.\n",
      "└ @ PorousMaterials C:\\Users\\Arni\\.julia\\packages\\PorousMaterials\\RoZT3\\src\\bonds.jl:158\n",
      "┌ Warning: atom 20 = Pb in MOF-70.cif is not bonded to any other atom.\n",
      "└ @ PorousMaterials C:\\Users\\Arni\\.julia\\packages\\PorousMaterials\\RoZT3\\src\\bonds.jl:158\n",
      "┌ Warning: throwing out \n",
      "│   crystal.name = MOF-70.cif\n",
      "└ @ Main In[11]:23\n"
     ]
    },
    {
     "name": "stderr",
     "output_type": "stream",
     "text": [
      "\u001b[32mProgress:  54%|███████████████████████                  |  ETA: 0:21:55\u001b[39m"
     ]
    },
    {
     "name": "stdout",
     "output_type": "stream",
     "text": [
      "┌ Warning: carbon atom 79 in MOGYAI_clean.cif is bonded to more than four!\n",
      "└ @ PorousMaterials C:\\Users\\Arni\\.julia\\packages\\PorousMaterials\\RoZT3\\src\\bonds.jl:168\n",
      "┌ Warning: carbon atom 81 in MOGYAI_clean.cif is bonded to more than four!\n",
      "└ @ PorousMaterials C:\\Users\\Arni\\.julia\\packages\\PorousMaterials\\RoZT3\\src\\bonds.jl:168\n",
      "┌ Warning: carbon atom 83 in MOGYAI_clean.cif is bonded to more than four!\n",
      "└ @ PorousMaterials C:\\Users\\Arni\\.julia\\packages\\PorousMaterials\\RoZT3\\src\\bonds.jl:168\n",
      "┌ Warning: carbon atom 85 in MOGYAI_clean.cif is bonded to more than four!\n",
      "└ @ PorousMaterials C:\\Users\\Arni\\.julia\\packages\\PorousMaterials\\RoZT3\\src\\bonds.jl:168\n",
      "┌ Warning: throwing out \n",
      "│   crystal.name = MOGYAI_clean.cif\n",
      "└ @ Main In[11]:23\n"
     ]
    },
    {
     "name": "stderr",
     "output_type": "stream",
     "text": [
      "\u001b[32mProgress:  55%|███████████████████████                  |  ETA: 0:21:12\u001b[39m"
     ]
    },
    {
     "name": "stdout",
     "output_type": "stream",
     "text": [
      "┌ Warning: atom 81 = O in NAJGAH_clean.cif is not bonded to any other atom.\n",
      "└ @ PorousMaterials C:\\Users\\Arni\\.julia\\packages\\PorousMaterials\\RoZT3\\src\\bonds.jl:158\n",
      "┌ Warning: atom 90 = O in NAJGAH_clean.cif is not bonded to any other atom.\n",
      "└ @ PorousMaterials C:\\Users\\Arni\\.julia\\packages\\PorousMaterials\\RoZT3\\src\\bonds.jl:158\n",
      "┌ Warning: throwing out \n",
      "│   crystal.name = NAJGAH_clean.cif\n",
      "└ @ Main In[11]:23\n"
     ]
    },
    {
     "name": "stderr",
     "output_type": "stream",
     "text": [
      "\u001b[32mProgress:  56%|███████████████████████                  |  ETA: 0:20:59\u001b[39m"
     ]
    },
    {
     "name": "stdout",
     "output_type": "stream",
     "text": [
      "┌ Warning: carbon atom 109 in NATXOW_clean.cif is bonded to more than four!\n",
      "└ @ PorousMaterials C:\\Users\\Arni\\.julia\\packages\\PorousMaterials\\RoZT3\\src\\bonds.jl:168\n",
      "┌ Warning: carbon atom 110 in NATXOW_clean.cif is bonded to more than four!\n",
      "└ @ PorousMaterials C:\\Users\\Arni\\.julia\\packages\\PorousMaterials\\RoZT3\\src\\bonds.jl:168\n",
      "┌ Warning: carbon atom 134 in NATXOW_clean.cif is bonded to more than four!\n",
      "└ @ PorousMaterials C:\\Users\\Arni\\.julia\\packages\\PorousMaterials\\RoZT3\\src\\bonds.jl:168\n",
      "┌ Warning: carbon atom 135 in NATXOW_clean.cif is bonded to more than four!\n",
      "└ @ PorousMaterials C:\\Users\\Arni\\.julia\\packages\\PorousMaterials\\RoZT3\\src\\bonds.jl:168\n",
      "┌ Warning: carbon atom 159 in NATXOW_clean.cif is bonded to more than four!\n",
      "└ @ PorousMaterials C:\\Users\\Arni\\.julia\\packages\\PorousMaterials\\RoZT3\\src\\bonds.jl:168\n",
      "┌ Warning: carbon atom 160 in NATXOW_clean.cif is bonded to more than four!\n",
      "└ @ PorousMaterials C:\\Users\\Arni\\.julia\\packages\\PorousMaterials\\RoZT3\\src\\bonds.jl:168\n",
      "┌ Warning: carbon atom 184 in NATXOW_clean.cif is bonded to more than four!\n",
      "└ @ PorousMaterials C:\\Users\\Arni\\.julia\\packages\\PorousMaterials\\RoZT3\\src\\bonds.jl:168\n",
      "┌ Warning: carbon atom 185 in NATXOW_clean.cif is bonded to more than four!\n",
      "└ @ PorousMaterials C:\\Users\\Arni\\.julia\\packages\\PorousMaterials\\RoZT3\\src\\bonds.jl:168\n",
      "┌ Warning: throwing out \n",
      "│   crystal.name = NATXOW_clean.cif\n",
      "└ @ Main In[11]:23\n"
     ]
    },
    {
     "name": "stderr",
     "output_type": "stream",
     "text": [
      "\u001b[32mProgress:  56%|███████████████████████                  |  ETA: 0:20:58\u001b[39m"
     ]
    },
    {
     "name": "stdout",
     "output_type": "stream",
     "text": [
      "┌ Warning: hydrogen atom 14 in NAXLEF_clean.cif is bonded to more than one atom!\n",
      "└ @ PorousMaterials C:\\Users\\Arni\\.julia\\packages\\PorousMaterials\\RoZT3\\src\\bonds.jl:163\n",
      "┌ Warning: throwing out \n",
      "│   crystal.name = NAXLEF_clean.cif\n",
      "└ @ Main In[11]:23\n"
     ]
    },
    {
     "name": "stderr",
     "output_type": "stream",
     "text": [
      "\u001b[32mProgress:  57%|████████████████████████                 |  ETA: 0:20:26\u001b[39m"
     ]
    },
    {
     "name": "stdout",
     "output_type": "stream",
     "text": [
      "┌ Warning: hydrogen atom 49 in NEVGIE.cif is bonded to more than one atom!\n",
      "└ @ PorousMaterials C:\\Users\\Arni\\.julia\\packages\\PorousMaterials\\RoZT3\\src\\bonds.jl:163\n",
      "┌ Warning: hydrogen atom 50 in NEVGIE.cif is bonded to more than one atom!\n",
      "└ @ PorousMaterials C:\\Users\\Arni\\.julia\\packages\\PorousMaterials\\RoZT3\\src\\bonds.jl:163\n",
      "┌ Warning: hydrogen atom 51 in NEVGIE.cif is bonded to more than one atom!\n",
      "└ @ PorousMaterials C:\\Users\\Arni\\.julia\\packages\\PorousMaterials\\RoZT3\\src\\bonds.jl:163\n",
      "┌ Warning: hydrogen atom 52 in NEVGIE.cif is bonded to more than one atom!\n",
      "└ @ PorousMaterials C:\\Users\\Arni\\.julia\\packages\\PorousMaterials\\RoZT3\\src\\bonds.jl:163\n",
      "┌ Warning: throwing out \n",
      "│   crystal.name = NEVGIE.cif\n",
      "└ @ Main In[11]:23\n"
     ]
    },
    {
     "name": "stderr",
     "output_type": "stream",
     "text": [
      "\u001b[32mProgress:  57%|████████████████████████                 |  ETA: 0:20:26\u001b[39m"
     ]
    },
    {
     "name": "stdout",
     "output_type": "stream",
     "text": [
      "┌ Warning: atom 257 = Cl in NEVPUA.cif is not bonded to any other atom.\n",
      "└ @ PorousMaterials C:\\Users\\Arni\\.julia\\packages\\PorousMaterials\\RoZT3\\src\\bonds.jl:158\n",
      "┌ Warning: atom 258 = Cl in NEVPUA.cif is not bonded to any other atom.\n",
      "└ @ PorousMaterials C:\\Users\\Arni\\.julia\\packages\\PorousMaterials\\RoZT3\\src\\bonds.jl:158\n",
      "┌ Warning: atom 259 = Cl in NEVPUA.cif is not bonded to any other atom.\n",
      "└ @ PorousMaterials C:\\Users\\Arni\\.julia\\packages\\PorousMaterials\\RoZT3\\src\\bonds.jl:158\n",
      "┌ Warning: atom 260 = Cl in NEVPUA.cif is not bonded to any other atom.\n",
      "└ @ PorousMaterials C:\\Users\\Arni\\.julia\\packages\\PorousMaterials\\RoZT3\\src\\bonds.jl:158\n",
      "┌ Warning: atom 261 = Cl in NEVPUA.cif is not bonded to any other atom.\n",
      "└ @ PorousMaterials C:\\Users\\Arni\\.julia\\packages\\PorousMaterials\\RoZT3\\src\\bonds.jl:158\n",
      "┌ Warning: atom 262 = Cl in NEVPUA.cif is not bonded to any other atom.\n",
      "└ @ PorousMaterials C:\\Users\\Arni\\.julia\\packages\\PorousMaterials\\RoZT3\\src\\bonds.jl:158\n",
      "┌ Warning: atom 263 = Cl in NEVPUA.cif is not bonded to any other atom.\n",
      "└ @ PorousMaterials C:\\Users\\Arni\\.julia\\packages\\PorousMaterials\\RoZT3\\src\\bonds.jl:158\n",
      "┌ Warning: atom 264 = Cl in NEVPUA.cif is not bonded to any other atom.\n",
      "└ @ PorousMaterials C:\\Users\\Arni\\.julia\\packages\\PorousMaterials\\RoZT3\\src\\bonds.jl:158\n",
      "┌ Warning: throwing out \n",
      "│   crystal.name = NEVPUA.cif\n",
      "└ @ Main In[11]:23\n"
     ]
    },
    {
     "name": "stderr",
     "output_type": "stream",
     "text": [
      "\u001b[32mProgress:  57%|████████████████████████                 |  ETA: 0:20:14\u001b[39m"
     ]
    },
    {
     "name": "stdout",
     "output_type": "stream",
     "text": [
      "┌ Warning: atom 74 = F in NICZAA01_clean.cif is not bonded to any other atom.\n",
      "└ @ PorousMaterials C:\\Users\\Arni\\.julia\\packages\\PorousMaterials\\RoZT3\\src\\bonds.jl:158\n",
      "┌ Warning: atom 75 = F in NICZAA01_clean.cif is not bonded to any other atom.\n",
      "└ @ PorousMaterials C:\\Users\\Arni\\.julia\\packages\\PorousMaterials\\RoZT3\\src\\bonds.jl:158\n",
      "┌ Warning: throwing out \n",
      "│   crystal.name = NICZAA01_clean.cif\n",
      "└ @ Main In[11]:23\n"
     ]
    },
    {
     "name": "stderr",
     "output_type": "stream",
     "text": [
      "\u001b[32mProgress:  60%|█████████████████████████                |  ETA: 0:18:45\u001b[39m"
     ]
    },
    {
     "name": "stdout",
     "output_type": "stream",
     "text": [
      "Voronoi problems with OFAWEZ_clean.cif\n",
      "┌ Warning: atom 1 = Hf in OFAWEZ_clean.cif is not bonded to any other atom.\n",
      "└ @ PorousMaterials C:\\Users\\Arni\\.julia\\packages\\PorousMaterials\\RoZT3\\src\\bonds.jl:158\n",
      "┌ Warning: atom 2 = Hf in OFAWEZ_clean.cif is not bonded to any other atom.\n",
      "└ @ PorousMaterials C:\\Users\\Arni\\.julia\\packages\\PorousMaterials\\RoZT3\\src\\bonds.jl:158\n",
      "┌ Warning: atom 3 = Hf in OFAWEZ_clean.cif is not bonded to any other atom.\n",
      "└ @ PorousMaterials C:\\Users\\Arni\\.julia\\packages\\PorousMaterials\\RoZT3\\src\\bonds.jl:158\n",
      "┌ Warning: atom 4 = Hf in OFAWEZ_clean.cif is not bonded to any other atom.\n",
      "└ @ PorousMaterials C:\\Users\\Arni\\.julia\\packages\\PorousMaterials\\RoZT3\\src\\bonds.jl:158\n",
      "┌ Warning: atom 5 = Hf in OFAWEZ_clean.cif is not bonded to any other atom.\n",
      "└ @ PorousMaterials C:\\Users\\Arni\\.julia\\packages\\PorousMaterials\\RoZT3\\src\\bonds.jl:158\n",
      "┌ Warning: atom 6 = Hf in OFAWEZ_clean.cif is not bonded to any other atom.\n",
      "└ @ PorousMaterials C:\\Users\\Arni\\.julia\\packages\\PorousMaterials\\RoZT3\\src\\bonds.jl:158\n",
      "┌ Warning: atom 95 = O in OFAWEZ_clean.cif is not bonded to any other atom.\n",
      "└ @ PorousMaterials C:\\Users\\Arni\\.julia\\packages\\PorousMaterials\\RoZT3\\src\\bonds.jl:158\n",
      "┌ Warning: atom 96 = O in OFAWEZ_clean.cif is not bonded to any other atom.\n",
      "└ @ PorousMaterials C:\\Users\\Arni\\.julia\\packages\\PorousMaterials\\RoZT3\\src\\bonds.jl:158\n",
      "┌ Warning: atom 97 = O in OFAWEZ_clean.cif is not bonded to any other atom.\n",
      "└ @ PorousMaterials C:\\Users\\Arni\\.julia\\packages\\PorousMaterials\\RoZT3\\src\\bonds.jl:158\n",
      "┌ Warning: atom 98 = O in OFAWEZ_clean.cif is not bonded to any other atom.\n",
      "└ @ PorousMaterials C:\\Users\\Arni\\.julia\\packages\\PorousMaterials\\RoZT3\\src\\bonds.jl:158\n",
      "┌ Warning: atom 99 = O in OFAWEZ_clean.cif is not bonded to any other atom.\n",
      "└ @ PorousMaterials C:\\Users\\Arni\\.julia\\packages\\PorousMaterials\\RoZT3\\src\\bonds.jl:158\n",
      "┌ Warning: atom 100 = O in OFAWEZ_clean.cif is not bonded to any other atom.\n",
      "└ @ PorousMaterials C:\\Users\\Arni\\.julia\\packages\\PorousMaterials\\RoZT3\\src\\bonds.jl:158\n",
      "┌ Warning: atom 101 = O in OFAWEZ_clean.cif is not bonded to any other atom.\n",
      "└ @ PorousMaterials C:\\Users\\Arni\\.julia\\packages\\PorousMaterials\\RoZT3\\src\\bonds.jl:158\n",
      "┌ Warning: atom 102 = O in OFAWEZ_clean.cif is not bonded to any other atom.\n",
      "└ @ PorousMaterials C:\\Users\\Arni\\.julia\\packages\\PorousMaterials\\RoZT3\\src\\bonds.jl:158\n",
      "┌ Warning: throwing out \n",
      "│   crystal.name = OFAWEZ_clean.cif\n",
      "└ @ Main In[11]:23\n"
     ]
    },
    {
     "name": "stderr",
     "output_type": "stream",
     "text": [
      "\u001b[32mProgress:  63%|██████████████████████████               |  ETA: 0:17:44\u001b[39m"
     ]
    },
    {
     "name": "stdout",
     "output_type": "stream",
     "text": [
      "┌ Warning: hydrogen atom 9 in OXAZIX_clean.cif is bonded to more than one atom!\n",
      "└ @ PorousMaterials C:\\Users\\Arni\\.julia\\packages\\PorousMaterials\\RoZT3\\src\\bonds.jl:163\n",
      "┌ Warning: hydrogen atom 14 in OXAZIX_clean.cif is bonded to more than one atom!\n",
      "└ @ PorousMaterials C:\\Users\\Arni\\.julia\\packages\\PorousMaterials\\RoZT3\\src\\bonds.jl:163\n",
      "┌ Warning: hydrogen atom 19 in OXAZIX_clean.cif is bonded to more than one atom!\n",
      "└ @ PorousMaterials C:\\Users\\Arni\\.julia\\packages\\PorousMaterials\\RoZT3\\src\\bonds.jl:163\n",
      "┌ Warning: hydrogen atom 24 in OXAZIX_clean.cif is bonded to more than one atom!\n",
      "└ @ PorousMaterials C:\\Users\\Arni\\.julia\\packages\\PorousMaterials\\RoZT3\\src\\bonds.jl:163\n",
      "┌ Warning: throwing out \n",
      "│   crystal.name = OXAZIX_clean.cif\n",
      "└ @ Main In[11]:23\n"
     ]
    },
    {
     "name": "stderr",
     "output_type": "stream",
     "text": [
      "\u001b[32mProgress:  63%|██████████████████████████               |  ETA: 0:17:34\u001b[39m"
     ]
    },
    {
     "name": "stdout",
     "output_type": "stream",
     "text": [
      "┌ Warning: hydrogen atom 5 in PAMGIV_clean.cif is bonded to more than one atom!\n",
      "└ @ PorousMaterials C:\\Users\\Arni\\.julia\\packages\\PorousMaterials\\RoZT3\\src\\bonds.jl:163\n",
      "┌ Warning: hydrogen atom 11 in PAMGIV_clean.cif is bonded to more than one atom!\n",
      "└ @ PorousMaterials C:\\Users\\Arni\\.julia\\packages\\PorousMaterials\\RoZT3\\src\\bonds.jl:163\n",
      "┌ Warning: throwing out \n",
      "│   crystal.name = PAMGIV_clean.cif\n",
      "└ @ Main In[11]:23\n"
     ]
    },
    {
     "name": "stderr",
     "output_type": "stream",
     "text": [
      "\u001b[32mProgress:  63%|███████████████████████████              |  ETA: 0:17:33\u001b[39m"
     ]
    },
    {
     "name": "stdout",
     "output_type": "stream",
     "text": [
      "┌ Warning: hydrogen atom 10 in PAMHES01_clean.cif is bonded to more than one atom!\n",
      "└ @ PorousMaterials C:\\Users\\Arni\\.julia\\packages\\PorousMaterials\\RoZT3\\src\\bonds.jl:163\n",
      "┌ Warning: hydrogen atom 16 in PAMHES01_clean.cif is bonded to more than one atom!\n",
      "└ @ PorousMaterials C:\\Users\\Arni\\.julia\\packages\\PorousMaterials\\RoZT3\\src\\bonds.jl:163\n",
      "┌ Warning: throwing out \n",
      "│   crystal.name = PAMHES01_clean.cif\n",
      "└ @ Main In[11]:23\n"
     ]
    },
    {
     "name": "stderr",
     "output_type": "stream",
     "text": [
      "\u001b[32mProgress:  63%|███████████████████████████              |  ETA: 0:17:32\u001b[39m"
     ]
    },
    {
     "name": "stdout",
     "output_type": "stream",
     "text": [
      "┌ Warning: hydrogen atom 5 in PAMHES_clean.cif is bonded to more than one atom!\n",
      "└ @ PorousMaterials C:\\Users\\Arni\\.julia\\packages\\PorousMaterials\\RoZT3\\src\\bonds.jl:163\n",
      "┌ Warning: hydrogen atom 11 in PAMHES_clean.cif is bonded to more than one atom!\n",
      "└ @ PorousMaterials C:\\Users\\Arni\\.julia\\packages\\PorousMaterials\\RoZT3\\src\\bonds.jl:163\n",
      "┌ Warning: throwing out \n",
      "│   crystal.name = PAMHES_clean.cif\n",
      "└ @ Main In[11]:23\n"
     ]
    },
    {
     "name": "stderr",
     "output_type": "stream",
     "text": [
      "\u001b[32mProgress:  67%|████████████████████████████             |  ETA: 0:15:39\u001b[39m"
     ]
    },
    {
     "name": "stdout",
     "output_type": "stream",
     "text": [
      "┌ Warning: hydrogen atom 14 in PURQID_clean.cif is bonded to more than one atom!\n",
      "└ @ PorousMaterials C:\\Users\\Arni\\.julia\\packages\\PorousMaterials\\RoZT3\\src\\bonds.jl:163\n",
      "┌ Warning: hydrogen atom 15 in PURQID_clean.cif is bonded to more than one atom!\n",
      "└ @ PorousMaterials C:\\Users\\Arni\\.julia\\packages\\PorousMaterials\\RoZT3\\src\\bonds.jl:163\n",
      "┌ Warning: hydrogen atom 24 in PURQID_clean.cif is bonded to more than one atom!\n",
      "└ @ PorousMaterials C:\\Users\\Arni\\.julia\\packages\\PorousMaterials\\RoZT3\\src\\bonds.jl:163\n",
      "┌ Warning: hydrogen atom 25 in PURQID_clean.cif is bonded to more than one atom!\n",
      "└ @ PorousMaterials C:\\Users\\Arni\\.julia\\packages\\PorousMaterials\\RoZT3\\src\\bonds.jl:163\n",
      "┌ Warning: hydrogen atom 34 in PURQID_clean.cif is bonded to more than one atom!\n",
      "└ @ PorousMaterials C:\\Users\\Arni\\.julia\\packages\\PorousMaterials\\RoZT3\\src\\bonds.jl:163\n",
      "┌ Warning: hydrogen atom 35 in PURQID_clean.cif is bonded to more than one atom!\n",
      "└ @ PorousMaterials C:\\Users\\Arni\\.julia\\packages\\PorousMaterials\\RoZT3\\src\\bonds.jl:163\n",
      "┌ Warning: hydrogen atom 44 in PURQID_clean.cif is bonded to more than one atom!\n",
      "└ @ PorousMaterials C:\\Users\\Arni\\.julia\\packages\\PorousMaterials\\RoZT3\\src\\bonds.jl:163\n",
      "┌ Warning: hydrogen atom 45 in PURQID_clean.cif is bonded to more than one atom!\n",
      "└ @ PorousMaterials C:\\Users\\Arni\\.julia\\packages\\PorousMaterials\\RoZT3\\src\\bonds.jl:163\n",
      "┌ Warning: throwing out \n",
      "│   crystal.name = PURQID_clean.cif\n",
      "└ @ Main In[11]:23\n"
     ]
    },
    {
     "name": "stderr",
     "output_type": "stream",
     "text": [
      "\u001b[32mProgress:  68%|████████████████████████████             |  ETA: 0:15:24\u001b[39m"
     ]
    },
    {
     "name": "stdout",
     "output_type": "stream",
     "text": [
      "┌ Warning: hydrogen atom 20 in QARTEK_clean.cif is bonded to more than one atom!\n",
      "└ @ PorousMaterials C:\\Users\\Arni\\.julia\\packages\\PorousMaterials\\RoZT3\\src\\bonds.jl:163\n",
      "┌ Warning: hydrogen atom 36 in QARTEK_clean.cif is bonded to more than one atom!\n",
      "└ @ PorousMaterials C:\\Users\\Arni\\.julia\\packages\\PorousMaterials\\RoZT3\\src\\bonds.jl:163\n",
      "┌ Warning: hydrogen atom 52 in QARTEK_clean.cif is bonded to more than one atom!\n",
      "└ @ PorousMaterials C:\\Users\\Arni\\.julia\\packages\\PorousMaterials\\RoZT3\\src\\bonds.jl:163\n",
      "┌ Warning: hydrogen atom 68 in QARTEK_clean.cif is bonded to more than one atom!\n",
      "└ @ PorousMaterials C:\\Users\\Arni\\.julia\\packages\\PorousMaterials\\RoZT3\\src\\bonds.jl:163\n",
      "┌ Warning: throwing out \n",
      "│   crystal.name = QARTEK_clean.cif\n",
      "└ @ Main In[11]:23\n"
     ]
    },
    {
     "name": "stderr",
     "output_type": "stream",
     "text": [
      "\u001b[32mProgress:  69%|█████████████████████████████            |  ETA: 0:14:40\u001b[39m"
     ]
    },
    {
     "name": "stdout",
     "output_type": "stream",
     "text": [
      "┌ Warning: hydrogen atom 7 in QOPHEI_clean.cif is bonded to more than one atom!\n",
      "└ @ PorousMaterials C:\\Users\\Arni\\.julia\\packages\\PorousMaterials\\RoZT3\\src\\bonds.jl:163\n",
      "┌ Warning: hydrogen atom 11 in QOPHEI_clean.cif is bonded to more than one atom!\n",
      "└ @ PorousMaterials C:\\Users\\Arni\\.julia\\packages\\PorousMaterials\\RoZT3\\src\\bonds.jl:163\n",
      "┌ Warning: hydrogen atom 15 in QOPHEI_clean.cif is bonded to more than one atom!\n",
      "└ @ PorousMaterials C:\\Users\\Arni\\.julia\\packages\\PorousMaterials\\RoZT3\\src\\bonds.jl:163\n",
      "┌ Warning: hydrogen atom 19 in QOPHEI_clean.cif is bonded to more than one atom!\n",
      "└ @ PorousMaterials C:\\Users\\Arni\\.julia\\packages\\PorousMaterials\\RoZT3\\src\\bonds.jl:163\n",
      "┌ Warning: throwing out \n",
      "│   crystal.name = QOPHEI_clean.cif\n",
      "└ @ Main In[11]:23\n"
     ]
    },
    {
     "name": "stderr",
     "output_type": "stream",
     "text": [
      "\u001b[32mProgress:  70%|█████████████████████████████            |  ETA: 0:14:13\u001b[39m"
     ]
    },
    {
     "name": "stdout",
     "output_type": "stream",
     "text": [
      "Voronoi problems with QUQPOI_clean.cif\n",
      "┌ Warning: atom 1 = Zn in QUQPOI_clean.cif is not bonded to any other atom.\n",
      "└ @ PorousMaterials C:\\Users\\Arni\\.julia\\packages\\PorousMaterials\\RoZT3\\src\\bonds.jl:158\n",
      "┌ Warning: throwing out \n",
      "│   crystal.name = QUQPOI_clean.cif\n",
      "└ @ Main In[11]:23\n"
     ]
    },
    {
     "name": "stderr",
     "output_type": "stream",
     "text": [
      "\u001b[32mProgress:  73%|██████████████████████████████           |  ETA: 0:12:58\u001b[39m"
     ]
    },
    {
     "name": "stdout",
     "output_type": "stream",
     "text": [
      "┌ Warning: atom 285 = C in RIDKOE.cif is not bonded to any other atom.\n",
      "└ @ PorousMaterials C:\\Users\\Arni\\.julia\\packages\\PorousMaterials\\RoZT3\\src\\bonds.jl:158\n",
      "┌ Warning: atom 286 = C in RIDKOE.cif is not bonded to any other atom.\n",
      "└ @ PorousMaterials C:\\Users\\Arni\\.julia\\packages\\PorousMaterials\\RoZT3\\src\\bonds.jl:158\n",
      "┌ Warning: atom 287 = C in RIDKOE.cif is not bonded to any other atom.\n",
      "└ @ PorousMaterials C:\\Users\\Arni\\.julia\\packages\\PorousMaterials\\RoZT3\\src\\bonds.jl:158\n",
      "┌ Warning: atom 288 = C in RIDKOE.cif is not bonded to any other atom.\n",
      "└ @ PorousMaterials C:\\Users\\Arni\\.julia\\packages\\PorousMaterials\\RoZT3\\src\\bonds.jl:158\n",
      "┌ Warning: atom 305 = C in RIDKOE.cif is not bonded to any other atom.\n",
      "└ @ PorousMaterials C:\\Users\\Arni\\.julia\\packages\\PorousMaterials\\RoZT3\\src\\bonds.jl:158\n",
      "┌ Warning: atom 306 = C in RIDKOE.cif is not bonded to any other atom.\n",
      "└ @ PorousMaterials C:\\Users\\Arni\\.julia\\packages\\PorousMaterials\\RoZT3\\src\\bonds.jl:158\n",
      "┌ Warning: atom 307 = C in RIDKOE.cif is not bonded to any other atom.\n",
      "└ @ PorousMaterials C:\\Users\\Arni\\.julia\\packages\\PorousMaterials\\RoZT3\\src\\bonds.jl:158\n",
      "┌ Warning: atom 308 = C in RIDKOE.cif is not bonded to any other atom.\n",
      "└ @ PorousMaterials C:\\Users\\Arni\\.julia\\packages\\PorousMaterials\\RoZT3\\src\\bonds.jl:158\n",
      "┌ Warning: atom 309 = C in RIDKOE.cif is not bonded to any other atom.\n",
      "└ @ PorousMaterials C:\\Users\\Arni\\.julia\\packages\\PorousMaterials\\RoZT3\\src\\bonds.jl:158\n",
      "┌ Warning: atom 310 = C in RIDKOE.cif is not bonded to any other atom.\n",
      "└ @ PorousMaterials C:\\Users\\Arni\\.julia\\packages\\PorousMaterials\\RoZT3\\src\\bonds.jl:158\n",
      "┌ Warning: atom 311 = C in RIDKOE.cif is not bonded to any other atom.\n",
      "└ @ PorousMaterials C:\\Users\\Arni\\.julia\\packages\\PorousMaterials\\RoZT3\\src\\bonds.jl:158\n",
      "┌ Warning: atom 312 = C in RIDKOE.cif is not bonded to any other atom.\n",
      "└ @ PorousMaterials C:\\Users\\Arni\\.julia\\packages\\PorousMaterials\\RoZT3\\src\\bonds.jl:158\n",
      "┌ Warning: atom 313 = C in RIDKOE.cif is not bonded to any other atom.\n",
      "└ @ PorousMaterials C:\\Users\\Arni\\.julia\\packages\\PorousMaterials\\RoZT3\\src\\bonds.jl:158\n",
      "┌ Warning: atom 314 = C in RIDKOE.cif is not bonded to any other atom.\n",
      "└ @ PorousMaterials C:\\Users\\Arni\\.julia\\packages\\PorousMaterials\\RoZT3\\src\\bonds.jl:158\n",
      "┌ Warning: atom 315 = C in RIDKOE.cif is not bonded to any other atom.\n",
      "└ @ PorousMaterials C:\\Users\\Arni\\.julia\\packages\\PorousMaterials\\RoZT3\\src\\bonds.jl:158\n",
      "┌ Warning: atom 316 = C in RIDKOE.cif is not bonded to any other atom.\n",
      "└ @ PorousMaterials C:\\Users\\Arni\\.julia\\packages\\PorousMaterials\\RoZT3\\src\\bonds.jl:158\n",
      "┌ Warning: throwing out \n",
      "│   crystal.name = RIDKOE.cif\n",
      "└ @ Main In[11]:23\n"
     ]
    },
    {
     "name": "stderr",
     "output_type": "stream",
     "text": [
      "\u001b[32mProgress:  74%|███████████████████████████████          |  ETA: 0:12:27\u001b[39m"
     ]
    },
    {
     "name": "stdout",
     "output_type": "stream",
     "text": [
      "┌ Warning: atom 35 = H in RUVMAX_clean.cif is not bonded to any other atom.\n",
      "└ @ PorousMaterials C:\\Users\\Arni\\.julia\\packages\\PorousMaterials\\RoZT3\\src\\bonds.jl:158\n",
      "┌ Warning: atom 36 = H in RUVMAX_clean.cif is not bonded to any other atom.\n",
      "└ @ PorousMaterials C:\\Users\\Arni\\.julia\\packages\\PorousMaterials\\RoZT3\\src\\bonds.jl:158\n",
      "┌ Warning: throwing out \n",
      "│   crystal.name = RUVMAX_clean.cif\n",
      "└ @ Main In[11]:23\n"
     ]
    },
    {
     "name": "stderr",
     "output_type": "stream",
     "text": [
      "\u001b[32mProgress:  76%|████████████████████████████████         |  ETA: 0:11:12\u001b[39m"
     ]
    },
    {
     "name": "stdout",
     "output_type": "stream",
     "text": [
      "┌ Warning: atom 1 = Cd in SOGWIV_clean.cif is not bonded to any other atom.\n",
      "└ @ PorousMaterials C:\\Users\\Arni\\.julia\\packages\\PorousMaterials\\RoZT3\\src\\bonds.jl:158\n",
      "┌ Warning: atom 2 = Cd in SOGWIV_clean.cif is not bonded to any other atom.\n",
      "└ @ PorousMaterials C:\\Users\\Arni\\.julia\\packages\\PorousMaterials\\RoZT3\\src\\bonds.jl:158\n",
      "┌ Warning: atom 3 = Cd in SOGWIV_clean.cif is not bonded to any other atom.\n",
      "└ @ PorousMaterials C:\\Users\\Arni\\.julia\\packages\\PorousMaterials\\RoZT3\\src\\bonds.jl:158\n",
      "┌ Warning: atom 4 = Cd in SOGWIV_clean.cif is not bonded to any other atom.\n",
      "└ @ PorousMaterials C:\\Users\\Arni\\.julia\\packages\\PorousMaterials\\RoZT3\\src\\bonds.jl:158\n",
      "┌ Warning: throwing out \n",
      "│   crystal.name = SOGWIV_clean.cif\n",
      "└ @ Main In[11]:23\n"
     ]
    },
    {
     "name": "stderr",
     "output_type": "stream",
     "text": [
      "\u001b[32mProgress:  77%|████████████████████████████████         |  ETA: 0:10:56\u001b[39m"
     ]
    },
    {
     "name": "stdout",
     "output_type": "stream",
     "text": [
      "┌ Warning: hydrogen atom 10 in SUHHOT_clean.cif is bonded to more than one atom!\n",
      "└ @ PorousMaterials C:\\Users\\Arni\\.julia\\packages\\PorousMaterials\\RoZT3\\src\\bonds.jl:163\n",
      "┌ Warning: throwing out \n",
      "│   crystal.name = SUHHOT_clean.cif\n",
      "└ @ Main In[11]:23\n"
     ]
    },
    {
     "name": "stderr",
     "output_type": "stream",
     "text": [
      "\u001b[32mProgress:  78%|█████████████████████████████████        |  ETA: 0:10:16\u001b[39m"
     ]
    },
    {
     "name": "stdout",
     "output_type": "stream",
     "text": [
      "Voronoi problems with TEDGOA_clean.cif\n",
      "┌ Warning: atom 1 = Zn in TEDGOA_clean.cif is not bonded to any other atom.\n",
      "└ @ PorousMaterials C:\\Users\\Arni\\.julia\\packages\\PorousMaterials\\RoZT3\\src\\bonds.jl:158\n",
      "┌ Warning: atom 2 = Zn in TEDGOA_clean.cif is not bonded to any other atom.\n",
      "└ @ PorousMaterials C:\\Users\\Arni\\.julia\\packages\\PorousMaterials\\RoZT3\\src\\bonds.jl:158\n",
      "┌ Warning: atom 3 = Zn in TEDGOA_clean.cif is not bonded to any other atom.\n",
      "└ @ PorousMaterials C:\\Users\\Arni\\.julia\\packages\\PorousMaterials\\RoZT3\\src\\bonds.jl:158\n",
      "┌ Warning: atom 4 = Zn in TEDGOA_clean.cif is not bonded to any other atom.\n",
      "└ @ PorousMaterials C:\\Users\\Arni\\.julia\\packages\\PorousMaterials\\RoZT3\\src\\bonds.jl:158\n",
      "┌ Warning: throwing out \n",
      "│   crystal.name = TEDGOA_clean.cif\n",
      "└ @ Main In[11]:23\n"
     ]
    },
    {
     "name": "stderr",
     "output_type": "stream",
     "text": [
      "\u001b[32mProgress:  79%|█████████████████████████████████        |  ETA: 0:09:50\u001b[39m"
     ]
    },
    {
     "name": "stdout",
     "output_type": "stream",
     "text": [
      "┌ Warning: hydrogen atom 17 in TEWGEJ01_clean.cif is bonded to more than one atom!\n",
      "└ @ PorousMaterials C:\\Users\\Arni\\.julia\\packages\\PorousMaterials\\RoZT3\\src\\bonds.jl:163\n",
      "┌ Warning: hydrogen atom 30 in TEWGEJ01_clean.cif is bonded to more than one atom!\n",
      "└ @ PorousMaterials C:\\Users\\Arni\\.julia\\packages\\PorousMaterials\\RoZT3\\src\\bonds.jl:163\n",
      "┌ Warning: hydrogen atom 43 in TEWGEJ01_clean.cif is bonded to more than one atom!\n",
      "└ @ PorousMaterials C:\\Users\\Arni\\.julia\\packages\\PorousMaterials\\RoZT3\\src\\bonds.jl:163\n",
      "┌ Warning: hydrogen atom 56 in TEWGEJ01_clean.cif is bonded to more than one atom!\n",
      "└ @ PorousMaterials C:\\Users\\Arni\\.julia\\packages\\PorousMaterials\\RoZT3\\src\\bonds.jl:163\n",
      "┌ Warning: hydrogen atom 69 in TEWGEJ01_clean.cif is bonded to more than one atom!\n",
      "└ @ PorousMaterials C:\\Users\\Arni\\.julia\\packages\\PorousMaterials\\RoZT3\\src\\bonds.jl:163\n",
      "┌ Warning: hydrogen atom 82 in TEWGEJ01_clean.cif is bonded to more than one atom!\n",
      "└ @ PorousMaterials C:\\Users\\Arni\\.julia\\packages\\PorousMaterials\\RoZT3\\src\\bonds.jl:163\n",
      "┌ Warning: hydrogen atom 95 in TEWGEJ01_clean.cif is bonded to more than one atom!\n",
      "└ @ PorousMaterials C:\\Users\\Arni\\.julia\\packages\\PorousMaterials\\RoZT3\\src\\bonds.jl:163\n",
      "┌ Warning: hydrogen atom 108 in TEWGEJ01_clean.cif is bonded to more than one atom!\n",
      "└ @ PorousMaterials C:\\Users\\Arni\\.julia\\packages\\PorousMaterials\\RoZT3\\src\\bonds.jl:163\n",
      "┌ Warning: throwing out \n",
      "│   crystal.name = TEWGEJ01_clean.cif\n",
      "└ @ Main In[11]:23\n"
     ]
    },
    {
     "name": "stderr",
     "output_type": "stream",
     "text": [
      "\u001b[32mProgress:  81%|██████████████████████████████████       |  ETA: 0:09:08\u001b[39m"
     ]
    },
    {
     "name": "stdout",
     "output_type": "stream",
     "text": [
      "┌ Warning: hydrogen atom 35 in UDANAQ_clean.cif is bonded to more than one atom!\n",
      "└ @ PorousMaterials C:\\Users\\Arni\\.julia\\packages\\PorousMaterials\\RoZT3\\src\\bonds.jl:163\n",
      "┌ Warning: hydrogen atom 36 in UDANAQ_clean.cif is bonded to more than one atom!\n",
      "└ @ PorousMaterials C:\\Users\\Arni\\.julia\\packages\\PorousMaterials\\RoZT3\\src\\bonds.jl:163\n",
      "┌ Warning: hydrogen atom 37 in UDANAQ_clean.cif is bonded to more than one atom!\n",
      "└ @ PorousMaterials C:\\Users\\Arni\\.julia\\packages\\PorousMaterials\\RoZT3\\src\\bonds.jl:163\n",
      "┌ Warning: hydrogen atom 38 in UDANAQ_clean.cif is bonded to more than one atom!\n",
      "└ @ PorousMaterials C:\\Users\\Arni\\.julia\\packages\\PorousMaterials\\RoZT3\\src\\bonds.jl:163\n",
      "┌ Warning: hydrogen atom 39 in UDANAQ_clean.cif is bonded to more than one atom!\n",
      "└ @ PorousMaterials C:\\Users\\Arni\\.julia\\packages\\PorousMaterials\\RoZT3\\src\\bonds.jl:163\n",
      "┌ Warning: hydrogen atom 40 in UDANAQ_clean.cif is bonded to more than one atom!\n",
      "└ @ PorousMaterials C:\\Users\\Arni\\.julia\\packages\\PorousMaterials\\RoZT3\\src\\bonds.jl:163\n",
      "┌ Warning: hydrogen atom 41 in UDANAQ_clean.cif is bonded to more than one atom!\n",
      "└ @ PorousMaterials C:\\Users\\Arni\\.julia\\packages\\PorousMaterials\\RoZT3\\src\\bonds.jl:163\n",
      "┌ Warning: hydrogen atom 42 in UDANAQ_clean.cif is bonded to more than one atom!\n",
      "└ @ PorousMaterials C:\\Users\\Arni\\.julia\\packages\\PorousMaterials\\RoZT3\\src\\bonds.jl:163\n",
      "┌ Warning: hydrogen atom 43 in UDANAQ_clean.cif is bonded to more than one atom!\n",
      "└ @ PorousMaterials C:\\Users\\Arni\\.julia\\packages\\PorousMaterials\\RoZT3\\src\\bonds.jl:163\n",
      "┌ Warning: hydrogen atom 44 in UDANAQ_clean.cif is bonded to more than one atom!\n",
      "└ @ PorousMaterials C:\\Users\\Arni\\.julia\\packages\\PorousMaterials\\RoZT3\\src\\bonds.jl:163\n",
      "┌ Warning: hydrogen atom 45 in UDANAQ_clean.cif is bonded to more than one atom!\n",
      "└ @ PorousMaterials C:\\Users\\Arni\\.julia\\packages\\PorousMaterials\\RoZT3\\src\\bonds.jl:163\n",
      "┌ Warning: hydrogen atom 46 in UDANAQ_clean.cif is bonded to more than one atom!\n",
      "└ @ PorousMaterials C:\\Users\\Arni\\.julia\\packages\\PorousMaterials\\RoZT3\\src\\bonds.jl:163\n",
      "┌ Warning: hydrogen atom 47 in UDANAQ_clean.cif is bonded to more than one atom!\n",
      "└ @ PorousMaterials C:\\Users\\Arni\\.julia\\packages\\PorousMaterials\\RoZT3\\src\\bonds.jl:163\n",
      "┌ Warning: hydrogen atom 48 in UDANAQ_clean.cif is bonded to more than one atom!\n",
      "└ @ PorousMaterials C:\\Users\\Arni\\.julia\\packages\\PorousMaterials\\RoZT3\\src\\bonds.jl:163\n",
      "┌ Warning: hydrogen atom 49 in UDANAQ_clean.cif is bonded to more than one atom!\n",
      "└ @ PorousMaterials C:\\Users\\Arni\\.julia\\packages\\PorousMaterials\\RoZT3\\src\\bonds.jl:163\n",
      "┌ Warning: hydrogen atom 50 in UDANAQ_clean.cif is bonded to more than one atom!\n",
      "└ @ PorousMaterials C:\\Users\\Arni\\.julia\\packages\\PorousMaterials\\RoZT3\\src\\bonds.jl:163\n",
      "┌ Warning: carbon atom 51 in UDANAQ_clean.cif is bonded to more than four!\n",
      "└ @ PorousMaterials C:\\Users\\Arni\\.julia\\packages\\PorousMaterials\\RoZT3\\src\\bonds.jl:168\n",
      "┌ Warning: carbon atom 52 in UDANAQ_clean.cif is bonded to more than four!\n",
      "└ @ PorousMaterials C:\\Users\\Arni\\.julia\\packages\\PorousMaterials\\RoZT3\\src\\bonds.jl:168\n",
      "┌ Warning: carbon atom 53 in UDANAQ_clean.cif is bonded to more than four!\n",
      "└ @ PorousMaterials C:\\Users\\Arni\\.julia\\packages\\PorousMaterials\\RoZT3\\src\\bonds.jl:168\n",
      "┌ Warning: carbon atom 54 in UDANAQ_clean.cif is bonded to more than four!\n",
      "└ @ PorousMaterials C:\\Users\\Arni\\.julia\\packages\\PorousMaterials\\RoZT3\\src\\bonds.jl:168\n",
      "┌ Warning: carbon atom 55 in UDANAQ_clean.cif is bonded to more than four!\n",
      "└ @ PorousMaterials C:\\Users\\Arni\\.julia\\packages\\PorousMaterials\\RoZT3\\src\\bonds.jl:168\n",
      "┌ Warning: carbon atom 56 in UDANAQ_clean.cif is bonded to more than four!\n",
      "└ @ PorousMaterials C:\\Users\\Arni\\.julia\\packages\\PorousMaterials\\RoZT3\\src\\bonds.jl:168\n",
      "┌ Warning: carbon atom 57 in UDANAQ_clean.cif is bonded to more than four!\n",
      "└ @ PorousMaterials C:\\Users\\Arni\\.julia\\packages\\PorousMaterials\\RoZT3\\src\\bonds.jl:168\n",
      "┌ Warning: carbon atom 58 in UDANAQ_clean.cif is bonded to more than four!\n",
      "└ @ PorousMaterials C:\\Users\\Arni\\.julia\\packages\\PorousMaterials\\RoZT3\\src\\bonds.jl:168\n",
      "┌ Warning: carbon atom 59 in UDANAQ_clean.cif is bonded to more than four!\n",
      "└ @ PorousMaterials C:\\Users\\Arni\\.julia\\packages\\PorousMaterials\\RoZT3\\src\\bonds.jl:168\n",
      "┌ Warning: carbon atom 60 in UDANAQ_clean.cif is bonded to more than four!\n",
      "└ @ PorousMaterials C:\\Users\\Arni\\.julia\\packages\\PorousMaterials\\RoZT3\\src\\bonds.jl:168\n",
      "┌ Warning: carbon atom 61 in UDANAQ_clean.cif is bonded to more than four!\n",
      "└ @ PorousMaterials C:\\Users\\Arni\\.julia\\packages\\PorousMaterials\\RoZT3\\src\\bonds.jl:168\n",
      "┌ Warning: carbon atom 62 in UDANAQ_clean.cif is bonded to more than four!\n",
      "└ @ PorousMaterials C:\\Users\\Arni\\.julia\\packages\\PorousMaterials\\RoZT3\\src\\bonds.jl:168\n",
      "┌ Warning: carbon atom 63 in UDANAQ_clean.cif is bonded to more than four!\n",
      "└ @ PorousMaterials C:\\Users\\Arni\\.julia\\packages\\PorousMaterials\\RoZT3\\src\\bonds.jl:168\n",
      "┌ Warning: carbon atom 64 in UDANAQ_clean.cif is bonded to more than four!\n",
      "└ @ PorousMaterials C:\\Users\\Arni\\.julia\\packages\\PorousMaterials\\RoZT3\\src\\bonds.jl:168\n",
      "┌ Warning: carbon atom 65 in UDANAQ_clean.cif is bonded to more than four!\n",
      "└ @ PorousMaterials C:\\Users\\Arni\\.julia\\packages\\PorousMaterials\\RoZT3\\src\\bonds.jl:168\n",
      "┌ Warning: carbon atom 66 in UDANAQ_clean.cif is bonded to more than four!\n",
      "└ @ PorousMaterials C:\\Users\\Arni\\.julia\\packages\\PorousMaterials\\RoZT3\\src\\bonds.jl:168\n",
      "┌ Warning: throwing out \n",
      "│   crystal.name = UDANAQ_clean.cif\n",
      "└ @ Main In[11]:23\n"
     ]
    },
    {
     "name": "stderr",
     "output_type": "stream",
     "text": [
      "\u001b[32mProgress:  81%|██████████████████████████████████       |  ETA: 0:08:51\u001b[39m"
     ]
    },
    {
     "name": "stdout",
     "output_type": "stream",
     "text": [
      "┌ Warning: hydrogen atom 16 in UJARAZ_clean.cif is bonded to more than one atom!\n",
      "└ @ PorousMaterials C:\\Users\\Arni\\.julia\\packages\\PorousMaterials\\RoZT3\\src\\bonds.jl:163\n",
      "┌ Warning: hydrogen atom 28 in UJARAZ_clean.cif is bonded to more than one atom!\n",
      "└ @ PorousMaterials C:\\Users\\Arni\\.julia\\packages\\PorousMaterials\\RoZT3\\src\\bonds.jl:163\n",
      "┌ Warning: throwing out \n",
      "│   crystal.name = UJARAZ_clean.cif\n",
      "└ @ Main In[11]:23\n"
     ]
    },
    {
     "name": "stderr",
     "output_type": "stream",
     "text": [
      "\u001b[32mProgress:  83%|███████████████████████████████████      |  ETA: 0:08:01\u001b[39m"
     ]
    },
    {
     "name": "stdout",
     "output_type": "stream",
     "text": [
      "┌ Warning: hydrogen atom 11 in UXABUR_clean.cif is bonded to more than one atom!\n",
      "└ @ PorousMaterials C:\\Users\\Arni\\.julia\\packages\\PorousMaterials\\RoZT3\\src\\bonds.jl:163\n",
      "┌ Warning: hydrogen atom 19 in UXABUR_clean.cif is bonded to more than one atom!\n",
      "└ @ PorousMaterials C:\\Users\\Arni\\.julia\\packages\\PorousMaterials\\RoZT3\\src\\bonds.jl:163\n",
      "┌ Warning: hydrogen atom 27 in UXABUR_clean.cif is bonded to more than one atom!\n",
      "└ @ PorousMaterials C:\\Users\\Arni\\.julia\\packages\\PorousMaterials\\RoZT3\\src\\bonds.jl:163\n",
      "┌ Warning: hydrogen atom 35 in UXABUR_clean.cif is bonded to more than one atom!\n",
      "└ @ PorousMaterials C:\\Users\\Arni\\.julia\\packages\\PorousMaterials\\RoZT3\\src\\bonds.jl:163\n",
      "┌ Warning: throwing out \n",
      "│   crystal.name = UXABUR_clean.cif\n",
      "└ @ Main In[11]:23\n"
     ]
    },
    {
     "name": "stderr",
     "output_type": "stream",
     "text": [
      "\u001b[32mProgress:  84%|███████████████████████████████████      |  ETA: 0:07:32\u001b[39m"
     ]
    },
    {
     "name": "stdout",
     "output_type": "stream",
     "text": [
      "┌ Warning: hydrogen atom 9 in VASKOR_clean.cif is bonded to more than one atom!\n",
      "└ @ PorousMaterials C:\\Users\\Arni\\.julia\\packages\\PorousMaterials\\RoZT3\\src\\bonds.jl:163\n",
      "┌ Warning: hydrogen atom 14 in VASKOR_clean.cif is bonded to more than one atom!\n",
      "└ @ PorousMaterials C:\\Users\\Arni\\.julia\\packages\\PorousMaterials\\RoZT3\\src\\bonds.jl:163\n",
      "┌ Warning: hydrogen atom 19 in VASKOR_clean.cif is bonded to more than one atom!\n",
      "└ @ PorousMaterials C:\\Users\\Arni\\.julia\\packages\\PorousMaterials\\RoZT3\\src\\bonds.jl:163\n",
      "┌ Warning: hydrogen atom 24 in VASKOR_clean.cif is bonded to more than one atom!\n",
      "└ @ PorousMaterials C:\\Users\\Arni\\.julia\\packages\\PorousMaterials\\RoZT3\\src\\bonds.jl:163\n",
      "┌ Warning: throwing out \n",
      "│   crystal.name = VASKOR_clean.cif\n",
      "└ @ Main In[11]:23\n"
     ]
    },
    {
     "name": "stderr",
     "output_type": "stream",
     "text": [
      "\u001b[32mProgress:  84%|███████████████████████████████████      |  ETA: 0:07:27\u001b[39m"
     ]
    },
    {
     "name": "stdout",
     "output_type": "stream",
     "text": [
      "┌ Warning: hydrogen atom 18 in VAYDOQ_clean.cif is bonded to more than one atom!\n",
      "└ @ PorousMaterials C:\\Users\\Arni\\.julia\\packages\\PorousMaterials\\RoZT3\\src\\bonds.jl:163\n",
      "┌ Warning: hydrogen atom 20 in VAYDOQ_clean.cif is bonded to more than one atom!\n",
      "└ @ PorousMaterials C:\\Users\\Arni\\.julia\\packages\\PorousMaterials\\RoZT3\\src\\bonds.jl:163\n",
      "┌ Warning: hydrogen atom 22 in VAYDOQ_clean.cif is bonded to more than one atom!\n",
      "└ @ PorousMaterials C:\\Users\\Arni\\.julia\\packages\\PorousMaterials\\RoZT3\\src\\bonds.jl:163\n",
      "┌ Warning: hydrogen atom 24 in VAYDOQ_clean.cif is bonded to more than one atom!\n",
      "└ @ PorousMaterials C:\\Users\\Arni\\.julia\\packages\\PorousMaterials\\RoZT3\\src\\bonds.jl:163\n",
      "┌ Warning: hydrogen atom 26 in VAYDOQ_clean.cif is bonded to more than one atom!\n",
      "└ @ PorousMaterials C:\\Users\\Arni\\.julia\\packages\\PorousMaterials\\RoZT3\\src\\bonds.jl:163\n",
      "┌ Warning: hydrogen atom 28 in VAYDOQ_clean.cif is bonded to more than one atom!\n",
      "└ @ PorousMaterials C:\\Users\\Arni\\.julia\\packages\\PorousMaterials\\RoZT3\\src\\bonds.jl:163\n",
      "┌ Warning: hydrogen atom 30 in VAYDOQ_clean.cif is bonded to more than one atom!\n",
      "└ @ PorousMaterials C:\\Users\\Arni\\.julia\\packages\\PorousMaterials\\RoZT3\\src\\bonds.jl:163\n",
      "┌ Warning: hydrogen atom 32 in VAYDOQ_clean.cif is bonded to more than one atom!\n",
      "└ @ PorousMaterials C:\\Users\\Arni\\.julia\\packages\\PorousMaterials\\RoZT3\\src\\bonds.jl:163\n",
      "┌ Warning: throwing out \n",
      "│   crystal.name = VAYDOQ_clean.cif\n",
      "└ @ Main In[11]:23\n"
     ]
    },
    {
     "name": "stderr",
     "output_type": "stream",
     "text": [
      "\u001b[32mProgress:  85%|███████████████████████████████████      |  ETA: 0:07:11\u001b[39m"
     ]
    },
    {
     "name": "stdout",
     "output_type": "stream",
     "text": [
      "┌ Warning: hydrogen atom 9 in VEHRIL_clean.cif is bonded to more than one atom!\n",
      "└ @ PorousMaterials C:\\Users\\Arni\\.julia\\packages\\PorousMaterials\\RoZT3\\src\\bonds.jl:163\n",
      "┌ Warning: hydrogen atom 10 in VEHRIL_clean.cif is bonded to more than one atom!\n",
      "└ @ PorousMaterials C:\\Users\\Arni\\.julia\\packages\\PorousMaterials\\RoZT3\\src\\bonds.jl:163\n",
      "┌ Warning: hydrogen atom 23 in VEHRIL_clean.cif is bonded to more than one atom!\n",
      "└ @ PorousMaterials C:\\Users\\Arni\\.julia\\packages\\PorousMaterials\\RoZT3\\src\\bonds.jl:163\n",
      "┌ Warning: hydrogen atom 24 in VEHRIL_clean.cif is bonded to more than one atom!\n",
      "└ @ PorousMaterials C:\\Users\\Arni\\.julia\\packages\\PorousMaterials\\RoZT3\\src\\bonds.jl:163\n",
      "┌ Warning: throwing out \n",
      "│   crystal.name = VEHRIL_clean.cif\n",
      "└ @ Main In[11]:23\n"
     ]
    },
    {
     "name": "stderr",
     "output_type": "stream",
     "text": [
      "\u001b[32mProgress:  88%|████████████████████████████████████     |  ETA: 0:05:57\u001b[39m"
     ]
    },
    {
     "name": "stdout",
     "output_type": "stream",
     "text": [
      "┌ Warning: carbon atom 125 in WAZQUL_clean.cif is bonded to more than four!\n",
      "└ @ PorousMaterials C:\\Users\\Arni\\.julia\\packages\\PorousMaterials\\RoZT3\\src\\bonds.jl:168\n",
      "┌ Warning: carbon atom 126 in WAZQUL_clean.cif is bonded to more than four!\n",
      "└ @ PorousMaterials C:\\Users\\Arni\\.julia\\packages\\PorousMaterials\\RoZT3\\src\\bonds.jl:168\n",
      "┌ Warning: carbon atom 129 in WAZQUL_clean.cif is bonded to more than four!\n",
      "└ @ PorousMaterials C:\\Users\\Arni\\.julia\\packages\\PorousMaterials\\RoZT3\\src\\bonds.jl:168\n",
      "┌ Warning: carbon atom 131 in WAZQUL_clean.cif is bonded to more than four!\n",
      "└ @ PorousMaterials C:\\Users\\Arni\\.julia\\packages\\PorousMaterials\\RoZT3\\src\\bonds.jl:168\n",
      "┌ Warning: carbon atom 132 in WAZQUL_clean.cif is bonded to more than four!\n",
      "└ @ PorousMaterials C:\\Users\\Arni\\.julia\\packages\\PorousMaterials\\RoZT3\\src\\bonds.jl:168\n",
      "┌ Warning: carbon atom 135 in WAZQUL_clean.cif is bonded to more than four!\n",
      "└ @ PorousMaterials C:\\Users\\Arni\\.julia\\packages\\PorousMaterials\\RoZT3\\src\\bonds.jl:168\n",
      "┌ Warning: carbon atom 137 in WAZQUL_clean.cif is bonded to more than four!\n",
      "└ @ PorousMaterials C:\\Users\\Arni\\.julia\\packages\\PorousMaterials\\RoZT3\\src\\bonds.jl:168\n",
      "┌ Warning: carbon atom 138 in WAZQUL_clean.cif is bonded to more than four!\n",
      "└ @ PorousMaterials C:\\Users\\Arni\\.julia\\packages\\PorousMaterials\\RoZT3\\src\\bonds.jl:168\n",
      "┌ Warning: carbon atom 141 in WAZQUL_clean.cif is bonded to more than four!\n",
      "└ @ PorousMaterials C:\\Users\\Arni\\.julia\\packages\\PorousMaterials\\RoZT3\\src\\bonds.jl:168\n",
      "┌ Warning: carbon atom 143 in WAZQUL_clean.cif is bonded to more than four!\n",
      "└ @ PorousMaterials C:\\Users\\Arni\\.julia\\packages\\PorousMaterials\\RoZT3\\src\\bonds.jl:168\n",
      "┌ Warning: carbon atom 144 in WAZQUL_clean.cif is bonded to more than four!\n",
      "└ @ PorousMaterials C:\\Users\\Arni\\.julia\\packages\\PorousMaterials\\RoZT3\\src\\bonds.jl:168\n",
      "┌ Warning: carbon atom 147 in WAZQUL_clean.cif is bonded to more than four!\n",
      "└ @ PorousMaterials C:\\Users\\Arni\\.julia\\packages\\PorousMaterials\\RoZT3\\src\\bonds.jl:168\n",
      "┌ Warning: throwing out \n",
      "│   crystal.name = WAZQUL_clean.cif\n",
      "└ @ Main In[11]:23\n",
      "┌ Warning: carbon atom 125 in WAZRAS_clean.cif is bonded to more than four!\n",
      "└ @ PorousMaterials C:\\Users\\Arni\\.julia\\packages\\PorousMaterials\\RoZT3\\src\\bonds.jl:168\n",
      "┌ Warning: carbon atom 126 in WAZRAS_clean.cif is bonded to more than four!\n",
      "└ @ PorousMaterials C:\\Users\\Arni\\.julia\\packages\\PorousMaterials\\RoZT3\\src\\bonds.jl:168\n",
      "┌ Warning: carbon atom 129 in WAZRAS_clean.cif is bonded to more than four!\n",
      "└ @ PorousMaterials C:\\Users\\Arni\\.julia\\packages\\PorousMaterials\\RoZT3\\src\\bonds.jl:168\n",
      "┌ Warning: carbon atom 131 in WAZRAS_clean.cif is bonded to more than four!\n",
      "└ @ PorousMaterials C:\\Users\\Arni\\.julia\\packages\\PorousMaterials\\RoZT3\\src\\bonds.jl:168\n",
      "┌ Warning: carbon atom 132 in WAZRAS_clean.cif is bonded to more than four!\n",
      "└ @ PorousMaterials C:\\Users\\Arni\\.julia\\packages\\PorousMaterials\\RoZT3\\src\\bonds.jl:168\n",
      "┌ Warning: carbon atom 135 in WAZRAS_clean.cif is bonded to more than four!\n",
      "└ @ PorousMaterials C:\\Users\\Arni\\.julia\\packages\\PorousMaterials\\RoZT3\\src\\bonds.jl:168\n",
      "┌ Warning: carbon atom 137 in WAZRAS_clean.cif is bonded to more than four!\n",
      "└ @ PorousMaterials C:\\Users\\Arni\\.julia\\packages\\PorousMaterials\\RoZT3\\src\\bonds.jl:168\n",
      "┌ Warning: carbon atom 138 in WAZRAS_clean.cif is bonded to more than four!\n",
      "└ @ PorousMaterials C:\\Users\\Arni\\.julia\\packages\\PorousMaterials\\RoZT3\\src\\bonds.jl:168\n",
      "┌ Warning: carbon atom 141 in WAZRAS_clean.cif is bonded to more than four!\n",
      "└ @ PorousMaterials C:\\Users\\Arni\\.julia\\packages\\PorousMaterials\\RoZT3\\src\\bonds.jl:168\n",
      "┌ Warning: carbon atom 143 in WAZRAS_clean.cif is bonded to more than four!\n",
      "└ @ PorousMaterials C:\\Users\\Arni\\.julia\\packages\\PorousMaterials\\RoZT3\\src\\bonds.jl:168\n",
      "┌ Warning: carbon atom 144 in WAZRAS_clean.cif is bonded to more than four!\n",
      "└ @ PorousMaterials C:\\Users\\Arni\\.julia\\packages\\PorousMaterials\\RoZT3\\src\\bonds.jl:168\n",
      "┌ Warning: carbon atom 147 in WAZRAS_clean.cif is bonded to more than four!\n",
      "└ @ PorousMaterials C:\\Users\\Arni\\.julia\\packages\\PorousMaterials\\RoZT3\\src\\bonds.jl:168\n",
      "┌ Warning: throwing out \n",
      "│   crystal.name = WAZRAS_clean.cif\n",
      "└ @ Main In[11]:23\n"
     ]
    },
    {
     "name": "stderr",
     "output_type": "stream",
     "text": [
      "\u001b[32mProgress:  89%|█████████████████████████████████████    |  ETA: 0:05:30\u001b[39m"
     ]
    },
    {
     "name": "stdout",
     "output_type": "stream",
     "text": [
      "┌ Warning: hydrogen atom 36 in WENKEH_clean.cif is bonded to more than one atom!\n",
      "└ @ PorousMaterials C:\\Users\\Arni\\.julia\\packages\\PorousMaterials\\RoZT3\\src\\bonds.jl:163\n",
      "┌ Warning: hydrogen atom 68 in WENKEH_clean.cif is bonded to more than one atom!\n",
      "└ @ PorousMaterials C:\\Users\\Arni\\.julia\\packages\\PorousMaterials\\RoZT3\\src\\bonds.jl:163\n",
      "┌ Warning: throwing out \n",
      "│   crystal.name = WENKEH_clean.cif\n",
      "└ @ Main In[11]:23\n"
     ]
    },
    {
     "name": "stderr",
     "output_type": "stream",
     "text": [
      "\u001b[32mProgress:  90%|██████████████████████████████████████   |  ETA: 0:04:40\u001b[39m"
     ]
    },
    {
     "name": "stdout",
     "output_type": "stream",
     "text": [
      "┌ Warning: atom 5 = Na in WUPNIF_clean.cif is not bonded to any other atom.\n",
      "└ @ PorousMaterials C:\\Users\\Arni\\.julia\\packages\\PorousMaterials\\RoZT3\\src\\bonds.jl:158\n",
      "┌ Warning: atom 6 = Na in WUPNIF_clean.cif is not bonded to any other atom.\n",
      "└ @ PorousMaterials C:\\Users\\Arni\\.julia\\packages\\PorousMaterials\\RoZT3\\src\\bonds.jl:158\n",
      "┌ Warning: throwing out \n",
      "│   crystal.name = WUPNIF_clean.cif\n",
      "└ @ Main In[11]:23\n"
     ]
    },
    {
     "name": "stderr",
     "output_type": "stream",
     "text": [
      "\u001b[32mProgress:  92%|██████████████████████████████████████   |  ETA: 0:04:01\u001b[39m"
     ]
    },
    {
     "name": "stdout",
     "output_type": "stream",
     "text": [
      "┌ Warning: hydrogen atom 28 in XAWZOM_clean.cif is bonded to more than one atom!\n",
      "└ @ PorousMaterials C:\\Users\\Arni\\.julia\\packages\\PorousMaterials\\RoZT3\\src\\bonds.jl:163\n",
      "┌ Warning: hydrogen atom 48 in XAWZOM_clean.cif is bonded to more than one atom!\n",
      "└ @ PorousMaterials C:\\Users\\Arni\\.julia\\packages\\PorousMaterials\\RoZT3\\src\\bonds.jl:163\n",
      "┌ Warning: hydrogen atom 68 in XAWZOM_clean.cif is bonded to more than one atom!\n",
      "└ @ PorousMaterials C:\\Users\\Arni\\.julia\\packages\\PorousMaterials\\RoZT3\\src\\bonds.jl:163\n",
      "┌ Warning: hydrogen atom 88 in XAWZOM_clean.cif is bonded to more than one atom!\n",
      "└ @ PorousMaterials C:\\Users\\Arni\\.julia\\packages\\PorousMaterials\\RoZT3\\src\\bonds.jl:163\n",
      "┌ Warning: throwing out \n",
      "│   crystal.name = XAWZOM_clean.cif\n",
      "└ @ Main In[11]:23\n"
     ]
    },
    {
     "name": "stderr",
     "output_type": "stream",
     "text": [
      "\u001b[32mProgress:  92%|██████████████████████████████████████   |  ETA: 0:03:46\u001b[39m"
     ]
    },
    {
     "name": "stdout",
     "output_type": "stream",
     "text": [
      "┌ Warning: carbon atom 6 in XEHFUL_clean.cif is bonded to more than four!\n",
      "└ @ PorousMaterials C:\\Users\\Arni\\.julia\\packages\\PorousMaterials\\RoZT3\\src\\bonds.jl:168\n",
      "┌ Warning: carbon atom 8 in XEHFUL_clean.cif is bonded to more than four!\n",
      "└ @ PorousMaterials C:\\Users\\Arni\\.julia\\packages\\PorousMaterials\\RoZT3\\src\\bonds.jl:168\n",
      "┌ Warning: carbon atom 10 in XEHFUL_clean.cif is bonded to more than four!\n",
      "└ @ PorousMaterials C:\\Users\\Arni\\.julia\\packages\\PorousMaterials\\RoZT3\\src\\bonds.jl:168\n",
      "┌ Warning: carbon atom 12 in XEHFUL_clean.cif is bonded to more than four!\n",
      "└ @ PorousMaterials C:\\Users\\Arni\\.julia\\packages\\PorousMaterials\\RoZT3\\src\\bonds.jl:168\n",
      "┌ Warning: throwing out \n",
      "│   crystal.name = XEHFUL_clean.cif\n",
      "└ @ Main In[11]:23\n"
     ]
    },
    {
     "name": "stderr",
     "output_type": "stream",
     "text": [
      "\u001b[32mProgress:  96%|████████████████████████████████████████ |  ETA: 0:02:06\u001b[39m"
     ]
    },
    {
     "name": "stdout",
     "output_type": "stream",
     "text": [
      "┌ Warning: atom 1 = Cd in YAQDIF_clean.cif is not bonded to any other atom.\n",
      "└ @ PorousMaterials C:\\Users\\Arni\\.julia\\packages\\PorousMaterials\\RoZT3\\src\\bonds.jl:158\n",
      "┌ Warning: atom 2 = Cd in YAQDIF_clean.cif is not bonded to any other atom.\n",
      "└ @ PorousMaterials C:\\Users\\Arni\\.julia\\packages\\PorousMaterials\\RoZT3\\src\\bonds.jl:158\n",
      "┌ Warning: atom 3 = Cd in YAQDIF_clean.cif is not bonded to any other atom.\n",
      "└ @ PorousMaterials C:\\Users\\Arni\\.julia\\packages\\PorousMaterials\\RoZT3\\src\\bonds.jl:158\n",
      "┌ Warning: atom 4 = Cd in YAQDIF_clean.cif is not bonded to any other atom.\n",
      "└ @ PorousMaterials C:\\Users\\Arni\\.julia\\packages\\PorousMaterials\\RoZT3\\src\\bonds.jl:158\n",
      "┌ Warning: throwing out \n",
      "│   crystal.name = YAQDIF_clean.cif\n",
      "└ @ Main In[11]:23\n"
     ]
    },
    {
     "name": "stderr",
     "output_type": "stream",
     "text": [
      "\u001b[32mProgress:  97%|████████████████████████████████████████ |  ETA: 0:01:35\u001b[39m"
     ]
    },
    {
     "name": "stdout",
     "output_type": "stream",
     "text": [
      "┌ Warning: carbon atom 27 in YEWWUU_clean.cif is bonded to more than four!\n",
      "└ @ PorousMaterials C:\\Users\\Arni\\.julia\\packages\\PorousMaterials\\RoZT3\\src\\bonds.jl:168\n",
      "┌ Warning: carbon atom 32 in YEWWUU_clean.cif is bonded to more than four!\n",
      "└ @ PorousMaterials C:\\Users\\Arni\\.julia\\packages\\PorousMaterials\\RoZT3\\src\\bonds.jl:168\n",
      "┌ Warning: carbon atom 33 in YEWWUU_clean.cif is bonded to more than four!\n",
      "└ @ PorousMaterials C:\\Users\\Arni\\.julia\\packages\\PorousMaterials\\RoZT3\\src\\bonds.jl:168\n",
      "┌ Warning: carbon atom 38 in YEWWUU_clean.cif is bonded to more than four!\n",
      "└ @ PorousMaterials C:\\Users\\Arni\\.julia\\packages\\PorousMaterials\\RoZT3\\src\\bonds.jl:168\n",
      "┌ Warning: throwing out \n",
      "│   crystal.name = YEWWUU_clean.cif\n",
      "└ @ Main In[11]:23\n"
     ]
    },
    {
     "name": "stderr",
     "output_type": "stream",
     "text": [
      "\u001b[32mProgress:  97%|████████████████████████████████████████ |  ETA: 0:01:27\u001b[39m"
     ]
    },
    {
     "name": "stdout",
     "output_type": "stream",
     "text": [
      "┌ Warning: atom 17 = Pb in YICREI_clean.cif is not bonded to any other atom.\n",
      "└ @ PorousMaterials C:\\Users\\Arni\\.julia\\packages\\PorousMaterials\\RoZT3\\src\\bonds.jl:158\n",
      "┌ Warning: atom 18 = Pb in YICREI_clean.cif is not bonded to any other atom.\n",
      "└ @ PorousMaterials C:\\Users\\Arni\\.julia\\packages\\PorousMaterials\\RoZT3\\src\\bonds.jl:158\n",
      "┌ Warning: atom 19 = Pb in YICREI_clean.cif is not bonded to any other atom.\n",
      "└ @ PorousMaterials C:\\Users\\Arni\\.julia\\packages\\PorousMaterials\\RoZT3\\src\\bonds.jl:158\n",
      "┌ Warning: atom 20 = Pb in YICREI_clean.cif is not bonded to any other atom.\n",
      "└ @ PorousMaterials C:\\Users\\Arni\\.julia\\packages\\PorousMaterials\\RoZT3\\src\\bonds.jl:158\n",
      "┌ Warning: throwing out \n",
      "│   crystal.name = YICREI_clean.cif\n",
      "└ @ Main In[11]:23\n"
     ]
    },
    {
     "name": "stderr",
     "output_type": "stream",
     "text": [
      "\u001b[32mProgress:  99%|█████████████████████████████████████████|  ETA: 0:00:42\u001b[39m"
     ]
    },
    {
     "name": "stdout",
     "output_type": "stream",
     "text": [
      "┌ Warning: atom 129 = H in ZEKROY.cif is not bonded to any other atom.\n",
      "└ @ PorousMaterials C:\\Users\\Arni\\.julia\\packages\\PorousMaterials\\RoZT3\\src\\bonds.jl:158\n",
      "┌ Warning: atom 130 = H in ZEKROY.cif is not bonded to any other atom.\n",
      "└ @ PorousMaterials C:\\Users\\Arni\\.julia\\packages\\PorousMaterials\\RoZT3\\src\\bonds.jl:158\n",
      "┌ Warning: atom 131 = H in ZEKROY.cif is not bonded to any other atom.\n",
      "└ @ PorousMaterials C:\\Users\\Arni\\.julia\\packages\\PorousMaterials\\RoZT3\\src\\bonds.jl:158\n",
      "┌ Warning: atom 132 = H in ZEKROY.cif is not bonded to any other atom.\n",
      "└ @ PorousMaterials C:\\Users\\Arni\\.julia\\packages\\PorousMaterials\\RoZT3\\src\\bonds.jl:158\n",
      "┌ Warning: atom 133 = H in ZEKROY.cif is not bonded to any other atom.\n",
      "└ @ PorousMaterials C:\\Users\\Arni\\.julia\\packages\\PorousMaterials\\RoZT3\\src\\bonds.jl:158\n",
      "┌ Warning: atom 134 = H in ZEKROY.cif is not bonded to any other atom.\n",
      "└ @ PorousMaterials C:\\Users\\Arni\\.julia\\packages\\PorousMaterials\\RoZT3\\src\\bonds.jl:158\n",
      "┌ Warning: atom 135 = H in ZEKROY.cif is not bonded to any other atom.\n",
      "└ @ PorousMaterials C:\\Users\\Arni\\.julia\\packages\\PorousMaterials\\RoZT3\\src\\bonds.jl:158\n",
      "┌ Warning: atom 136 = H in ZEKROY.cif is not bonded to any other atom.\n",
      "└ @ PorousMaterials C:\\Users\\Arni\\.julia\\packages\\PorousMaterials\\RoZT3\\src\\bonds.jl:158\n",
      "┌ Warning: throwing out \n",
      "│   crystal.name = ZEKROY.cif\n",
      "└ @ Main In[11]:23\n"
     ]
    },
    {
     "name": "stderr",
     "output_type": "stream",
     "text": [
      "\u001b[32mProgress:  99%|█████████████████████████████████████████|  ETA: 0:00:41\u001b[39m"
     ]
    },
    {
     "name": "stdout",
     "output_type": "stream",
     "text": [
      "┌ Warning: hydrogen atom 5 in ZERNAN_clean.cif is bonded to more than one atom!\n",
      "└ @ PorousMaterials C:\\Users\\Arni\\.julia\\packages\\PorousMaterials\\RoZT3\\src\\bonds.jl:163\n",
      "┌ Warning: hydrogen atom 8 in ZERNAN_clean.cif is bonded to more than one atom!\n",
      "└ @ PorousMaterials C:\\Users\\Arni\\.julia\\packages\\PorousMaterials\\RoZT3\\src\\bonds.jl:163\n",
      "┌ Warning: hydrogen atom 10 in ZERNAN_clean.cif is bonded to more than one atom!\n",
      "└ @ PorousMaterials C:\\Users\\Arni\\.julia\\packages\\PorousMaterials\\RoZT3\\src\\bonds.jl:163\n",
      "┌ Warning: hydrogen atom 32 in ZERNAN_clean.cif is bonded to more than one atom!\n",
      "└ @ PorousMaterials C:\\Users\\Arni\\.julia\\packages\\PorousMaterials\\RoZT3\\src\\bonds.jl:163\n",
      "┌ Warning: hydrogen atom 35 in ZERNAN_clean.cif is bonded to more than one atom!\n",
      "└ @ PorousMaterials C:\\Users\\Arni\\.julia\\packages\\PorousMaterials\\RoZT3\\src\\bonds.jl:163\n",
      "┌ Warning: hydrogen atom 37 in ZERNAN_clean.cif is bonded to more than one atom!\n",
      "└ @ PorousMaterials C:\\Users\\Arni\\.julia\\packages\\PorousMaterials\\RoZT3\\src\\bonds.jl:163\n",
      "┌ Warning: throwing out \n",
      "│   crystal.name = ZERNAN_clean.cif\n",
      "└ @ Main In[11]:23\n"
     ]
    },
    {
     "name": "stderr",
     "output_type": "stream",
     "text": [
      "\u001b[32mProgress:  99%|█████████████████████████████████████████|  ETA: 0:00:40\u001b[39m"
     ]
    },
    {
     "name": "stdout",
     "output_type": "stream",
     "text": [
      "┌ Warning: hydrogen atom 6 in ZERNOB_clean.cif is bonded to more than one atom!\n",
      "└ @ PorousMaterials C:\\Users\\Arni\\.julia\\packages\\PorousMaterials\\RoZT3\\src\\bonds.jl:163\n",
      "┌ Warning: hydrogen atom 7 in ZERNOB_clean.cif is bonded to more than one atom!\n",
      "└ @ PorousMaterials C:\\Users\\Arni\\.julia\\packages\\PorousMaterials\\RoZT3\\src\\bonds.jl:163\n",
      "┌ Warning: hydrogen atom 8 in ZERNOB_clean.cif is bonded to more than one atom!\n",
      "└ @ PorousMaterials C:\\Users\\Arni\\.julia\\packages\\PorousMaterials\\RoZT3\\src\\bonds.jl:163\n",
      "┌ Warning: hydrogen atom 31 in ZERNOB_clean.cif is bonded to more than one atom!\n",
      "└ @ PorousMaterials C:\\Users\\Arni\\.julia\\packages\\PorousMaterials\\RoZT3\\src\\bonds.jl:163\n",
      "┌ Warning: hydrogen atom 32 in ZERNOB_clean.cif is bonded to more than one atom!\n",
      "└ @ PorousMaterials C:\\Users\\Arni\\.julia\\packages\\PorousMaterials\\RoZT3\\src\\bonds.jl:163\n",
      "┌ Warning: hydrogen atom 33 in ZERNOB_clean.cif is bonded to more than one atom!\n",
      "└ @ PorousMaterials C:\\Users\\Arni\\.julia\\packages\\PorousMaterials\\RoZT3\\src\\bonds.jl:163\n",
      "┌ Warning: throwing out \n",
      "│   crystal.name = ZERNOB_clean.cif\n",
      "└ @ Main In[11]:23\n"
     ]
    },
    {
     "name": "stderr",
     "output_type": "stream",
     "text": [
      "\u001b[32mProgress:  99%|█████████████████████████████████████████|  ETA: 0:00:39\u001b[39m"
     ]
    },
    {
     "name": "stdout",
     "output_type": "stream",
     "text": [
      "┌ Warning: hydrogen atom 5 in ZERNUH_clean.cif is bonded to more than one atom!\n",
      "└ @ PorousMaterials C:\\Users\\Arni\\.julia\\packages\\PorousMaterials\\RoZT3\\src\\bonds.jl:163\n",
      "┌ Warning: hydrogen atom 28 in ZERNUH_clean.cif is bonded to more than one atom!\n",
      "└ @ PorousMaterials C:\\Users\\Arni\\.julia\\packages\\PorousMaterials\\RoZT3\\src\\bonds.jl:163\n",
      "┌ Warning: throwing out \n",
      "│   crystal.name = ZERNUH_clean.cif\n",
      "└ @ Main In[11]:23\n"
     ]
    },
    {
     "name": "stderr",
     "output_type": "stream",
     "text": [
      "\u001b[32mProgress: 100%|█████████████████████████████████████████| Time: 0:48:17\u001b[39m\n"
     ]
    }
   ],
   "source": [
    "@info \"making edge list zero-based indexed for Python\"\n",
    "\n",
    "keep_xtal = [true for i = 1:length(xtalnames)]\n",
    "\n",
    "@showprogress for (i_xtal, xtalname) in enumerate(xtalnames)\n",
    "    crystal = Crystal(xtalname * \".cif\", include_zero_charges=true)\n",
    "    @assert ! all(crystal.charges.q .== 0)\n",
    "    try\n",
    "        bonds!(crystal, true)\n",
    "    catch e\n",
    "        if isa(e, PyCall.PyError)\n",
    "            remove_bonds!(crystal) # some of the bonds were probz formed\n",
    "            println(\"Voronoi problems with \" * crystal.name)\n",
    "            infer_bonds!(crystal, true) # infer bonds with old distance-based version\n",
    "        else\n",
    "            error(\"bond! error for \" * crystal.name)\n",
    "        end\n",
    "    end\n",
    "    @assert nv(crystal.bonds) == crystal.atoms.n\n",
    "    \n",
    "    if ! PorousMaterials.bond_sanity_check(crystal)\n",
    "        keep_xtal[i_xtal] = false\n",
    "        @warn \"throwing out \" crystal.name\n",
    "        continue\n",
    "    end\n",
    "    \n",
    "    ###\n",
    "    #    node features\n",
    "    #    one-hot encoding. each row is an atom.\n",
    "    ###\n",
    "    x_ν = zeros(Int, crystal.atoms.n, length(ATOMS))\n",
    "    for (i, atom) in enumerate(crystal.atoms.species)\n",
    "        x_ν[i, ATOM_TO_INT[atom]] = 1\n",
    "    end\n",
    "    @assert sum(x_ν) == crystal.atoms.n\n",
    "    npzwrite(joinpath(\"graphs\", xtalname * \"_node_features.npy\"), x_ν)\n",
    "\n",
    "    ###\n",
    "    #    node labels (the charges)\n",
    "    ###\n",
    "    y_ν = deepcopy(crystal.charges.q)\n",
    "    npzwrite(joinpath(\"graphs\", xtalname * \"_node_labels.npy\"), y_ν)\n",
    "    @assert length(y_ν) == size(x_ν)[1]\n",
    "\n",
    "    ###\n",
    "    #   edges\n",
    "    #   (a list and their feature = distance btwn atoms)\n",
    "    ###\n",
    "    edge_file = open(joinpath(\"graphs\", xtalname * \".edge_info\"), \"w\")\n",
    "    @printf(edge_file, \"src,dst,r\\n\")\n",
    "    for ed in edges(crystal.bonds)\n",
    "        i = src(ed) # source\n",
    "        j = dst(ed) # destination\n",
    "        r = distance(crystal.atoms, crystal.box, i, j, true)\n",
    "        @printf(edge_file, \"%d,%d,%f\\n\", i - 1, j - 1, r)\n",
    "    end\n",
    "    close(edge_file)\n",
    "end\n",
    "\n",
    "writedlm(open(\"list_of_crystals.txt\", \"w\"), xtalnames[keep_xtal])"
   ]
  },
  {
   "cell_type": "code",
   "execution_count": 16,
   "metadata": {},
   "outputs": [
    {
     "name": "stdout",
     "output_type": "stream",
     "text": [
      "threw out 77\n"
     ]
    }
   ],
   "source": [
    "println(\"threw out \", sum(.! keep_xtal), )"
   ]
  },
  {
   "cell_type": "code",
   "execution_count": 13,
   "metadata": {},
   "outputs": [],
   "source": [
    "f = open(\"list_of_crystals.txt\", \"w\")\n",
    "writedlm(f, xtalnames[keep_xtal])\n",
    "close(f)"
   ]
  },
  {
   "cell_type": "code",
   "execution_count": 14,
   "metadata": {},
   "outputs": [
    {
     "data": {
      "text/plain": [
       "2932"
      ]
     },
     "execution_count": 14,
     "metadata": {},
     "output_type": "execute_result"
    }
   ],
   "source": [
    "length(xtalnames)"
   ]
  },
  {
   "cell_type": "markdown",
   "metadata": {},
   "source": [
    "# viz an example structure"
   ]
  },
  {
   "cell_type": "code",
   "execution_count": 15,
   "metadata": {},
   "outputs": [
    {
     "name": "stdout",
     "output_type": "stream",
     "text": [
      "See KAXQIL_clean.vtk\n",
      "Saving bond information for crystal KAXQIL_clean.cif to C:\\Users\\Arni\\Documents\\GitHub\\mpn_charges\\build_graphs\\KAXQIL_clean_bonds.vtk.\n"
     ]
    }
   ],
   "source": [
    "xtal = Crystal(\"KAXQIL_clean.cif\")\n",
    "write_vtk(xtal, center_at_origin=true)\n",
    "\n",
    "xtal = replicate(xtal, (3, 3, 3))\n",
    "\n",
    "bonds!(xtal, false)\n",
    "\n",
    "write_xyz(xtal, center_at_origin=true)\n",
    "write_bond_information(xtal, center_at_origin=true)"
   ]
  },
  {
   "cell_type": "code",
   "execution_count": 26,
   "metadata": {},
   "outputs": [
    {
     "data": {
      "text/plain": [
       "4297-element WeakRefStrings.StringArray{String,1}:\n",
       " \"Cu-BTC\"          \n",
       " \"EDUSIF_clean\"    \n",
       " \"CIWRAC_clean\"    \n",
       " \"GIKMOD01_clean\"  \n",
       " \"FIQYOU_clean\"    \n",
       " \"ITIWIS_charged\"  \n",
       " \"ATIBAG_clean\"    \n",
       " \"OKITIM01_charged\"\n",
       " \"FARFIO_clean\"    \n",
       " \"IDIWOH\"          \n",
       " \"FIJDIM01_clean\"  \n",
       " \"MECWEX_manual\"   \n",
       " \"BAHGUN01_clean\"  \n",
       " ⋮                 \n",
       " \"FALQIU_clean\"    \n",
       " \"WAMRIN02_clean\"  \n",
       " \"OVEJIJ_clean\"    \n",
       " \"UNABIV_charged\"  \n",
       " \"ZIF-97\"          \n",
       " \"WAWGOQ_clean\"    \n",
       " \"IZEPAF_clean\"    \n",
       " \"ZIF-93\"          \n",
       " \"SAPJEA_charged\"  \n",
       " \"DEYNIG_clean\"    \n",
       " \"GAHWIX_clean\"    \n",
       " \"WENSIS_clean\"    "
      ]
     },
     "execution_count": 26,
     "metadata": {},
     "output_type": "execute_result"
    }
   ],
   "source": [
    "duplicate_structures = CSV.read(\"duplicates.csv\")\n",
    "unique_structures = duplicate_structures[:,1]"
   ]
  },
  {
   "cell_type": "code",
   "execution_count": 28,
   "metadata": {},
   "outputs": [
    {
     "data": {
      "text/plain": [
       "Set([\"CECVOW_clean\", \"WEMFAX_clean\", \"MAQZOV_clean\", \"ACOLEL_clean\", \"WOZSOT_charged\", \"QOKCID_clean\", \"AVIPAX_clean\", \"IDIWOH\", \"LOQSUG_clean\", \"BELTOD_clean\"  …  \"HICVOG_clean\", \"KABXOC_clean\", \"ISUXAW_clean\", \"KASRAZ_clean\", \"YARSIV_clean\", \"AVEMOE_clean\", \"AVUDAX_clean\", \"KARNAU_clean\", \"GIYTIS_clean\", \"OWITEU\"])"
      ]
     },
     "execution_count": 28,
     "metadata": {},
     "output_type": "execute_result"
    }
   ],
   "source": [
    "set_of_unique_xtals = Set(unique_structures)"
   ]
  },
  {
   "cell_type": "code",
   "execution_count": 32,
   "metadata": {},
   "outputs": [
    {
     "data": {
      "text/plain": [
       "Set([\"MAQZOV_clean\", \"QOKCID_clean\", \"SONVIB_clean\", \"CAZFOA_clean\", \"UKUBUY_clean\", \"KEYYET_clean\", \"LUTCEJ_clean\", \"MIL-88A-dry\", \"CAYMIZ_clean\", \"DOLXOR_clean\"  …  \"XOKHIP_clean\", \"ZNGLUD01_clean\", \"CETVAA_clean\", \"ALAMUW_clean\", \"HIZQEN_clean\", \"ISUXAW_clean\", \"KASRAZ_clean\", \"AVEMOE_clean\", \"AVUDAX_clean\", \"GIYTIS_clean\"])"
      ]
     },
     "execution_count": 32,
     "metadata": {},
     "output_type": "execute_result"
    }
   ],
   "source": [
    "set_of_ddec_xtals = Set(xtalnames)"
   ]
  },
  {
   "cell_type": "code",
   "execution_count": 43,
   "metadata": {},
   "outputs": [
    {
     "name": "stdout",
     "output_type": "stream",
     "text": [
      "length(set_of_ddec_xtals) = 2932\n",
      "length(non_duplicate_xtalnames) = 2285\n"
     ]
    },
    {
     "data": {
      "text/plain": [
       "2285"
      ]
     },
     "execution_count": 43,
     "metadata": {},
     "output_type": "execute_result"
    }
   ],
   "source": [
    "@show length(set_of_ddec_xtals)\n",
    "non_duplicate_xtalnames = intersect(set_of_unique_xtals, set_of_ddec_xtals)\n",
    "@show length(non_duplicate_xtalnames)"
   ]
  },
  {
   "cell_type": "code",
   "execution_count": 44,
   "metadata": {},
   "outputs": [
    {
     "name": "stdout",
     "output_type": "stream",
     "text": [
      "┌ Warning: Cu-BTC is not in the DDEC set but...\n",
      "└ @ Main In[44]:5\n",
      "\tDOTSOV02_clean is in the set\n",
      "\tDOTSOV03_clean is in the set\n",
      "\tDOTSOV04_clean is in the set\n",
      "\tDOTSOV05_clean is in the set\n",
      "\tDOTSOV06_clean is in the set\n",
      "\tDOTSOV07_clean is in the set\n",
      "\tDOTSOV08_clean is in the set\n",
      "\tDOTSOV09_clean is in the set\n",
      "\tDOTSOV10_clean is in the set\n",
      "\tDOTSOV11_clean is in the set\n",
      "\tDOTSOV12_clean is in the set\n",
      "\tDOTSOV13_clean is in the set\n",
      "\tDOTSOV14_clean is in the set\n",
      "\tDOTSOV15_clean is in the set\n",
      "\tDOTSOV16_clean is in the set\n",
      "\tDOTSOV18_clean is in the set\n",
      "\tDOTSOV19_clean is in the set\n",
      "\tDOTSOV20_clean is in the set\n",
      "\tDOTSOV21_clean is in the set\n",
      "\tDOTSOV22_clean is in the set\n",
      "\tDOTSOV23_clean is in the set\n",
      "\tDOTSOV24_clean is in the set\n",
      "\tDOTSOV25_clean is in the set\n",
      "\tDOTSOV26_clean is in the set\n",
      "\tDOTSOV27_clean is in the set\n",
      "\tDOTSOV28_clean is in the set\n",
      "\tDOTSOV29_clean is in the set\n",
      "\tDOTSOV30_clean is in the set\n",
      "\tDOTSOV31_clean is in the set\n",
      "\tDOTSOV32_clean is in the set\n",
      "\tDOTSOV33_clean is in the set\n",
      "\tDOTSOV34_clean is in the set\n",
      "\tDOTSOV35_clean is in the set\n",
      "\tDOTSOV37_clean is in the set\n",
      "\tDOTSOV38_clean is in the set\n",
      "\tDOTSOV40_clean is in the set\n",
      "\tDOTSOV41_clean is in the set\n",
      "\tDOTSOV42_clean is in the set\n",
      "\tFIQCEN_clean is in the set\n",
      "\tXAMDUM01_clean is in the set\n",
      "\tXAMDUM03_clean is in the set\n",
      "\tXAMDUM04_clean is in the set\n",
      "\tXAMDUM05_clean is in the set\n",
      "\tXAMDUM06_clean is in the set\n",
      "\tXAMDUM07_clean is in the set\n",
      "\tXAMDUM_clean is in the set\n",
      "┌ Warning: IDIWOH is not in the DDEC set but...\n",
      "└ @ Main In[44]:5\n",
      "\tIDIWOH01_clean is in the set\n",
      "\tIDIWOH_clean is in the set\n",
      "\tIXODUV_clean is in the set\n",
      "\tIXOFAD_clean is in the set\n",
      "\tIXOFEH_clean is in the set\n",
      "\tIXOFIL_clean is in the set\n",
      "\tIXOFOR_clean is in the set\n",
      "\tIXOFUX01_clean is in the set\n",
      "\tIXOFUX_clean is in the set\n",
      "\tMIL-47 is in the set\n",
      "\tPEPLEC_clean is in the set\n",
      "\tPEPLIG_clean is in the set\n",
      "\tPEPLOM_clean is in the set\n",
      "┌ Warning: FIJDIM01_clean is not in the DDEC set but...\n",
      "└ @ Main In[44]:5\n",
      "\tFIJDIM02_clean is in the set\n",
      "\tFIJDIM03_clean is in the set\n",
      "\tFIJDIM04_clean is in the set\n",
      "\tFIJDIM06_clean is in the set\n",
      "\tFIJDIM07_clean is in the set\n",
      "\tFIJDIM09_clean is in the set\n",
      "\tFIJDIM11_clean is in the set\n",
      "\tFIJDIM12_clean is in the set\n",
      "\tFIJDIM_clean is in the set\n",
      "\tMAHTAR01_clean is in the set\n",
      "\tMAHTAR_clean is in the set\n",
      "┌ Warning: MECWEX_manual is not in the DDEC set but...\n",
      "└ @ Main In[44]:5\n",
      "\tOFERUN04 is in the set\n",
      "┌ Warning: GATHAL_clean is not in the DDEC set but...\n",
      "└ @ Main In[44]:5\n",
      "\tHAZGOF01_clean is in the set\n",
      "┌ Warning: FIJDOS_clean is not in the DDEC set but...\n",
      "└ @ Main In[44]:5\n",
      "\tZn-DOBDC is in the set\n",
      "\tZnMOF-74 is in the set\n",
      "┌ Warning: WAJHUM is not in the DDEC set but...\n",
      "└ @ Main In[44]:5\n",
      "\tWAJJAU is in the set\n",
      "┌ Warning: DIDBAV_clean is not in the DDEC set but...\n",
      "└ @ Main In[44]:5\n",
      "\tDIDBEZ_clean is in the set\n",
      "┌ Warning: LECQEQ_clean is not in the DDEC set but...\n",
      "└ @ Main In[44]:5\n",
      "\tNi-DOBDC is in the set\n",
      "┌ Warning: IBASOV_clean is not in the DDEC set but...\n",
      "└ @ Main In[44]:5\n",
      "\tWUTBIW_clean is in the set\n",
      "┌ Warning: IBASUB_clean is not in the DDEC set but...\n",
      "└ @ Main In[44]:5\n",
      "\tJEBCOJ_clean is in the set\n",
      "\tOFESIC_clean is in the set\n",
      "┌ Warning: OTARUX is not in the DDEC set but...\n",
      "└ @ Main In[44]:5\n",
      "\tOTARUX01 is in the set\n",
      "┌ Warning: BERGAI01 is not in the DDEC set but...\n",
      "└ @ Main In[44]:5\n",
      "\tBERGAI_clean is in the set\n",
      "\tPEQHUQ_clean is in the set\n",
      "┌ Warning: NANZOS_clean is not in the DDEC set but...\n",
      "└ @ Main In[44]:5\n",
      "\tWEMCOI_clean is in the set\n",
      "┌ Warning: JOHFIW_manual is not in the DDEC set but...\n",
      "└ @ Main In[44]:5\n",
      "\tLAVSUY_clean is in the set\n",
      "┌ Warning: PEFSEA_clean is not in the DDEC set but...\n",
      "└ @ Main In[44]:5\n",
      "\tPEFTAX_clean is in the set\n",
      "┌ Warning: CETHEQ_clean is not in the DDEC set but...\n",
      "└ @ Main In[44]:5\n",
      "\tPEWGEF_clean is in the set\n",
      "┌ Warning: MASZOX_clean is not in the DDEC set but...\n",
      "└ @ Main In[44]:5\n",
      "\tMASZUD_clean is in the set\n",
      "┌ Warning: NHBZZN10_clean is not in the DDEC set but...\n",
      "└ @ Main In[44]:5\n",
      "\tRUPZIM_clean is in the set\n",
      "┌ Warning: ILUFOL_clean is not in the DDEC set but...\n",
      "└ @ Main In[44]:5\n",
      "\tTAKYOV_clean is in the set\n",
      "┌ Warning: FALVUL01_clean is not in the DDEC set but...\n",
      "└ @ Main In[44]:5\n",
      "\tFALVUL_clean is in the set\n",
      "┌ Warning: EYOPOY is not in the DDEC set but...\n",
      "└ @ Main In[44]:5\n",
      "\tOHAKEO_clean is in the set\n",
      "┌ Warning: MUDLIH_manual is not in the DDEC set but...\n",
      "└ @ Main In[44]:5\n",
      "\tWIFGOJ_clean is in the set\n",
      "┌ Warning: BUVWOF02 is not in the DDEC set but...\n",
      "└ @ Main In[44]:5\n",
      "\tBUVXOG_clean is in the set\n",
      "┌ Warning: XAFNOH01_clean is not in the DDEC set but...\n",
      "└ @ Main In[44]:5\n",
      "\tXAFNOH_clean is in the set\n",
      "┌ Warning: BUVYIB01 is not in the DDEC set but...\n",
      "└ @ Main In[44]:5\n",
      "\tBUVYIB_clean is in the set\n",
      "┌ Warning: INIRAY01_clean is not in the DDEC set but...\n",
      "└ @ Main In[44]:5\n",
      "\tINIRAY_clean is in the set\n",
      "┌ Warning: IPICUG_charged is not in the DDEC set but...\n",
      "└ @ Main In[44]:5\n",
      "\tIPIDAN is in the set\n",
      "┌ Warning: MIFGEP01_clean is not in the DDEC set but...\n",
      "└ @ Main In[44]:5\n",
      "\tMIFGEP_clean is in the set\n",
      "┌ Warning: XEDLUN01_clean is not in the DDEC set but...\n",
      "└ @ Main In[44]:5\n",
      "\tXEDLUN_clean is in the set\n",
      "┌ Warning: AVELUJ_clean is not in the DDEC set but...\n",
      "└ @ Main In[44]:5\n",
      "\tAVEMAQ_clean is in the set\n",
      "┌ Warning: TIQGEG01_clean is not in the DDEC set but...\n",
      "└ @ Main In[44]:5\n",
      "\tTIQGEG_clean is in the set\n",
      "┌ Warning: FANWIC is not in the DDEC set but...\n",
      "└ @ Main In[44]:5\n",
      "\tFANWOI is in the set\n",
      "┌ Warning: SUGVUM_clean is not in the DDEC set but...\n",
      "└ @ Main In[44]:5\n",
      "\tSUGWEX03 is in the set\n",
      "┌ Warning: CENJIQ_clean is not in the DDEC set but...\n",
      "└ @ Main In[44]:5\n",
      "\tCENKAJ_clean is in the set\n",
      "┌ Warning: EMITUQ01_clean is not in the DDEC set but...\n",
      "└ @ Main In[44]:5\n",
      "\tEMITUQ_clean is in the set\n",
      "┌ Warning: ICIZAV_clean is not in the DDEC set but...\n",
      "└ @ Main In[44]:5\n",
      "\tKILJEV_clean is in the set\n",
      "┌ Warning: BEDHOJ is not in the DDEC set but...\n",
      "└ @ Main In[44]:5\n",
      "\tPARMIG_clean is in the set\n",
      "┌ Warning: ESIPUR02_clean is not in the DDEC set but...\n",
      "└ @ Main In[44]:5\n",
      "\tESIPUR_clean is in the set\n",
      "┌ Warning: IBATEM_clean is not in the DDEC set but...\n",
      "└ @ Main In[44]:5\n",
      "\tOFESAU_clean is in the set\n"
     ]
    }
   ],
   "source": [
    "for (i, unique_xtal) in enumerate(unique_structures)\n",
    "    if ! in(unique_xtal, set_of_ddec_xtals)\n",
    "        other_xtals = duplicate_structures[i, 2:end]\n",
    "        if length(intersect(set_of_ddec_xtals, Set(other_xtals))) > 0\n",
    "            @warn @sprintf(\"%s is not in the DDEC set but...\\n\", unique_xtal)\n",
    "            for (j, duplicate_xtal) in enumerate(other_xtals)\n",
    "                if ismissing(duplicate_xtal)\n",
    "                    break\n",
    "                end\n",
    "                if duplicate_xtal in xtalnames\n",
    "                    if j == 1\n",
    "                        push!(set_of_unique_xtals, duplicate_xtal)\n",
    "                    end\n",
    "                    @printf(\"\\t%s is in the set\\n\", duplicate_xtal)\n",
    "                end\n",
    "            end\n",
    "        end\n",
    "    end\n",
    "end"
   ]
  },
  {
   "cell_type": "code",
   "execution_count": 45,
   "metadata": {},
   "outputs": [
    {
     "name": "stdout",
     "output_type": "stream",
     "text": [
      "length(non_duplicate_xtalnames) = 2318\n"
     ]
    },
    {
     "data": {
      "text/plain": [
       "2318"
      ]
     },
     "execution_count": 45,
     "metadata": {},
     "output_type": "execute_result"
    }
   ],
   "source": [
    "non_duplicate_xtalnames = intersect(set_of_unique_xtals, set_of_ddec_xtals)\n",
    "@show length(non_duplicate_xtalnames)"
   ]
  },
  {
   "cell_type": "code",
   "execution_count": 46,
   "metadata": {},
   "outputs": [
    {
     "data": {
      "text/plain": [
       "Set([\"SEHSUU_clean\", \"CECVOW_clean\", \"WEMFAX_clean\", \"MAQZOV_clean\", \"GIQXIO_clean\", \"LUSHIR_clean\", \"ALIXUP_clean\", \"LUSJAL_clean\", \"MAFZOK_clean\", \"MAKSUO_clean\"  …  \"ISUXAW_clean\", \"KASRAZ_clean\", \"WEMFOL_clean\", \"BIVXEK_clean\", \"RIVDEF_clean\", \"KABXES_clean\", \"AVEMOE_clean\", \"AVUDAX_clean\", \"CUYQIX_clean\", \"GIYTIS_clean\"])"
      ]
     },
     "execution_count": 46,
     "metadata": {},
     "output_type": "execute_result"
    }
   ],
   "source": [
    "non_duplicate_xtalnames"
   ]
  },
  {
   "cell_type": "code",
   "execution_count": 47,
   "metadata": {},
   "outputs": [
    {
     "data": {
      "text/plain": [
       "\"non_duplicate_graphs\""
      ]
     },
     "execution_count": 47,
     "metadata": {},
     "output_type": "execute_result"
    }
   ],
   "source": [
    "isdir(\"non_duplicate_graphs\") ? nothing : mkdir(\"non_duplicate_graphs\")"
   ]
  },
  {
   "cell_type": "code",
   "execution_count": 49,
   "metadata": {},
   "outputs": [
    {
     "name": "stdout",
     "output_type": "stream",
     "text": [
      "┌ Info: making edge list zero-based indexed for Python\n",
      "└ @ Main In[49]:1\n"
     ]
    },
    {
     "name": "stderr",
     "output_type": "stream",
     "text": [
      "\u001b[32mProgress:   4%|██                                       |  ETA: 0:42:49\u001b[39m"
     ]
    },
    {
     "name": "stdout",
     "output_type": "stream",
     "text": [
      "┌ Warning: hydrogen atom 18 in VAYDOQ_clean.cif is bonded to more than one atom!\n",
      "└ @ PorousMaterials C:\\Users\\Arni\\.julia\\packages\\PorousMaterials\\RoZT3\\src\\bonds.jl:163\n",
      "┌ Warning: hydrogen atom 20 in VAYDOQ_clean.cif is bonded to more than one atom!\n",
      "└ @ PorousMaterials C:\\Users\\Arni\\.julia\\packages\\PorousMaterials\\RoZT3\\src\\bonds.jl:163\n",
      "┌ Warning: hydrogen atom 22 in VAYDOQ_clean.cif is bonded to more than one atom!\n",
      "└ @ PorousMaterials C:\\Users\\Arni\\.julia\\packages\\PorousMaterials\\RoZT3\\src\\bonds.jl:163\n",
      "┌ Warning: hydrogen atom 24 in VAYDOQ_clean.cif is bonded to more than one atom!\n",
      "└ @ PorousMaterials C:\\Users\\Arni\\.julia\\packages\\PorousMaterials\\RoZT3\\src\\bonds.jl:163\n",
      "┌ Warning: hydrogen atom 26 in VAYDOQ_clean.cif is bonded to more than one atom!\n",
      "└ @ PorousMaterials C:\\Users\\Arni\\.julia\\packages\\PorousMaterials\\RoZT3\\src\\bonds.jl:163\n",
      "┌ Warning: hydrogen atom 28 in VAYDOQ_clean.cif is bonded to more than one atom!\n",
      "└ @ PorousMaterials C:\\Users\\Arni\\.julia\\packages\\PorousMaterials\\RoZT3\\src\\bonds.jl:163\n",
      "┌ Warning: hydrogen atom 30 in VAYDOQ_clean.cif is bonded to more than one atom!\n",
      "└ @ PorousMaterials C:\\Users\\Arni\\.julia\\packages\\PorousMaterials\\RoZT3\\src\\bonds.jl:163\n",
      "┌ Warning: hydrogen atom 32 in VAYDOQ_clean.cif is bonded to more than one atom!\n",
      "└ @ PorousMaterials C:\\Users\\Arni\\.julia\\packages\\PorousMaterials\\RoZT3\\src\\bonds.jl:163\n",
      "┌ Warning: throwing out \n",
      "│   crystal.name = VAYDOQ_clean.cif\n",
      "└ @ Main In[49]:23\n"
     ]
    },
    {
     "name": "stderr",
     "output_type": "stream",
     "text": [
      "\u001b[32mProgress:   4%|██                                       |  ETA: 0:43:30\u001b[39m"
     ]
    },
    {
     "name": "stdout",
     "output_type": "stream",
     "text": [
      "┌ Warning: hydrogen atom 31 in BORBEQ_clean.cif is bonded to more than one atom!\n",
      "└ @ PorousMaterials C:\\Users\\Arni\\.julia\\packages\\PorousMaterials\\RoZT3\\src\\bonds.jl:163\n",
      "┌ Warning: hydrogen atom 64 in BORBEQ_clean.cif is bonded to more than one atom!\n",
      "└ @ PorousMaterials C:\\Users\\Arni\\.julia\\packages\\PorousMaterials\\RoZT3\\src\\bonds.jl:163\n",
      "┌ Warning: hydrogen atom 97 in BORBEQ_clean.cif is bonded to more than one atom!\n",
      "└ @ PorousMaterials C:\\Users\\Arni\\.julia\\packages\\PorousMaterials\\RoZT3\\src\\bonds.jl:163\n",
      "┌ Warning: hydrogen atom 130 in BORBEQ_clean.cif is bonded to more than one atom!\n",
      "└ @ PorousMaterials C:\\Users\\Arni\\.julia\\packages\\PorousMaterials\\RoZT3\\src\\bonds.jl:163\n",
      "┌ Warning: throwing out \n",
      "│   crystal.name = BORBEQ_clean.cif\n",
      "└ @ Main In[49]:23\n"
     ]
    },
    {
     "name": "stderr",
     "output_type": "stream",
     "text": [
      "\u001b[32mProgress:   6%|███                                      |  ETA: 0:38:47\u001b[39m"
     ]
    },
    {
     "name": "stdout",
     "output_type": "stream",
     "text": [
      "┌ Warning: hydrogen atom 10 in BONWIL_clean.cif is bonded to more than one atom!\n",
      "└ @ PorousMaterials C:\\Users\\Arni\\.julia\\packages\\PorousMaterials\\RoZT3\\src\\bonds.jl:163\n",
      "┌ Warning: hydrogen atom 24 in BONWIL_clean.cif is bonded to more than one atom!\n",
      "└ @ PorousMaterials C:\\Users\\Arni\\.julia\\packages\\PorousMaterials\\RoZT3\\src\\bonds.jl:163\n",
      "┌ Warning: hydrogen atom 38 in BONWIL_clean.cif is bonded to more than one atom!\n",
      "└ @ PorousMaterials C:\\Users\\Arni\\.julia\\packages\\PorousMaterials\\RoZT3\\src\\bonds.jl:163\n",
      "┌ Warning: hydrogen atom 52 in BONWIL_clean.cif is bonded to more than one atom!\n",
      "└ @ PorousMaterials C:\\Users\\Arni\\.julia\\packages\\PorousMaterials\\RoZT3\\src\\bonds.jl:163\n",
      "┌ Warning: throwing out \n",
      "│   crystal.name = BONWIL_clean.cif\n",
      "└ @ Main In[49]:23\n"
     ]
    },
    {
     "name": "stderr",
     "output_type": "stream",
     "text": [
      "\u001b[32mProgress:   7%|███                                      |  ETA: 0:38:56\u001b[39m"
     ]
    },
    {
     "name": "stdout",
     "output_type": "stream",
     "text": [
      "┌ Warning: carbon atom 102 in KOJZAL_clean.cif is bonded to more than four!\n",
      "└ @ PorousMaterials C:\\Users\\Arni\\.julia\\packages\\PorousMaterials\\RoZT3\\src\\bonds.jl:168\n",
      "┌ Warning: carbon atom 106 in KOJZAL_clean.cif is bonded to more than four!\n",
      "└ @ PorousMaterials C:\\Users\\Arni\\.julia\\packages\\PorousMaterials\\RoZT3\\src\\bonds.jl:168\n",
      "┌ Warning: carbon atom 138 in KOJZAL_clean.cif is bonded to more than four!\n",
      "└ @ PorousMaterials C:\\Users\\Arni\\.julia\\packages\\PorousMaterials\\RoZT3\\src\\bonds.jl:168\n",
      "┌ Warning: carbon atom 142 in KOJZAL_clean.cif is bonded to more than four!\n",
      "└ @ PorousMaterials C:\\Users\\Arni\\.julia\\packages\\PorousMaterials\\RoZT3\\src\\bonds.jl:168\n",
      "┌ Warning: throwing out \n",
      "│   crystal.name = KOJZAL_clean.cif\n",
      "└ @ Main In[49]:23\n"
     ]
    },
    {
     "name": "stderr",
     "output_type": "stream",
     "text": [
      "\u001b[32mProgress:   9%|████                                     |  ETA: 0:36:45\u001b[39m"
     ]
    },
    {
     "name": "stdout",
     "output_type": "stream",
     "text": [
      "┌ Warning: hydrogen atom 8 in ISEQIH_clean.cif is bonded to more than one atom!\n",
      "└ @ PorousMaterials C:\\Users\\Arni\\.julia\\packages\\PorousMaterials\\RoZT3\\src\\bonds.jl:163\n",
      "┌ Warning: hydrogen atom 18 in ISEQIH_clean.cif is bonded to more than one atom!\n",
      "└ @ PorousMaterials C:\\Users\\Arni\\.julia\\packages\\PorousMaterials\\RoZT3\\src\\bonds.jl:163\n",
      "┌ Warning: throwing out \n",
      "│   crystal.name = ISEQIH_clean.cif\n",
      "└ @ Main In[49]:23\n"
     ]
    },
    {
     "name": "stderr",
     "output_type": "stream",
     "text": [
      "\u001b[32mProgress:  11%|█████                                    |  ETA: 0:37:12\u001b[39m"
     ]
    },
    {
     "name": "stdout",
     "output_type": "stream",
     "text": [
      "┌ Warning: hydrogen atom 14 in FAZZEM_clean.cif is bonded to more than one atom!\n",
      "└ @ PorousMaterials C:\\Users\\Arni\\.julia\\packages\\PorousMaterials\\RoZT3\\src\\bonds.jl:163\n",
      "┌ Warning: hydrogen atom 16 in FAZZEM_clean.cif is bonded to more than one atom!\n",
      "└ @ PorousMaterials C:\\Users\\Arni\\.julia\\packages\\PorousMaterials\\RoZT3\\src\\bonds.jl:163\n",
      "┌ Warning: hydrogen atom 24 in FAZZEM_clean.cif is bonded to more than one atom!\n",
      "└ @ PorousMaterials C:\\Users\\Arni\\.julia\\packages\\PorousMaterials\\RoZT3\\src\\bonds.jl:163\n",
      "┌ Warning: hydrogen atom 26 in FAZZEM_clean.cif is bonded to more than one atom!\n",
      "└ @ PorousMaterials C:\\Users\\Arni\\.julia\\packages\\PorousMaterials\\RoZT3\\src\\bonds.jl:163\n",
      "┌ Warning: throwing out \n",
      "│   crystal.name = FAZZEM_clean.cif\n",
      "└ @ Main In[49]:23\n"
     ]
    },
    {
     "name": "stderr",
     "output_type": "stream",
     "text": [
      "\u001b[32mProgress:  13%|██████                                   |  ETA: 0:36:04\u001b[39m"
     ]
    },
    {
     "name": "stdout",
     "output_type": "stream",
     "text": [
      "┌ Warning: hydrogen atom 17 in HEZSAG_clean.cif is bonded to more than one atom!\n",
      "└ @ PorousMaterials C:\\Users\\Arni\\.julia\\packages\\PorousMaterials\\RoZT3\\src\\bonds.jl:163\n",
      "┌ Warning: hydrogen atom 18 in HEZSAG_clean.cif is bonded to more than one atom!\n",
      "└ @ PorousMaterials C:\\Users\\Arni\\.julia\\packages\\PorousMaterials\\RoZT3\\src\\bonds.jl:163\n",
      "┌ Warning: hydrogen atom 20 in HEZSAG_clean.cif is bonded to more than one atom!\n",
      "└ @ PorousMaterials C:\\Users\\Arni\\.julia\\packages\\PorousMaterials\\RoZT3\\src\\bonds.jl:163\n",
      "┌ Warning: hydrogen atom 29 in HEZSAG_clean.cif is bonded to more than one atom!\n",
      "└ @ PorousMaterials C:\\Users\\Arni\\.julia\\packages\\PorousMaterials\\RoZT3\\src\\bonds.jl:163\n",
      "┌ Warning: hydrogen atom 30 in HEZSAG_clean.cif is bonded to more than one atom!\n",
      "└ @ PorousMaterials C:\\Users\\Arni\\.julia\\packages\\PorousMaterials\\RoZT3\\src\\bonds.jl:163\n",
      "┌ Warning: hydrogen atom 32 in HEZSAG_clean.cif is bonded to more than one atom!\n",
      "└ @ PorousMaterials C:\\Users\\Arni\\.julia\\packages\\PorousMaterials\\RoZT3\\src\\bonds.jl:163\n",
      "┌ Warning: hydrogen atom 41 in HEZSAG_clean.cif is bonded to more than one atom!\n",
      "└ @ PorousMaterials C:\\Users\\Arni\\.julia\\packages\\PorousMaterials\\RoZT3\\src\\bonds.jl:163\n",
      "┌ Warning: hydrogen atom 42 in HEZSAG_clean.cif is bonded to more than one atom!\n",
      "└ @ PorousMaterials C:\\Users\\Arni\\.julia\\packages\\PorousMaterials\\RoZT3\\src\\bonds.jl:163\n",
      "┌ Warning: hydrogen atom 44 in HEZSAG_clean.cif is bonded to more than one atom!\n",
      "└ @ PorousMaterials C:\\Users\\Arni\\.julia\\packages\\PorousMaterials\\RoZT3\\src\\bonds.jl:163\n",
      "┌ Warning: hydrogen atom 53 in HEZSAG_clean.cif is bonded to more than one atom!\n",
      "└ @ PorousMaterials C:\\Users\\Arni\\.julia\\packages\\PorousMaterials\\RoZT3\\src\\bonds.jl:163\n",
      "┌ Warning: hydrogen atom 54 in HEZSAG_clean.cif is bonded to more than one atom!\n",
      "└ @ PorousMaterials C:\\Users\\Arni\\.julia\\packages\\PorousMaterials\\RoZT3\\src\\bonds.jl:163\n",
      "┌ Warning: hydrogen atom 56 in HEZSAG_clean.cif is bonded to more than one atom!\n",
      "└ @ PorousMaterials C:\\Users\\Arni\\.julia\\packages\\PorousMaterials\\RoZT3\\src\\bonds.jl:163\n",
      "┌ Warning: throwing out \n",
      "│   crystal.name = HEZSAG_clean.cif\n",
      "└ @ Main In[49]:23\n"
     ]
    },
    {
     "name": "stderr",
     "output_type": "stream",
     "text": [
      "\u001b[32mProgress:  13%|██████                                   |  ETA: 0:36:19\u001b[39m"
     ]
    },
    {
     "name": "stdout",
     "output_type": "stream",
     "text": [
      "┌ Warning: hydrogen atom 28 in XAWZOM_clean.cif is bonded to more than one atom!\n",
      "└ @ PorousMaterials C:\\Users\\Arni\\.julia\\packages\\PorousMaterials\\RoZT3\\src\\bonds.jl:163\n",
      "┌ Warning: hydrogen atom 48 in XAWZOM_clean.cif is bonded to more than one atom!\n",
      "└ @ PorousMaterials C:\\Users\\Arni\\.julia\\packages\\PorousMaterials\\RoZT3\\src\\bonds.jl:163\n",
      "┌ Warning: hydrogen atom 68 in XAWZOM_clean.cif is bonded to more than one atom!\n",
      "└ @ PorousMaterials C:\\Users\\Arni\\.julia\\packages\\PorousMaterials\\RoZT3\\src\\bonds.jl:163\n",
      "┌ Warning: hydrogen atom 88 in XAWZOM_clean.cif is bonded to more than one atom!\n",
      "└ @ PorousMaterials C:\\Users\\Arni\\.julia\\packages\\PorousMaterials\\RoZT3\\src\\bonds.jl:163\n",
      "┌ Warning: throwing out \n",
      "│   crystal.name = XAWZOM_clean.cif\n",
      "└ @ Main In[49]:23\n"
     ]
    },
    {
     "name": "stderr",
     "output_type": "stream",
     "text": [
      "\u001b[32mProgress:  18%|████████                                 |  ETA: 0:35:37\u001b[39m"
     ]
    },
    {
     "name": "stdout",
     "output_type": "stream",
     "text": [
      "┌ Warning: atom 257 = Cl in NEVPUA.cif is not bonded to any other atom.\n",
      "└ @ PorousMaterials C:\\Users\\Arni\\.julia\\packages\\PorousMaterials\\RoZT3\\src\\bonds.jl:158\n",
      "┌ Warning: atom 258 = Cl in NEVPUA.cif is not bonded to any other atom.\n",
      "└ @ PorousMaterials C:\\Users\\Arni\\.julia\\packages\\PorousMaterials\\RoZT3\\src\\bonds.jl:158\n",
      "┌ Warning: atom 259 = Cl in NEVPUA.cif is not bonded to any other atom.\n",
      "└ @ PorousMaterials C:\\Users\\Arni\\.julia\\packages\\PorousMaterials\\RoZT3\\src\\bonds.jl:158\n",
      "┌ Warning: atom 260 = Cl in NEVPUA.cif is not bonded to any other atom.\n",
      "└ @ PorousMaterials C:\\Users\\Arni\\.julia\\packages\\PorousMaterials\\RoZT3\\src\\bonds.jl:158\n",
      "┌ Warning: atom 261 = Cl in NEVPUA.cif is not bonded to any other atom.\n",
      "└ @ PorousMaterials C:\\Users\\Arni\\.julia\\packages\\PorousMaterials\\RoZT3\\src\\bonds.jl:158\n",
      "┌ Warning: atom 262 = Cl in NEVPUA.cif is not bonded to any other atom.\n",
      "└ @ PorousMaterials C:\\Users\\Arni\\.julia\\packages\\PorousMaterials\\RoZT3\\src\\bonds.jl:158\n",
      "┌ Warning: atom 263 = Cl in NEVPUA.cif is not bonded to any other atom.\n",
      "└ @ PorousMaterials C:\\Users\\Arni\\.julia\\packages\\PorousMaterials\\RoZT3\\src\\bonds.jl:158\n",
      "┌ Warning: atom 264 = Cl in NEVPUA.cif is not bonded to any other atom.\n",
      "└ @ PorousMaterials C:\\Users\\Arni\\.julia\\packages\\PorousMaterials\\RoZT3\\src\\bonds.jl:158\n",
      "┌ Warning: throwing out \n",
      "│   crystal.name = NEVPUA.cif\n",
      "└ @ Main In[49]:23\n"
     ]
    },
    {
     "name": "stderr",
     "output_type": "stream",
     "text": [
      "\u001b[32mProgress:  20%|█████████                                |  ETA: 0:34:24\u001b[39m"
     ]
    },
    {
     "name": "stdout",
     "output_type": "stream",
     "text": [
      "┌ Warning: atom 1 = Cd in YAQDIF_clean.cif is not bonded to any other atom.\n",
      "└ @ PorousMaterials C:\\Users\\Arni\\.julia\\packages\\PorousMaterials\\RoZT3\\src\\bonds.jl:158\n",
      "┌ Warning: atom 2 = Cd in YAQDIF_clean.cif is not bonded to any other atom.\n",
      "└ @ PorousMaterials C:\\Users\\Arni\\.julia\\packages\\PorousMaterials\\RoZT3\\src\\bonds.jl:158\n",
      "┌ Warning: atom 3 = Cd in YAQDIF_clean.cif is not bonded to any other atom.\n",
      "└ @ PorousMaterials C:\\Users\\Arni\\.julia\\packages\\PorousMaterials\\RoZT3\\src\\bonds.jl:158\n",
      "┌ Warning: atom 4 = Cd in YAQDIF_clean.cif is not bonded to any other atom.\n",
      "└ @ PorousMaterials C:\\Users\\Arni\\.julia\\packages\\PorousMaterials\\RoZT3\\src\\bonds.jl:158\n",
      "┌ Warning: throwing out \n",
      "│   crystal.name = YAQDIF_clean.cif\n",
      "└ @ Main In[49]:23\n"
     ]
    },
    {
     "name": "stderr",
     "output_type": "stream",
     "text": [
      "\u001b[32mProgress:  20%|█████████                                |  ETA: 0:33:53\u001b[39m"
     ]
    },
    {
     "name": "stdout",
     "output_type": "stream",
     "text": [
      "Voronoi problems with HAFTOZ_clean.cif\n",
      "┌ Warning: atom 1 = Ni in HAFTOZ_clean.cif is not bonded to any other atom.\n",
      "└ @ PorousMaterials C:\\Users\\Arni\\.julia\\packages\\PorousMaterials\\RoZT3\\src\\bonds.jl:158\n",
      "┌ Warning: atom 2 = Ni in HAFTOZ_clean.cif is not bonded to any other atom.\n",
      "└ @ PorousMaterials C:\\Users\\Arni\\.julia\\packages\\PorousMaterials\\RoZT3\\src\\bonds.jl:158\n",
      "┌ Warning: atom 3 = Ni in HAFTOZ_clean.cif is not bonded to any other atom.\n",
      "└ @ PorousMaterials C:\\Users\\Arni\\.julia\\packages\\PorousMaterials\\RoZT3\\src\\bonds.jl:158\n",
      "┌ Warning: atom 4 = Ni in HAFTOZ_clean.cif is not bonded to any other atom.\n",
      "└ @ PorousMaterials C:\\Users\\Arni\\.julia\\packages\\PorousMaterials\\RoZT3\\src\\bonds.jl:158\n",
      "┌ Warning: atom 5 = Ni in HAFTOZ_clean.cif is not bonded to any other atom.\n",
      "└ @ PorousMaterials C:\\Users\\Arni\\.julia\\packages\\PorousMaterials\\RoZT3\\src\\bonds.jl:158\n",
      "┌ Warning: atom 6 = Ni in HAFTOZ_clean.cif is not bonded to any other atom.\n",
      "└ @ PorousMaterials C:\\Users\\Arni\\.julia\\packages\\PorousMaterials\\RoZT3\\src\\bonds.jl:158\n",
      "┌ Warning: atom 7 = Ni in HAFTOZ_clean.cif is not bonded to any other atom.\n",
      "└ @ PorousMaterials C:\\Users\\Arni\\.julia\\packages\\PorousMaterials\\RoZT3\\src\\bonds.jl:158\n",
      "┌ Warning: atom 8 = Ni in HAFTOZ_clean.cif is not bonded to any other atom.\n",
      "└ @ PorousMaterials C:\\Users\\Arni\\.julia\\packages\\PorousMaterials\\RoZT3\\src\\bonds.jl:158\n",
      "┌ Warning: throwing out \n",
      "│   crystal.name = HAFTOZ_clean.cif\n",
      "└ @ Main In[49]:23\n"
     ]
    },
    {
     "name": "stderr",
     "output_type": "stream",
     "text": [
      "\u001b[32mProgress:  21%|█████████                                |  ETA: 0:33:29\u001b[39m"
     ]
    },
    {
     "name": "stdout",
     "output_type": "stream",
     "text": [
      "┌ Warning: carbon atom 109 in NATXOW_clean.cif is bonded to more than four!\n",
      "└ @ PorousMaterials C:\\Users\\Arni\\.julia\\packages\\PorousMaterials\\RoZT3\\src\\bonds.jl:168\n",
      "┌ Warning: carbon atom 110 in NATXOW_clean.cif is bonded to more than four!\n",
      "└ @ PorousMaterials C:\\Users\\Arni\\.julia\\packages\\PorousMaterials\\RoZT3\\src\\bonds.jl:168\n",
      "┌ Warning: carbon atom 134 in NATXOW_clean.cif is bonded to more than four!\n",
      "└ @ PorousMaterials C:\\Users\\Arni\\.julia\\packages\\PorousMaterials\\RoZT3\\src\\bonds.jl:168\n",
      "┌ Warning: carbon atom 135 in NATXOW_clean.cif is bonded to more than four!\n",
      "└ @ PorousMaterials C:\\Users\\Arni\\.julia\\packages\\PorousMaterials\\RoZT3\\src\\bonds.jl:168\n",
      "┌ Warning: carbon atom 159 in NATXOW_clean.cif is bonded to more than four!\n",
      "└ @ PorousMaterials C:\\Users\\Arni\\.julia\\packages\\PorousMaterials\\RoZT3\\src\\bonds.jl:168\n",
      "┌ Warning: carbon atom 160 in NATXOW_clean.cif is bonded to more than four!\n",
      "└ @ PorousMaterials C:\\Users\\Arni\\.julia\\packages\\PorousMaterials\\RoZT3\\src\\bonds.jl:168\n",
      "┌ Warning: carbon atom 184 in NATXOW_clean.cif is bonded to more than four!\n",
      "└ @ PorousMaterials C:\\Users\\Arni\\.julia\\packages\\PorousMaterials\\RoZT3\\src\\bonds.jl:168\n",
      "┌ Warning: carbon atom 185 in NATXOW_clean.cif is bonded to more than four!\n",
      "└ @ PorousMaterials C:\\Users\\Arni\\.julia\\packages\\PorousMaterials\\RoZT3\\src\\bonds.jl:168\n",
      "┌ Warning: throwing out \n",
      "│   crystal.name = NATXOW_clean.cif\n",
      "└ @ Main In[49]:23\n"
     ]
    },
    {
     "name": "stderr",
     "output_type": "stream",
     "text": [
      "\u001b[32mProgress:  21%|█████████                                |  ETA: 0:32:50\u001b[39m"
     ]
    },
    {
     "name": "stdout",
     "output_type": "stream",
     "text": [
      "┌ Warning: hydrogen atom 5 in ZERNAN_clean.cif is bonded to more than one atom!\n",
      "└ @ PorousMaterials C:\\Users\\Arni\\.julia\\packages\\PorousMaterials\\RoZT3\\src\\bonds.jl:163\n",
      "┌ Warning: hydrogen atom 8 in ZERNAN_clean.cif is bonded to more than one atom!\n",
      "└ @ PorousMaterials C:\\Users\\Arni\\.julia\\packages\\PorousMaterials\\RoZT3\\src\\bonds.jl:163\n",
      "┌ Warning: hydrogen atom 10 in ZERNAN_clean.cif is bonded to more than one atom!\n",
      "└ @ PorousMaterials C:\\Users\\Arni\\.julia\\packages\\PorousMaterials\\RoZT3\\src\\bonds.jl:163\n",
      "┌ Warning: hydrogen atom 32 in ZERNAN_clean.cif is bonded to more than one atom!\n",
      "└ @ PorousMaterials C:\\Users\\Arni\\.julia\\packages\\PorousMaterials\\RoZT3\\src\\bonds.jl:163\n",
      "┌ Warning: hydrogen atom 35 in ZERNAN_clean.cif is bonded to more than one atom!\n",
      "└ @ PorousMaterials C:\\Users\\Arni\\.julia\\packages\\PorousMaterials\\RoZT3\\src\\bonds.jl:163\n",
      "┌ Warning: hydrogen atom 37 in ZERNAN_clean.cif is bonded to more than one atom!\n",
      "└ @ PorousMaterials C:\\Users\\Arni\\.julia\\packages\\PorousMaterials\\RoZT3\\src\\bonds.jl:163\n",
      "┌ Warning: throwing out \n",
      "│   crystal.name = ZERNAN_clean.cif\n",
      "└ @ Main In[49]:23\n"
     ]
    },
    {
     "name": "stderr",
     "output_type": "stream",
     "text": [
      "\u001b[32mProgress:  23%|██████████                               |  ETA: 0:31:59\u001b[39m"
     ]
    },
    {
     "name": "stdout",
     "output_type": "stream",
     "text": [
      "Voronoi problems with COF-5.cif\n"
     ]
    },
    {
     "name": "stderr",
     "output_type": "stream",
     "text": [
      "\u001b[32mProgress:  24%|██████████                               |  ETA: 0:31:05\u001b[39m"
     ]
    },
    {
     "name": "stdout",
     "output_type": "stream",
     "text": [
      "Voronoi problems with QUQPOI_clean.cif\n",
      "┌ Warning: atom 1 = Zn in QUQPOI_clean.cif is not bonded to any other atom.\n",
      "└ @ PorousMaterials C:\\Users\\Arni\\.julia\\packages\\PorousMaterials\\RoZT3\\src\\bonds.jl:158\n",
      "┌ Warning: throwing out \n",
      "│   crystal.name = QUQPOI_clean.cif\n",
      "└ @ Main In[49]:23\n"
     ]
    },
    {
     "name": "stderr",
     "output_type": "stream",
     "text": [
      "\u001b[32mProgress:  24%|██████████                               |  ETA: 0:31:04\u001b[39m"
     ]
    },
    {
     "name": "stdout",
     "output_type": "stream",
     "text": [
      "┌ Warning: atom 2 = Ag in MAYPIM_clean.cif is not bonded to any other atom.\n",
      "└ @ PorousMaterials C:\\Users\\Arni\\.julia\\packages\\PorousMaterials\\RoZT3\\src\\bonds.jl:158\n",
      "┌ Warning: atom 4 = Ag in MAYPIM_clean.cif is not bonded to any other atom.\n",
      "└ @ PorousMaterials C:\\Users\\Arni\\.julia\\packages\\PorousMaterials\\RoZT3\\src\\bonds.jl:158\n",
      "┌ Warning: atom 6 = Ag in MAYPIM_clean.cif is not bonded to any other atom.\n",
      "└ @ PorousMaterials C:\\Users\\Arni\\.julia\\packages\\PorousMaterials\\RoZT3\\src\\bonds.jl:158\n",
      "┌ Warning: atom 8 = Ag in MAYPIM_clean.cif is not bonded to any other atom.\n",
      "└ @ PorousMaterials C:\\Users\\Arni\\.julia\\packages\\PorousMaterials\\RoZT3\\src\\bonds.jl:158\n",
      "┌ Warning: throwing out \n",
      "│   crystal.name = MAYPIM_clean.cif\n",
      "└ @ Main In[49]:23\n"
     ]
    },
    {
     "name": "stderr",
     "output_type": "stream",
     "text": [
      "\u001b[32mProgress:  25%|███████████                              |  ETA: 0:30:44\u001b[39m"
     ]
    },
    {
     "name": "stdout",
     "output_type": "stream",
     "text": [
      "┌ Warning: hydrogen atom 14 in PURQID_clean.cif is bonded to more than one atom!\n",
      "└ @ PorousMaterials C:\\Users\\Arni\\.julia\\packages\\PorousMaterials\\RoZT3\\src\\bonds.jl:163\n",
      "┌ Warning: hydrogen atom 15 in PURQID_clean.cif is bonded to more than one atom!\n",
      "└ @ PorousMaterials C:\\Users\\Arni\\.julia\\packages\\PorousMaterials\\RoZT3\\src\\bonds.jl:163\n",
      "┌ Warning: hydrogen atom 24 in PURQID_clean.cif is bonded to more than one atom!\n",
      "└ @ PorousMaterials C:\\Users\\Arni\\.julia\\packages\\PorousMaterials\\RoZT3\\src\\bonds.jl:163\n",
      "┌ Warning: hydrogen atom 25 in PURQID_clean.cif is bonded to more than one atom!\n",
      "└ @ PorousMaterials C:\\Users\\Arni\\.julia\\packages\\PorousMaterials\\RoZT3\\src\\bonds.jl:163\n",
      "┌ Warning: hydrogen atom 34 in PURQID_clean.cif is bonded to more than one atom!\n",
      "└ @ PorousMaterials C:\\Users\\Arni\\.julia\\packages\\PorousMaterials\\RoZT3\\src\\bonds.jl:163\n",
      "┌ Warning: hydrogen atom 35 in PURQID_clean.cif is bonded to more than one atom!\n",
      "└ @ PorousMaterials C:\\Users\\Arni\\.julia\\packages\\PorousMaterials\\RoZT3\\src\\bonds.jl:163\n",
      "┌ Warning: hydrogen atom 44 in PURQID_clean.cif is bonded to more than one atom!\n",
      "└ @ PorousMaterials C:\\Users\\Arni\\.julia\\packages\\PorousMaterials\\RoZT3\\src\\bonds.jl:163\n",
      "┌ Warning: hydrogen atom 45 in PURQID_clean.cif is bonded to more than one atom!\n",
      "└ @ PorousMaterials C:\\Users\\Arni\\.julia\\packages\\PorousMaterials\\RoZT3\\src\\bonds.jl:163\n",
      "┌ Warning: throwing out \n",
      "│   crystal.name = PURQID_clean.cif\n",
      "└ @ Main In[49]:23\n"
     ]
    },
    {
     "name": "stderr",
     "output_type": "stream",
     "text": [
      "\u001b[32mProgress:  26%|███████████                              |  ETA: 0:30:28\u001b[39m"
     ]
    },
    {
     "name": "stdout",
     "output_type": "stream",
     "text": [
      "┌ Warning: hydrogen atom 6 in ZERNOB_clean.cif is bonded to more than one atom!\n",
      "└ @ PorousMaterials C:\\Users\\Arni\\.julia\\packages\\PorousMaterials\\RoZT3\\src\\bonds.jl:163\n",
      "┌ Warning: hydrogen atom 7 in ZERNOB_clean.cif is bonded to more than one atom!\n",
      "└ @ PorousMaterials C:\\Users\\Arni\\.julia\\packages\\PorousMaterials\\RoZT3\\src\\bonds.jl:163\n",
      "┌ Warning: hydrogen atom 8 in ZERNOB_clean.cif is bonded to more than one atom!\n",
      "└ @ PorousMaterials C:\\Users\\Arni\\.julia\\packages\\PorousMaterials\\RoZT3\\src\\bonds.jl:163\n",
      "┌ Warning: hydrogen atom 31 in ZERNOB_clean.cif is bonded to more than one atom!\n",
      "└ @ PorousMaterials C:\\Users\\Arni\\.julia\\packages\\PorousMaterials\\RoZT3\\src\\bonds.jl:163\n",
      "┌ Warning: hydrogen atom 32 in ZERNOB_clean.cif is bonded to more than one atom!\n",
      "└ @ PorousMaterials C:\\Users\\Arni\\.julia\\packages\\PorousMaterials\\RoZT3\\src\\bonds.jl:163\n",
      "┌ Warning: hydrogen atom 33 in ZERNOB_clean.cif is bonded to more than one atom!\n",
      "└ @ PorousMaterials C:\\Users\\Arni\\.julia\\packages\\PorousMaterials\\RoZT3\\src\\bonds.jl:163\n",
      "┌ Warning: throwing out \n",
      "│   crystal.name = ZERNOB_clean.cif\n",
      "└ @ Main In[49]:23\n"
     ]
    },
    {
     "name": "stderr",
     "output_type": "stream",
     "text": [
      "\u001b[32mProgress:  27%|████████████                             |  ETA: 0:29:37\u001b[39m"
     ]
    },
    {
     "name": "stdout",
     "output_type": "stream",
     "text": [
      "┌ Warning: atom 9 = Cu in IVEGEV_clean.cif is not bonded to any other atom.\n",
      "└ @ PorousMaterials C:\\Users\\Arni\\.julia\\packages\\PorousMaterials\\RoZT3\\src\\bonds.jl:158\n",
      "┌ Warning: atom 10 = Cu in IVEGEV_clean.cif is not bonded to any other atom.\n",
      "└ @ PorousMaterials C:\\Users\\Arni\\.julia\\packages\\PorousMaterials\\RoZT3\\src\\bonds.jl:158\n",
      "┌ Warning: throwing out \n",
      "│   crystal.name = IVEGEV_clean.cif\n",
      "└ @ Main In[49]:23\n"
     ]
    },
    {
     "name": "stderr",
     "output_type": "stream",
     "text": [
      "\u001b[32mProgress:  28%|████████████                             |  ETA: 0:29:17\u001b[39m"
     ]
    },
    {
     "name": "stdout",
     "output_type": "stream",
     "text": [
      "┌ Warning: atom 193 = Cl in IGAHAB_clean.cif is not bonded to any other atom.\n",
      "└ @ PorousMaterials C:\\Users\\Arni\\.julia\\packages\\PorousMaterials\\RoZT3\\src\\bonds.jl:158\n",
      "┌ Warning: atom 194 = Cl in IGAHAB_clean.cif is not bonded to any other atom.\n",
      "└ @ PorousMaterials C:\\Users\\Arni\\.julia\\packages\\PorousMaterials\\RoZT3\\src\\bonds.jl:158\n",
      "┌ Warning: throwing out \n",
      "│   crystal.name = IGAHAB_clean.cif\n",
      "└ @ Main In[49]:23\n"
     ]
    },
    {
     "name": "stderr",
     "output_type": "stream",
     "text": [
      "\u001b[32mProgress:  28%|████████████                             |  ETA: 0:29:22\u001b[39m"
     ]
    },
    {
     "name": "stdout",
     "output_type": "stream",
     "text": [
      "┌ Warning: hydrogen atom 9 in FIMXUW_clean.cif is bonded to more than one atom!\n",
      "└ @ PorousMaterials C:\\Users\\Arni\\.julia\\packages\\PorousMaterials\\RoZT3\\src\\bonds.jl:163\n",
      "┌ Warning: hydrogen atom 10 in FIMXUW_clean.cif is bonded to more than one atom!\n",
      "└ @ PorousMaterials C:\\Users\\Arni\\.julia\\packages\\PorousMaterials\\RoZT3\\src\\bonds.jl:163\n",
      "┌ Warning: hydrogen atom 16 in FIMXUW_clean.cif is bonded to more than one atom!\n",
      "└ @ PorousMaterials C:\\Users\\Arni\\.julia\\packages\\PorousMaterials\\RoZT3\\src\\bonds.jl:163\n",
      "┌ Warning: hydrogen atom 17 in FIMXUW_clean.cif is bonded to more than one atom!\n",
      "└ @ PorousMaterials C:\\Users\\Arni\\.julia\\packages\\PorousMaterials\\RoZT3\\src\\bonds.jl:163\n",
      "┌ Warning: hydrogen atom 23 in FIMXUW_clean.cif is bonded to more than one atom!\n",
      "└ @ PorousMaterials C:\\Users\\Arni\\.julia\\packages\\PorousMaterials\\RoZT3\\src\\bonds.jl:163\n",
      "┌ Warning: hydrogen atom 24 in FIMXUW_clean.cif is bonded to more than one atom!\n",
      "└ @ PorousMaterials C:\\Users\\Arni\\.julia\\packages\\PorousMaterials\\RoZT3\\src\\bonds.jl:163\n",
      "┌ Warning: hydrogen atom 30 in FIMXUW_clean.cif is bonded to more than one atom!\n",
      "└ @ PorousMaterials C:\\Users\\Arni\\.julia\\packages\\PorousMaterials\\RoZT3\\src\\bonds.jl:163\n",
      "┌ Warning: hydrogen atom 31 in FIMXUW_clean.cif is bonded to more than one atom!\n",
      "└ @ PorousMaterials C:\\Users\\Arni\\.julia\\packages\\PorousMaterials\\RoZT3\\src\\bonds.jl:163\n",
      "┌ Warning: throwing out \n",
      "│   crystal.name = FIMXUW_clean.cif\n",
      "└ @ Main In[49]:23\n"
     ]
    },
    {
     "name": "stderr",
     "output_type": "stream",
     "text": [
      "\u001b[32mProgress:  29%|████████████                             |  ETA: 0:28:50\u001b[39m"
     ]
    },
    {
     "name": "stdout",
     "output_type": "stream",
     "text": [
      "┌ Warning: atom 131 = O in GESFAN_clean.cif is not bonded to any other atom.\n",
      "└ @ PorousMaterials C:\\Users\\Arni\\.julia\\packages\\PorousMaterials\\RoZT3\\src\\bonds.jl:158\n",
      "┌ Warning: atom 132 = O in GESFAN_clean.cif is not bonded to any other atom.\n",
      "└ @ PorousMaterials C:\\Users\\Arni\\.julia\\packages\\PorousMaterials\\RoZT3\\src\\bonds.jl:158\n",
      "┌ Warning: throwing out \n",
      "│   crystal.name = GESFAN_clean.cif\n",
      "└ @ Main In[49]:23\n"
     ]
    },
    {
     "name": "stderr",
     "output_type": "stream",
     "text": [
      "\u001b[32mProgress:  32%|█████████████                            |  ETA: 0:27:31\u001b[39m"
     ]
    },
    {
     "name": "stdout",
     "output_type": "stream",
     "text": [
      "┌ Warning: atom 1 = Zn in GIDKOU_clean.cif is not bonded to any other atom.\n",
      "└ @ PorousMaterials C:\\Users\\Arni\\.julia\\packages\\PorousMaterials\\RoZT3\\src\\bonds.jl:158\n",
      "┌ Warning: atom 2 = Zn in GIDKOU_clean.cif is not bonded to any other atom.\n",
      "└ @ PorousMaterials C:\\Users\\Arni\\.julia\\packages\\PorousMaterials\\RoZT3\\src\\bonds.jl:158\n",
      "┌ Warning: atom 3 = Zn in GIDKOU_clean.cif is not bonded to any other atom.\n",
      "└ @ PorousMaterials C:\\Users\\Arni\\.julia\\packages\\PorousMaterials\\RoZT3\\src\\bonds.jl:158\n",
      "┌ Warning: atom 4 = Zn in GIDKOU_clean.cif is not bonded to any other atom.\n",
      "└ @ PorousMaterials C:\\Users\\Arni\\.julia\\packages\\PorousMaterials\\RoZT3\\src\\bonds.jl:158\n",
      "┌ Warning: atom 5 = Zn in GIDKOU_clean.cif is not bonded to any other atom.\n",
      "└ @ PorousMaterials C:\\Users\\Arni\\.julia\\packages\\PorousMaterials\\RoZT3\\src\\bonds.jl:158\n",
      "┌ Warning: atom 6 = Zn in GIDKOU_clean.cif is not bonded to any other atom.\n",
      "└ @ PorousMaterials C:\\Users\\Arni\\.julia\\packages\\PorousMaterials\\RoZT3\\src\\bonds.jl:158\n",
      "┌ Warning: atom 7 = Zn in GIDKOU_clean.cif is not bonded to any other atom.\n",
      "└ @ PorousMaterials C:\\Users\\Arni\\.julia\\packages\\PorousMaterials\\RoZT3\\src\\bonds.jl:158\n",
      "┌ Warning: atom 8 = Zn in GIDKOU_clean.cif is not bonded to any other atom.\n",
      "└ @ PorousMaterials C:\\Users\\Arni\\.julia\\packages\\PorousMaterials\\RoZT3\\src\\bonds.jl:158\n",
      "┌ Warning: atom 9 = Zn in GIDKOU_clean.cif is not bonded to any other atom.\n",
      "└ @ PorousMaterials C:\\Users\\Arni\\.julia\\packages\\PorousMaterials\\RoZT3\\src\\bonds.jl:158\n",
      "┌ Warning: atom 10 = Zn in GIDKOU_clean.cif is not bonded to any other atom.\n",
      "└ @ PorousMaterials C:\\Users\\Arni\\.julia\\packages\\PorousMaterials\\RoZT3\\src\\bonds.jl:158\n",
      "┌ Warning: atom 11 = Zn in GIDKOU_clean.cif is not bonded to any other atom.\n",
      "└ @ PorousMaterials C:\\Users\\Arni\\.julia\\packages\\PorousMaterials\\RoZT3\\src\\bonds.jl:158\n",
      "┌ Warning: atom 12 = Zn in GIDKOU_clean.cif is not bonded to any other atom.\n",
      "└ @ PorousMaterials C:\\Users\\Arni\\.julia\\packages\\PorousMaterials\\RoZT3\\src\\bonds.jl:158\n",
      "┌ Warning: atom 13 = Zn in GIDKOU_clean.cif is not bonded to any other atom.\n",
      "└ @ PorousMaterials C:\\Users\\Arni\\.julia\\packages\\PorousMaterials\\RoZT3\\src\\bonds.jl:158\n",
      "┌ Warning: atom 14 = Zn in GIDKOU_clean.cif is not bonded to any other atom.\n",
      "└ @ PorousMaterials C:\\Users\\Arni\\.julia\\packages\\PorousMaterials\\RoZT3\\src\\bonds.jl:158\n",
      "┌ Warning: atom 15 = Zn in GIDKOU_clean.cif is not bonded to any other atom.\n",
      "└ @ PorousMaterials C:\\Users\\Arni\\.julia\\packages\\PorousMaterials\\RoZT3\\src\\bonds.jl:158\n",
      "┌ Warning: atom 16 = Zn in GIDKOU_clean.cif is not bonded to any other atom.\n",
      "└ @ PorousMaterials C:\\Users\\Arni\\.julia\\packages\\PorousMaterials\\RoZT3\\src\\bonds.jl:158\n",
      "┌ Warning: atom 17 = Zn in GIDKOU_clean.cif is not bonded to any other atom.\n",
      "└ @ PorousMaterials C:\\Users\\Arni\\.julia\\packages\\PorousMaterials\\RoZT3\\src\\bonds.jl:158\n",
      "┌ Warning: atom 18 = Zn in GIDKOU_clean.cif is not bonded to any other atom.\n",
      "└ @ PorousMaterials C:\\Users\\Arni\\.julia\\packages\\PorousMaterials\\RoZT3\\src\\bonds.jl:158\n",
      "┌ Warning: atom 19 = Zn in GIDKOU_clean.cif is not bonded to any other atom.\n",
      "└ @ PorousMaterials C:\\Users\\Arni\\.julia\\packages\\PorousMaterials\\RoZT3\\src\\bonds.jl:158\n",
      "┌ Warning: atom 20 = Zn in GIDKOU_clean.cif is not bonded to any other atom.\n",
      "└ @ PorousMaterials C:\\Users\\Arni\\.julia\\packages\\PorousMaterials\\RoZT3\\src\\bonds.jl:158\n",
      "┌ Warning: throwing out \n",
      "│   crystal.name = GIDKOU_clean.cif\n",
      "└ @ Main In[49]:23\n"
     ]
    },
    {
     "name": "stderr",
     "output_type": "stream",
     "text": [
      "\u001b[32mProgress:  34%|██████████████                           |  ETA: 0:26:16\u001b[39m"
     ]
    },
    {
     "name": "stdout",
     "output_type": "stream",
     "text": [
      "┌ Warning: atom 17 = Pb in YICREI_clean.cif is not bonded to any other atom.\n",
      "└ @ PorousMaterials C:\\Users\\Arni\\.julia\\packages\\PorousMaterials\\RoZT3\\src\\bonds.jl:158\n",
      "┌ Warning: atom 18 = Pb in YICREI_clean.cif is not bonded to any other atom.\n",
      "└ @ PorousMaterials C:\\Users\\Arni\\.julia\\packages\\PorousMaterials\\RoZT3\\src\\bonds.jl:158\n",
      "┌ Warning: atom 19 = Pb in YICREI_clean.cif is not bonded to any other atom.\n",
      "└ @ PorousMaterials C:\\Users\\Arni\\.julia\\packages\\PorousMaterials\\RoZT3\\src\\bonds.jl:158\n",
      "┌ Warning: atom 20 = Pb in YICREI_clean.cif is not bonded to any other atom.\n",
      "└ @ PorousMaterials C:\\Users\\Arni\\.julia\\packages\\PorousMaterials\\RoZT3\\src\\bonds.jl:158\n",
      "┌ Warning: throwing out \n",
      "│   crystal.name = YICREI_clean.cif\n",
      "└ @ Main In[49]:23\n"
     ]
    },
    {
     "name": "stderr",
     "output_type": "stream",
     "text": [
      "\u001b[32mProgress:  35%|███████████████                          |  ETA: 0:26:01\u001b[39m"
     ]
    },
    {
     "name": "stdout",
     "output_type": "stream",
     "text": [
      "┌ Warning: hydrogen atom 10 in SUHHOT_clean.cif is bonded to more than one atom!\n",
      "└ @ PorousMaterials C:\\Users\\Arni\\.julia\\packages\\PorousMaterials\\RoZT3\\src\\bonds.jl:163\n",
      "┌ Warning: throwing out \n",
      "│   crystal.name = SUHHOT_clean.cif\n",
      "└ @ Main In[49]:23\n"
     ]
    },
    {
     "name": "stderr",
     "output_type": "stream",
     "text": [
      "\u001b[32mProgress:  38%|████████████████                         |  ETA: 0:24:40\u001b[39m"
     ]
    },
    {
     "name": "stdout",
     "output_type": "stream",
     "text": [
      "┌ Warning: hydrogen atom 16 in UJARAZ_clean.cif is bonded to more than one atom!\n",
      "└ @ PorousMaterials C:\\Users\\Arni\\.julia\\packages\\PorousMaterials\\RoZT3\\src\\bonds.jl:163\n",
      "┌ Warning: hydrogen atom 28 in UJARAZ_clean.cif is bonded to more than one atom!\n",
      "└ @ PorousMaterials C:\\Users\\Arni\\.julia\\packages\\PorousMaterials\\RoZT3\\src\\bonds.jl:163\n",
      "┌ Warning: throwing out \n",
      "│   crystal.name = UJARAZ_clean.cif\n",
      "└ @ Main In[49]:23\n"
     ]
    },
    {
     "name": "stderr",
     "output_type": "stream",
     "text": [
      "\u001b[32mProgress:  40%|█████████████████                        |  ETA: 0:23:50\u001b[39m"
     ]
    },
    {
     "name": "stdout",
     "output_type": "stream",
     "text": [
      "┌ Warning: atom 17 = Pb in MOF-70.cif is not bonded to any other atom.\n",
      "└ @ PorousMaterials C:\\Users\\Arni\\.julia\\packages\\PorousMaterials\\RoZT3\\src\\bonds.jl:158\n",
      "┌ Warning: atom 18 = Pb in MOF-70.cif is not bonded to any other atom.\n",
      "└ @ PorousMaterials C:\\Users\\Arni\\.julia\\packages\\PorousMaterials\\RoZT3\\src\\bonds.jl:158\n",
      "┌ Warning: atom 19 = Pb in MOF-70.cif is not bonded to any other atom.\n",
      "└ @ PorousMaterials C:\\Users\\Arni\\.julia\\packages\\PorousMaterials\\RoZT3\\src\\bonds.jl:158\n",
      "┌ Warning: atom 20 = Pb in MOF-70.cif is not bonded to any other atom.\n",
      "└ @ PorousMaterials C:\\Users\\Arni\\.julia\\packages\\PorousMaterials\\RoZT3\\src\\bonds.jl:158\n",
      "┌ Warning: throwing out \n",
      "│   crystal.name = MOF-70.cif\n",
      "└ @ Main In[49]:23\n"
     ]
    },
    {
     "name": "stderr",
     "output_type": "stream",
     "text": [
      "\u001b[32mProgress:  42%|██████████████████                       |  ETA: 0:22:51\u001b[39m"
     ]
    },
    {
     "name": "stdout",
     "output_type": "stream",
     "text": [
      "┌ Warning: carbon atom 89 in HITXUE.cif is bonded to more than four!\n",
      "└ @ PorousMaterials C:\\Users\\Arni\\.julia\\packages\\PorousMaterials\\RoZT3\\src\\bonds.jl:168\n",
      "┌ Warning: carbon atom 90 in HITXUE.cif is bonded to more than four!\n",
      "└ @ PorousMaterials C:\\Users\\Arni\\.julia\\packages\\PorousMaterials\\RoZT3\\src\\bonds.jl:168\n",
      "┌ Warning: carbon atom 91 in HITXUE.cif is bonded to more than four!\n",
      "└ @ PorousMaterials C:\\Users\\Arni\\.julia\\packages\\PorousMaterials\\RoZT3\\src\\bonds.jl:168\n",
      "┌ Warning: carbon atom 92 in HITXUE.cif is bonded to more than four!\n",
      "└ @ PorousMaterials C:\\Users\\Arni\\.julia\\packages\\PorousMaterials\\RoZT3\\src\\bonds.jl:168\n",
      "┌ Warning: carbon atom 93 in HITXUE.cif is bonded to more than four!\n",
      "└ @ PorousMaterials C:\\Users\\Arni\\.julia\\packages\\PorousMaterials\\RoZT3\\src\\bonds.jl:168\n",
      "┌ Warning: carbon atom 94 in HITXUE.cif is bonded to more than four!\n",
      "└ @ PorousMaterials C:\\Users\\Arni\\.julia\\packages\\PorousMaterials\\RoZT3\\src\\bonds.jl:168\n",
      "┌ Warning: carbon atom 95 in HITXUE.cif is bonded to more than four!\n",
      "└ @ PorousMaterials C:\\Users\\Arni\\.julia\\packages\\PorousMaterials\\RoZT3\\src\\bonds.jl:168\n",
      "┌ Warning: carbon atom 96 in HITXUE.cif is bonded to more than four!\n",
      "└ @ PorousMaterials C:\\Users\\Arni\\.julia\\packages\\PorousMaterials\\RoZT3\\src\\bonds.jl:168\n",
      "┌ Warning: throwing out \n",
      "│   crystal.name = HITXUE.cif\n",
      "└ @ Main In[49]:23\n"
     ]
    },
    {
     "name": "stderr",
     "output_type": "stream",
     "text": [
      "\u001b[32mProgress:  45%|███████████████████                      |  ETA: 0:21:13\u001b[39m"
     ]
    },
    {
     "name": "stdout",
     "output_type": "stream",
     "text": [
      "┌ Warning: hydrogen atom 11 in UXABUR_clean.cif is bonded to more than one atom!\n",
      "└ @ PorousMaterials C:\\Users\\Arni\\.julia\\packages\\PorousMaterials\\RoZT3\\src\\bonds.jl:163\n",
      "┌ Warning: hydrogen atom 19 in UXABUR_clean.cif is bonded to more than one atom!\n",
      "└ @ PorousMaterials C:\\Users\\Arni\\.julia\\packages\\PorousMaterials\\RoZT3\\src\\bonds.jl:163\n",
      "┌ Warning: hydrogen atom 27 in UXABUR_clean.cif is bonded to more than one atom!\n",
      "└ @ PorousMaterials C:\\Users\\Arni\\.julia\\packages\\PorousMaterials\\RoZT3\\src\\bonds.jl:163\n",
      "┌ Warning: hydrogen atom 35 in UXABUR_clean.cif is bonded to more than one atom!\n",
      "└ @ PorousMaterials C:\\Users\\Arni\\.julia\\packages\\PorousMaterials\\RoZT3\\src\\bonds.jl:163\n",
      "┌ Warning: throwing out \n",
      "│   crystal.name = UXABUR_clean.cif\n",
      "└ @ Main In[49]:23\n"
     ]
    },
    {
     "name": "stderr",
     "output_type": "stream",
     "text": [
      "\u001b[32mProgress:  45%|███████████████████                      |  ETA: 0:21:08\u001b[39m"
     ]
    },
    {
     "name": "stdout",
     "output_type": "stream",
     "text": [
      "Voronoi problems with DUXZIG01_clean.cif\n",
      "┌ Warning: atom 1 = Zn in DUXZIG01_clean.cif is not bonded to any other atom.\n",
      "└ @ PorousMaterials C:\\Users\\Arni\\.julia\\packages\\PorousMaterials\\RoZT3\\src\\bonds.jl:158\n",
      "┌ Warning: atom 2 = Zn in DUXZIG01_clean.cif is not bonded to any other atom.\n",
      "└ @ PorousMaterials C:\\Users\\Arni\\.julia\\packages\\PorousMaterials\\RoZT3\\src\\bonds.jl:158\n",
      "┌ Warning: throwing out \n",
      "│   crystal.name = DUXZIG01_clean.cif\n",
      "└ @ Main In[49]:23\n"
     ]
    },
    {
     "name": "stderr",
     "output_type": "stream",
     "text": [
      "\u001b[32mProgress:  46%|███████████████████                      |  ETA: 0:20:45\u001b[39m"
     ]
    },
    {
     "name": "stdout",
     "output_type": "stream",
     "text": [
      "┌ Warning: atom 23 = H in JEMQEY_clean.cif is not bonded to any other atom.\n",
      "└ @ PorousMaterials C:\\Users\\Arni\\.julia\\packages\\PorousMaterials\\RoZT3\\src\\bonds.jl:158\n",
      "┌ Warning: atom 44 = H in JEMQEY_clean.cif is not bonded to any other atom.\n",
      "└ @ PorousMaterials C:\\Users\\Arni\\.julia\\packages\\PorousMaterials\\RoZT3\\src\\bonds.jl:158\n",
      "┌ Warning: throwing out \n",
      "│   crystal.name = JEMQEY_clean.cif\n",
      "└ @ Main In[49]:23\n"
     ]
    },
    {
     "name": "stderr",
     "output_type": "stream",
     "text": [
      "\u001b[32mProgress:  48%|████████████████████                     |  ETA: 0:19:55\u001b[39m"
     ]
    },
    {
     "name": "stdout",
     "output_type": "stream",
     "text": [
      "┌ Warning: atom 5 = Na in WUPNIF_clean.cif is not bonded to any other atom.\n",
      "└ @ PorousMaterials C:\\Users\\Arni\\.julia\\packages\\PorousMaterials\\RoZT3\\src\\bonds.jl:158\n",
      "┌ Warning: atom 6 = Na in WUPNIF_clean.cif is not bonded to any other atom.\n",
      "└ @ PorousMaterials C:\\Users\\Arni\\.julia\\packages\\PorousMaterials\\RoZT3\\src\\bonds.jl:158\n",
      "┌ Warning: throwing out \n",
      "│   crystal.name = WUPNIF_clean.cif\n",
      "└ @ Main In[49]:23\n"
     ]
    },
    {
     "name": "stderr",
     "output_type": "stream",
     "text": [
      "\u001b[32mProgress:  48%|████████████████████                     |  ETA: 0:19:49\u001b[39m"
     ]
    },
    {
     "name": "stdout",
     "output_type": "stream",
     "text": [
      "┌ Warning: atom 7 = Zn in IBOTAU_clean.cif is not bonded to any other atom.\n",
      "└ @ PorousMaterials C:\\Users\\Arni\\.julia\\packages\\PorousMaterials\\RoZT3\\src\\bonds.jl:158\n",
      "┌ Warning: throwing out \n",
      "│   crystal.name = IBOTAU_clean.cif\n",
      "└ @ Main In[49]:23\n"
     ]
    },
    {
     "name": "stderr",
     "output_type": "stream",
     "text": [
      "\u001b[32mProgress:  49%|█████████████████████                    |  ETA: 0:19:31\u001b[39m"
     ]
    },
    {
     "name": "stdout",
     "output_type": "stream",
     "text": [
      "┌ Warning: hydrogen atom 17 in TEWGEJ01_clean.cif is bonded to more than one atom!\n",
      "└ @ PorousMaterials C:\\Users\\Arni\\.julia\\packages\\PorousMaterials\\RoZT3\\src\\bonds.jl:163\n",
      "┌ Warning: hydrogen atom 30 in TEWGEJ01_clean.cif is bonded to more than one atom!\n",
      "└ @ PorousMaterials C:\\Users\\Arni\\.julia\\packages\\PorousMaterials\\RoZT3\\src\\bonds.jl:163\n",
      "┌ Warning: hydrogen atom 43 in TEWGEJ01_clean.cif is bonded to more than one atom!\n",
      "└ @ PorousMaterials C:\\Users\\Arni\\.julia\\packages\\PorousMaterials\\RoZT3\\src\\bonds.jl:163\n",
      "┌ Warning: hydrogen atom 56 in TEWGEJ01_clean.cif is bonded to more than one atom!\n",
      "└ @ PorousMaterials C:\\Users\\Arni\\.julia\\packages\\PorousMaterials\\RoZT3\\src\\bonds.jl:163\n",
      "┌ Warning: hydrogen atom 69 in TEWGEJ01_clean.cif is bonded to more than one atom!\n",
      "└ @ PorousMaterials C:\\Users\\Arni\\.julia\\packages\\PorousMaterials\\RoZT3\\src\\bonds.jl:163\n",
      "┌ Warning: hydrogen atom 82 in TEWGEJ01_clean.cif is bonded to more than one atom!\n",
      "└ @ PorousMaterials C:\\Users\\Arni\\.julia\\packages\\PorousMaterials\\RoZT3\\src\\bonds.jl:163\n",
      "┌ Warning: hydrogen atom 95 in TEWGEJ01_clean.cif is bonded to more than one atom!\n",
      "└ @ PorousMaterials C:\\Users\\Arni\\.julia\\packages\\PorousMaterials\\RoZT3\\src\\bonds.jl:163\n",
      "┌ Warning: hydrogen atom 108 in TEWGEJ01_clean.cif is bonded to more than one atom!\n",
      "└ @ PorousMaterials C:\\Users\\Arni\\.julia\\packages\\PorousMaterials\\RoZT3\\src\\bonds.jl:163\n",
      "┌ Warning: throwing out \n",
      "│   crystal.name = TEWGEJ01_clean.cif\n",
      "└ @ Main In[49]:23\n"
     ]
    },
    {
     "name": "stderr",
     "output_type": "stream",
     "text": [
      "\u001b[32mProgress:  49%|█████████████████████                    |  ETA: 0:19:29\u001b[39m"
     ]
    },
    {
     "name": "stdout",
     "output_type": "stream",
     "text": [
      "┌ Warning: carbon atom 125 in WAZQUL_clean.cif is bonded to more than four!\n",
      "└ @ PorousMaterials C:\\Users\\Arni\\.julia\\packages\\PorousMaterials\\RoZT3\\src\\bonds.jl:168\n",
      "┌ Warning: carbon atom 126 in WAZQUL_clean.cif is bonded to more than four!\n",
      "└ @ PorousMaterials C:\\Users\\Arni\\.julia\\packages\\PorousMaterials\\RoZT3\\src\\bonds.jl:168\n",
      "┌ Warning: carbon atom 129 in WAZQUL_clean.cif is bonded to more than four!\n",
      "└ @ PorousMaterials C:\\Users\\Arni\\.julia\\packages\\PorousMaterials\\RoZT3\\src\\bonds.jl:168\n",
      "┌ Warning: carbon atom 131 in WAZQUL_clean.cif is bonded to more than four!\n",
      "└ @ PorousMaterials C:\\Users\\Arni\\.julia\\packages\\PorousMaterials\\RoZT3\\src\\bonds.jl:168\n",
      "┌ Warning: carbon atom 132 in WAZQUL_clean.cif is bonded to more than four!\n",
      "└ @ PorousMaterials C:\\Users\\Arni\\.julia\\packages\\PorousMaterials\\RoZT3\\src\\bonds.jl:168\n",
      "┌ Warning: carbon atom 135 in WAZQUL_clean.cif is bonded to more than four!\n",
      "└ @ PorousMaterials C:\\Users\\Arni\\.julia\\packages\\PorousMaterials\\RoZT3\\src\\bonds.jl:168\n",
      "┌ Warning: carbon atom 137 in WAZQUL_clean.cif is bonded to more than four!\n",
      "└ @ PorousMaterials C:\\Users\\Arni\\.julia\\packages\\PorousMaterials\\RoZT3\\src\\bonds.jl:168\n",
      "┌ Warning: carbon atom 138 in WAZQUL_clean.cif is bonded to more than four!\n",
      "└ @ PorousMaterials C:\\Users\\Arni\\.julia\\packages\\PorousMaterials\\RoZT3\\src\\bonds.jl:168\n",
      "┌ Warning: carbon atom 141 in WAZQUL_clean.cif is bonded to more than four!\n",
      "└ @ PorousMaterials C:\\Users\\Arni\\.julia\\packages\\PorousMaterials\\RoZT3\\src\\bonds.jl:168\n",
      "┌ Warning: carbon atom 143 in WAZQUL_clean.cif is bonded to more than four!\n",
      "└ @ PorousMaterials C:\\Users\\Arni\\.julia\\packages\\PorousMaterials\\RoZT3\\src\\bonds.jl:168\n",
      "┌ Warning: carbon atom 144 in WAZQUL_clean.cif is bonded to more than four!\n",
      "└ @ PorousMaterials C:\\Users\\Arni\\.julia\\packages\\PorousMaterials\\RoZT3\\src\\bonds.jl:168\n",
      "┌ Warning: carbon atom 147 in WAZQUL_clean.cif is bonded to more than four!\n",
      "└ @ PorousMaterials C:\\Users\\Arni\\.julia\\packages\\PorousMaterials\\RoZT3\\src\\bonds.jl:168\n",
      "┌ Warning: throwing out \n",
      "│   crystal.name = WAZQUL_clean.cif\n",
      "└ @ Main In[49]:23\n"
     ]
    },
    {
     "name": "stderr",
     "output_type": "stream",
     "text": [
      "\u001b[32mProgress:  50%|█████████████████████                    |  ETA: 0:19:25\u001b[39m"
     ]
    },
    {
     "name": "stdout",
     "output_type": "stream",
     "text": [
      "Voronoi problems with KECRAL10_clean.cif\n",
      "┌ Warning: atom 1 = Cd in KECRAL10_clean.cif is not bonded to any other atom.\n",
      "└ @ PorousMaterials C:\\Users\\Arni\\.julia\\packages\\PorousMaterials\\RoZT3\\src\\bonds.jl:158\n",
      "┌ Warning: atom 2 = Cd in KECRAL10_clean.cif is not bonded to any other atom.\n",
      "└ @ PorousMaterials C:\\Users\\Arni\\.julia\\packages\\PorousMaterials\\RoZT3\\src\\bonds.jl:158\n",
      "┌ Warning: atom 3 = Cd in KECRAL10_clean.cif is not bonded to any other atom.\n",
      "└ @ PorousMaterials C:\\Users\\Arni\\.julia\\packages\\PorousMaterials\\RoZT3\\src\\bonds.jl:158\n",
      "┌ Warning: throwing out \n",
      "│   crystal.name = KECRAL10_clean.cif\n",
      "└ @ Main In[49]:23\n"
     ]
    },
    {
     "name": "stderr",
     "output_type": "stream",
     "text": [
      "\u001b[32mProgress:  50%|█████████████████████                    |  ETA: 0:19:14\u001b[39m"
     ]
    },
    {
     "name": "stdout",
     "output_type": "stream",
     "text": [
      "┌ Warning: hydrogen atom 9 in VASKOR_clean.cif is bonded to more than one atom!\n",
      "└ @ PorousMaterials C:\\Users\\Arni\\.julia\\packages\\PorousMaterials\\RoZT3\\src\\bonds.jl:163\n",
      "┌ Warning: hydrogen atom 14 in VASKOR_clean.cif is bonded to more than one atom!\n",
      "└ @ PorousMaterials C:\\Users\\Arni\\.julia\\packages\\PorousMaterials\\RoZT3\\src\\bonds.jl:163\n",
      "┌ Warning: hydrogen atom 19 in VASKOR_clean.cif is bonded to more than one atom!\n",
      "└ @ PorousMaterials C:\\Users\\Arni\\.julia\\packages\\PorousMaterials\\RoZT3\\src\\bonds.jl:163\n",
      "┌ Warning: hydrogen atom 24 in VASKOR_clean.cif is bonded to more than one atom!\n",
      "└ @ PorousMaterials C:\\Users\\Arni\\.julia\\packages\\PorousMaterials\\RoZT3\\src\\bonds.jl:163\n",
      "┌ Warning: throwing out \n",
      "│   crystal.name = VASKOR_clean.cif\n",
      "└ @ Main In[49]:23\n"
     ]
    },
    {
     "name": "stderr",
     "output_type": "stream",
     "text": [
      "\u001b[32mProgress:  50%|█████████████████████                    |  ETA: 0:19:08\u001b[39m"
     ]
    },
    {
     "name": "stdout",
     "output_type": "stream",
     "text": [
      "┌ Warning: carbon atom 125 in WAZRAS_clean.cif is bonded to more than four!\n",
      "└ @ PorousMaterials C:\\Users\\Arni\\.julia\\packages\\PorousMaterials\\RoZT3\\src\\bonds.jl:168\n",
      "┌ Warning: carbon atom 126 in WAZRAS_clean.cif is bonded to more than four!\n",
      "└ @ PorousMaterials C:\\Users\\Arni\\.julia\\packages\\PorousMaterials\\RoZT3\\src\\bonds.jl:168\n",
      "┌ Warning: carbon atom 129 in WAZRAS_clean.cif is bonded to more than four!\n",
      "└ @ PorousMaterials C:\\Users\\Arni\\.julia\\packages\\PorousMaterials\\RoZT3\\src\\bonds.jl:168\n",
      "┌ Warning: carbon atom 131 in WAZRAS_clean.cif is bonded to more than four!\n",
      "└ @ PorousMaterials C:\\Users\\Arni\\.julia\\packages\\PorousMaterials\\RoZT3\\src\\bonds.jl:168\n",
      "┌ Warning: carbon atom 132 in WAZRAS_clean.cif is bonded to more than four!\n",
      "└ @ PorousMaterials C:\\Users\\Arni\\.julia\\packages\\PorousMaterials\\RoZT3\\src\\bonds.jl:168\n",
      "┌ Warning: carbon atom 135 in WAZRAS_clean.cif is bonded to more than four!\n",
      "└ @ PorousMaterials C:\\Users\\Arni\\.julia\\packages\\PorousMaterials\\RoZT3\\src\\bonds.jl:168\n",
      "┌ Warning: carbon atom 137 in WAZRAS_clean.cif is bonded to more than four!\n",
      "└ @ PorousMaterials C:\\Users\\Arni\\.julia\\packages\\PorousMaterials\\RoZT3\\src\\bonds.jl:168\n",
      "┌ Warning: carbon atom 138 in WAZRAS_clean.cif is bonded to more than four!\n",
      "└ @ PorousMaterials C:\\Users\\Arni\\.julia\\packages\\PorousMaterials\\RoZT3\\src\\bonds.jl:168\n",
      "┌ Warning: carbon atom 141 in WAZRAS_clean.cif is bonded to more than four!\n",
      "└ @ PorousMaterials C:\\Users\\Arni\\.julia\\packages\\PorousMaterials\\RoZT3\\src\\bonds.jl:168\n",
      "┌ Warning: carbon atom 143 in WAZRAS_clean.cif is bonded to more than four!\n",
      "└ @ PorousMaterials C:\\Users\\Arni\\.julia\\packages\\PorousMaterials\\RoZT3\\src\\bonds.jl:168\n",
      "┌ Warning: carbon atom 144 in WAZRAS_clean.cif is bonded to more than four!\n",
      "└ @ PorousMaterials C:\\Users\\Arni\\.julia\\packages\\PorousMaterials\\RoZT3\\src\\bonds.jl:168\n",
      "┌ Warning: carbon atom 147 in WAZRAS_clean.cif is bonded to more than four!\n",
      "└ @ PorousMaterials C:\\Users\\Arni\\.julia\\packages\\PorousMaterials\\RoZT3\\src\\bonds.jl:168\n",
      "┌ Warning: throwing out \n",
      "│   crystal.name = WAZRAS_clean.cif\n",
      "└ @ Main In[49]:23\n"
     ]
    },
    {
     "name": "stderr",
     "output_type": "stream",
     "text": [
      "\u001b[32mProgress:  51%|█████████████████████                    |  ETA: 0:18:40\u001b[39m"
     ]
    },
    {
     "name": "stdout",
     "output_type": "stream",
     "text": [
      "┌ Warning: carbon atom 27 in YEWWUU_clean.cif is bonded to more than four!\n",
      "└ @ PorousMaterials C:\\Users\\Arni\\.julia\\packages\\PorousMaterials\\RoZT3\\src\\bonds.jl:168\n",
      "┌ Warning: carbon atom 32 in YEWWUU_clean.cif is bonded to more than four!\n",
      "└ @ PorousMaterials C:\\Users\\Arni\\.julia\\packages\\PorousMaterials\\RoZT3\\src\\bonds.jl:168\n",
      "┌ Warning: carbon atom 33 in YEWWUU_clean.cif is bonded to more than four!\n",
      "└ @ PorousMaterials C:\\Users\\Arni\\.julia\\packages\\PorousMaterials\\RoZT3\\src\\bonds.jl:168\n",
      "┌ Warning: carbon atom 38 in YEWWUU_clean.cif is bonded to more than four!\n",
      "└ @ PorousMaterials C:\\Users\\Arni\\.julia\\packages\\PorousMaterials\\RoZT3\\src\\bonds.jl:168\n",
      "┌ Warning: throwing out \n",
      "│   crystal.name = YEWWUU_clean.cif\n",
      "└ @ Main In[49]:23\n"
     ]
    },
    {
     "name": "stderr",
     "output_type": "stream",
     "text": [
      "\u001b[32mProgress:  53%|██████████████████████                   |  ETA: 0:17:41\u001b[39m"
     ]
    },
    {
     "name": "stdout",
     "output_type": "stream",
     "text": [
      "┌ Warning: atom 81 = O in NAJGAH_clean.cif is not bonded to any other atom.\n",
      "└ @ PorousMaterials C:\\Users\\Arni\\.julia\\packages\\PorousMaterials\\RoZT3\\src\\bonds.jl:158\n",
      "┌ Warning: atom 90 = O in NAJGAH_clean.cif is not bonded to any other atom.\n",
      "└ @ PorousMaterials C:\\Users\\Arni\\.julia\\packages\\PorousMaterials\\RoZT3\\src\\bonds.jl:158\n",
      "┌ Warning: throwing out \n",
      "│   crystal.name = NAJGAH_clean.cif\n",
      "└ @ Main In[49]:23\n"
     ]
    },
    {
     "name": "stderr",
     "output_type": "stream",
     "text": [
      "\u001b[32mProgress:  54%|██████████████████████                   |  ETA: 0:17:36\u001b[39m"
     ]
    },
    {
     "name": "stdout",
     "output_type": "stream",
     "text": [
      "┌ Warning: hydrogen atom 5 in ZERNUH_clean.cif is bonded to more than one atom!\n",
      "└ @ PorousMaterials C:\\Users\\Arni\\.julia\\packages\\PorousMaterials\\RoZT3\\src\\bonds.jl:163\n",
      "┌ Warning: hydrogen atom 28 in ZERNUH_clean.cif is bonded to more than one atom!\n",
      "└ @ PorousMaterials C:\\Users\\Arni\\.julia\\packages\\PorousMaterials\\RoZT3\\src\\bonds.jl:163\n",
      "┌ Warning: throwing out \n",
      "│   crystal.name = ZERNUH_clean.cif\n",
      "└ @ Main In[49]:23\n"
     ]
    },
    {
     "name": "stderr",
     "output_type": "stream",
     "text": [
      "\u001b[32mProgress:  57%|████████████████████████                 |  ETA: 0:16:08\u001b[39m"
     ]
    },
    {
     "name": "stdout",
     "output_type": "stream",
     "text": [
      "┌ Warning: hydrogen atom 36 in WENKEH_clean.cif is bonded to more than one atom!\n",
      "└ @ PorousMaterials C:\\Users\\Arni\\.julia\\packages\\PorousMaterials\\RoZT3\\src\\bonds.jl:163\n",
      "┌ Warning: hydrogen atom 68 in WENKEH_clean.cif is bonded to more than one atom!\n",
      "└ @ PorousMaterials C:\\Users\\Arni\\.julia\\packages\\PorousMaterials\\RoZT3\\src\\bonds.jl:163\n",
      "┌ Warning: throwing out \n",
      "│   crystal.name = WENKEH_clean.cif\n",
      "└ @ Main In[49]:23\n"
     ]
    },
    {
     "name": "stderr",
     "output_type": "stream",
     "text": [
      "\u001b[32mProgress:  60%|█████████████████████████                |  ETA: 0:14:46\u001b[39m"
     ]
    },
    {
     "name": "stdout",
     "output_type": "stream",
     "text": [
      "┌ Warning: carbon atom 79 in MOGYAI_clean.cif is bonded to more than four!\n",
      "└ @ PorousMaterials C:\\Users\\Arni\\.julia\\packages\\PorousMaterials\\RoZT3\\src\\bonds.jl:168\n",
      "┌ Warning: carbon atom 81 in MOGYAI_clean.cif is bonded to more than four!\n",
      "└ @ PorousMaterials C:\\Users\\Arni\\.julia\\packages\\PorousMaterials\\RoZT3\\src\\bonds.jl:168\n",
      "┌ Warning: carbon atom 83 in MOGYAI_clean.cif is bonded to more than four!\n",
      "└ @ PorousMaterials C:\\Users\\Arni\\.julia\\packages\\PorousMaterials\\RoZT3\\src\\bonds.jl:168\n",
      "┌ Warning: carbon atom 85 in MOGYAI_clean.cif is bonded to more than four!\n",
      "└ @ PorousMaterials C:\\Users\\Arni\\.julia\\packages\\PorousMaterials\\RoZT3\\src\\bonds.jl:168\n",
      "┌ Warning: throwing out \n",
      "│   crystal.name = MOGYAI_clean.cif\n",
      "└ @ Main In[49]:23\n"
     ]
    },
    {
     "name": "stderr",
     "output_type": "stream",
     "text": [
      "\u001b[32mProgress:  61%|██████████████████████████               |  ETA: 0:14:40\u001b[39m"
     ]
    },
    {
     "name": "stdout",
     "output_type": "stream",
     "text": [
      "┌ Warning: hydrogen atom 20 in QARTEK_clean.cif is bonded to more than one atom!\n",
      "└ @ PorousMaterials C:\\Users\\Arni\\.julia\\packages\\PorousMaterials\\RoZT3\\src\\bonds.jl:163\n",
      "┌ Warning: hydrogen atom 36 in QARTEK_clean.cif is bonded to more than one atom!\n",
      "└ @ PorousMaterials C:\\Users\\Arni\\.julia\\packages\\PorousMaterials\\RoZT3\\src\\bonds.jl:163\n",
      "┌ Warning: hydrogen atom 52 in QARTEK_clean.cif is bonded to more than one atom!\n",
      "└ @ PorousMaterials C:\\Users\\Arni\\.julia\\packages\\PorousMaterials\\RoZT3\\src\\bonds.jl:163\n",
      "┌ Warning: hydrogen atom 68 in QARTEK_clean.cif is bonded to more than one atom!\n",
      "└ @ PorousMaterials C:\\Users\\Arni\\.julia\\packages\\PorousMaterials\\RoZT3\\src\\bonds.jl:163\n",
      "┌ Warning: throwing out \n",
      "│   crystal.name = QARTEK_clean.cif\n",
      "└ @ Main In[49]:23\n"
     ]
    },
    {
     "name": "stderr",
     "output_type": "stream",
     "text": [
      "\u001b[32mProgress:  65%|███████████████████████████              |  ETA: 0:13:25\u001b[39m"
     ]
    },
    {
     "name": "stdout",
     "output_type": "stream",
     "text": [
      "┌ Warning: carbon atom 23 in LIQGEY_clean.cif is bonded to more than four!\n",
      "└ @ PorousMaterials C:\\Users\\Arni\\.julia\\packages\\PorousMaterials\\RoZT3\\src\\bonds.jl:168\n",
      "┌ Warning: carbon atom 26 in LIQGEY_clean.cif is bonded to more than four!\n",
      "└ @ PorousMaterials C:\\Users\\Arni\\.julia\\packages\\PorousMaterials\\RoZT3\\src\\bonds.jl:168\n",
      "┌ Warning: carbon atom 27 in LIQGEY_clean.cif is bonded to more than four!\n",
      "└ @ PorousMaterials C:\\Users\\Arni\\.julia\\packages\\PorousMaterials\\RoZT3\\src\\bonds.jl:168\n",
      "┌ Warning: carbon atom 30 in LIQGEY_clean.cif is bonded to more than four!\n",
      "└ @ PorousMaterials C:\\Users\\Arni\\.julia\\packages\\PorousMaterials\\RoZT3\\src\\bonds.jl:168\n",
      "┌ Warning: throwing out \n",
      "│   crystal.name = LIQGEY_clean.cif\n",
      "└ @ Main In[49]:23\n"
     ]
    },
    {
     "name": "stderr",
     "output_type": "stream",
     "text": [
      "\u001b[32mProgress:  67%|████████████████████████████             |  ETA: 0:12:28\u001b[39m"
     ]
    },
    {
     "name": "stdout",
     "output_type": "stream",
     "text": [
      "┌ Warning: hydrogen atom 10 in PAMHES01_clean.cif is bonded to more than one atom!\n",
      "└ @ PorousMaterials C:\\Users\\Arni\\.julia\\packages\\PorousMaterials\\RoZT3\\src\\bonds.jl:163\n",
      "┌ Warning: hydrogen atom 16 in PAMHES01_clean.cif is bonded to more than one atom!\n",
      "└ @ PorousMaterials C:\\Users\\Arni\\.julia\\packages\\PorousMaterials\\RoZT3\\src\\bonds.jl:163\n",
      "┌ Warning: throwing out \n",
      "│   crystal.name = PAMHES01_clean.cif\n",
      "└ @ Main In[49]:23\n"
     ]
    },
    {
     "name": "stderr",
     "output_type": "stream",
     "text": [
      "\u001b[32mProgress:  68%|████████████████████████████             |  ETA: 0:12:10\u001b[39m"
     ]
    },
    {
     "name": "stdout",
     "output_type": "stream",
     "text": [
      "┌ Warning: hydrogen atom 5 in PAMGIV_clean.cif is bonded to more than one atom!\n",
      "└ @ PorousMaterials C:\\Users\\Arni\\.julia\\packages\\PorousMaterials\\RoZT3\\src\\bonds.jl:163\n",
      "┌ Warning: hydrogen atom 11 in PAMGIV_clean.cif is bonded to more than one atom!\n",
      "└ @ PorousMaterials C:\\Users\\Arni\\.julia\\packages\\PorousMaterials\\RoZT3\\src\\bonds.jl:163\n",
      "┌ Warning: throwing out \n",
      "│   crystal.name = PAMGIV_clean.cif\n",
      "└ @ Main In[49]:23\n"
     ]
    },
    {
     "name": "stderr",
     "output_type": "stream",
     "text": [
      "\u001b[32mProgress:  74%|███████████████████████████████          |  ETA: 0:09:37\u001b[39m"
     ]
    },
    {
     "name": "stdout",
     "output_type": "stream",
     "text": [
      "┌ Warning: hydrogen atom 7 in QOPHEI_clean.cif is bonded to more than one atom!\n",
      "└ @ PorousMaterials C:\\Users\\Arni\\.julia\\packages\\PorousMaterials\\RoZT3\\src\\bonds.jl:163\n",
      "┌ Warning: hydrogen atom 11 in QOPHEI_clean.cif is bonded to more than one atom!\n",
      "└ @ PorousMaterials C:\\Users\\Arni\\.julia\\packages\\PorousMaterials\\RoZT3\\src\\bonds.jl:163\n",
      "┌ Warning: hydrogen atom 15 in QOPHEI_clean.cif is bonded to more than one atom!\n",
      "└ @ PorousMaterials C:\\Users\\Arni\\.julia\\packages\\PorousMaterials\\RoZT3\\src\\bonds.jl:163\n",
      "┌ Warning: hydrogen atom 19 in QOPHEI_clean.cif is bonded to more than one atom!\n",
      "└ @ PorousMaterials C:\\Users\\Arni\\.julia\\packages\\PorousMaterials\\RoZT3\\src\\bonds.jl:163\n",
      "┌ Warning: throwing out \n",
      "│   crystal.name = QOPHEI_clean.cif\n",
      "└ @ Main In[49]:23\n"
     ]
    },
    {
     "name": "stderr",
     "output_type": "stream",
     "text": [
      "\u001b[32mProgress:  75%|███████████████████████████████          |  ETA: 0:09:21\u001b[39m"
     ]
    },
    {
     "name": "stdout",
     "output_type": "stream",
     "text": [
      "┌ Warning: atom 7 = Zn in BICDAU_clean.cif is not bonded to any other atom.\n",
      "└ @ PorousMaterials C:\\Users\\Arni\\.julia\\packages\\PorousMaterials\\RoZT3\\src\\bonds.jl:158\n",
      "┌ Warning: atom 9 = Zn in BICDAU_clean.cif is not bonded to any other atom.\n",
      "└ @ PorousMaterials C:\\Users\\Arni\\.julia\\packages\\PorousMaterials\\RoZT3\\src\\bonds.jl:158\n",
      "┌ Warning: throwing out \n",
      "│   crystal.name = BICDAU_clean.cif\n",
      "└ @ Main In[49]:23\n"
     ]
    },
    {
     "name": "stderr",
     "output_type": "stream",
     "text": [
      "\u001b[32mProgress:  75%|███████████████████████████████          |  ETA: 0:09:19\u001b[39m"
     ]
    },
    {
     "name": "stdout",
     "output_type": "stream",
     "text": [
      "┌ Warning: atom 127 = Cl in FUSWIA_clean.cif is not bonded to any other atom.\n",
      "└ @ PorousMaterials C:\\Users\\Arni\\.julia\\packages\\PorousMaterials\\RoZT3\\src\\bonds.jl:158\n",
      "┌ Warning: atom 128 = Cl in FUSWIA_clean.cif is not bonded to any other atom.\n",
      "└ @ PorousMaterials C:\\Users\\Arni\\.julia\\packages\\PorousMaterials\\RoZT3\\src\\bonds.jl:158\n",
      "┌ Warning: atom 129 = Cl in FUSWIA_clean.cif is not bonded to any other atom.\n",
      "└ @ PorousMaterials C:\\Users\\Arni\\.julia\\packages\\PorousMaterials\\RoZT3\\src\\bonds.jl:158\n",
      "┌ Warning: atom 130 = Cl in FUSWIA_clean.cif is not bonded to any other atom.\n",
      "└ @ PorousMaterials C:\\Users\\Arni\\.julia\\packages\\PorousMaterials\\RoZT3\\src\\bonds.jl:158\n",
      "┌ Warning: throwing out \n",
      "│   crystal.name = FUSWIA_clean.cif\n",
      "└ @ Main In[49]:23\n"
     ]
    },
    {
     "name": "stderr",
     "output_type": "stream",
     "text": [
      "\u001b[32mProgress:  75%|███████████████████████████████          |  ETA: 0:09:18\u001b[39m"
     ]
    },
    {
     "name": "stdout",
     "output_type": "stream",
     "text": [
      "┌ Warning: hydrogen atom 7 in LETRIN_clean.cif is bonded to more than one atom!\n",
      "└ @ PorousMaterials C:\\Users\\Arni\\.julia\\packages\\PorousMaterials\\RoZT3\\src\\bonds.jl:163\n",
      "┌ Warning: hydrogen atom 11 in LETRIN_clean.cif is bonded to more than one atom!\n",
      "└ @ PorousMaterials C:\\Users\\Arni\\.julia\\packages\\PorousMaterials\\RoZT3\\src\\bonds.jl:163\n",
      "┌ Warning: hydrogen atom 15 in LETRIN_clean.cif is bonded to more than one atom!\n",
      "└ @ PorousMaterials C:\\Users\\Arni\\.julia\\packages\\PorousMaterials\\RoZT3\\src\\bonds.jl:163\n",
      "┌ Warning: hydrogen atom 19 in LETRIN_clean.cif is bonded to more than one atom!\n",
      "└ @ PorousMaterials C:\\Users\\Arni\\.julia\\packages\\PorousMaterials\\RoZT3\\src\\bonds.jl:163\n",
      "┌ Warning: throwing out \n",
      "│   crystal.name = LETRIN_clean.cif\n",
      "└ @ Main In[49]:23\n"
     ]
    },
    {
     "name": "stderr",
     "output_type": "stream",
     "text": [
      "\u001b[32mProgress:  76%|████████████████████████████████         |  ETA: 0:08:55\u001b[39m"
     ]
    },
    {
     "name": "stdout",
     "output_type": "stream",
     "text": [
      "┌ Warning: atom 9 = Zn in IGOCOX_clean.cif is not bonded to any other atom.\n",
      "└ @ PorousMaterials C:\\Users\\Arni\\.julia\\packages\\PorousMaterials\\RoZT3\\src\\bonds.jl:158\n",
      "┌ Warning: atom 10 = Zn in IGOCOX_clean.cif is not bonded to any other atom.\n",
      "└ @ PorousMaterials C:\\Users\\Arni\\.julia\\packages\\PorousMaterials\\RoZT3\\src\\bonds.jl:158\n",
      "┌ Warning: throwing out \n",
      "│   crystal.name = IGOCOX_clean.cif\n",
      "└ @ Main In[49]:23\n"
     ]
    },
    {
     "name": "stderr",
     "output_type": "stream",
     "text": [
      "\u001b[32mProgress:  77%|████████████████████████████████         |  ETA: 0:08:32\u001b[39m"
     ]
    },
    {
     "name": "stdout",
     "output_type": "stream",
     "text": [
      "┌ Warning: hydrogen atom 10 in BEXTUV_clean.cif is bonded to more than one atom!\n",
      "└ @ PorousMaterials C:\\Users\\Arni\\.julia\\packages\\PorousMaterials\\RoZT3\\src\\bonds.jl:163\n",
      "┌ Warning: hydrogen atom 11 in BEXTUV_clean.cif is bonded to more than one atom!\n",
      "└ @ PorousMaterials C:\\Users\\Arni\\.julia\\packages\\PorousMaterials\\RoZT3\\src\\bonds.jl:163\n",
      "┌ Warning: hydrogen atom 17 in BEXTUV_clean.cif is bonded to more than one atom!\n",
      "└ @ PorousMaterials C:\\Users\\Arni\\.julia\\packages\\PorousMaterials\\RoZT3\\src\\bonds.jl:163\n",
      "┌ Warning: hydrogen atom 18 in BEXTUV_clean.cif is bonded to more than one atom!\n",
      "└ @ PorousMaterials C:\\Users\\Arni\\.julia\\packages\\PorousMaterials\\RoZT3\\src\\bonds.jl:163\n",
      "┌ Warning: hydrogen atom 24 in BEXTUV_clean.cif is bonded to more than one atom!\n",
      "└ @ PorousMaterials C:\\Users\\Arni\\.julia\\packages\\PorousMaterials\\RoZT3\\src\\bonds.jl:163\n",
      "┌ Warning: hydrogen atom 25 in BEXTUV_clean.cif is bonded to more than one atom!\n",
      "└ @ PorousMaterials C:\\Users\\Arni\\.julia\\packages\\PorousMaterials\\RoZT3\\src\\bonds.jl:163\n",
      "┌ Warning: hydrogen atom 31 in BEXTUV_clean.cif is bonded to more than one atom!\n",
      "└ @ PorousMaterials C:\\Users\\Arni\\.julia\\packages\\PorousMaterials\\RoZT3\\src\\bonds.jl:163\n",
      "┌ Warning: hydrogen atom 32 in BEXTUV_clean.cif is bonded to more than one atom!\n",
      "└ @ PorousMaterials C:\\Users\\Arni\\.julia\\packages\\PorousMaterials\\RoZT3\\src\\bonds.jl:163\n",
      "┌ Warning: carbon atom 41 in BEXTUV_clean.cif is bonded to more than four!\n",
      "└ @ PorousMaterials C:\\Users\\Arni\\.julia\\packages\\PorousMaterials\\RoZT3\\src\\bonds.jl:168\n",
      "┌ Warning: carbon atom 50 in BEXTUV_clean.cif is bonded to more than four!\n",
      "└ @ PorousMaterials C:\\Users\\Arni\\.julia\\packages\\PorousMaterials\\RoZT3\\src\\bonds.jl:168\n",
      "┌ Warning: carbon atom 59 in BEXTUV_clean.cif is bonded to more than four!\n",
      "└ @ PorousMaterials C:\\Users\\Arni\\.julia\\packages\\PorousMaterials\\RoZT3\\src\\bonds.jl:168\n",
      "┌ Warning: carbon atom 68 in BEXTUV_clean.cif is bonded to more than four!\n",
      "└ @ PorousMaterials C:\\Users\\Arni\\.julia\\packages\\PorousMaterials\\RoZT3\\src\\bonds.jl:168\n",
      "┌ Warning: throwing out \n",
      "│   crystal.name = BEXTUV_clean.cif\n",
      "└ @ Main In[49]:23\n"
     ]
    },
    {
     "name": "stderr",
     "output_type": "stream",
     "text": [
      "\u001b[32mProgress:  79%|█████████████████████████████████        |  ETA: 0:07:47\u001b[39m"
     ]
    },
    {
     "name": "stdout",
     "output_type": "stream",
     "text": [
      "Voronoi problems with FUNCEX_clean.cif\n",
      "┌ Warning: atom 1 = Zn in FUNCEX_clean.cif is not bonded to any other atom.\n",
      "└ @ PorousMaterials C:\\Users\\Arni\\.julia\\packages\\PorousMaterials\\RoZT3\\src\\bonds.jl:158\n",
      "┌ Warning: atom 2 = Zn in FUNCEX_clean.cif is not bonded to any other atom.\n",
      "└ @ PorousMaterials C:\\Users\\Arni\\.julia\\packages\\PorousMaterials\\RoZT3\\src\\bonds.jl:158\n",
      "┌ Warning: atom 73 = Br in FUNCEX_clean.cif is not bonded to any other atom.\n",
      "└ @ PorousMaterials C:\\Users\\Arni\\.julia\\packages\\PorousMaterials\\RoZT3\\src\\bonds.jl:158\n",
      "┌ Warning: atom 74 = Br in FUNCEX_clean.cif is not bonded to any other atom.\n",
      "└ @ PorousMaterials C:\\Users\\Arni\\.julia\\packages\\PorousMaterials\\RoZT3\\src\\bonds.jl:158\n",
      "┌ Warning: throwing out \n",
      "│   crystal.name = FUNCEX_clean.cif\n",
      "└ @ Main In[49]:23\n"
     ]
    },
    {
     "name": "stderr",
     "output_type": "stream",
     "text": [
      "\u001b[32mProgress:  79%|█████████████████████████████████        |  ETA: 0:07:45\u001b[39m"
     ]
    },
    {
     "name": "stdout",
     "output_type": "stream",
     "text": [
      "Voronoi problems with TEDGOA_clean.cif"
     ]
    },
    {
     "name": "stderr",
     "output_type": "stream",
     "text": [
      "\u001b[32mProgress:  79%|█████████████████████████████████        |  ETA: 0:07:44\u001b[39m"
     ]
    },
    {
     "name": "stdout",
     "output_type": "stream",
     "text": [
      "\n",
      "┌ Warning: atom 1 = Zn in TEDGOA_clean.cif is not bonded to any other atom.\n",
      "└ @ PorousMaterials C:\\Users\\Arni\\.julia\\packages\\PorousMaterials\\RoZT3\\src\\bonds.jl:158\n",
      "┌ Warning: atom 2 = Zn in TEDGOA_clean.cif is not bonded to any other atom.\n",
      "└ @ PorousMaterials C:\\Users\\Arni\\.julia\\packages\\PorousMaterials\\RoZT3\\src\\bonds.jl:158\n",
      "┌ Warning: atom 3 = Zn in TEDGOA_clean.cif is not bonded to any other atom.\n",
      "└ @ PorousMaterials C:\\Users\\Arni\\.julia\\packages\\PorousMaterials\\RoZT3\\src\\bonds.jl:158\n",
      "┌ Warning: atom 4 = Zn in TEDGOA_clean.cif is not bonded to any other atom.\n",
      "└ @ PorousMaterials C:\\Users\\Arni\\.julia\\packages\\PorousMaterials\\RoZT3\\src\\bonds.jl:158\n",
      "┌ Warning: throwing out \n",
      "│   crystal.name = TEDGOA_clean.cif\n",
      "└ @ Main In[49]:23\n"
     ]
    },
    {
     "name": "stderr",
     "output_type": "stream",
     "text": [
      "\u001b[32mProgress:  81%|██████████████████████████████████       |  ETA: 0:06:55\u001b[39m"
     ]
    },
    {
     "name": "stdout",
     "output_type": "stream",
     "text": [
      "┌ Warning: atom 7 = Zn in HIGRIA_clean.cif is not bonded to any other atom.\n",
      "└ @ PorousMaterials C:\\Users\\Arni\\.julia\\packages\\PorousMaterials\\RoZT3\\src\\bonds.jl:158\n",
      "┌ Warning: atom 8 = Zn in HIGRIA_clean.cif is not bonded to any other atom.\n",
      "└ @ PorousMaterials C:\\Users\\Arni\\.julia\\packages\\PorousMaterials\\RoZT3\\src\\bonds.jl:158\n",
      "┌ Warning: throwing out \n",
      "│   crystal.name = HIGRIA_clean.cif\n",
      "└ @ Main In[49]:23\n"
     ]
    },
    {
     "name": "stderr",
     "output_type": "stream",
     "text": [
      "\u001b[32mProgress:  87%|████████████████████████████████████     |  ETA: 0:04:53\u001b[39m"
     ]
    },
    {
     "name": "stdout",
     "output_type": "stream",
     "text": [
      "┌ Warning: atom 285 = C in RIDKOE.cif is not bonded to any other atom.\n",
      "└ @ PorousMaterials C:\\Users\\Arni\\.julia\\packages\\PorousMaterials\\RoZT3\\src\\bonds.jl:158\n",
      "┌ Warning: atom 286 = C in RIDKOE.cif is not bonded to any other atom.\n",
      "└ @ PorousMaterials C:\\Users\\Arni\\.julia\\packages\\PorousMaterials\\RoZT3\\src\\bonds.jl:158\n",
      "┌ Warning: atom 287 = C in RIDKOE.cif is not bonded to any other atom.\n",
      "└ @ PorousMaterials C:\\Users\\Arni\\.julia\\packages\\PorousMaterials\\RoZT3\\src\\bonds.jl:158\n",
      "┌ Warning: atom 288 = C in RIDKOE.cif is not bonded to any other atom.\n",
      "└ @ PorousMaterials C:\\Users\\Arni\\.julia\\packages\\PorousMaterials\\RoZT3\\src\\bonds.jl:158\n",
      "┌ Warning: atom 305 = C in RIDKOE.cif is not bonded to any other atom.\n",
      "└ @ PorousMaterials C:\\Users\\Arni\\.julia\\packages\\PorousMaterials\\RoZT3\\src\\bonds.jl:158\n",
      "┌ Warning: atom 306 = C in RIDKOE.cif is not bonded to any other atom.\n",
      "└ @ PorousMaterials C:\\Users\\Arni\\.julia\\packages\\PorousMaterials\\RoZT3\\src\\bonds.jl:158\n",
      "┌ Warning: atom 307 = C in RIDKOE.cif is not bonded to any other atom.\n",
      "└ @ PorousMaterials C:\\Users\\Arni\\.julia\\packages\\PorousMaterials\\RoZT3\\src\\bonds.jl:158\n",
      "┌ Warning: atom 308 = C in RIDKOE.cif is not bonded to any other atom.\n",
      "└ @ PorousMaterials C:\\Users\\Arni\\.julia\\packages\\PorousMaterials\\RoZT3\\src\\bonds.jl:158\n",
      "┌ Warning: atom 309 = C in RIDKOE.cif is not bonded to any other atom.\n",
      "└ @ PorousMaterials C:\\Users\\Arni\\.julia\\packages\\PorousMaterials\\RoZT3\\src\\bonds.jl:158\n",
      "┌ Warning: atom 310 = C in RIDKOE.cif is not bonded to any other atom.\n",
      "└ @ PorousMaterials C:\\Users\\Arni\\.julia\\packages\\PorousMaterials\\RoZT3\\src\\bonds.jl:158\n",
      "┌ Warning: atom 311 = C in RIDKOE.cif is not bonded to any other atom.\n",
      "└ @ PorousMaterials C:\\Users\\Arni\\.julia\\packages\\PorousMaterials\\RoZT3\\src\\bonds.jl:158\n",
      "┌ Warning: atom 312 = C in RIDKOE.cif is not bonded to any other atom.\n",
      "└ @ PorousMaterials C:\\Users\\Arni\\.julia\\packages\\PorousMaterials\\RoZT3\\src\\bonds.jl:158\n",
      "┌ Warning: atom 313 = C in RIDKOE.cif is not bonded to any other atom.\n",
      "└ @ PorousMaterials C:\\Users\\Arni\\.julia\\packages\\PorousMaterials\\RoZT3\\src\\bonds.jl:158\n",
      "┌ Warning: atom 314 = C in RIDKOE.cif is not bonded to any other atom.\n",
      "└ @ PorousMaterials C:\\Users\\Arni\\.julia\\packages\\PorousMaterials\\RoZT3\\src\\bonds.jl:158\n",
      "┌ Warning: atom 315 = C in RIDKOE.cif is not bonded to any other atom.\n",
      "└ @ PorousMaterials C:\\Users\\Arni\\.julia\\packages\\PorousMaterials\\RoZT3\\src\\bonds.jl:158\n",
      "┌ Warning: atom 316 = C in RIDKOE.cif is not bonded to any other atom.\n",
      "└ @ PorousMaterials C:\\Users\\Arni\\.julia\\packages\\PorousMaterials\\RoZT3\\src\\bonds.jl:158\n",
      "┌ Warning: throwing out \n",
      "│   crystal.name = RIDKOE.cif\n",
      "└ @ Main In[49]:23\n"
     ]
    },
    {
     "name": "stderr",
     "output_type": "stream",
     "text": [
      "\u001b[32mProgress:  87%|████████████████████████████████████     |  ETA: 0:04:40\u001b[39m"
     ]
    },
    {
     "name": "stdout",
     "output_type": "stream",
     "text": [
      "Voronoi problems with FUNBOG_clean.cif\n",
      "┌ Warning: atom 1 = Zn in FUNBOG_clean.cif is not bonded to any other atom.\n",
      "└ @ PorousMaterials C:\\Users\\Arni\\.julia\\packages\\PorousMaterials\\RoZT3\\src\\bonds.jl:158\n",
      "┌ Warning: atom 2 = Zn in FUNBOG_clean.cif is not bonded to any other atom.\n",
      "└ @ PorousMaterials C:\\Users\\Arni\\.julia\\packages\\PorousMaterials\\RoZT3\\src\\bonds.jl:158\n",
      "┌ Warning: atom 71 = Br in FUNBOG_clean.cif is not bonded to any other atom.\n",
      "└ @ PorousMaterials C:\\Users\\Arni\\.julia\\packages\\PorousMaterials\\RoZT3\\src\\bonds.jl:158\n",
      "┌ Warning: atom 72 = Br in FUNBOG_clean.cif is not bonded to any other atom.\n",
      "└ @ PorousMaterials C:\\Users\\Arni\\.julia\\packages\\PorousMaterials\\RoZT3\\src\\bonds.jl:158\n",
      "┌ Warning: throwing out \n",
      "│   crystal.name = FUNBOG_clean.cif\n",
      "└ @ Main In[49]:23\n"
     ]
    },
    {
     "name": "stderr",
     "output_type": "stream",
     "text": [
      "\u001b[32mProgress:  90%|█████████████████████████████████████    |  ETA: 0:03:51\u001b[39m"
     ]
    },
    {
     "name": "stdout",
     "output_type": "stream",
     "text": [
      "┌ Warning: hydrogen atom 9 in OXAZIX_clean.cif is bonded to more than one atom!\n",
      "└ @ PorousMaterials C:\\Users\\Arni\\.julia\\packages\\PorousMaterials\\RoZT3\\src\\bonds.jl:163\n",
      "┌ Warning: hydrogen atom 14 in OXAZIX_clean.cif is bonded to more than one atom!\n",
      "└ @ PorousMaterials C:\\Users\\Arni\\.julia\\packages\\PorousMaterials\\RoZT3\\src\\bonds.jl:163\n",
      "┌ Warning: hydrogen atom 19 in OXAZIX_clean.cif is bonded to more than one atom!\n",
      "└ @ PorousMaterials C:\\Users\\Arni\\.julia\\packages\\PorousMaterials\\RoZT3\\src\\bonds.jl:163\n",
      "┌ Warning: hydrogen atom 24 in OXAZIX_clean.cif is bonded to more than one atom!\n",
      "└ @ PorousMaterials C:\\Users\\Arni\\.julia\\packages\\PorousMaterials\\RoZT3\\src\\bonds.jl:163\n",
      "┌ Warning: throwing out \n",
      "│   crystal.name = OXAZIX_clean.cif\n",
      "└ @ Main In[49]:23\n"
     ]
    },
    {
     "name": "stderr",
     "output_type": "stream",
     "text": [
      "\u001b[32mProgress:  90%|██████████████████████████████████████   |  ETA: 0:03:34\u001b[39m"
     ]
    },
    {
     "name": "stdout",
     "output_type": "stream",
     "text": [
      "┌ Warning: atom 35 = H in RUVMAX_clean.cif is not bonded to any other atom.\n",
      "└ @ PorousMaterials C:\\Users\\Arni\\.julia\\packages\\PorousMaterials\\RoZT3\\src\\bonds.jl:158\n",
      "┌ Warning: atom 36 = H in RUVMAX_clean.cif is not bonded to any other atom.\n",
      "└ @ PorousMaterials C:\\Users\\Arni\\.julia\\packages\\PorousMaterials\\RoZT3\\src\\bonds.jl:158\n",
      "┌ Warning: throwing out \n",
      "│   crystal.name = RUVMAX_clean.cif\n",
      "└ @ Main In[49]:23\n"
     ]
    },
    {
     "name": "stderr",
     "output_type": "stream",
     "text": [
      "\u001b[32mProgress:  91%|██████████████████████████████████████   |  ETA: 0:03:21\u001b[39m"
     ]
    },
    {
     "name": "stdout",
     "output_type": "stream",
     "text": [
      "┌ Warning: hydrogen atom 9 in VEHRIL_clean.cif is bonded to more than one atom!\n",
      "└ @ PorousMaterials C:\\Users\\Arni\\.julia\\packages\\PorousMaterials\\RoZT3\\src\\bonds.jl:163\n",
      "┌ Warning: hydrogen atom 10 in VEHRIL_clean.cif is bonded to more than one atom!\n",
      "└ @ PorousMaterials C:\\Users\\Arni\\.julia\\packages\\PorousMaterials\\RoZT3\\src\\bonds.jl:163\n",
      "┌ Warning: hydrogen atom 23 in VEHRIL_clean.cif is bonded to more than one atom!\n",
      "└ @ PorousMaterials C:\\Users\\Arni\\.julia\\packages\\PorousMaterials\\RoZT3\\src\\bonds.jl:163\n",
      "┌ Warning: hydrogen atom 24 in VEHRIL_clean.cif is bonded to more than one atom!\n",
      "└ @ PorousMaterials C:\\Users\\Arni\\.julia\\packages\\PorousMaterials\\RoZT3\\src\\bonds.jl:163\n",
      "┌ Warning: throwing out \n",
      "│   crystal.name = VEHRIL_clean.cif\n",
      "└ @ Main In[49]:23\n"
     ]
    },
    {
     "name": "stderr",
     "output_type": "stream",
     "text": [
      "\u001b[32mProgress:  91%|██████████████████████████████████████   |  ETA: 0:03:12\u001b[39m"
     ]
    },
    {
     "name": "stdout",
     "output_type": "stream",
     "text": [
      "┌ Warning: hydrogen atom 35 in UDANAQ_clean.cif is bonded to more than one atom!\n",
      "└ @ PorousMaterials C:\\Users\\Arni\\.julia\\packages\\PorousMaterials\\RoZT3\\src\\bonds.jl:163\n",
      "┌ Warning: hydrogen atom 36 in UDANAQ_clean.cif is bonded to more than one atom!\n",
      "└ @ PorousMaterials C:\\Users\\Arni\\.julia\\packages\\PorousMaterials\\RoZT3\\src\\bonds.jl:163\n",
      "┌ Warning: hydrogen atom 37 in UDANAQ_clean.cif is bonded to more than one atom!\n",
      "└ @ PorousMaterials C:\\Users\\Arni\\.julia\\packages\\PorousMaterials\\RoZT3\\src\\bonds.jl:163\n",
      "┌ Warning: hydrogen atom 38 in UDANAQ_clean.cif is bonded to more than one atom!\n",
      "└ @ PorousMaterials C:\\Users\\Arni\\.julia\\packages\\PorousMaterials\\RoZT3\\src\\bonds.jl:163\n",
      "┌ Warning: hydrogen atom 39 in UDANAQ_clean.cif is bonded to more than one atom!\n",
      "└ @ PorousMaterials C:\\Users\\Arni\\.julia\\packages\\PorousMaterials\\RoZT3\\src\\bonds.jl:163\n",
      "┌ Warning: hydrogen atom 40 in UDANAQ_clean.cif is bonded to more than one atom!\n",
      "└ @ PorousMaterials C:\\Users\\Arni\\.julia\\packages\\PorousMaterials\\RoZT3\\src\\bonds.jl:163\n",
      "┌ Warning: hydrogen atom 41 in UDANAQ_clean.cif is bonded to more than one atom!\n",
      "└ @ PorousMaterials C:\\Users\\Arni\\.julia\\packages\\PorousMaterials\\RoZT3\\src\\bonds.jl:163\n",
      "┌ Warning: hydrogen atom 42 in UDANAQ_clean.cif is bonded to more than one atom!\n",
      "└ @ PorousMaterials C:\\Users\\Arni\\.julia\\packages\\PorousMaterials\\RoZT3\\src\\bonds.jl:163\n",
      "┌ Warning: hydrogen atom 43 in UDANAQ_clean.cif is bonded to more than one atom!\n",
      "└ @ PorousMaterials C:\\Users\\Arni\\.julia\\packages\\PorousMaterials\\RoZT3\\src\\bonds.jl:163\n",
      "┌ Warning: hydrogen atom 44 in UDANAQ_clean.cif is bonded to more than one atom!\n",
      "└ @ PorousMaterials C:\\Users\\Arni\\.julia\\packages\\PorousMaterials\\RoZT3\\src\\bonds.jl:163\n",
      "┌ Warning: hydrogen atom 45 in UDANAQ_clean.cif is bonded to more than one atom!\n",
      "└ @ PorousMaterials C:\\Users\\Arni\\.julia\\packages\\PorousMaterials\\RoZT3\\src\\bonds.jl:163\n",
      "┌ Warning: hydrogen atom 46 in UDANAQ_clean.cif is bonded to more than one atom!\n",
      "└ @ PorousMaterials C:\\Users\\Arni\\.julia\\packages\\PorousMaterials\\RoZT3\\src\\bonds.jl:163\n",
      "┌ Warning: hydrogen atom 47 in UDANAQ_clean.cif is bonded to more than one atom!\n",
      "└ @ PorousMaterials C:\\Users\\Arni\\.julia\\packages\\PorousMaterials\\RoZT3\\src\\bonds.jl:163\n",
      "┌ Warning: hydrogen atom 48 in UDANAQ_clean.cif is bonded to more than one atom!\n",
      "└ @ PorousMaterials C:\\Users\\Arni\\.julia\\packages\\PorousMaterials\\RoZT3\\src\\bonds.jl:163\n",
      "┌ Warning: hydrogen atom 49 in UDANAQ_clean.cif is bonded to more than one atom!\n",
      "└ @ PorousMaterials C:\\Users\\Arni\\.julia\\packages\\PorousMaterials\\RoZT3\\src\\bonds.jl:163\n",
      "┌ Warning: hydrogen atom 50 in UDANAQ_clean.cif is bonded to more than one atom!\n",
      "└ @ PorousMaterials C:\\Users\\Arni\\.julia\\packages\\PorousMaterials\\RoZT3\\src\\bonds.jl:163\n",
      "┌ Warning: carbon atom 51 in UDANAQ_clean.cif is bonded to more than four!\n",
      "└ @ PorousMaterials C:\\Users\\Arni\\.julia\\packages\\PorousMaterials\\RoZT3\\src\\bonds.jl:168\n",
      "┌ Warning: carbon atom 52 in UDANAQ_clean.cif is bonded to more than four!\n",
      "└ @ PorousMaterials C:\\Users\\Arni\\.julia\\packages\\PorousMaterials\\RoZT3\\src\\bonds.jl:168\n",
      "┌ Warning: carbon atom 53 in UDANAQ_clean.cif is bonded to more than four!\n",
      "└ @ PorousMaterials C:\\Users\\Arni\\.julia\\packages\\PorousMaterials\\RoZT3\\src\\bonds.jl:168\n",
      "┌ Warning: carbon atom 54 in UDANAQ_clean.cif is bonded to more than four!\n",
      "└ @ PorousMaterials C:\\Users\\Arni\\.julia\\packages\\PorousMaterials\\RoZT3\\src\\bonds.jl:168\n",
      "┌ Warning: carbon atom 55 in UDANAQ_clean.cif is bonded to more than four!\n",
      "└ @ PorousMaterials C:\\Users\\Arni\\.julia\\packages\\PorousMaterials\\RoZT3\\src\\bonds.jl:168\n",
      "┌ Warning: carbon atom 56 in UDANAQ_clean.cif is bonded to more than four!\n",
      "└ @ PorousMaterials C:\\Users\\Arni\\.julia\\packages\\PorousMaterials\\RoZT3\\src\\bonds.jl:168\n",
      "┌ Warning: carbon atom 57 in UDANAQ_clean.cif is bonded to more than four!\n",
      "└ @ PorousMaterials C:\\Users\\Arni\\.julia\\packages\\PorousMaterials\\RoZT3\\src\\bonds.jl:168\n",
      "┌ Warning: carbon atom 58 in UDANAQ_clean.cif is bonded to more than four!\n",
      "└ @ PorousMaterials C:\\Users\\Arni\\.julia\\packages\\PorousMaterials\\RoZT3\\src\\bonds.jl:168\n",
      "┌ Warning: carbon atom 59 in UDANAQ_clean.cif is bonded to more than four!\n",
      "└ @ PorousMaterials C:\\Users\\Arni\\.julia\\packages\\PorousMaterials\\RoZT3\\src\\bonds.jl:168\n",
      "┌ Warning: carbon atom 60 in UDANAQ_clean.cif is bonded to more than four!\n",
      "└ @ PorousMaterials C:\\Users\\Arni\\.julia\\packages\\PorousMaterials\\RoZT3\\src\\bonds.jl:168\n",
      "┌ Warning: carbon atom 61 in UDANAQ_clean.cif is bonded to more than four!\n",
      "└ @ PorousMaterials C:\\Users\\Arni\\.julia\\packages\\PorousMaterials\\RoZT3\\src\\bonds.jl:168\n",
      "┌ Warning: carbon atom 62 in UDANAQ_clean.cif is bonded to more than four!\n",
      "└ @ PorousMaterials C:\\Users\\Arni\\.julia\\packages\\PorousMaterials\\RoZT3\\src\\bonds.jl:168\n",
      "┌ Warning: carbon atom 63 in UDANAQ_clean.cif is bonded to more than four!\n",
      "└ @ PorousMaterials C:\\Users\\Arni\\.julia\\packages\\PorousMaterials\\RoZT3\\src\\bonds.jl:168\n",
      "┌ Warning: carbon atom 64 in UDANAQ_clean.cif is bonded to more than four!\n",
      "└ @ PorousMaterials C:\\Users\\Arni\\.julia\\packages\\PorousMaterials\\RoZT3\\src\\bonds.jl:168\n",
      "┌ Warning: carbon atom 65 in UDANAQ_clean.cif is bonded to more than four!\n",
      "└ @ PorousMaterials C:\\Users\\Arni\\.julia\\packages\\PorousMaterials\\RoZT3\\src\\bonds.jl:168\n",
      "┌ Warning: carbon atom 66 in UDANAQ_clean.cif is bonded to more than four!\n",
      "└ @ PorousMaterials C:\\Users\\Arni\\.julia\\packages\\PorousMaterials\\RoZT3\\src\\bonds.jl:168\n",
      "┌ Warning: throwing out \n",
      "│   crystal.name = UDANAQ_clean.cif\n",
      "└ @ Main In[49]:23\n"
     ]
    },
    {
     "name": "stderr",
     "output_type": "stream",
     "text": [
      "\u001b[32mProgress:  94%|███████████████████████████████████████  |  ETA: 0:02:15\u001b[39m"
     ]
    },
    {
     "name": "stdout",
     "output_type": "stream",
     "text": [
      "┌ Warning: atom 129 = H in ZEKROY.cif is not bonded to any other atom.\n",
      "└ @ PorousMaterials C:\\Users\\Arni\\.julia\\packages\\PorousMaterials\\RoZT3\\src\\bonds.jl:158\n",
      "┌ Warning: atom 130 = H in ZEKROY.cif is not bonded to any other atom.\n",
      "└ @ PorousMaterials C:\\Users\\Arni\\.julia\\packages\\PorousMaterials\\RoZT3\\src\\bonds.jl:158\n",
      "┌ Warning: atom 131 = H in ZEKROY.cif is not bonded to any other atom.\n",
      "└ @ PorousMaterials C:\\Users\\Arni\\.julia\\packages\\PorousMaterials\\RoZT3\\src\\bonds.jl:158\n",
      "┌ Warning: atom 132 = H in ZEKROY.cif is not bonded to any other atom.\n",
      "└ @ PorousMaterials C:\\Users\\Arni\\.julia\\packages\\PorousMaterials\\RoZT3\\src\\bonds.jl:158\n",
      "┌ Warning: atom 133 = H in ZEKROY.cif is not bonded to any other atom.\n",
      "└ @ PorousMaterials C:\\Users\\Arni\\.julia\\packages\\PorousMaterials\\RoZT3\\src\\bonds.jl:158\n",
      "┌ Warning: atom 134 = H in ZEKROY.cif is not bonded to any other atom.\n",
      "└ @ PorousMaterials C:\\Users\\Arni\\.julia\\packages\\PorousMaterials\\RoZT3\\src\\bonds.jl:158\n",
      "┌ Warning: atom 135 = H in ZEKROY.cif is not bonded to any other atom.\n",
      "└ @ PorousMaterials C:\\Users\\Arni\\.julia\\packages\\PorousMaterials\\RoZT3\\src\\bonds.jl:158\n",
      "┌ Warning: atom 136 = H in ZEKROY.cif is not bonded to any other atom.\n",
      "└ @ PorousMaterials C:\\Users\\Arni\\.julia\\packages\\PorousMaterials\\RoZT3\\src\\bonds.jl:158\n",
      "┌ Warning: throwing out \n",
      "│   crystal.name = ZEKROY.cif\n",
      "└ @ Main In[49]:23\n"
     ]
    },
    {
     "name": "stderr",
     "output_type": "stream",
     "text": [
      "\u001b[32mProgress:  96%|████████████████████████████████████████ |  ETA: 0:01:32\u001b[39m"
     ]
    },
    {
     "name": "stdout",
     "output_type": "stream",
     "text": [
      "┌ Warning: hydrogen atom 49 in NEVGIE.cif is bonded to more than one atom!\n",
      "└ @ PorousMaterials C:\\Users\\Arni\\.julia\\packages\\PorousMaterials\\RoZT3\\src\\bonds.jl:163\n",
      "┌ Warning: hydrogen atom 50 in NEVGIE.cif is bonded to more than one atom!\n",
      "└ @ PorousMaterials C:\\Users\\Arni\\.julia\\packages\\PorousMaterials\\RoZT3\\src\\bonds.jl:163\n",
      "┌ Warning: hydrogen atom 51 in NEVGIE.cif is bonded to more than one atom!\n",
      "└ @ PorousMaterials C:\\Users\\Arni\\.julia\\packages\\PorousMaterials\\RoZT3\\src\\bonds.jl:163\n",
      "┌ Warning: hydrogen atom 52 in NEVGIE.cif is bonded to more than one atom!\n",
      "└ @ PorousMaterials C:\\Users\\Arni\\.julia\\packages\\PorousMaterials\\RoZT3\\src\\bonds.jl:163\n",
      "┌ Warning: throwing out \n",
      "│   crystal.name = NEVGIE.cif\n",
      "└ @ Main In[49]:23\n"
     ]
    },
    {
     "name": "stderr",
     "output_type": "stream",
     "text": [
      "\u001b[32mProgress:  99%|█████████████████████████████████████████|  ETA: 0:00:27\u001b[39m"
     ]
    },
    {
     "name": "stdout",
     "output_type": "stream",
     "text": [
      "┌ Warning: hydrogen atom 10 in ASALIP_clean.cif is bonded to more than one atom!\n",
      "└ @ PorousMaterials C:\\Users\\Arni\\.julia\\packages\\PorousMaterials\\RoZT3\\src\\bonds.jl:163\n",
      "┌ Warning: hydrogen atom 19 in ASALIP_clean.cif is bonded to more than one atom!\n",
      "└ @ PorousMaterials C:\\Users\\Arni\\.julia\\packages\\PorousMaterials\\RoZT3\\src\\bonds.jl:163\n",
      "┌ Warning: hydrogen atom 28 in ASALIP_clean.cif is bonded to more than one atom!\n",
      "└ @ PorousMaterials C:\\Users\\Arni\\.julia\\packages\\PorousMaterials\\RoZT3\\src\\bonds.jl:163\n",
      "┌ Warning: hydrogen atom 37 in ASALIP_clean.cif is bonded to more than one atom!\n",
      "└ @ PorousMaterials C:\\Users\\Arni\\.julia\\packages\\PorousMaterials\\RoZT3\\src\\bonds.jl:163\n",
      "┌ Warning: throwing out \n",
      "│   crystal.name = ASALIP_clean.cif\n",
      "└ @ Main In[49]:23\n"
     ]
    },
    {
     "name": "stderr",
     "output_type": "stream",
     "text": [
      "\u001b[32mProgress: 100%|█████████████████████████████████████████| Time: 0:36:52\u001b[39m\n"
     ]
    }
   ],
   "source": [
    "@info \"making edge list zero-based indexed for Python\"\n",
    "\n",
    "keep_xtal = [true for i = 1:length(xtalnames)]\n",
    "\n",
    "@showprogress for (i_xtal, xtalname) in enumerate(non_duplicate_xtalnames)\n",
    "    crystal = Crystal(xtalname * \".cif\", include_zero_charges=true)\n",
    "    @assert ! all(crystal.charges.q .== 0)\n",
    "    try\n",
    "        bonds!(crystal, true)\n",
    "    catch e\n",
    "        if isa(e, PyCall.PyError)\n",
    "            remove_bonds!(crystal) # some of the bonds were probz formed\n",
    "            println(\"Voronoi problems with \" * crystal.name)\n",
    "            infer_bonds!(crystal, true) # infer bonds with old distance-based version\n",
    "        else\n",
    "            error(\"bond! error for \" * crystal.name)\n",
    "        end\n",
    "    end\n",
    "    @assert nv(crystal.bonds) == crystal.atoms.n\n",
    "    \n",
    "    if ! PorousMaterials.bond_sanity_check(crystal)\n",
    "        keep_xtal[i_xtal] = false\n",
    "        @warn \"throwing out \" crystal.name\n",
    "        continue\n",
    "    end\n",
    "    \n",
    "    ###\n",
    "    #    node features\n",
    "    #    one-hot encoding. each row is an atom.\n",
    "    ###\n",
    "    x_ν = zeros(Int, crystal.atoms.n, length(ATOMS))\n",
    "    for (i, atom) in enumerate(crystal.atoms.species)\n",
    "        x_ν[i, ATOM_TO_INT[atom]] = 1\n",
    "    end\n",
    "    @assert sum(x_ν) == crystal.atoms.n\n",
    "    npzwrite(joinpath(\"non_duplicate_graphs\", xtalname * \"_node_features.npy\"), x_ν)\n",
    "\n",
    "    ###\n",
    "    #    node labels (the charges)\n",
    "    ###\n",
    "    y_ν = deepcopy(crystal.charges.q)\n",
    "    npzwrite(joinpath(\"non_duplicate_graphs\", xtalname * \"_node_labels.npy\"), y_ν)\n",
    "    @assert length(y_ν) == size(x_ν)[1]\n",
    "\n",
    "    ###\n",
    "    #   edges\n",
    "    #   (a list and their feature = distance btwn atoms)\n",
    "    ###\n",
    "    edge_file = open(joinpath(\"non_duplicate_graphs\", xtalname * \".edge_info\"), \"w\")\n",
    "    @printf(edge_file, \"src,dst,r\\n\")\n",
    "    for ed in edges(crystal.bonds)\n",
    "        i = src(ed) # source\n",
    "        j = dst(ed) # destination\n",
    "        r = distance(crystal.atoms, crystal.box, i, j, true)\n",
    "        @printf(edge_file, \"%d,%d,%f\\n\", i - 1, j - 1, r)\n",
    "    end\n",
    "    close(edge_file)\n",
    "end\n",
    "\n",
    "writedlm(open(\"non_duplicate_list_of_crystals.txt\", \"w\"), xtalnames[keep_xtal])"
   ]
  },
  {
   "cell_type": "code",
   "execution_count": null,
   "metadata": {},
   "outputs": [],
   "source": []
  }
 ],
 "metadata": {
  "@webio": {
   "lastCommId": "9139a748b9784bc2ae13da7bf4f176a8",
   "lastKernelId": "006811bc-6b96-4273-ab0a-277da36697ea"
  },
  "kernelspec": {
   "display_name": "Julia 1.3.1",
   "language": "julia",
   "name": "julia-1.3"
  },
  "language_info": {
   "file_extension": ".jl",
   "mimetype": "application/julia",
   "name": "julia",
   "version": "1.3.1"
  }
 },
 "nbformat": 4,
 "nbformat_minor": 4
}
