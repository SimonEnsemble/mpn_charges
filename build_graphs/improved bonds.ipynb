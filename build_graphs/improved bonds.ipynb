{
 "cells": [
  {
   "cell_type": "code",
   "execution_count": 1,
   "metadata": {},
   "outputs": [
    {
     "data": {
      "text/plain": [
       "\"/home/cokes/mpn_charges/build_graphs/xtals\""
      ]
     },
     "execution_count": 1,
     "metadata": {},
     "output_type": "execute_result"
    }
   ],
   "source": [
    "using PorousMaterials, CSV, LightGraphs\n",
    "using PyCall\n",
    "using LinearAlgebra\n",
    "scipy = pyimport(\"scipy.spatial\")\n",
    "\n",
    "@eval PorousMaterials PATH_TO_CRYSTALS = joinpath(pwd(), \"xtals\")"
   ]
  },
  {
   "cell_type": "code",
   "execution_count": 2,
   "metadata": {},
   "outputs": [
    {
     "data": {
      "text/plain": [
       "Dict{Symbol,Float64} with 105 entries:\n",
       "  :Ra          => 2.21\n",
       "  :Cl          => 1.02\n",
       "  :Al          => 1.21\n",
       "  :Be          => 0.96\n",
       "  :Re          => 1.51\n",
       "  :Cr          => 1.39\n",
       "  :Na          => 1.66\n",
       "  :Csp3        => 0.76\n",
       "  :Sb          => 1.39\n",
       "  :Kr          => 1.16\n",
       "  :Ni          => 1.24\n",
       "  :S           => 1.05\n",
       "  :Fe_low_spin => 1.32\n",
       "  :Ru          => 1.46\n",
       "  :Tl          => 1.45\n",
       "  :Tm          => 1.9\n",
       "  :W           => 1.62\n",
       "  :O           => 0.66\n",
       "  :Nd          => 2.01\n",
       "  :Tb          => 1.94\n",
       "  :Th          => 2.06\n",
       "  :Zr          => 1.75\n",
       "  :F           => 0.57\n",
       "  :Co          => 1.5\n",
       "  :Fr          => 2.6\n",
       "  ⋮            => ⋮"
      ]
     },
     "execution_count": 2,
     "metadata": {},
     "output_type": "execute_result"
    }
   ],
   "source": [
    "function cordero_covalent_atomic_radii()\n",
    "    df = CSV.read(\"covalent_radii.csv\", comment=\"#\")\n",
    "    atom_to_radius = Dict{Symbol, Float64}()\n",
    "    for atom in eachrow(df)\n",
    "        atom_to_radius[Symbol(atom[:atom])] = atom[:covalent_radius_A]\n",
    "    end\n",
    "    return atom_to_radius\n",
    "end\n",
    "\n",
    "const radii = cordero_covalent_atomic_radii()"
   ]
  },
  {
   "cell_type": "code",
   "execution_count": 3,
   "metadata": {},
   "outputs": [
    {
     "data": {
      "text/plain": [
       "Name: KAXQIL_clean.cif\n",
       "Bravais unit cell of a crystal.\n",
       "\tUnit cell angles α = 100.355998 deg. β = 90.000000 deg. γ = 90.000000 deg.\n",
       "\tUnit cell dimensions a = 11.134600 Å. b = 23.642800 Å, c = 45.520600 Å\n",
       "\tVolume of unit cell: 11788.227353 Å³\n",
       "\n",
       "Number of atoms = 960\n",
       "Number of charges = 960\n",
       "Chemical formula: Dict(:H => 8,:S => 1,:Ca => 1,:O => 6,:C => 14)\n",
       "Space Group: P1\n",
       "Symmetry Operations:\n",
       "\t'x, y, z'\n"
      ]
     },
     "execution_count": 3,
     "metadata": {},
     "output_type": "execute_result"
    }
   ],
   "source": [
    "framework = Framework(\"KAXQIL_clean.cif\")\n",
    "framework = replicate(framework, (2, 2, 2))"
   ]
  },
  {
   "cell_type": "code",
   "execution_count": 8,
   "metadata": {},
   "outputs": [],
   "source": [
    "function adjacency_matrix(framework::Framework, apply_pbc::Bool)\n",
    "    A = zeros(framework.atoms.n_atoms, framework.atoms.n_atoms)\n",
    "    for i = 1:framework.atoms.n_atoms\n",
    "        for j = (i+1):framework.atoms.n_atoms\n",
    "            A[i, j] = distance(framework, i, j, apply_pbc)\n",
    "            A[j, i] = A[i, j] # symmetry\n",
    "        end\n",
    "    end\n",
    "    return A\n",
    "end\n",
    "\n",
    "function neighborhood(framework::Framework, i::Int, r::Float64, am::Array{Float64, 2})\n",
    "    # get indices of atoms within a distance r of atom i\n",
    "    ids_neighbors = findall((am[:, i] .> 0.0) .& (am[:, i] .< r))\n",
    "    \n",
    "    # rs is the list of distance of neighbors from atom i\n",
    "    rs = [am[i, id_n] for id_n in ids_neighbors]\n",
    "    @assert all(rs .< r)\n",
    "    \n",
    "    # xs is a list of Cartesian coords of the neighborhood\n",
    "    #   coords of atom i are subtracted off\n",
    "    #   first entry is coords of atom i, the center, the zero vector\n",
    "    #   remaining entries are neighbors\n",
    "    # this list is useful to pass to Voronoi for getting Voronoi faces\n",
    "    #    of the neighborhood.\n",
    "    xs = [[0.0, 0.0, 0.0]] # this way atom zero is itself\n",
    "    for j in ids_neighbors\n",
    "        # subtract off atom i, apply nearest image\n",
    "        xf = framework.atoms.xf[:, j] - framework.atoms.xf[:, i]\n",
    "        nearest_image!(xf)\n",
    "        x = framework.box.f_to_c * xf\n",
    "        push!(xs, x)\n",
    "#         @assert isapprox(norm(x), am[i, j])\n",
    "    end\n",
    "\n",
    "    return ids_neighbors, xs, rs\n",
    "end\n",
    "\n",
    "function shared_voronoi_faces(ids_neighbors::Array{Int, 1}, \n",
    "                              xs::Array{Array{Float64,1},1})\n",
    "    @assert(length(ids_neighbors) == length(xs) - 1)\n",
    "    \n",
    "    voro = scipy.Voronoi(xs)\n",
    "    rps = voro.ridge_points # connections with atom zero are connections with atom i.\n",
    "    ids_shared_faces = Int[] # corresponds to xs, not to atoms of framework\n",
    "    for k = 1:size(rps)[1]\n",
    "        if rps[k, 1] == 0 # a shared face with atom i\n",
    "            push!(ids_shared_faces, rps[k, 2])\n",
    "        end\n",
    "        if rps[k, 2] == 0 # a shared face with atom i\n",
    "            push!(ids_shared_faces, rps[k, 1])\n",
    "        end\n",
    "    end\n",
    "    return ids_neighbors[ids_shared_faces]\n",
    "end\n",
    "\n",
    "am = adjacency_matrix(framework, true)\n",
    "\n",
    "function bonded_atoms(framework::Framework, i::Int, am::Array{Float64, 2})\n",
    "    species_i = framework.atoms.species[i]\n",
    "    \n",
    "    ids_neighbors, xs, rs = neighborhood(framework, i, 6.0, am)\n",
    "    \n",
    "    ids_shared_voro_faces = shared_voronoi_faces(ids_neighbors, xs)\n",
    "    \n",
    "    ids_bonded = Int[]\n",
    "    for j in ids_shared_voro_faces\n",
    "        species_j = framework.atoms.species[j]\n",
    "        # sum of covalent radii\n",
    "        radii_sum = radii[species_j] + radii[species_i]\n",
    "        if am[i, j] < radii_sum + 0.25\n",
    "            push!(ids_bonded, j)\n",
    "        end\n",
    "    end\n",
    "    return ids_bonded\n",
    "end\n",
    "\n",
    "function bonds!(framework::Framework, apply_pbc::Bool)\n",
    "    am = adjacency_matrix(framework, apply_pbc)\n",
    "    \n",
    "    for i = 1:framework.atoms.n_atoms\n",
    "        for j in bonded_atoms(framework, i, am)\n",
    "            add_edge!(framework.bonds, i, j)\n",
    "        end\n",
    "    end\n",
    "end\n",
    "    \n",
    "bonds!(framework, true)"
   ]
  },
  {
   "cell_type": "code",
   "execution_count": 9,
   "metadata": {},
   "outputs": [
    {
     "name": "stdout",
     "output_type": "stream",
     "text": [
      "Saving bond information for framework KAXQIL_clean.cif to /home/cokes/mpn_charges/build_graphs/KAXQIL_clean.cif_bonds.vtk.\n"
     ]
    }
   ],
   "source": [
    "write_bond_information(framework)\n",
    "write_xyz(framework)"
   ]
  },
  {
   "cell_type": "code",
   "execution_count": null,
   "metadata": {},
   "outputs": [],
   "source": []
  }
 ],
 "metadata": {
  "@webio": {
   "lastCommId": null,
   "lastKernelId": null
  },
  "kernelspec": {
   "display_name": "Julia 1.3.0",
   "language": "julia",
   "name": "julia-1.3"
  },
  "language_info": {
   "file_extension": ".jl",
   "mimetype": "application/julia",
   "name": "julia",
   "version": "1.3.0"
  }
 },
 "nbformat": 4,
 "nbformat_minor": 2
}
