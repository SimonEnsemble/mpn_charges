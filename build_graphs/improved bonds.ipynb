{
 "cells": [
  {
   "cell_type": "code",
   "execution_count": 1,
   "metadata": {},
   "outputs": [
    {
     "name": "stdout",
     "output_type": "stream",
     "text": [
      "Saving bond information for framework KAXQIL_clean.cif to /home/cokes/mpn_charges/build_graphs/KAXQIL_clean.cif_bonds.vtk.\n"
     ]
    }
   ],
   "source": [
    "using PorousMaterials\n",
    "push!(LOAD_PATH, pwd())\n",
    "using Bonds\n",
    "\n",
    "@eval PorousMaterials PATH_TO_CRYSTALS = joinpath(pwd(), \"xtals\")\n",
    "\n",
    "framework = Framework(\"KAXQIL_clean.cif\")\n",
    "framework = replicate(framework, (2, 2, 2))\n",
    "\n",
    "bonds!(framework, true)\n",
    "write_bond_information(framework)\n",
    "write_xyz(framework)"
   ]
  }
 ],
 "metadata": {
  "@webio": {
   "lastCommId": null,
   "lastKernelId": null
  },
  "kernelspec": {
   "display_name": "Julia 1.3.0",
   "language": "julia",
   "name": "julia-1.3"
  },
  "language_info": {
   "file_extension": ".jl",
   "mimetype": "application/julia",
   "name": "julia",
   "version": "1.3.0"
  }
 },
 "nbformat": 4,
 "nbformat_minor": 2
}
