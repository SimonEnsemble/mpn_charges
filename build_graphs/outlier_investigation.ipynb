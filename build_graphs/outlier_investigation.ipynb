{
 "cells": [
  {
   "cell_type": "code",
   "execution_count": 1,
   "metadata": {},
   "outputs": [],
   "source": [
    "using PorousMaterials\n",
    "using LightGraphs\n",
    "using Printf\n",
    "using Logging\n",
    "using PyPlot"
   ]
  },
  {
   "cell_type": "code",
   "execution_count": 2,
   "metadata": {},
   "outputs": [
    {
     "data": {
      "text/plain": [
       "Base.CoreLogging.SimpleLogger(IJulia.IJuliaStdio{Base.PipeEndpoint}(IOContext(Base.PipeEndpoint(RawFD(0x00000032) open, 0 bytes waiting))), Info, Dict{Any,Int64}())"
      ]
     },
     "execution_count": 2,
     "metadata": {},
     "output_type": "execute_result"
    }
   ],
   "source": [
    "global_logger(SimpleLogger(stdout, Logging.Error))"
   ]
  },
  {
   "cell_type": "code",
   "execution_count": 3,
   "metadata": {},
   "outputs": [
    {
     "data": {
      "text/plain": [
       "\"/home/sturlusa/my_projects/scratch/mpn_charges/build_graphs\""
      ]
     },
     "execution_count": 3,
     "metadata": {},
     "output_type": "execute_result"
    }
   ],
   "source": [
    "@eval PorousMaterials PATH_TO_CRYSTALS = \"ddec_xtals\"\n",
    "@eval PorousMaterials PATH_TO_DATA = pwd()"
   ]
  },
  {
   "cell_type": "code",
   "execution_count": 4,
   "metadata": {},
   "outputs": [
    {
     "data": {
      "text/plain": [
       "2932-element Array{String,1}:\n",
       " \"ABAVIJ_clean.cif\"\n",
       " \"ABAVOP_clean.cif\"\n",
       " \"ABEXIQ_clean.cif\"\n",
       " \"ABEXOW_clean.cif\"\n",
       " \"ABEXUC_clean.cif\"\n",
       " \"ABEYAJ_clean.cif\"\n",
       " \"ABEYIR.cif\"\n",
       " \"ABIYIV.cif\"\n",
       " \"ABUWOJ_clean.cif\"\n",
       " \"ACAKUM.cif\"\n",
       " \"ACALIB_clean.cif\"\n",
       " \"ACODED.cif\"\n",
       " \"ACOLIP_clean.cif\"\n",
       " ⋮\n",
       " \"ZILBAZ_clean.cif\"\n",
       " \"ZILBED_clean.cif\"\n",
       " \"ZIMJOW_clean.cif\"\n",
       " \"ZISYAD_clean.cif\"\n",
       " \"ZNGLUD01_clean.cif\"\n",
       " \"ZNGLUD_clean.cif\"\n",
       " \"ZURQOS_clean.cif\"\n",
       " \"Zn-DOBDC.cif\"\n",
       " \"ZnBDC.cif\"\n",
       " \"ZnBDCdabco.cif\"\n",
       " \"ZnHBDC.cif\"\n",
       " \"ZnMOF-74.cif\""
      ]
     },
     "execution_count": 4,
     "metadata": {},
     "output_type": "execute_result"
    }
   ],
   "source": [
    "xtalnames = readdir(\"ddec_xtals\")"
   ]
  },
  {
   "cell_type": "code",
   "execution_count": 5,
   "metadata": {},
   "outputs": [],
   "source": [
    "mofs = []\n",
    "#charges = Dict([mof => [] for mof in xtalnames])\n",
    "cu_charges = Dict()\n",
    "indices = Dict([mof => [] for mof in xtalnames])\n",
    "for xtalname in xtalnames\n",
    "    xtal = Crystal(xtalname)\n",
    "    strip_numbers_from_atom_labels!(xtal)\n",
    "    if !(:Cu in xtal.atoms.species)\n",
    "        continue\n",
    "    end\n",
    "    \n",
    "    infer_geometry_based_bonds!(xtal, true)\n",
    "    asdf = [:N, :N, :O, :O]\n",
    "    cu_indices = [i for i in 1:length(xtal.atoms.species) if xtal.atoms.species[i] == :Cu]\n",
    "    for cu_idx in cu_indices\n",
    "        cu_charges[xtalname] = unique(xtal.charges.q[cu_indices])\n",
    "        if sort(xtal.atoms.species[neighbors(xtal.bonds, cu_idx)]) == asdf\n",
    "            push!(mofs, xtalname)\n",
    "            push!(indices[xtalname], cu_idx)\n",
    "            #push!(charges[xtalname], xtal.charges.q[cu_idx[1]])\n",
    "        end\n",
    "    end\n",
    "end\n",
    "            \n",
    "    "
   ]
  },
  {
   "cell_type": "code",
   "execution_count": 6,
   "metadata": {},
   "outputs": [
    {
     "data": {
      "text/plain": [
       "1372-element Array{Float64,1}:\n",
       " 0.861762\n",
       " 0.865133\n",
       " 0.865199\n",
       " 0.861771\n",
       " 0.865134\n",
       " 0.865202\n",
       " 0.861762\n",
       " 0.865133\n",
       " 0.865199\n",
       " 0.861771\n",
       " 0.865134\n",
       " 0.865202\n",
       " 0.861762\n",
       " ⋮\n",
       " 0.678132\n",
       " 0.667974\n",
       " 0.678132\n",
       " 0.667974\n",
       " 0.678132\n",
       " 0.667974\n",
       " 0.678132\n",
       " 0.667974\n",
       " 0.678132\n",
       " 0.667974\n",
       " 0.678132\n",
       " 0.667974"
      ]
     },
     "execution_count": 6,
     "metadata": {},
     "output_type": "execute_result"
    }
   ],
   "source": [
    "all_cu_charges = [cu_charges[x] for x in mofs]\n",
    "all_cu_charges = [(all_cu_charges...)...]"
   ]
  },
  {
   "cell_type": "code",
   "execution_count": 8,
   "metadata": {},
   "outputs": [
    {
     "data": {
      "image/png": "[encoded data removed]",
      "text/plain": [
       "Figure(PyObject <Figure size 800x600 with 1 Axes>)"
      ]
     },
     "metadata": {},
     "output_type": "display_data"
    }
   ],
   "source": [
    "fig, ax = plt.subplots(figsize=(8,6))\n",
    "ax.hist(unique(all_cu_charges), bins=20, fc=\"teal\", ec=\"k\")\n",
    "ax.set_xlabel(\"DDEC Charge on Cu Atoms\")\n",
    "ax.set_ylabel(\"Count\")\n",
    "#ax.set_title(\"All (Unique) Cu Atoms\")\n",
    "plt.arrow(2.8, 15, 0.0, -11, width=0.005, head_width=0.1,\n",
    "    head_length=2.0, fc=\"k\", ec=\"k\", zorder=1000000)\n",
    "plt.text(2.7, 17, \"XAFNOH_clean.cif\", ha=\"center\")\n",
    "ax.grid(\"on\")\n",
    "ax.set_axisbelow(true)\n",
    "plt.tight_layout()\n",
    "plt.savefig(\"outlier_investigation.png\", dpi=300, format=\"png\")\n",
    "plt.show()"
   ]
  },
  {
   "cell_type": "code",
   "execution_count": null,
   "metadata": {},
   "outputs": [],
   "source": []
  }
 ],
 "metadata": {
  "kernelspec": {
   "display_name": "Julia 1.4.1",
   "language": "julia",
   "name": "julia-1.4"
  },
  "language_info": {
   "file_extension": ".jl",
   "mimetype": "application/julia",
   "name": "julia",
   "version": "1.4.1"
  }
 },
 "nbformat": 4,
 "nbformat_minor": 2
}
