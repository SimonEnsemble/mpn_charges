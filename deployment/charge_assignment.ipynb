{
 "cells": [
  {
   "cell_type": "code",
   "execution_count": 1,
   "metadata": {},
   "outputs": [],
   "source": [
    "using PorousMaterials\n",
    "using Printf\n",
    "using NPZ\n",
    "using PyPlot\n",
    "using ProgressMeter"
   ]
  },
  {
   "cell_type": "markdown",
   "metadata": {},
   "source": [
    "## Charge assignment of Core 2019-FSR"
   ]
  },
  {
   "cell_type": "code",
   "execution_count": 2,
   "metadata": {},
   "outputs": [
    {
     "data": {
      "text/plain": [
       "\"/home/sturlusa/my_projects/scratch/mpn_charges/deployment/../build_graphs/CoRE_v2_FSR\""
      ]
     },
     "execution_count": 2,
     "metadata": {},
     "output_type": "execute_result"
    }
   ],
   "source": [
    "@eval PorousMaterials PATH_TO_CRYSTALS = joinpath(pwd(), \"..\", \"build_graphs\", \"CoRE_v2_FSR\")"
   ]
  },
  {
   "cell_type": "code",
   "execution_count": 3,
   "metadata": {},
   "outputs": [
    {
     "data": {
      "text/plain": [
       "6008-element Array{String,1}:\n",
       " \"ABAVIJ_freeONLY.cif\"\n",
       " \"ABAYIO_freeONLY.cif\"\n",
       " \"ABAYOU_freeONLY.cif\"\n",
       " \"ABEFUL_freeONLY.cif\"\n",
       " \"ABESUX_freeONLY.cif\"\n",
       " \"ABETAE_freeONLY.cif\"\n",
       " \"ABETIN_freeONLY.cif\"\n",
       " \"ABEXEM_freeONLY.cif\"\n",
       " \"ABEXEN_freeONLY.cif\"\n",
       " \"ABEXIQ_freeONLY.cif\"\n",
       " \"ABEXOW_freeONLY.cif\"\n",
       " \"ABEXUC_freeONLY.cif\"\n",
       " \"ABEYAJ_freeONLY.cif\"\n",
       " ⋮\n",
       " \"jz4002345_si_006_freeONLY.cif\"\n",
       " \"la304204k_si_003_freeONLY.cif\"\n",
       " \"la4012839_si_002_auto.cif\"\n",
       " \"magnetochemistry3010001_PF290NdNO3_freeONLY.cif\"\n",
       " \"magnetochemistry3010001_PF362NdCl_freeONLY.cif\"\n",
       " \"nchem.2258-s3_freeONLY.cif\"\n",
       " \"ncomms10007_ncomms10007-s3_freeONLY.cif\"\n",
       " \"ncomms11831_ncomms11831-s2_freeONLY.cif\"\n",
       " \"ncomms11831_ncomms11831-s3_freeONLY.cif\"\n",
       " \"ncomms7350-s2_freeONLY.cif\"\n",
       " \"om701262m-file004_freeONLY.cif\"\n",
       " \"science.1056698_manual.cif\""
      ]
     },
     "execution_count": 3,
     "metadata": {},
     "output_type": "execute_result"
    }
   ],
   "source": [
    "readdir(PorousMaterials.PATH_TO_CRYSTALS)"
   ]
  },
  {
   "cell_type": "code",
   "execution_count": 4,
   "metadata": {},
   "outputs": [
    {
     "name": "stderr",
     "output_type": "stream",
     "text": [
      "\u001b[32mProgress: 100%|█████████████████████████████████████████| Time: 0:02:58\u001b[39m\n"
     ]
    }
   ],
   "source": [
    "if ! isdir(joinpath(pwd(), \"..\", \"MPNN_CoRE-FSR\"))\n",
    "    mkdir(joinpath(pwd(), \"..\", \"MPNN_CoRE-FSR\"))\n",
    "end\n",
    "@showprogress for (i_xtal, xtalname) in enumerate(readdir(PorousMaterials.PATH_TO_CRYSTALS))\n",
    "    if ! isfile(joinpath(pwd(), \"results\", \"predictions\", \"deployment_graphs_FSR\", \n",
    "                         split(xtalname, \".cif\")[1] * \"_gaussian_cor_predictions.npy\"))\n",
    "        continue\n",
    "    end\n",
    "    predicted_charges = npzread(joinpath(pwd(), \"results\", \"predictions\", \n",
    "                                \"deployment_graphs_FSR\", split(xtalname, \".cif\")[1] * \"_gaussian_cor_predictions.npy\"))\n",
    "    xtal = Crystal(xtalname)\n",
    "    new_charges = Charges(xtal.charges.n, Float64.(predicted_charges), xtal.charges.coords)\n",
    "    new_xtal = Crystal(xtal.name, xtal.box, xtal.atoms, new_charges, xtal.bonds, xtal.symmetry)\n",
    "    write_cif(new_xtal, joinpath(pwd(), \"..\", \"MPNN_CoRE-FSR\", xtalname))\n",
    "end"
   ]
  },
  {
   "cell_type": "markdown",
   "metadata": {},
   "source": [
    "## Charge assignment of CoRE 2019-ASR"
   ]
  },
  {
   "cell_type": "code",
   "execution_count": 5,
   "metadata": {},
   "outputs": [
    {
     "data": {
      "text/plain": [
       "\"/home/sturlusa/my_projects/scratch/mpn_charges/deployment/../build_graphs/CoRE_v2_ASR\""
      ]
     },
     "execution_count": 5,
     "metadata": {},
     "output_type": "execute_result"
    }
   ],
   "source": [
    "@eval PorousMaterials PATH_TO_CRYSTALS = joinpath(pwd(), \"..\", \"build_graphs\", \"CoRE_v2_ASR\")"
   ]
  },
  {
   "cell_type": "code",
   "execution_count": 6,
   "metadata": {},
   "outputs": [
    {
     "data": {
      "text/plain": [
       "10143-element Array{String,1}:\n",
       " \"ABAVIJ_clean.cif\"\n",
       " \"ABAYIO_clean.cif\"\n",
       " \"ABAYOU_clean.cif\"\n",
       " \"ABEFUL_clean.cif\"\n",
       " \"ABESUX_clean.cif\"\n",
       " \"ABETAE_clean.cif\"\n",
       " \"ABETIN_clean.cif\"\n",
       " \"ABEXEM_clean.cif\"\n",
       " \"ABEXEN_clean.cif\"\n",
       " \"ABEXIQ_clean.cif\"\n",
       " \"ABEXOW_clean.cif\"\n",
       " \"ABEXUC_clean.cif\"\n",
       " \"ABEYAJ_clean.cif\"\n",
       " ⋮\n",
       " \"jz4002345_si_005_clean.cif\"\n",
       " \"jz4002345_si_006_clean.cif\"\n",
       " \"la304204k_si_003_clean.cif\"\n",
       " \"la4012839_si_002_auto.cif\"\n",
       " \"magnetochemistry3010001_PF290NdNO3_clean.cif\"\n",
       " \"magnetochemistry3010001_PF362NdCl_clean.cif\"\n",
       " \"nchem.2258-s3_clean.cif\"\n",
       " \"ncomms11831_ncomms11831-s2_clean.cif\"\n",
       " \"ncomms11831_ncomms11831-s3_clean.cif\"\n",
       " \"ncomms7350-s2_clean.cif\"\n",
       " \"om701262m-file004_clean.cif\"\n",
       " \"science.1056698_manual.cif\""
      ]
     },
     "execution_count": 6,
     "metadata": {},
     "output_type": "execute_result"
    }
   ],
   "source": [
    "readdir(PorousMaterials.PATH_TO_CRYSTALS)"
   ]
  },
  {
   "cell_type": "code",
   "execution_count": 7,
   "metadata": {},
   "outputs": [
    {
     "name": "stderr",
     "output_type": "stream",
     "text": [
      "\u001b[32mProgress:  80%|████████████████████████████████▊        |  ETA: 0:00:47\u001b[39m┌ Info: Crystal VEWLAM_clean.cif has P21 space group. I am converting it to P1 symmetry.\n",
      "│         To afrain from this, pass `convert_to_p1=false` to the `Crystal` constructor.\n",
      "└ @ PorousMaterials /home/sturlusa/my_projects/PorousMaterials.jl/src/crystal.jl:405\n",
      "\u001b[32mProgress: 100%|█████████████████████████████████████████| Time: 0:03:58\u001b[39m\n"
     ]
    }
   ],
   "source": [
    "if ! isdir(joinpath(pwd(), \"..\", \"MPNN_CoRE-ASR\"))\n",
    "    mkdir(joinpath(pwd(), \"..\", \"MPNN_CoRE-ASR\"))\n",
    "end\n",
    "@showprogress for (i_xtal, xtalname) in enumerate(readdir(PorousMaterials.PATH_TO_CRYSTALS))\n",
    "    if ! isfile(joinpath(pwd(), \"results\", \"predictions\", \"deployment_graphs_ASR\", \n",
    "                         split(xtalname, \".cif\")[1] * \"_gaussian_cor_predictions.npy\"))\n",
    "        continue\n",
    "    end\n",
    "    predicted_charges = npzread(joinpath(pwd(), \"results\", \"predictions\", \"deployment_graphs_ASR\", \n",
    "                                split(xtalname, \".cif\")[1] * \"_gaussian_cor_predictions.npy\"))\n",
    "    xtal = Crystal(xtalname)\n",
    "    new_charges = Charges(xtal.charges.n, Float64.(predicted_charges), xtal.charges.coords)\n",
    "    new_xtal = Crystal(xtal.name, xtal.box, xtal.atoms, new_charges, xtal.bonds, xtal.symmetry)\n",
    "    write_cif(new_xtal, joinpath(pwd(), \"..\", \"MPNN_CoRE-ASR\", xtalname))\n",
    "end"
   ]
  }
 ],
 "metadata": {
  "kernelspec": {
   "display_name": "Julia 1.4.1",
   "language": "julia",
   "name": "julia-1.4"
  },
  "language_info": {
   "file_extension": ".jl",
   "mimetype": "application/julia",
   "name": "julia",
   "version": "1.4.1"
  }
 },
 "nbformat": 4,
 "nbformat_minor": 2
}
