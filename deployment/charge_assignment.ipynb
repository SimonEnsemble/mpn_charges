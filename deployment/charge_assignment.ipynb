{
 "cells": [
  {
   "cell_type": "code",
   "execution_count": 1,
   "metadata": {},
   "outputs": [],
   "source": [
    "using PorousMaterials\n",
    "using Printf\n",
    "using NPZ\n",
    "using PyPlot\n",
    "using ProgressMeter\n",
    "using LightGraphs\n",
    "using DelimitedFiles"
   ]
  },
  {
   "cell_type": "code",
   "execution_count": 2,
   "metadata": {},
   "outputs": [
    {
     "data": {
      "text/plain": [
       "write_cif (generic function with 2 methods)"
      ]
     },
     "execution_count": 2,
     "metadata": {},
     "output_type": "execute_result"
    }
   ],
   "source": [
    "import PorousMaterials.write_cif\n",
    "\"\"\"\n",
    "    write_cif(crystal, filename; fractional_coords=true)\n",
    "\n",
    "Write a `crystal::Crystal` to a .cif file with `filename::AbstractString`. If `filename` does\n",
    "not include the .cif extension, it will automatically be added. the `fractional_coords` flag \n",
    "allows us to write either fractional or Cartesian coordinates.\n",
    "\"\"\"\n",
    "function write_cif(crystal::Crystal, filename::AbstractString; fractional_coords::Bool=true, more_decimal_points::Bool=false)\n",
    "    if has_charges(crystal)\n",
    "        if crystal.atoms.n != crystal.charges.n\n",
    "            error(\"write_cif assumes equal numbers of Charges and Atoms (or zero charges)\")\n",
    "        end\n",
    "        if ! isapprox(crystal.charges.coords, crystal.atoms.coords)\n",
    "            error(\"write_cif needs coords of atoms and charges to correspond.\")\n",
    "        end\n",
    "    end\n",
    "\n",
    "    # TODO is this labeling necessary for the bonds, arthur?\n",
    "    # create dictionary for tracking label numbers\n",
    "    label_numbers = Dict{Symbol, Int}()\n",
    "    for atom in crystal.atoms.species\n",
    "        if !haskey(label_numbers, atom)\n",
    "            label_numbers[atom] = 1\n",
    "        end\n",
    "    end\n",
    "\n",
    "    # append \".cif\" to filename if it doesn't already have the extension\n",
    "    if ! occursin(\".cif\", filename)\n",
    "        filename *= \".cif\"\n",
    "    end  \n",
    "    cif_file = open(filename, \"w\") \n",
    "    # first line should be data_xtalname_PM\n",
    "    if crystal.name == \"\"\n",
    "        @printf(cif_file, \"data_PM\\n\")\n",
    "    else \n",
    "        # don't include file extension!\n",
    "        @printf(cif_file, \"data_%s_PM\\n\", split(crystal.name, \".\")[1])\n",
    "    end  \n",
    "\n",
    "    @printf(cif_file, \"_symmetry_space_group_name_H-M\\t'%s'\\n\", crystal.symmetry.space_group)\n",
    "\n",
    "    @printf(cif_file, \"_cell_length_a\\t%f\\n\", crystal.box.a)\n",
    "    @printf(cif_file, \"_cell_length_b\\t%f\\n\", crystal.box.b)\n",
    "    @printf(cif_file, \"_cell_length_c\\t%f\\n\", crystal.box.c)\n",
    "\n",
    "    @printf(cif_file, \"_cell_angle_alpha\\t%f\\n\", crystal.box.α * 180.0 / pi)\n",
    "    @printf(cif_file, \"_cell_angle_beta\\t%f\\n\", crystal.box.β * 180.0 / pi)\n",
    "    @printf(cif_file, \"_cell_angle_gamma\\t%f\\n\", crystal.box.γ * 180.0 / pi)\n",
    "\n",
    "    @printf(cif_file, \"_symmetry_Int_Tables_number 1\\n\\n\")\n",
    "    @printf(cif_file, \"loop_\\n_symmetry_equiv_pos_as_xyz\\n\")\n",
    "    for i in 1:size(crystal.symmetry.operations, 2)\n",
    "        @printf(cif_file, \"'%s,%s,%s'\\n\", crystal.symmetry.operations[:, i]...)\n",
    "    end  \n",
    "    @printf(cif_file, \"\\n\")\n",
    "\n",
    "    @printf(cif_file, \"loop_\\n_atom_site_label\\n_atom_site_type_symbol\\n\")\n",
    "    if fractional_coords\n",
    "        @printf(cif_file, \"_atom_site_fract_x\\n_atom_site_fract_y\\n_atom_site_fract_z\\n\")\n",
    "    else \n",
    "        @printf(cif_file, \"_atom_site_Cartn_x\\n_atom_site_Cartn_y\\n_atom_site_Cartn_z\\n\")\n",
    "    end  \n",
    "    if has_charges(crystal)\n",
    "        @printf(cif_file, \"_atom_site_charge\\n\")\n",
    "    end  \n",
    "\n",
    "    idx_to_label = Array{AbstractString, 1}(undef, crystal.atoms.n)\n",
    "    for i = 1:crystal.atoms.n\n",
    "        # print label and type symbol\n",
    "        @printf(cif_file, \"%s\\t%s\\t\", string(crystal.atoms.species[i]) *\n",
    "                string(label_numbers[crystal.atoms.species[i]]),\n",
    "                crystal.atoms.species[i])\n",
    "        # store label for this atom idx\n",
    "        idx_to_label[i] = string(crystal.atoms.species[i]) *\n",
    "                    string(label_numbers[crystal.atoms.species[i]])\n",
    "        # increment label\n",
    "        label_numbers[crystal.atoms.species[i]] += 1 \n",
    "        if fractional_coords\n",
    "            @printf(cif_file, \"%f\\t%f\\t%f\", crystal.atoms.coords.xf[:, i]...)\n",
    "        else\n",
    "            @printf(cif_file, \"%f\\t%f\\t%f\", (crystal.box.f_to_c * crystal.atoms.coords.xf[:, i])...)\n",
    "        end\n",
    "        if has_charges(crystal)\n",
    "            if more_decimal_points\n",
    "                @printf(cif_file, \"\\t%.12f\\n\", crystal.charges.q[i])\n",
    "            else\n",
    "                @printf(cif_file, \"\\t%f\\n\", crystal.charges.q[i])\n",
    "            end\n",
    "        else\n",
    "            @printf(cif_file, \"\\n\")\n",
    "        end\n",
    "    end  \n",
    "\n",
    "    # only print bond information if it is in the crystal\n",
    "    if ne(crystal.bonds) > 0\n",
    "        # print column names for bond information\n",
    "        @printf(cif_file, \"\\nloop_\\n_geom_bond_atom_site_label_1\\n_geom_bond_atom_site_label_2\\n_geom_bond_distance\\n\")\n",
    "\n",
    "        for edge in collect(edges(crystal.bonds))\n",
    "            dxf = crystal.atoms.coords.xf[:, edge.src] - crystal.atoms.coords.xf[:, edge.dst]\n",
    "            nearest_image!(dxf)\n",
    "        end\n",
    "    end\n",
    "    close(cif_file)\n",
    "end\n",
    "\n",
    "write_cif(crystal::Crystal) = write_cif(crystal, crystal.name)\n"
   ]
  },
  {
   "cell_type": "markdown",
   "metadata": {},
   "source": [
    "## Charge assignment of Core 2019-FSR"
   ]
  },
  {
   "cell_type": "code",
   "execution_count": 3,
   "metadata": {},
   "outputs": [
    {
     "data": {
      "text/plain": [
       "\"/home/sturlusa/my_projects/scratch/mpn_charges/deployment/../build_graphs/CoRE_v2_FSR\""
      ]
     },
     "execution_count": 3,
     "metadata": {},
     "output_type": "execute_result"
    }
   ],
   "source": [
    "@eval PorousMaterials PATH_TO_CRYSTALS = joinpath(pwd(), \"..\", \"build_graphs\", \"CoRE_v2_FSR\")"
   ]
  },
  {
   "cell_type": "code",
   "execution_count": 4,
   "metadata": {},
   "outputs": [
    {
     "data": {
      "text/plain": [
       "6008-element Array{String,1}:\n",
       " \"ABAVIJ_freeONLY.cif\"\n",
       " \"ABAYIO_freeONLY.cif\"\n",
       " \"ABAYOU_freeONLY.cif\"\n",
       " \"ABEFUL_freeONLY.cif\"\n",
       " \"ABESUX_freeONLY.cif\"\n",
       " \"ABETAE_freeONLY.cif\"\n",
       " \"ABETIN_freeONLY.cif\"\n",
       " \"ABEXEM_freeONLY.cif\"\n",
       " \"ABEXEN_freeONLY.cif\"\n",
       " \"ABEXIQ_freeONLY.cif\"\n",
       " \"ABEXOW_freeONLY.cif\"\n",
       " \"ABEXUC_freeONLY.cif\"\n",
       " \"ABEYAJ_freeONLY.cif\"\n",
       " ⋮\n",
       " \"jz4002345_si_006_freeONLY.cif\"\n",
       " \"la304204k_si_003_freeONLY.cif\"\n",
       " \"la4012839_si_002_auto.cif\"\n",
       " \"magnetochemistry3010001_PF290NdNO3_freeONLY.cif\"\n",
       " \"magnetochemistry3010001_PF362NdCl_freeONLY.cif\"\n",
       " \"nchem.2258-s3_freeONLY.cif\"\n",
       " \"ncomms10007_ncomms10007-s3_freeONLY.cif\"\n",
       " \"ncomms11831_ncomms11831-s2_freeONLY.cif\"\n",
       " \"ncomms11831_ncomms11831-s3_freeONLY.cif\"\n",
       " \"ncomms7350-s2_freeONLY.cif\"\n",
       " \"om701262m-file004_freeONLY.cif\"\n",
       " \"science.1056698_manual.cif\""
      ]
     },
     "execution_count": 4,
     "metadata": {},
     "output_type": "execute_result"
    }
   ],
   "source": [
    "readdir(PorousMaterials.PATH_TO_CRYSTALS)"
   ]
  },
  {
   "cell_type": "code",
   "execution_count": 5,
   "metadata": {},
   "outputs": [
    {
     "name": "stderr",
     "output_type": "stream",
     "text": [
      "\u001b[32mProgress: 100%|█████████████████████████████████████████| Time: 0:06:18\u001b[39m\n"
     ]
    }
   ],
   "source": [
    "if ! isdir(joinpath(pwd(), \"..\", \"MPNN_CoRE-FSR\"))\n",
    "    mkdir(joinpath(pwd(), \"..\", \"MPNN_CoRE-FSR\"))\n",
    "end\n",
    "@showprogress for (i_xtal, xtalname) in enumerate(readdir(PorousMaterials.PATH_TO_CRYSTALS))\n",
    "    if ! isfile(joinpath(pwd(), \"results\", \"predictions\", \"deployment_graphs_FSR\", \n",
    "                         split(xtalname, \".cif\")[1] * \"_gaussian_cor_predictions.npy\"))\n",
    "        continue\n",
    "    end\n",
    "    predicted_charges = npzread(joinpath(pwd(), \"results\", \"predictions\", \n",
    "                                \"deployment_graphs_FSR\", split(xtalname, \".cif\")[1] * \"_gaussian_cor_predictions.npy\"))\n",
    "    xtal = Crystal(xtalname)\n",
    "    new_charges = Charges(Float64.(predicted_charges), xtal.atoms.coords)\n",
    "    new_xtal = Crystal(xtal.name, xtal.box, xtal.atoms, new_charges, xtal.bonds, xtal.symmetry)\n",
    "    write_cif(new_xtal, joinpath(pwd(), \"..\", \"MPNN_CoRE-FSR\", xtalname))\n",
    "    @eval PorousMaterials PATH_TO_CRYSTALS = joinpath(pwd(), \"..\", \"MPNN_CoRE-FSR\")\n",
    "    xtal_again = Crystal(xtalname, check_neutrality=false)\n",
    "    if abs(net_charge(xtal_again)) > 0.0001\n",
    "        write_cif(new_xtal, joinpath(pwd(), \"..\", \"MPNN_CoRE-FSR\", xtalname), more_decimal_points=true)\n",
    "    end\n",
    "    @eval PorousMaterials PATH_TO_CRYSTALS = joinpath(pwd(), \"..\", \"build_graphs\", \"CoRE_v2_FSR\")\n",
    "end"
   ]
  },
  {
   "cell_type": "markdown",
   "metadata": {},
   "source": [
    "## Charge assignment of CoRE 2019-ASR"
   ]
  },
  {
   "cell_type": "code",
   "execution_count": 9,
   "metadata": {},
   "outputs": [
    {
     "data": {
      "text/plain": [
       "\"/home/sturlusa/my_projects/scratch/mpn_charges/deployment/../build_graphs/CoRE_v2_ASR\""
      ]
     },
     "execution_count": 9,
     "metadata": {},
     "output_type": "execute_result"
    }
   ],
   "source": [
    "@eval PorousMaterials PATH_TO_CRYSTALS = joinpath(pwd(), \"..\", \"build_graphs\", \"CoRE_v2_ASR\")"
   ]
  },
  {
   "cell_type": "code",
   "execution_count": 10,
   "metadata": {},
   "outputs": [
    {
     "data": {
      "text/plain": [
       "10143-element Array{String,1}:\n",
       " \"ABAVIJ_clean.cif\"\n",
       " \"ABAYIO_clean.cif\"\n",
       " \"ABAYOU_clean.cif\"\n",
       " \"ABEFUL_clean.cif\"\n",
       " \"ABESUX_clean.cif\"\n",
       " \"ABETAE_clean.cif\"\n",
       " \"ABETIN_clean.cif\"\n",
       " \"ABEXEM_clean.cif\"\n",
       " \"ABEXEN_clean.cif\"\n",
       " \"ABEXIQ_clean.cif\"\n",
       " \"ABEXOW_clean.cif\"\n",
       " \"ABEXUC_clean.cif\"\n",
       " \"ABEYAJ_clean.cif\"\n",
       " ⋮\n",
       " \"jz4002345_si_005_clean.cif\"\n",
       " \"jz4002345_si_006_clean.cif\"\n",
       " \"la304204k_si_003_clean.cif\"\n",
       " \"la4012839_si_002_auto.cif\"\n",
       " \"magnetochemistry3010001_PF290NdNO3_clean.cif\"\n",
       " \"magnetochemistry3010001_PF362NdCl_clean.cif\"\n",
       " \"nchem.2258-s3_clean.cif\"\n",
       " \"ncomms11831_ncomms11831-s2_clean.cif\"\n",
       " \"ncomms11831_ncomms11831-s3_clean.cif\"\n",
       " \"ncomms7350-s2_clean.cif\"\n",
       " \"om701262m-file004_clean.cif\"\n",
       " \"science.1056698_manual.cif\""
      ]
     },
     "execution_count": 10,
     "metadata": {},
     "output_type": "execute_result"
    }
   ],
   "source": [
    "readdir(PorousMaterials.PATH_TO_CRYSTALS)"
   ]
  },
  {
   "cell_type": "code",
   "execution_count": 11,
   "metadata": {},
   "outputs": [
    {
     "name": "stderr",
     "output_type": "stream",
     "text": [
      "\u001b[32mProgress:  80%|████████████████████████████████▊        |  ETA: 0:01:43\u001b[39m┌ Info: Crystal VEWLAM_clean.cif has P21 space group. I am converting it to P1 symmetry.\n",
      "│         To afrain from this, pass `convert_to_p1=false` to the `Crystal` constructor.\n",
      "└ @ PorousMaterials /home/sturlusa/my_projects/PorousMaterials.jl/src/crystal.jl:405\n",
      "\u001b[32mProgress: 100%|█████████████████████████████████████████| Time: 0:08:53\u001b[39m\n"
     ]
    }
   ],
   "source": [
    "if ! isdir(joinpath(pwd(), \"..\", \"MPNN_CoRE-ASR\"))\n",
    "    mkdir(joinpath(pwd(), \"..\", \"MPNN_CoRE-ASR\"))\n",
    "end\n",
    "@showprogress for (i_xtal, xtalname) in enumerate(readdir(PorousMaterials.PATH_TO_CRYSTALS))\n",
    "    if ! isfile(joinpath(pwd(), \"results\", \"predictions\", \"deployment_graphs_ASR\", \n",
    "                         split(xtalname, \".cif\")[1] * \"_gaussian_cor_predictions.npy\"))\n",
    "        continue\n",
    "    end\n",
    "    predicted_charges = npzread(joinpath(pwd(), \"results\", \"predictions\", \"deployment_graphs_ASR\", \n",
    "                                split(xtalname, \".cif\")[1] * \"_gaussian_cor_predictions.npy\"))\n",
    "    xtal = Crystal(xtalname)\n",
    "    new_charges = Charges(Float64.(predicted_charges), xtal.atoms.coords)\n",
    "    new_xtal = Crystal(xtal.name, xtal.box, xtal.atoms, new_charges, xtal.bonds, xtal.symmetry)\n",
    "    write_cif(new_xtal, joinpath(pwd(), \"..\", \"MPNN_CoRE-ASR\", xtalname))\n",
    "    @eval PorousMaterials PATH_TO_CRYSTALS = joinpath(pwd(), \"..\", \"MPNN_CoRE-ASR\")\n",
    "    xtal_again = Crystal(xtalname, check_neutrality=false)\n",
    "    if abs(net_charge(xtal_again)) > 0.0001\n",
    "        write_cif(new_xtal, joinpath(pwd(), \"..\", \"MPNN_CoRE-ASR\", xtalname), more_decimal_points=true)\n",
    "    end\n",
    "    @eval PorousMaterials PATH_TO_CRYSTALS = joinpath(pwd(), \"..\", \"build_graphs\", \"CoRE_v2_ASR\")\n",
    "end"
   ]
  }
 ],
 "metadata": {
  "kernelspec": {
   "display_name": "Julia 1.4.1",
   "language": "julia",
   "name": "julia-1.4"
  },
  "language_info": {
   "file_extension": ".jl",
   "mimetype": "application/julia",
   "name": "julia",
   "version": "1.4.1"
  }
 },
 "nbformat": 4,
 "nbformat_minor": 2
}
